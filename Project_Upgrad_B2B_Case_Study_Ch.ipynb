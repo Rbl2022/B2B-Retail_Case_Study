{
  "cells": [
    {
      "cell_type": "markdown",
      "id": "712b0ae4",
      "metadata": {
        "id": "712b0ae4"
      },
      "source": [
        "# Business Problem\n",
        "<hr/>"
      ]
    },
    {
      "cell_type": "markdown",
      "id": "c9becd67",
      "metadata": {
        "id": "c9becd67"
      },
      "source": [
        "Schuster is a multinational retail company dealing in sports goods and accessories. Schuster conducts significant business with hundreds of its vendors, with whom it has credit arrangements. Unfortunately, not all vendors respect credit terms and some of them tend to make payments late. Schuster levies heavy late payment fees, although this procedure is not beneficial to either party in a long-term business relationship. The company has some employees who keep chasing vendors to get the payment on time; this procedure nevertheless also results in non-value-added activities, loss of time and financial impact. Schuster would thus try to understand its customers’ payment behaviour and predict the likelihood of late payments against open invoices.\n",
        "\n",
        " \n",
        "\n",
        "To understand how to approach this problem using data science, let’s first understand the payment process at Schuster now. Every time a transaction of goods takes place with a vendor, the accounting team raises an invoice and shares it with the vendor. This invoice contains the details of the goods, the invoice value, the creation date and the payment due date based on the credit terms as per the contract. Business with these vendors occurs quite frequently. Hence, there are always multiple invoices associated with each vendor at any given time.\n",
        "\n",
        " \n",
        "\n",
        "\n",
        "Schuster would like to better understand the customers’ payment behaviour based on their past payment patterns (customer segmentation).\n",
        "Using historical information, it wants to be able to predict the likelihood of delayed payment against open invoices from its customers.\n",
        "It wants to use this information so that collectors can prioritise their work in following up with customers beforehand to get the payments on time.\n",
        "To summarise, as a business analyst, you want to find the answer to these questions:\n",
        "\n",
        "    How can we analyse the customer transactions data to find different payment behaviours?\n",
        "    In which way can you segregate the customers based on their previous payment patterns/behaviours?\n",
        "    Based on the historical data, can you predict the likelihood of delayed payment against \n",
        "    open invoices from the customers?\n",
        "    Can you draw any business insights based on your developed model?\n",
        "\n"
      ]
    },
    {
      "cell_type": "code",
      "execution_count": 154,
      "id": "1fc06a00",
      "metadata": {
        "id": "1fc06a00"
      },
      "outputs": [],
      "source": [
        "#Importing important libraries\n",
        "import numpy as np\n",
        "import pandas as pd\n",
        "import matplotlib.pyplot as plt\n",
        "import seaborn as sns\n",
        "\n",
        "\n",
        "import warnings\n",
        "warnings.filterwarnings(\"ignore\")"
      ]
    },
    {
      "cell_type": "markdown",
      "id": "86c232d4",
      "metadata": {
        "id": "86c232d4"
      },
      "source": [
        "### Reading the dataset"
      ]
    },
    {
      "cell_type": "code",
      "execution_count": 155,
      "id": "78c4fd89",
      "metadata": {
        "id": "78c4fd89"
      },
      "outputs": [],
      "source": [
        "rpd_df=pd.read_csv(\"Received_Payments_Data.csv\")"
      ]
    },
    {
      "cell_type": "code",
      "execution_count": 156,
      "id": "2d4b08f9",
      "metadata": {
        "id": "2d4b08f9",
        "outputId": "fb9fff12-f4aa-48ad-f61e-0f3952725e15",
        "colab": {
          "base_uri": "https://localhost:8080/",
          "height": 374
        }
      },
      "outputs": [
        {
          "output_type": "execute_result",
          "data": {
            "text/plain": [
              "  RECEIPT_METHOD CUSTOMER_NAME  CUSTOMER_NUMBER  RECEIPT_DOC_NO RECEIPT_DATE  \\\n",
              "0           WIRE     C EA Corp            37403    1.421000e+10    20-Apr-21   \n",
              "1           WIRE     RADW Corp             4003    9.921000e+10    31-Jan-21   \n",
              "2           WIRE     RADW Corp             4003    9.921000e+10    31-Jan-21   \n",
              "3           WIRE     FARO Corp             1409    9.921000e+10    31-Jan-21   \n",
              "4           WIRE     RADW Corp             4003    9.921000e+10    31-Jan-21   \n",
              "\n",
              "  CLASS CURRENCY_CODE  Local Amount    USD Amount INVOICE_ALLOCATED  \\\n",
              "0   PMT           USD     370990.92  101018.63040       14200000001   \n",
              "1   PMT           SAR     183750.00   48990.21133       99200000043   \n",
              "2   PMT           SAR     157500.00   41991.60971       99210000003   \n",
              "3   PMT           SAR     157500.00   41991.60971       99200000038   \n",
              "4   PMT           SAR     157500.00   41991.60971       99200000039   \n",
              "\n",
              "  INVOICE_CREATION_DATE   DUE_DATE           PAYMENT_TERM INVOICE_CLASS  \\\n",
              "0              2-Nov-20  30-Dec-20       30 Days from EOM           INV   \n",
              "1             29-Dec-20  28-Jan-21  30 Days from Inv Date           INV   \n",
              "2             30-Jan-21   1-Mar-21  30 Days from Inv Date           INV   \n",
              "3             15-Dec-20  14-Jan-21  30 Days from Inv Date           INV   \n",
              "4             15-Dec-20  14-Jan-21  30 Days from Inv Date           INV   \n",
              "\n",
              "  INVOICE_CURRENCY_CODE INVOICE_TYPE  \n",
              "0                   AED    Non Goods  \n",
              "1                   SAR    Non Goods  \n",
              "2                   SAR    Non Goods  \n",
              "3                   SAR    Non Goods  \n",
              "4                   SAR    Non Goods  "
            ],
            "text/html": [
              "\n",
              "  <div id=\"df-3516ed32-82dc-4246-822a-e29bbc6d683d\">\n",
              "    <div class=\"colab-df-container\">\n",
              "      <div>\n",
              "<style scoped>\n",
              "    .dataframe tbody tr th:only-of-type {\n",
              "        vertical-align: middle;\n",
              "    }\n",
              "\n",
              "    .dataframe tbody tr th {\n",
              "        vertical-align: top;\n",
              "    }\n",
              "\n",
              "    .dataframe thead th {\n",
              "        text-align: right;\n",
              "    }\n",
              "</style>\n",
              "<table border=\"1\" class=\"dataframe\">\n",
              "  <thead>\n",
              "    <tr style=\"text-align: right;\">\n",
              "      <th></th>\n",
              "      <th>RECEIPT_METHOD</th>\n",
              "      <th>CUSTOMER_NAME</th>\n",
              "      <th>CUSTOMER_NUMBER</th>\n",
              "      <th>RECEIPT_DOC_NO</th>\n",
              "      <th>RECEIPT_DATE</th>\n",
              "      <th>CLASS</th>\n",
              "      <th>CURRENCY_CODE</th>\n",
              "      <th>Local Amount</th>\n",
              "      <th>USD Amount</th>\n",
              "      <th>INVOICE_ALLOCATED</th>\n",
              "      <th>INVOICE_CREATION_DATE</th>\n",
              "      <th>DUE_DATE</th>\n",
              "      <th>PAYMENT_TERM</th>\n",
              "      <th>INVOICE_CLASS</th>\n",
              "      <th>INVOICE_CURRENCY_CODE</th>\n",
              "      <th>INVOICE_TYPE</th>\n",
              "    </tr>\n",
              "  </thead>\n",
              "  <tbody>\n",
              "    <tr>\n",
              "      <th>0</th>\n",
              "      <td>WIRE</td>\n",
              "      <td>C EA Corp</td>\n",
              "      <td>37403</td>\n",
              "      <td>1.421000e+10</td>\n",
              "      <td>20-Apr-21</td>\n",
              "      <td>PMT</td>\n",
              "      <td>USD</td>\n",
              "      <td>370990.92</td>\n",
              "      <td>101018.63040</td>\n",
              "      <td>14200000001</td>\n",
              "      <td>2-Nov-20</td>\n",
              "      <td>30-Dec-20</td>\n",
              "      <td>30 Days from EOM</td>\n",
              "      <td>INV</td>\n",
              "      <td>AED</td>\n",
              "      <td>Non Goods</td>\n",
              "    </tr>\n",
              "    <tr>\n",
              "      <th>1</th>\n",
              "      <td>WIRE</td>\n",
              "      <td>RADW Corp</td>\n",
              "      <td>4003</td>\n",
              "      <td>9.921000e+10</td>\n",
              "      <td>31-Jan-21</td>\n",
              "      <td>PMT</td>\n",
              "      <td>SAR</td>\n",
              "      <td>183750.00</td>\n",
              "      <td>48990.21133</td>\n",
              "      <td>99200000043</td>\n",
              "      <td>29-Dec-20</td>\n",
              "      <td>28-Jan-21</td>\n",
              "      <td>30 Days from Inv Date</td>\n",
              "      <td>INV</td>\n",
              "      <td>SAR</td>\n",
              "      <td>Non Goods</td>\n",
              "    </tr>\n",
              "    <tr>\n",
              "      <th>2</th>\n",
              "      <td>WIRE</td>\n",
              "      <td>RADW Corp</td>\n",
              "      <td>4003</td>\n",
              "      <td>9.921000e+10</td>\n",
              "      <td>31-Jan-21</td>\n",
              "      <td>PMT</td>\n",
              "      <td>SAR</td>\n",
              "      <td>157500.00</td>\n",
              "      <td>41991.60971</td>\n",
              "      <td>99210000003</td>\n",
              "      <td>30-Jan-21</td>\n",
              "      <td>1-Mar-21</td>\n",
              "      <td>30 Days from Inv Date</td>\n",
              "      <td>INV</td>\n",
              "      <td>SAR</td>\n",
              "      <td>Non Goods</td>\n",
              "    </tr>\n",
              "    <tr>\n",
              "      <th>3</th>\n",
              "      <td>WIRE</td>\n",
              "      <td>FARO Corp</td>\n",
              "      <td>1409</td>\n",
              "      <td>9.921000e+10</td>\n",
              "      <td>31-Jan-21</td>\n",
              "      <td>PMT</td>\n",
              "      <td>SAR</td>\n",
              "      <td>157500.00</td>\n",
              "      <td>41991.60971</td>\n",
              "      <td>99200000038</td>\n",
              "      <td>15-Dec-20</td>\n",
              "      <td>14-Jan-21</td>\n",
              "      <td>30 Days from Inv Date</td>\n",
              "      <td>INV</td>\n",
              "      <td>SAR</td>\n",
              "      <td>Non Goods</td>\n",
              "    </tr>\n",
              "    <tr>\n",
              "      <th>4</th>\n",
              "      <td>WIRE</td>\n",
              "      <td>RADW Corp</td>\n",
              "      <td>4003</td>\n",
              "      <td>9.921000e+10</td>\n",
              "      <td>31-Jan-21</td>\n",
              "      <td>PMT</td>\n",
              "      <td>SAR</td>\n",
              "      <td>157500.00</td>\n",
              "      <td>41991.60971</td>\n",
              "      <td>99200000039</td>\n",
              "      <td>15-Dec-20</td>\n",
              "      <td>14-Jan-21</td>\n",
              "      <td>30 Days from Inv Date</td>\n",
              "      <td>INV</td>\n",
              "      <td>SAR</td>\n",
              "      <td>Non Goods</td>\n",
              "    </tr>\n",
              "  </tbody>\n",
              "</table>\n",
              "</div>\n",
              "      <button class=\"colab-df-convert\" onclick=\"convertToInteractive('df-3516ed32-82dc-4246-822a-e29bbc6d683d')\"\n",
              "              title=\"Convert this dataframe to an interactive table.\"\n",
              "              style=\"display:none;\">\n",
              "        \n",
              "  <svg xmlns=\"http://www.w3.org/2000/svg\" height=\"24px\"viewBox=\"0 0 24 24\"\n",
              "       width=\"24px\">\n",
              "    <path d=\"M0 0h24v24H0V0z\" fill=\"none\"/>\n",
              "    <path d=\"M18.56 5.44l.94 2.06.94-2.06 2.06-.94-2.06-.94-.94-2.06-.94 2.06-2.06.94zm-11 1L8.5 8.5l.94-2.06 2.06-.94-2.06-.94L8.5 2.5l-.94 2.06-2.06.94zm10 10l.94 2.06.94-2.06 2.06-.94-2.06-.94-.94-2.06-.94 2.06-2.06.94z\"/><path d=\"M17.41 7.96l-1.37-1.37c-.4-.4-.92-.59-1.43-.59-.52 0-1.04.2-1.43.59L10.3 9.45l-7.72 7.72c-.78.78-.78 2.05 0 2.83L4 21.41c.39.39.9.59 1.41.59.51 0 1.02-.2 1.41-.59l7.78-7.78 2.81-2.81c.8-.78.8-2.07 0-2.86zM5.41 20L4 18.59l7.72-7.72 1.47 1.35L5.41 20z\"/>\n",
              "  </svg>\n",
              "      </button>\n",
              "      \n",
              "  <style>\n",
              "    .colab-df-container {\n",
              "      display:flex;\n",
              "      flex-wrap:wrap;\n",
              "      gap: 12px;\n",
              "    }\n",
              "\n",
              "    .colab-df-convert {\n",
              "      background-color: #E8F0FE;\n",
              "      border: none;\n",
              "      border-radius: 50%;\n",
              "      cursor: pointer;\n",
              "      display: none;\n",
              "      fill: #1967D2;\n",
              "      height: 32px;\n",
              "      padding: 0 0 0 0;\n",
              "      width: 32px;\n",
              "    }\n",
              "\n",
              "    .colab-df-convert:hover {\n",
              "      background-color: #E2EBFA;\n",
              "      box-shadow: 0px 1px 2px rgba(60, 64, 67, 0.3), 0px 1px 3px 1px rgba(60, 64, 67, 0.15);\n",
              "      fill: #174EA6;\n",
              "    }\n",
              "\n",
              "    [theme=dark] .colab-df-convert {\n",
              "      background-color: #3B4455;\n",
              "      fill: #D2E3FC;\n",
              "    }\n",
              "\n",
              "    [theme=dark] .colab-df-convert:hover {\n",
              "      background-color: #434B5C;\n",
              "      box-shadow: 0px 1px 3px 1px rgba(0, 0, 0, 0.15);\n",
              "      filter: drop-shadow(0px 1px 2px rgba(0, 0, 0, 0.3));\n",
              "      fill: #FFFFFF;\n",
              "    }\n",
              "  </style>\n",
              "\n",
              "      <script>\n",
              "        const buttonEl =\n",
              "          document.querySelector('#df-3516ed32-82dc-4246-822a-e29bbc6d683d button.colab-df-convert');\n",
              "        buttonEl.style.display =\n",
              "          google.colab.kernel.accessAllowed ? 'block' : 'none';\n",
              "\n",
              "        async function convertToInteractive(key) {\n",
              "          const element = document.querySelector('#df-3516ed32-82dc-4246-822a-e29bbc6d683d');\n",
              "          const dataTable =\n",
              "            await google.colab.kernel.invokeFunction('convertToInteractive',\n",
              "                                                     [key], {});\n",
              "          if (!dataTable) return;\n",
              "\n",
              "          const docLinkHtml = 'Like what you see? Visit the ' +\n",
              "            '<a target=\"_blank\" href=https://colab.research.google.com/notebooks/data_table.ipynb>data table notebook</a>'\n",
              "            + ' to learn more about interactive tables.';\n",
              "          element.innerHTML = '';\n",
              "          dataTable['output_type'] = 'display_data';\n",
              "          await google.colab.output.renderOutput(dataTable, element);\n",
              "          const docLink = document.createElement('div');\n",
              "          docLink.innerHTML = docLinkHtml;\n",
              "          element.appendChild(docLink);\n",
              "        }\n",
              "      </script>\n",
              "    </div>\n",
              "  </div>\n",
              "  "
            ]
          },
          "metadata": {},
          "execution_count": 156
        }
      ],
      "source": [
        "#checking top rows of dataframe\n",
        "rpd_df.head()"
      ]
    },
    {
      "cell_type": "code",
      "execution_count": 157,
      "id": "b216830f",
      "metadata": {
        "id": "b216830f",
        "outputId": "26d71556-5f45-4315-c22c-4c7b4c7f7445",
        "colab": {
          "base_uri": "https://localhost:8080/"
        }
      },
      "outputs": [
        {
          "output_type": "stream",
          "name": "stdout",
          "text": [
            "<class 'pandas.core.frame.DataFrame'>\n",
            "RangeIndex: 93937 entries, 0 to 93936\n",
            "Data columns (total 16 columns):\n",
            " #   Column                 Non-Null Count  Dtype  \n",
            "---  ------                 --------------  -----  \n",
            " 0   RECEIPT_METHOD         93937 non-null  object \n",
            " 1   CUSTOMER_NAME          93937 non-null  object \n",
            " 2   CUSTOMER_NUMBER        93937 non-null  int64  \n",
            " 3   RECEIPT_DOC_NO         93908 non-null  float64\n",
            " 4   RECEIPT_DATE           93937 non-null  object \n",
            " 5   CLASS                  93937 non-null  object \n",
            " 6   CURRENCY_CODE          93937 non-null  object \n",
            " 7   Local Amount           93937 non-null  float64\n",
            " 8   USD Amount             93937 non-null  float64\n",
            " 9   INVOICE_ALLOCATED      93937 non-null  object \n",
            " 10  INVOICE_CREATION_DATE  93937 non-null  object \n",
            " 11  DUE_DATE               93937 non-null  object \n",
            " 12  PAYMENT_TERM           93937 non-null  object \n",
            " 13  INVOICE_CLASS          93937 non-null  object \n",
            " 14  INVOICE_CURRENCY_CODE  93937 non-null  object \n",
            " 15  INVOICE_TYPE           93937 non-null  object \n",
            "dtypes: float64(3), int64(1), object(12)\n",
            "memory usage: 11.5+ MB\n"
          ]
        }
      ],
      "source": [
        "rpd_df.info()"
      ]
    },
    {
      "cell_type": "code",
      "execution_count": 158,
      "id": "fe43474b",
      "metadata": {
        "id": "fe43474b",
        "outputId": "7db96c42-936e-417e-ca3e-020fd9e07e2f",
        "colab": {
          "base_uri": "https://localhost:8080/",
          "height": 300
        }
      },
      "outputs": [
        {
          "output_type": "execute_result",
          "data": {
            "text/plain": [
              "       CUSTOMER_NUMBER  RECEIPT_DOC_NO  Local Amount    USD Amount\n",
              "count     93937.000000    9.390800e+04  9.393700e+04  9.393700e+04\n",
              "mean      12753.874033    1.583908e+11  1.066470e+06  5.312013e+05\n",
              "std       14274.170829    3.885359e+10  1.546901e+06  9.508693e+05\n",
              "min        1044.000000    1.421000e+10  0.000000e+00  0.000000e+00\n",
              "25%        1888.000000    1.470000e+11  8.198039e+04  3.766298e+04\n",
              "50%        4003.000000    1.510000e+11  4.053438e+05  1.810010e+05\n",
              "75%       20884.000000    1.690000e+11  1.425606e+06  5.996137e+05\n",
              "max       52940.000000    2.970000e+11  1.084983e+07  1.084983e+07"
            ],
            "text/html": [
              "\n",
              "  <div id=\"df-75846d46-59dc-43f7-9264-e9ae8ef5db0a\">\n",
              "    <div class=\"colab-df-container\">\n",
              "      <div>\n",
              "<style scoped>\n",
              "    .dataframe tbody tr th:only-of-type {\n",
              "        vertical-align: middle;\n",
              "    }\n",
              "\n",
              "    .dataframe tbody tr th {\n",
              "        vertical-align: top;\n",
              "    }\n",
              "\n",
              "    .dataframe thead th {\n",
              "        text-align: right;\n",
              "    }\n",
              "</style>\n",
              "<table border=\"1\" class=\"dataframe\">\n",
              "  <thead>\n",
              "    <tr style=\"text-align: right;\">\n",
              "      <th></th>\n",
              "      <th>CUSTOMER_NUMBER</th>\n",
              "      <th>RECEIPT_DOC_NO</th>\n",
              "      <th>Local Amount</th>\n",
              "      <th>USD Amount</th>\n",
              "    </tr>\n",
              "  </thead>\n",
              "  <tbody>\n",
              "    <tr>\n",
              "      <th>count</th>\n",
              "      <td>93937.000000</td>\n",
              "      <td>9.390800e+04</td>\n",
              "      <td>9.393700e+04</td>\n",
              "      <td>9.393700e+04</td>\n",
              "    </tr>\n",
              "    <tr>\n",
              "      <th>mean</th>\n",
              "      <td>12753.874033</td>\n",
              "      <td>1.583908e+11</td>\n",
              "      <td>1.066470e+06</td>\n",
              "      <td>5.312013e+05</td>\n",
              "    </tr>\n",
              "    <tr>\n",
              "      <th>std</th>\n",
              "      <td>14274.170829</td>\n",
              "      <td>3.885359e+10</td>\n",
              "      <td>1.546901e+06</td>\n",
              "      <td>9.508693e+05</td>\n",
              "    </tr>\n",
              "    <tr>\n",
              "      <th>min</th>\n",
              "      <td>1044.000000</td>\n",
              "      <td>1.421000e+10</td>\n",
              "      <td>0.000000e+00</td>\n",
              "      <td>0.000000e+00</td>\n",
              "    </tr>\n",
              "    <tr>\n",
              "      <th>25%</th>\n",
              "      <td>1888.000000</td>\n",
              "      <td>1.470000e+11</td>\n",
              "      <td>8.198039e+04</td>\n",
              "      <td>3.766298e+04</td>\n",
              "    </tr>\n",
              "    <tr>\n",
              "      <th>50%</th>\n",
              "      <td>4003.000000</td>\n",
              "      <td>1.510000e+11</td>\n",
              "      <td>4.053438e+05</td>\n",
              "      <td>1.810010e+05</td>\n",
              "    </tr>\n",
              "    <tr>\n",
              "      <th>75%</th>\n",
              "      <td>20884.000000</td>\n",
              "      <td>1.690000e+11</td>\n",
              "      <td>1.425606e+06</td>\n",
              "      <td>5.996137e+05</td>\n",
              "    </tr>\n",
              "    <tr>\n",
              "      <th>max</th>\n",
              "      <td>52940.000000</td>\n",
              "      <td>2.970000e+11</td>\n",
              "      <td>1.084983e+07</td>\n",
              "      <td>1.084983e+07</td>\n",
              "    </tr>\n",
              "  </tbody>\n",
              "</table>\n",
              "</div>\n",
              "      <button class=\"colab-df-convert\" onclick=\"convertToInteractive('df-75846d46-59dc-43f7-9264-e9ae8ef5db0a')\"\n",
              "              title=\"Convert this dataframe to an interactive table.\"\n",
              "              style=\"display:none;\">\n",
              "        \n",
              "  <svg xmlns=\"http://www.w3.org/2000/svg\" height=\"24px\"viewBox=\"0 0 24 24\"\n",
              "       width=\"24px\">\n",
              "    <path d=\"M0 0h24v24H0V0z\" fill=\"none\"/>\n",
              "    <path d=\"M18.56 5.44l.94 2.06.94-2.06 2.06-.94-2.06-.94-.94-2.06-.94 2.06-2.06.94zm-11 1L8.5 8.5l.94-2.06 2.06-.94-2.06-.94L8.5 2.5l-.94 2.06-2.06.94zm10 10l.94 2.06.94-2.06 2.06-.94-2.06-.94-.94-2.06-.94 2.06-2.06.94z\"/><path d=\"M17.41 7.96l-1.37-1.37c-.4-.4-.92-.59-1.43-.59-.52 0-1.04.2-1.43.59L10.3 9.45l-7.72 7.72c-.78.78-.78 2.05 0 2.83L4 21.41c.39.39.9.59 1.41.59.51 0 1.02-.2 1.41-.59l7.78-7.78 2.81-2.81c.8-.78.8-2.07 0-2.86zM5.41 20L4 18.59l7.72-7.72 1.47 1.35L5.41 20z\"/>\n",
              "  </svg>\n",
              "      </button>\n",
              "      \n",
              "  <style>\n",
              "    .colab-df-container {\n",
              "      display:flex;\n",
              "      flex-wrap:wrap;\n",
              "      gap: 12px;\n",
              "    }\n",
              "\n",
              "    .colab-df-convert {\n",
              "      background-color: #E8F0FE;\n",
              "      border: none;\n",
              "      border-radius: 50%;\n",
              "      cursor: pointer;\n",
              "      display: none;\n",
              "      fill: #1967D2;\n",
              "      height: 32px;\n",
              "      padding: 0 0 0 0;\n",
              "      width: 32px;\n",
              "    }\n",
              "\n",
              "    .colab-df-convert:hover {\n",
              "      background-color: #E2EBFA;\n",
              "      box-shadow: 0px 1px 2px rgba(60, 64, 67, 0.3), 0px 1px 3px 1px rgba(60, 64, 67, 0.15);\n",
              "      fill: #174EA6;\n",
              "    }\n",
              "\n",
              "    [theme=dark] .colab-df-convert {\n",
              "      background-color: #3B4455;\n",
              "      fill: #D2E3FC;\n",
              "    }\n",
              "\n",
              "    [theme=dark] .colab-df-convert:hover {\n",
              "      background-color: #434B5C;\n",
              "      box-shadow: 0px 1px 3px 1px rgba(0, 0, 0, 0.15);\n",
              "      filter: drop-shadow(0px 1px 2px rgba(0, 0, 0, 0.3));\n",
              "      fill: #FFFFFF;\n",
              "    }\n",
              "  </style>\n",
              "\n",
              "      <script>\n",
              "        const buttonEl =\n",
              "          document.querySelector('#df-75846d46-59dc-43f7-9264-e9ae8ef5db0a button.colab-df-convert');\n",
              "        buttonEl.style.display =\n",
              "          google.colab.kernel.accessAllowed ? 'block' : 'none';\n",
              "\n",
              "        async function convertToInteractive(key) {\n",
              "          const element = document.querySelector('#df-75846d46-59dc-43f7-9264-e9ae8ef5db0a');\n",
              "          const dataTable =\n",
              "            await google.colab.kernel.invokeFunction('convertToInteractive',\n",
              "                                                     [key], {});\n",
              "          if (!dataTable) return;\n",
              "\n",
              "          const docLinkHtml = 'Like what you see? Visit the ' +\n",
              "            '<a target=\"_blank\" href=https://colab.research.google.com/notebooks/data_table.ipynb>data table notebook</a>'\n",
              "            + ' to learn more about interactive tables.';\n",
              "          element.innerHTML = '';\n",
              "          dataTable['output_type'] = 'display_data';\n",
              "          await google.colab.output.renderOutput(dataTable, element);\n",
              "          const docLink = document.createElement('div');\n",
              "          docLink.innerHTML = docLinkHtml;\n",
              "          element.appendChild(docLink);\n",
              "        }\n",
              "      </script>\n",
              "    </div>\n",
              "  </div>\n",
              "  "
            ]
          },
          "metadata": {},
          "execution_count": 158
        }
      ],
      "source": [
        "#checking numerical attributes of dataframe\n",
        "rpd_df.describe()\n"
      ]
    },
    {
      "cell_type": "markdown",
      "id": "4b4c4241",
      "metadata": {
        "id": "4b4c4241"
      },
      "source": [
        "Since most of the columns attribute class is object type. We need to explore them one by one."
      ]
    },
    {
      "cell_type": "markdown",
      "id": "08131ff3",
      "metadata": {
        "id": "08131ff3"
      },
      "source": [
        "### EDA & Data preparation"
      ]
    },
    {
      "cell_type": "code",
      "execution_count": 159,
      "id": "08f1240e",
      "metadata": {
        "id": "08f1240e"
      },
      "outputs": [],
      "source": [
        "# we can see that dates are considered as object type , letus change them to date .\n",
        "rpd_df[\"RECEIPT_DATE\"]=pd.to_datetime(rpd_df[\"RECEIPT_DATE\"])\n",
        "rpd_df[\"INVOICE_CREATION_DATE\"]=pd.to_datetime(rpd_df[\"INVOICE_CREATION_DATE\"])\n",
        "rpd_df[\"DUE_DATE\"]=pd.to_datetime(rpd_df[\"DUE_DATE\"])"
      ]
    },
    {
      "cell_type": "code",
      "execution_count": 160,
      "id": "d8507505",
      "metadata": {
        "scrolled": true,
        "id": "d8507505"
      },
      "outputs": [],
      "source": [
        "# Letus check how much time it took to pay after Invoice Created\n",
        "rpd_df['Actual_Days_for_Pmt']=(rpd_df[\"RECEIPT_DATE\"]-rpd_df[\"INVOICE_CREATION_DATE\"]).dt.days"
      ]
    },
    {
      "cell_type": "code",
      "execution_count": 161,
      "id": "0f50e8e6",
      "metadata": {
        "id": "0f50e8e6"
      },
      "outputs": [],
      "source": [
        "# Since we don't get our target variable in receipt payment data clearly , we need to derive it through feature engineering.\n",
        "rpd_df[\"Time_btw_due & recpt_date\"]= (rpd_df['DUE_DATE']-rpd_df['RECEIPT_DATE']).dt.days"
      ]
    },
    {
      "cell_type": "code",
      "execution_count": 162,
      "id": "55fe4356",
      "metadata": {
        "id": "55fe4356"
      },
      "outputs": [],
      "source": [
        "# mapping -days to 0 & +days to 1 for target variable\n",
        "rpd_df['target']=rpd_df[\"Time_btw_due & recpt_date\"].apply(lambda x: 0 if x<=0 else 1)"
      ]
    },
    {
      "cell_type": "code",
      "execution_count": 163,
      "id": "d5fd9c54",
      "metadata": {
        "id": "d5fd9c54",
        "outputId": "60a20d59-5def-46cd-c9aa-39c439235e81",
        "colab": {
          "base_uri": "https://localhost:8080/",
          "height": 225
        }
      },
      "outputs": [
        {
          "output_type": "execute_result",
          "data": {
            "text/plain": [
              "<AxesSubplot:>"
            ]
          },
          "metadata": {},
          "execution_count": 163
        },
        {
          "output_type": "display_data",
          "data": {
            "text/plain": [
              "<Figure size 360x216 with 1 Axes>"
            ],
            "image/png": "[encoded data removed]"
          },
          "metadata": {
            "needs_background": "light"
          }
        }
      ],
      "source": [
        "# Letus check our target columns & delay rate from our data.\n",
        "rpd_df['target'].value_counts(normalize=True).plot.bar(figsize=(5,3))"
      ]
    },
    {
      "cell_type": "markdown",
      "id": "133571c8",
      "metadata": {
        "id": "133571c8"
      },
      "source": [
        "**We can clearly see that more than 68% payments are getting delayed.**"
      ]
    },
    {
      "cell_type": "code",
      "execution_count": 164,
      "id": "05ff708e",
      "metadata": {
        "id": "05ff708e"
      },
      "outputs": [],
      "source": [
        "# Creating drop column variable.\n",
        "drop_cols=[]"
      ]
    },
    {
      "cell_type": "code",
      "execution_count": 165,
      "id": "346e6f10",
      "metadata": {
        "id": "346e6f10"
      },
      "outputs": [],
      "source": [
        "#Since Time_btw_due & recpt_date is not usefull anymore , we can drop it.\n",
        "drop_cols.append('Time_btw_due & recpt_date')"
      ]
    },
    {
      "cell_type": "markdown",
      "id": "0431b058",
      "metadata": {
        "id": "0431b058"
      },
      "source": [
        "#### Checking other attributes one by one\n",
        "<hr/>"
      ]
    },
    {
      "cell_type": "code",
      "execution_count": 166,
      "id": "d3ee4e07",
      "metadata": {
        "scrolled": true,
        "id": "d3ee4e07",
        "outputId": "11deea97-41fc-4aaa-bc8c-ac2ec9dcf9de",
        "colab": {
          "base_uri": "https://localhost:8080/",
          "height": 228
        }
      },
      "outputs": [
        {
          "output_type": "execute_result",
          "data": {
            "text/plain": [
              "<AxesSubplot:>"
            ]
          },
          "metadata": {},
          "execution_count": 166
        },
        {
          "output_type": "display_data",
          "data": {
            "text/plain": [
              "<Figure size 360x216 with 1 Axes>"
            ],
            "image/png": "[encoded data removed]"
          },
          "metadata": {
            "needs_background": "light"
          }
        }
      ],
      "source": [
        "(rpd_df['RECEIPT_METHOD'].value_counts(normalize=True)*100).plot.barh(figsize=(5,3))"
      ]
    },
    {
      "cell_type": "code",
      "execution_count": 167,
      "id": "0ec5e4fc",
      "metadata": {
        "id": "0ec5e4fc",
        "outputId": "c9680580-d99b-4367-fa69-44c645d32986",
        "colab": {
          "base_uri": "https://localhost:8080/",
          "height": 289
        }
      },
      "outputs": [
        {
          "output_type": "display_data",
          "data": {
            "text/plain": [
              "<Figure size 360x216 with 1 Axes>"
            ],
            "image/png": "[encoded data removed]"
          },
          "metadata": {
            "needs_background": "light"
          }
        }
      ],
      "source": [
        "# Checking the receipt_method with our target column\n",
        "plt.figure(figsize=(5,3))\n",
        "\n",
        "sns.countplot(rpd_df['RECEIPT_METHOD'],hue=rpd_df['target'])\n",
        "plt.xticks(rotation=45)\n",
        "plt.title('Payment_recipt_method & delay')\n",
        "plt.legend(loc=1)\n",
        "plt.show()"
      ]
    },
    {
      "cell_type": "markdown",
      "id": "1454d2c8",
      "metadata": {
        "id": "1454d2c8"
      },
      "source": [
        "We can clearly see that majority of payments are being received via WIRE, AP/AR Netting or Cheques.\n",
        "Also we don't get enough information with respect to our target variable."
      ]
    },
    {
      "cell_type": "code",
      "execution_count": 168,
      "id": "05c64445",
      "metadata": {
        "id": "05c64445"
      },
      "outputs": [],
      "source": [
        "# Since we don't have problem with any of method of payment receipt . We can drop these column.\n",
        "drop_cols.append(\"RECEIPT_METHOD\")"
      ]
    },
    {
      "cell_type": "code",
      "execution_count": 169,
      "id": "d9def11d",
      "metadata": {
        "id": "d9def11d",
        "outputId": "f37e2270-7288-4637-856d-46e2b9dff837",
        "colab": {
          "base_uri": "https://localhost:8080/"
        }
      },
      "outputs": [
        {
          "output_type": "execute_result",
          "data": {
            "text/plain": [
              "73"
            ]
          },
          "metadata": {},
          "execution_count": 169
        }
      ],
      "source": [
        "# letus check RECEIPT_DOC_NO column\n",
        "rpd_df['RECEIPT_DOC_NO'].nunique()"
      ]
    },
    {
      "cell_type": "code",
      "execution_count": 170,
      "id": "0c37fbe0",
      "metadata": {
        "id": "0c37fbe0",
        "outputId": "4a775170-1b97-45ac-e6fa-49df70117632",
        "colab": {
          "base_uri": "https://localhost:8080/"
        }
      },
      "outputs": [
        {
          "output_type": "execute_result",
          "data": {
            "text/plain": [
              "29"
            ]
          },
          "metadata": {},
          "execution_count": 170
        }
      ],
      "source": [
        "#check null Recipt_Doc_No.\n",
        "rpd_df['RECEIPT_DOC_NO'].isnull().sum()"
      ]
    },
    {
      "cell_type": "markdown",
      "id": "f8c5450b",
      "metadata": {
        "id": "f8c5450b"
      },
      "source": [
        "So we have 29 row items , which don't have Receipt_Doc_No , where as 73 unique doc_no."
      ]
    },
    {
      "cell_type": "code",
      "execution_count": 171,
      "id": "bd91dc9c",
      "metadata": {
        "id": "bd91dc9c"
      },
      "outputs": [],
      "source": [
        "#This is also just a reference no. of payment receipt , we can drop this column\n",
        "drop_cols.append('RECEIPT_DOC_NO')"
      ]
    },
    {
      "cell_type": "code",
      "execution_count": 172,
      "id": "7f372673",
      "metadata": {
        "id": "7f372673",
        "outputId": "28291e6c-38ac-4699-ba19-a833e656384d",
        "colab": {
          "base_uri": "https://localhost:8080/"
        }
      },
      "outputs": [
        {
          "output_type": "execute_result",
          "data": {
            "text/plain": [
              "0"
            ]
          },
          "metadata": {},
          "execution_count": 172
        }
      ],
      "source": [
        "#Checking receipt date col.\n",
        "rpd_df['RECEIPT_DATE'].isnull().sum()"
      ]
    },
    {
      "cell_type": "markdown",
      "id": "a5242e17",
      "metadata": {
        "id": "a5242e17"
      },
      "source": [
        "There is no null values in receipt Date Column. Since we won't be having this column in test data set(Unseen Data) , we can drop this column too.\n"
      ]
    },
    {
      "cell_type": "code",
      "execution_count": 173,
      "id": "2f3750fc",
      "metadata": {
        "id": "2f3750fc"
      },
      "outputs": [],
      "source": [
        "#adding to drop_cols list\n",
        "drop_cols.append('RECEIPT_DATE')"
      ]
    },
    {
      "cell_type": "code",
      "execution_count": 174,
      "id": "6d17a066",
      "metadata": {
        "id": "6d17a066",
        "outputId": "c6d0371f-3b0c-4d4c-8bcb-393cab459e60",
        "colab": {
          "base_uri": "https://localhost:8080/"
        }
      },
      "outputs": [
        {
          "output_type": "execute_result",
          "data": {
            "text/plain": [
              "PMT    1.0\n",
              "Name: CLASS, dtype: float64"
            ]
          },
          "metadata": {},
          "execution_count": 174
        }
      ],
      "source": [
        "# Checking Class column\n",
        "rpd_df['CLASS'].value_counts(normalize=True)"
      ]
    },
    {
      "cell_type": "markdown",
      "id": "045856f6",
      "metadata": {
        "id": "045856f6"
      },
      "source": [
        "Since all the columns belongs to only one column , we can not use this column for model building . Hence adding it to drop_cols."
      ]
    },
    {
      "cell_type": "code",
      "execution_count": 175,
      "id": "c38213da",
      "metadata": {
        "id": "c38213da"
      },
      "outputs": [],
      "source": [
        "#adding to drop_cols list\n",
        "drop_cols.append('CLASS')"
      ]
    },
    {
      "cell_type": "code",
      "execution_count": 176,
      "id": "53b7cb53",
      "metadata": {
        "id": "53b7cb53",
        "outputId": "baf2ba4a-ce4e-448f-97bc-f28f92200734",
        "colab": {
          "base_uri": "https://localhost:8080/",
          "height": 228
        }
      },
      "outputs": [
        {
          "output_type": "execute_result",
          "data": {
            "text/plain": [
              "<AxesSubplot:>"
            ]
          },
          "metadata": {},
          "execution_count": 176
        },
        {
          "output_type": "display_data",
          "data": {
            "text/plain": [
              "<Figure size 360x216 with 1 Axes>"
            ],
            "image/png": "[encoded data removed]"
          },
          "metadata": {
            "needs_background": "light"
          }
        }
      ],
      "source": [
        "# Letus check CURRENCY_CODE column\n",
        "plt.figure(figsize=(5,3))\n",
        "\n",
        "rpd_df['CURRENCY_CODE'].value_counts().plot.barh()"
      ]
    },
    {
      "cell_type": "code",
      "execution_count": 177,
      "id": "191ccd0f",
      "metadata": {
        "id": "191ccd0f",
        "outputId": "e8268254-55b9-4d73-be5c-54b8148ab81a",
        "colab": {
          "base_uri": "https://localhost:8080/",
          "height": 256
        }
      },
      "outputs": [
        {
          "output_type": "display_data",
          "data": {
            "text/plain": [
              "<Figure size 360x216 with 1 Axes>"
            ],
            "image/png": "[encoded data removed]"
          },
          "metadata": {
            "needs_background": "light"
          }
        }
      ],
      "source": [
        "#Letus check currency_code with delays \n",
        "plt.figure(figsize=(5,3))\n",
        "\n",
        "sns.countplot(rpd_df['CURRENCY_CODE'],hue=rpd_df['target'])\n",
        "plt.xticks(rotation=45)\n",
        "plt.title('CURRENCY_CODE & DELAY')\n",
        "plt.legend(loc=1)\n",
        "plt.show()"
      ]
    },
    {
      "cell_type": "markdown",
      "id": "c9dea0ae",
      "metadata": {
        "id": "c9dea0ae"
      },
      "source": [
        "- **We can clearly see that Payment Currency AED have higher delays than other payment receipt currency.**\n",
        "- **We can have some additional countermeasures for customers who pays in AED.**\n"
      ]
    },
    {
      "cell_type": "code",
      "execution_count": 178,
      "id": "1edcc1ac",
      "metadata": {
        "id": "1edcc1ac",
        "outputId": "8b2040ac-80e8-4faa-fd8f-ffa97be99d32",
        "colab": {
          "base_uri": "https://localhost:8080/"
        }
      },
      "outputs": [
        {
          "output_type": "execute_result",
          "data": {
            "text/plain": [
              "0"
            ]
          },
          "metadata": {},
          "execution_count": 178
        }
      ],
      "source": [
        "#Letus check USD Amount column\n",
        "rpd_df['USD Amount'].isnull().sum()"
      ]
    },
    {
      "cell_type": "code",
      "execution_count": 179,
      "id": "0e1bd4f2",
      "metadata": {
        "id": "0e1bd4f2"
      },
      "outputs": [],
      "source": [
        "# Converting USD Amount in million USD.\n",
        "rpd_df[\"USD Amount\"]=np.round(rpd_df[\"USD Amount\"]/1000000,2)"
      ]
    },
    {
      "cell_type": "code",
      "execution_count": 180,
      "id": "a59ba908",
      "metadata": {
        "id": "a59ba908",
        "outputId": "644871c8-fc6f-4907-b4ec-69835009cb78",
        "colab": {
          "base_uri": "https://localhost:8080/"
        }
      },
      "outputs": [
        {
          "output_type": "execute_result",
          "data": {
            "text/plain": [
              "0.10     0.01\n",
              "0.25     0.04\n",
              "0.50     0.18\n",
              "0.75     0.60\n",
              "0.90     1.26\n",
              "1.00    10.85\n",
              "Name: USD Amount, dtype: float64"
            ]
          },
          "metadata": {},
          "execution_count": 180
        }
      ],
      "source": [
        "#Letus check USD Amount column\n",
        "rpd_df['USD Amount'].quantile([0.1,0.25,0.5,0.75,0.9,1])"
      ]
    },
    {
      "cell_type": "markdown",
      "id": "d2e357f8",
      "metadata": {
        "id": "d2e357f8"
      },
      "source": [
        "Seems like USD amount column have outliers.Letus explore further."
      ]
    },
    {
      "cell_type": "code",
      "execution_count": 181,
      "id": "c39e03b2",
      "metadata": {
        "id": "c39e03b2",
        "outputId": "cf3b0c95-687c-4d66-e4e0-6a65d811555b",
        "colab": {
          "base_uri": "https://localhost:8080/",
          "height": 225
        }
      },
      "outputs": [
        {
          "output_type": "display_data",
          "data": {
            "text/plain": [
              "<Figure size 360x216 with 1 Axes>"
            ],
            "image/png": "[encoded data removed]"
          },
          "metadata": {
            "needs_background": "light"
          }
        }
      ],
      "source": [
        "#boxplot to visualise outliers\n",
        "plt.figure(figsize=(5,3))\n",
        "sns.boxplot(rpd_df['USD Amount'],whis=1.5)\n",
        "plt.show()"
      ]
    },
    {
      "cell_type": "markdown",
      "id": "01104507",
      "metadata": {
        "id": "01104507"
      },
      "source": [
        "We could see that there is plenty of outliers . But these may be high value customers , so we cann't drop them.\n"
      ]
    },
    {
      "cell_type": "markdown",
      "id": "491ccf1a",
      "metadata": {
        "id": "491ccf1a"
      },
      "source": [
        "Since  USD amount is already derivative of Local amount , we can choose only one column for model building. Since USD is global \n",
        "currency we can drop Local amount column."
      ]
    },
    {
      "cell_type": "code",
      "execution_count": 182,
      "id": "57f435c5",
      "metadata": {
        "id": "57f435c5"
      },
      "outputs": [],
      "source": [
        "# Adding Local_Amount to drop_cols\n",
        "drop_cols.append(\"Local Amount\")"
      ]
    },
    {
      "cell_type": "code",
      "execution_count": 183,
      "id": "40657f51",
      "metadata": {
        "id": "40657f51",
        "outputId": "313843ac-9add-4117-ac61-5f04a15c7885",
        "colab": {
          "base_uri": "https://localhost:8080/"
        }
      },
      "outputs": [
        {
          "output_type": "execute_result",
          "data": {
            "text/plain": [
              "1.0721E+11          4359\n",
              "1.4821E+11          4000\n",
              "1.5421E+11          3918\n",
              "1.482E+11           3853\n",
              "1.6021E+11          3418\n",
              "                    ... \n",
              "IC15214821051078       1\n",
              "IC15214821051177       1\n",
              "IC15214820048949       1\n",
              "IC15214821050520       1\n",
              "IC15323921053765       1\n",
              "Name: INVOICE_ALLOCATED, Length: 12986, dtype: int64"
            ]
          },
          "metadata": {},
          "execution_count": 183
        }
      ],
      "source": [
        "# Checking INVOICE_ALLOCATED column\n",
        "rpd_df['INVOICE_ALLOCATED'].value_counts()"
      ]
    },
    {
      "cell_type": "markdown",
      "id": "a7d2d83d",
      "metadata": {
        "id": "a7d2d83d"
      },
      "source": [
        "Since Invoice allocated is unique number given to a particular vendor."
      ]
    },
    {
      "cell_type": "code",
      "execution_count": 184,
      "id": "40df9863",
      "metadata": {
        "id": "40df9863",
        "outputId": "cb92cc8f-2bb0-481d-d764-c53b03d2bab8",
        "colab": {
          "base_uri": "https://localhost:8080/"
        }
      },
      "outputs": [
        {
          "output_type": "execute_result",
          "data": {
            "text/plain": [
              "0             30 Days from EOM\n",
              "1        30 Days from Inv Date\n",
              "2        30 Days from Inv Date\n",
              "3        30 Days from Inv Date\n",
              "4        30 Days from Inv Date\n",
              "                 ...          \n",
              "93932                Immediate\n",
              "93933                Immediate\n",
              "93934                Immediate\n",
              "93935    60 Days from Inv Date\n",
              "93936         30 Days from EOM\n",
              "Name: PAYMENT_TERM, Length: 93937, dtype: object"
            ]
          },
          "metadata": {},
          "execution_count": 184
        }
      ],
      "source": [
        "# Checking PAYMENT_TERM column\n",
        "rpd_df[\"PAYMENT_TERM\"]\n"
      ]
    },
    {
      "cell_type": "markdown",
      "id": "81b79c59",
      "metadata": {
        "id": "81b79c59"
      },
      "source": [
        "Since Payment term is in String format & not mentioned in any particular standard.\n",
        "\n",
        "Therefore we need to derive numeric Payment_Term in days for our analysis."
      ]
    },
    {
      "cell_type": "code",
      "execution_count": 185,
      "id": "c632ee6c",
      "metadata": {
        "id": "c632ee6c"
      },
      "outputs": [],
      "source": [
        "# Deriving numeric Payment Term\n",
        "rpd_df['Payment_Term_Days']=(rpd_df[\"DUE_DATE\"]-rpd_df[\"INVOICE_CREATION_DATE\"]).dt.days"
      ]
    },
    {
      "cell_type": "code",
      "execution_count": 186,
      "id": "8b4dc100",
      "metadata": {
        "id": "8b4dc100",
        "outputId": "4990c853-0521-46de-a5c7-dfe5c07f0b71",
        "colab": {
          "base_uri": "https://localhost:8080/"
        }
      },
      "outputs": [
        {
          "output_type": "execute_result",
          "data": {
            "text/plain": [
              "-3622"
            ]
          },
          "metadata": {},
          "execution_count": 186
        }
      ],
      "source": [
        "# Checking the column\n",
        "rpd_df['Payment_Term_Days'].min()"
      ]
    },
    {
      "cell_type": "markdown",
      "id": "e83ee862",
      "metadata": {
        "id": "e83ee862"
      },
      "source": [
        "We should not get Payment_Term_Days in negative . Letus explore it & process it for correction."
      ]
    },
    {
      "cell_type": "code",
      "execution_count": 187,
      "id": "ef86c192",
      "metadata": {
        "id": "ef86c192",
        "outputId": "53e1d177-6ab2-4a18-e5fe-3b7aa02f1e85",
        "colab": {
          "base_uri": "https://localhost:8080/",
          "height": 206
        }
      },
      "outputs": [
        {
          "output_type": "execute_result",
          "data": {
            "text/plain": [
              "          PAYMENT_TERM   DUE_DATE INVOICE_CREATION_DATE  Payment_Term_Days\n",
              "148   100% Adv Payment 2021-03-31            2021-04-01                 -1\n",
              "152   100% Adv Payment 2021-03-31            2021-04-01                 -1\n",
              "160  Immediate Payment 2021-03-01            2021-03-31                -30\n",
              "161          Immediate 2021-03-01            2021-03-31                -30\n",
              "167   100% Adv Payment 2021-03-31            2021-04-01                 -1"
            ],
            "text/html": [
              "\n",
              "  <div id=\"df-0a37b5cb-aa27-4a95-b23f-0bac61f2285b\">\n",
              "    <div class=\"colab-df-container\">\n",
              "      <div>\n",
              "<style scoped>\n",
              "    .dataframe tbody tr th:only-of-type {\n",
              "        vertical-align: middle;\n",
              "    }\n",
              "\n",
              "    .dataframe tbody tr th {\n",
              "        vertical-align: top;\n",
              "    }\n",
              "\n",
              "    .dataframe thead th {\n",
              "        text-align: right;\n",
              "    }\n",
              "</style>\n",
              "<table border=\"1\" class=\"dataframe\">\n",
              "  <thead>\n",
              "    <tr style=\"text-align: right;\">\n",
              "      <th></th>\n",
              "      <th>PAYMENT_TERM</th>\n",
              "      <th>DUE_DATE</th>\n",
              "      <th>INVOICE_CREATION_DATE</th>\n",
              "      <th>Payment_Term_Days</th>\n",
              "    </tr>\n",
              "  </thead>\n",
              "  <tbody>\n",
              "    <tr>\n",
              "      <th>148</th>\n",
              "      <td>100% Adv Payment</td>\n",
              "      <td>2021-03-31</td>\n",
              "      <td>2021-04-01</td>\n",
              "      <td>-1</td>\n",
              "    </tr>\n",
              "    <tr>\n",
              "      <th>152</th>\n",
              "      <td>100% Adv Payment</td>\n",
              "      <td>2021-03-31</td>\n",
              "      <td>2021-04-01</td>\n",
              "      <td>-1</td>\n",
              "    </tr>\n",
              "    <tr>\n",
              "      <th>160</th>\n",
              "      <td>Immediate Payment</td>\n",
              "      <td>2021-03-01</td>\n",
              "      <td>2021-03-31</td>\n",
              "      <td>-30</td>\n",
              "    </tr>\n",
              "    <tr>\n",
              "      <th>161</th>\n",
              "      <td>Immediate</td>\n",
              "      <td>2021-03-01</td>\n",
              "      <td>2021-03-31</td>\n",
              "      <td>-30</td>\n",
              "    </tr>\n",
              "    <tr>\n",
              "      <th>167</th>\n",
              "      <td>100% Adv Payment</td>\n",
              "      <td>2021-03-31</td>\n",
              "      <td>2021-04-01</td>\n",
              "      <td>-1</td>\n",
              "    </tr>\n",
              "  </tbody>\n",
              "</table>\n",
              "</div>\n",
              "      <button class=\"colab-df-convert\" onclick=\"convertToInteractive('df-0a37b5cb-aa27-4a95-b23f-0bac61f2285b')\"\n",
              "              title=\"Convert this dataframe to an interactive table.\"\n",
              "              style=\"display:none;\">\n",
              "        \n",
              "  <svg xmlns=\"http://www.w3.org/2000/svg\" height=\"24px\"viewBox=\"0 0 24 24\"\n",
              "       width=\"24px\">\n",
              "    <path d=\"M0 0h24v24H0V0z\" fill=\"none\"/>\n",
              "    <path d=\"M18.56 5.44l.94 2.06.94-2.06 2.06-.94-2.06-.94-.94-2.06-.94 2.06-2.06.94zm-11 1L8.5 8.5l.94-2.06 2.06-.94-2.06-.94L8.5 2.5l-.94 2.06-2.06.94zm10 10l.94 2.06.94-2.06 2.06-.94-2.06-.94-.94-2.06-.94 2.06-2.06.94z\"/><path d=\"M17.41 7.96l-1.37-1.37c-.4-.4-.92-.59-1.43-.59-.52 0-1.04.2-1.43.59L10.3 9.45l-7.72 7.72c-.78.78-.78 2.05 0 2.83L4 21.41c.39.39.9.59 1.41.59.51 0 1.02-.2 1.41-.59l7.78-7.78 2.81-2.81c.8-.78.8-2.07 0-2.86zM5.41 20L4 18.59l7.72-7.72 1.47 1.35L5.41 20z\"/>\n",
              "  </svg>\n",
              "      </button>\n",
              "      \n",
              "  <style>\n",
              "    .colab-df-container {\n",
              "      display:flex;\n",
              "      flex-wrap:wrap;\n",
              "      gap: 12px;\n",
              "    }\n",
              "\n",
              "    .colab-df-convert {\n",
              "      background-color: #E8F0FE;\n",
              "      border: none;\n",
              "      border-radius: 50%;\n",
              "      cursor: pointer;\n",
              "      display: none;\n",
              "      fill: #1967D2;\n",
              "      height: 32px;\n",
              "      padding: 0 0 0 0;\n",
              "      width: 32px;\n",
              "    }\n",
              "\n",
              "    .colab-df-convert:hover {\n",
              "      background-color: #E2EBFA;\n",
              "      box-shadow: 0px 1px 2px rgba(60, 64, 67, 0.3), 0px 1px 3px 1px rgba(60, 64, 67, 0.15);\n",
              "      fill: #174EA6;\n",
              "    }\n",
              "\n",
              "    [theme=dark] .colab-df-convert {\n",
              "      background-color: #3B4455;\n",
              "      fill: #D2E3FC;\n",
              "    }\n",
              "\n",
              "    [theme=dark] .colab-df-convert:hover {\n",
              "      background-color: #434B5C;\n",
              "      box-shadow: 0px 1px 3px 1px rgba(0, 0, 0, 0.15);\n",
              "      filter: drop-shadow(0px 1px 2px rgba(0, 0, 0, 0.3));\n",
              "      fill: #FFFFFF;\n",
              "    }\n",
              "  </style>\n",
              "\n",
              "      <script>\n",
              "        const buttonEl =\n",
              "          document.querySelector('#df-0a37b5cb-aa27-4a95-b23f-0bac61f2285b button.colab-df-convert');\n",
              "        buttonEl.style.display =\n",
              "          google.colab.kernel.accessAllowed ? 'block' : 'none';\n",
              "\n",
              "        async function convertToInteractive(key) {\n",
              "          const element = document.querySelector('#df-0a37b5cb-aa27-4a95-b23f-0bac61f2285b');\n",
              "          const dataTable =\n",
              "            await google.colab.kernel.invokeFunction('convertToInteractive',\n",
              "                                                     [key], {});\n",
              "          if (!dataTable) return;\n",
              "\n",
              "          const docLinkHtml = 'Like what you see? Visit the ' +\n",
              "            '<a target=\"_blank\" href=https://colab.research.google.com/notebooks/data_table.ipynb>data table notebook</a>'\n",
              "            + ' to learn more about interactive tables.';\n",
              "          element.innerHTML = '';\n",
              "          dataTable['output_type'] = 'display_data';\n",
              "          await google.colab.output.renderOutput(dataTable, element);\n",
              "          const docLink = document.createElement('div');\n",
              "          docLink.innerHTML = docLinkHtml;\n",
              "          element.appendChild(docLink);\n",
              "        }\n",
              "      </script>\n",
              "    </div>\n",
              "  </div>\n",
              "  "
            ]
          },
          "metadata": {},
          "execution_count": 187
        }
      ],
      "source": [
        "temp=rpd_df[rpd_df['Payment_Term_Days']<0]\n",
        "temp=temp[['PAYMENT_TERM','DUE_DATE','INVOICE_CREATION_DATE','Payment_Term_Days']]\n",
        "\n",
        "temp.head()"
      ]
    },
    {
      "cell_type": "code",
      "execution_count": 188,
      "id": "ed7ea3c6",
      "metadata": {
        "id": "ed7ea3c6",
        "outputId": "28e8cc46-7978-444a-8418-7f624124a8da",
        "colab": {
          "base_uri": "https://localhost:8080/"
        }
      },
      "outputs": [
        {
          "output_type": "execute_result",
          "data": {
            "text/plain": [
              "Immediate Payment        2168\n",
              "Immediate                 913\n",
              "30 Days from Inv Date     366\n",
              "100% Adv Payment           92\n",
              "Cash on Delivery           87\n",
              "30 Days from EOM           21\n",
              "EOM                        16\n",
              "On Consignment              9\n",
              "7 Days from Inv Date        1\n",
              "45 Days from Inv Date       1\n",
              "Name: PAYMENT_TERM, dtype: int64"
            ]
          },
          "metadata": {},
          "execution_count": 188
        }
      ],
      "source": [
        "temp.PAYMENT_TERM.value_counts()"
      ]
    },
    {
      "cell_type": "code",
      "execution_count": 189,
      "id": "1f1f2c3a",
      "metadata": {
        "id": "1f1f2c3a"
      },
      "outputs": [],
      "source": [
        "# Letus correct Payment_term_days in Original\n",
        "def correction(x):\n",
        "    if x in (\"Immediate Payment\",\"Immediate\",\"100% Adv Payment\",\"Cash on Delivery\",\"On Consignment\"):\n",
        "        return  0\n",
        "    elif x in ('30 Days from Inv Date','30 Days from EOM','EOM'):\n",
        "        return  30\n",
        "    elif x =='7 Days from Inv Date':\n",
        "        return  1\n",
        "    elif x =='45 Days from Inv Date':\n",
        "        return  45\n",
        "    else:\n",
        "        pass"
      ]
    },
    {
      "cell_type": "code",
      "execution_count": 190,
      "id": "a6b36007",
      "metadata": {
        "id": "a6b36007"
      },
      "outputs": [],
      "source": [
        "rpd_df['Payment_Term_Days']=rpd_df['PAYMENT_TERM'].apply(lambda x: correction(x))"
      ]
    },
    {
      "cell_type": "code",
      "execution_count": 191,
      "id": "c12e7fae",
      "metadata": {
        "id": "c12e7fae"
      },
      "outputs": [],
      "source": [
        "rpd_df['Payment_Term_Days'].fillna((rpd_df[\"DUE_DATE\"]-rpd_df[\"INVOICE_CREATION_DATE\"]).dt.days,inplace=True)"
      ]
    },
    {
      "cell_type": "code",
      "execution_count": 192,
      "id": "ec9881f7",
      "metadata": {
        "id": "ec9881f7",
        "outputId": "62390f78-7eeb-4bde-919a-21e4ed557ed1",
        "colab": {
          "base_uri": "https://localhost:8080/"
        }
      },
      "outputs": [
        {
          "output_type": "execute_result",
          "data": {
            "text/plain": [
              "0.0"
            ]
          },
          "metadata": {},
          "execution_count": 192
        }
      ],
      "source": [
        "rpd_df['Payment_Term_Days'].min()"
      ]
    },
    {
      "cell_type": "markdown",
      "id": "2dfdd8cc",
      "metadata": {
        "id": "2dfdd8cc"
      },
      "source": [
        "Since Original Payment_Term column is no use for us now . We can drop the same."
      ]
    },
    {
      "cell_type": "code",
      "execution_count": 193,
      "id": "16bd47b8",
      "metadata": {
        "id": "16bd47b8"
      },
      "outputs": [],
      "source": [
        "# adding to drop_cols\n",
        "drop_cols.append('PAYMENT_TERM')"
      ]
    },
    {
      "cell_type": "code",
      "execution_count": 194,
      "id": "7d2d4b55",
      "metadata": {
        "id": "7d2d4b55",
        "outputId": "90000aa5-73e1-44bd-a1fb-0c3912ff05d7",
        "colab": {
          "base_uri": "https://localhost:8080/",
          "height": 228
        }
      },
      "outputs": [
        {
          "output_type": "execute_result",
          "data": {
            "text/plain": [
              "<AxesSubplot:>"
            ]
          },
          "metadata": {},
          "execution_count": 194
        },
        {
          "output_type": "display_data",
          "data": {
            "text/plain": [
              "<Figure size 360x216 with 1 Axes>"
            ],
            "image/png": "[encoded data removed]"
          },
          "metadata": {
            "needs_background": "light"
          }
        }
      ],
      "source": [
        "# Letus check Invoice_class column\n",
        "plt.figure(figsize=(5,3))\n",
        "rpd_df['INVOICE_CLASS'].value_counts().plot.barh()"
      ]
    },
    {
      "cell_type": "markdown",
      "id": "08c4b8fc",
      "metadata": {
        "id": "08c4b8fc"
      },
      "source": [
        "We can clearly see that INV Class have highest invoices in our data set."
      ]
    },
    {
      "cell_type": "code",
      "execution_count": 195,
      "id": "07f941d6",
      "metadata": {
        "id": "07f941d6",
        "outputId": "d7e26635-065a-4e1a-9d64-9e9f63b5f9ef",
        "colab": {
          "base_uri": "https://localhost:8080/",
          "height": 228
        }
      },
      "outputs": [
        {
          "output_type": "execute_result",
          "data": {
            "text/plain": [
              "<AxesSubplot:>"
            ]
          },
          "metadata": {},
          "execution_count": 195
        },
        {
          "output_type": "display_data",
          "data": {
            "text/plain": [
              "<Figure size 360x216 with 1 Axes>"
            ],
            "image/png": "[encoded data removed]"
          },
          "metadata": {
            "needs_background": "light"
          }
        }
      ],
      "source": [
        "# letus check 'INVOICE_CURRENCY_CODE' column\n",
        "plt.figure(figsize=(5,3))\n",
        "rpd_df['INVOICE_CURRENCY_CODE'].value_counts().plot.barh()"
      ]
    },
    {
      "cell_type": "markdown",
      "id": "916af15e",
      "metadata": {
        "id": "916af15e"
      },
      "source": [
        "As previously SAR, AED & USD are top currency codes in which invoice was parepared."
      ]
    },
    {
      "cell_type": "code",
      "execution_count": 196,
      "id": "7d1c2a66",
      "metadata": {
        "id": "7d1c2a66",
        "outputId": "f021b07b-c9eb-4f39-f63b-2f3d9319b596",
        "colab": {
          "base_uri": "https://localhost:8080/",
          "height": 228
        }
      },
      "outputs": [
        {
          "output_type": "execute_result",
          "data": {
            "text/plain": [
              "<AxesSubplot:>"
            ]
          },
          "metadata": {},
          "execution_count": 196
        },
        {
          "output_type": "display_data",
          "data": {
            "text/plain": [
              "<Figure size 360x216 with 1 Axes>"
            ],
            "image/png": "[encoded data removed]"
          },
          "metadata": {
            "needs_background": "light"
          }
        }
      ],
      "source": [
        "# letus check 'INVOICE_TYPE' column\n",
        "plt.figure(figsize=(5,3))\n",
        "rpd_df['INVOICE_TYPE'].value_counts(normalize=True).plot.barh()"
      ]
    },
    {
      "cell_type": "markdown",
      "id": "89272afc",
      "metadata": {
        "id": "89272afc"
      },
      "source": [
        "We Can see that Goods & Non Goods ration is 70:30 for our data set."
      ]
    },
    {
      "cell_type": "markdown",
      "id": "af27fe68",
      "metadata": {
        "id": "af27fe68"
      },
      "source": [
        "### Bivariate Analysis --> Customers behaviour exploration based on past dataset."
      ]
    },
    {
      "cell_type": "code",
      "execution_count": 197,
      "id": "91867bcf",
      "metadata": {
        "id": "91867bcf"
      },
      "outputs": [],
      "source": [
        "EDA_df=rpd_df[['CUSTOMER_NAME','USD Amount','INVOICE_CLASS','INVOICE_CURRENCY_CODE',\n",
        "               'INVOICE_TYPE','Time_btw_due & recpt_date',\n",
        "              'target', 'Payment_Term_Days'\n",
        "              ]]"
      ]
    },
    {
      "cell_type": "code",
      "execution_count": 198,
      "id": "60420a03",
      "metadata": {
        "id": "60420a03"
      },
      "outputs": [],
      "source": [
        "# Checking Top 20 Customers based on USD_Amount\n",
        "Grouped_USD = EDA_df.groupby(['CUSTOMER_NAME'])['USD Amount'].sum()"
      ]
    },
    {
      "cell_type": "code",
      "execution_count": 199,
      "id": "bc69c15e",
      "metadata": {
        "id": "bc69c15e"
      },
      "outputs": [],
      "source": [
        "Grouped_USD=Grouped_USD.to_frame()"
      ]
    },
    {
      "cell_type": "code",
      "execution_count": 200,
      "id": "670558aa",
      "metadata": {
        "id": "670558aa"
      },
      "outputs": [],
      "source": [
        "Grouped_USD = Grouped_USD.sort_values(by ='USD Amount',ascending=False)\n",
        "Top_20 = Grouped_USD.head(20)"
      ]
    },
    {
      "cell_type": "code",
      "execution_count": 201,
      "id": "3b129c6c",
      "metadata": {
        "scrolled": true,
        "id": "3b129c6c",
        "outputId": "81d9c159-5102-4969-b9cf-5f2a285d2194",
        "colab": {
          "base_uri": "https://localhost:8080/",
          "height": 708
        }
      },
      "outputs": [
        {
          "output_type": "execute_result",
          "data": {
            "text/plain": [
              "               USD Amount\n",
              "CUSTOMER_NAME            \n",
              "SEPH Corp        32524.52\n",
              "FARO Corp         5790.68\n",
              "PARF Corp         3197.77\n",
              "ALLI Corp         2580.61\n",
              "AREE Corp         1127.91\n",
              "HABC Corp          533.50\n",
              "RADW Corp          361.71\n",
              "L OR Corp          295.31\n",
              "CGR  Corp          279.79\n",
              "PCD  Corp          246.54\n",
              "AL T Corp          241.02\n",
              "DEBE Corp          158.44\n",
              "DUBA Corp          153.33\n",
              "CLAD Corp          133.47\n",
              "ARAB Corp          119.94\n",
              "WAHR Corp           89.06\n",
              "REAL Corp           79.10\n",
              "YOUG Corp           72.01\n",
              "MCT  Corp           69.71\n",
              "QATA Corp           63.61"
            ],
            "text/html": [
              "\n",
              "  <div id=\"df-696abd58-eda4-4e0a-af3d-3f16ba32f2fd\">\n",
              "    <div class=\"colab-df-container\">\n",
              "      <div>\n",
              "<style scoped>\n",
              "    .dataframe tbody tr th:only-of-type {\n",
              "        vertical-align: middle;\n",
              "    }\n",
              "\n",
              "    .dataframe tbody tr th {\n",
              "        vertical-align: top;\n",
              "    }\n",
              "\n",
              "    .dataframe thead th {\n",
              "        text-align: right;\n",
              "    }\n",
              "</style>\n",
              "<table border=\"1\" class=\"dataframe\">\n",
              "  <thead>\n",
              "    <tr style=\"text-align: right;\">\n",
              "      <th></th>\n",
              "      <th>USD Amount</th>\n",
              "    </tr>\n",
              "    <tr>\n",
              "      <th>CUSTOMER_NAME</th>\n",
              "      <th></th>\n",
              "    </tr>\n",
              "  </thead>\n",
              "  <tbody>\n",
              "    <tr>\n",
              "      <th>SEPH Corp</th>\n",
              "      <td>32524.52</td>\n",
              "    </tr>\n",
              "    <tr>\n",
              "      <th>FARO Corp</th>\n",
              "      <td>5790.68</td>\n",
              "    </tr>\n",
              "    <tr>\n",
              "      <th>PARF Corp</th>\n",
              "      <td>3197.77</td>\n",
              "    </tr>\n",
              "    <tr>\n",
              "      <th>ALLI Corp</th>\n",
              "      <td>2580.61</td>\n",
              "    </tr>\n",
              "    <tr>\n",
              "      <th>AREE Corp</th>\n",
              "      <td>1127.91</td>\n",
              "    </tr>\n",
              "    <tr>\n",
              "      <th>HABC Corp</th>\n",
              "      <td>533.50</td>\n",
              "    </tr>\n",
              "    <tr>\n",
              "      <th>RADW Corp</th>\n",
              "      <td>361.71</td>\n",
              "    </tr>\n",
              "    <tr>\n",
              "      <th>L OR Corp</th>\n",
              "      <td>295.31</td>\n",
              "    </tr>\n",
              "    <tr>\n",
              "      <th>CGR  Corp</th>\n",
              "      <td>279.79</td>\n",
              "    </tr>\n",
              "    <tr>\n",
              "      <th>PCD  Corp</th>\n",
              "      <td>246.54</td>\n",
              "    </tr>\n",
              "    <tr>\n",
              "      <th>AL T Corp</th>\n",
              "      <td>241.02</td>\n",
              "    </tr>\n",
              "    <tr>\n",
              "      <th>DEBE Corp</th>\n",
              "      <td>158.44</td>\n",
              "    </tr>\n",
              "    <tr>\n",
              "      <th>DUBA Corp</th>\n",
              "      <td>153.33</td>\n",
              "    </tr>\n",
              "    <tr>\n",
              "      <th>CLAD Corp</th>\n",
              "      <td>133.47</td>\n",
              "    </tr>\n",
              "    <tr>\n",
              "      <th>ARAB Corp</th>\n",
              "      <td>119.94</td>\n",
              "    </tr>\n",
              "    <tr>\n",
              "      <th>WAHR Corp</th>\n",
              "      <td>89.06</td>\n",
              "    </tr>\n",
              "    <tr>\n",
              "      <th>REAL Corp</th>\n",
              "      <td>79.10</td>\n",
              "    </tr>\n",
              "    <tr>\n",
              "      <th>YOUG Corp</th>\n",
              "      <td>72.01</td>\n",
              "    </tr>\n",
              "    <tr>\n",
              "      <th>MCT  Corp</th>\n",
              "      <td>69.71</td>\n",
              "    </tr>\n",
              "    <tr>\n",
              "      <th>QATA Corp</th>\n",
              "      <td>63.61</td>\n",
              "    </tr>\n",
              "  </tbody>\n",
              "</table>\n",
              "</div>\n",
              "      <button class=\"colab-df-convert\" onclick=\"convertToInteractive('df-696abd58-eda4-4e0a-af3d-3f16ba32f2fd')\"\n",
              "              title=\"Convert this dataframe to an interactive table.\"\n",
              "              style=\"display:none;\">\n",
              "        \n",
              "  <svg xmlns=\"http://www.w3.org/2000/svg\" height=\"24px\"viewBox=\"0 0 24 24\"\n",
              "       width=\"24px\">\n",
              "    <path d=\"M0 0h24v24H0V0z\" fill=\"none\"/>\n",
              "    <path d=\"M18.56 5.44l.94 2.06.94-2.06 2.06-.94-2.06-.94-.94-2.06-.94 2.06-2.06.94zm-11 1L8.5 8.5l.94-2.06 2.06-.94-2.06-.94L8.5 2.5l-.94 2.06-2.06.94zm10 10l.94 2.06.94-2.06 2.06-.94-2.06-.94-.94-2.06-.94 2.06-2.06.94z\"/><path d=\"M17.41 7.96l-1.37-1.37c-.4-.4-.92-.59-1.43-.59-.52 0-1.04.2-1.43.59L10.3 9.45l-7.72 7.72c-.78.78-.78 2.05 0 2.83L4 21.41c.39.39.9.59 1.41.59.51 0 1.02-.2 1.41-.59l7.78-7.78 2.81-2.81c.8-.78.8-2.07 0-2.86zM5.41 20L4 18.59l7.72-7.72 1.47 1.35L5.41 20z\"/>\n",
              "  </svg>\n",
              "      </button>\n",
              "      \n",
              "  <style>\n",
              "    .colab-df-container {\n",
              "      display:flex;\n",
              "      flex-wrap:wrap;\n",
              "      gap: 12px;\n",
              "    }\n",
              "\n",
              "    .colab-df-convert {\n",
              "      background-color: #E8F0FE;\n",
              "      border: none;\n",
              "      border-radius: 50%;\n",
              "      cursor: pointer;\n",
              "      display: none;\n",
              "      fill: #1967D2;\n",
              "      height: 32px;\n",
              "      padding: 0 0 0 0;\n",
              "      width: 32px;\n",
              "    }\n",
              "\n",
              "    .colab-df-convert:hover {\n",
              "      background-color: #E2EBFA;\n",
              "      box-shadow: 0px 1px 2px rgba(60, 64, 67, 0.3), 0px 1px 3px 1px rgba(60, 64, 67, 0.15);\n",
              "      fill: #174EA6;\n",
              "    }\n",
              "\n",
              "    [theme=dark] .colab-df-convert {\n",
              "      background-color: #3B4455;\n",
              "      fill: #D2E3FC;\n",
              "    }\n",
              "\n",
              "    [theme=dark] .colab-df-convert:hover {\n",
              "      background-color: #434B5C;\n",
              "      box-shadow: 0px 1px 3px 1px rgba(0, 0, 0, 0.15);\n",
              "      filter: drop-shadow(0px 1px 2px rgba(0, 0, 0, 0.3));\n",
              "      fill: #FFFFFF;\n",
              "    }\n",
              "  </style>\n",
              "\n",
              "      <script>\n",
              "        const buttonEl =\n",
              "          document.querySelector('#df-696abd58-eda4-4e0a-af3d-3f16ba32f2fd button.colab-df-convert');\n",
              "        buttonEl.style.display =\n",
              "          google.colab.kernel.accessAllowed ? 'block' : 'none';\n",
              "\n",
              "        async function convertToInteractive(key) {\n",
              "          const element = document.querySelector('#df-696abd58-eda4-4e0a-af3d-3f16ba32f2fd');\n",
              "          const dataTable =\n",
              "            await google.colab.kernel.invokeFunction('convertToInteractive',\n",
              "                                                     [key], {});\n",
              "          if (!dataTable) return;\n",
              "\n",
              "          const docLinkHtml = 'Like what you see? Visit the ' +\n",
              "            '<a target=\"_blank\" href=https://colab.research.google.com/notebooks/data_table.ipynb>data table notebook</a>'\n",
              "            + ' to learn more about interactive tables.';\n",
              "          element.innerHTML = '';\n",
              "          dataTable['output_type'] = 'display_data';\n",
              "          await google.colab.output.renderOutput(dataTable, element);\n",
              "          const docLink = document.createElement('div');\n",
              "          docLink.innerHTML = docLinkHtml;\n",
              "          element.appendChild(docLink);\n",
              "        }\n",
              "      </script>\n",
              "    </div>\n",
              "  </div>\n",
              "  "
            ]
          },
          "metadata": {},
          "execution_count": 201
        }
      ],
      "source": [
        "# Top_20 customers according to USD_values\n",
        "Top_20"
      ]
    },
    {
      "cell_type": "code",
      "execution_count": 202,
      "id": "b11a2cac",
      "metadata": {
        "id": "b11a2cac",
        "outputId": "60a53898-6093-4b07-dc3b-b53a5918f66b",
        "colab": {
          "base_uri": "https://localhost:8080/",
          "height": 295
        }
      },
      "outputs": [
        {
          "output_type": "display_data",
          "data": {
            "text/plain": [
              "<Figure size 432x288 with 1 Axes>"
            ],
            "image/png": "[encoded data removed]"
          },
          "metadata": {
            "needs_background": "light"
          }
        }
      ],
      "source": [
        "#Visualising them\n",
        "colour = ['b','g','r','k','y','r','c']\n",
        "sns.barplot(y=Top_20.index,x=Top_20['USD Amount'],orient='h')\n",
        "plt.title(\"Top 20 Million Doller Customers\")\n",
        "plt.xlabel(\"Customers\")\n",
        "plt.ylabel(\"Million_Doller\")\n",
        "plt.show()"
      ]
    },
    {
      "cell_type": "markdown",
      "id": "df43689e",
      "metadata": {
        "id": "df43689e"
      },
      "source": [
        "**We can see SEPH Corp,FARO Corp,PARF corp,ALLI Corp and AREE Corp are the top customers.**"
      ]
    },
    {
      "cell_type": "code",
      "execution_count": 203,
      "id": "383186a1",
      "metadata": {
        "id": "383186a1"
      },
      "outputs": [],
      "source": [
        "# Checking Customers with our target variable_delayed\n",
        "Grouped_target_delayed = EDA_df.groupby(['CUSTOMER_NAME'])['target'].sum() # Delayed payments by each customers\n",
        "Grouped_target_delayed=Grouped_target_delayed.to_frame()\n",
        "Grouped_target_delayed = Grouped_target_delayed.sort_values(by ='target',ascending=False)\n",
        "\n"
      ]
    },
    {
      "cell_type": "code",
      "execution_count": 204,
      "id": "fdc3df3b",
      "metadata": {
        "id": "fdc3df3b"
      },
      "outputs": [],
      "source": [
        "# Checking Customers for total invoice counts\n",
        "Grouped_target_total = EDA_df.groupby(['CUSTOMER_NAME'])['target'].count() # total payments by each customers\n",
        "Grouped_target_total=Grouped_target_total.to_frame()\n",
        "Grouped_target_total = Grouped_target_total.sort_values(by ='target',ascending=False)"
      ]
    },
    {
      "cell_type": "code",
      "execution_count": 205,
      "id": "d2ed1245",
      "metadata": {
        "id": "d2ed1245"
      },
      "outputs": [],
      "source": [
        "# Merging both dataframes based on Customer_name\n",
        "Merge_df=pd.merge(Grouped_target_delayed,Grouped_target_total,how='inner',on='CUSTOMER_NAME')"
      ]
    },
    {
      "cell_type": "code",
      "execution_count": 206,
      "id": "f034c74e",
      "metadata": {
        "id": "f034c74e"
      },
      "outputs": [],
      "source": [
        "Merge_df.columns=[\"Delayed_Payment\",\"Total_Payments\"]"
      ]
    },
    {
      "cell_type": "code",
      "execution_count": 207,
      "id": "8f36e6f4",
      "metadata": {
        "id": "8f36e6f4"
      },
      "outputs": [],
      "source": [
        "Merge_df['Delay%']=np.round(Merge_df['Delayed_Payment']/Merge_df['Total_Payments']*100,2)"
      ]
    },
    {
      "cell_type": "code",
      "execution_count": 208,
      "id": "38cd7346",
      "metadata": {
        "id": "38cd7346",
        "outputId": "aa35951f-5cf2-45eb-9238-ac8ced353353",
        "colab": {
          "base_uri": "https://localhost:8080/",
          "height": 238
        }
      },
      "outputs": [
        {
          "output_type": "execute_result",
          "data": {
            "text/plain": [
              "               Delayed_Payment  Total_Payments  Delay%\n",
              "CUSTOMER_NAME                                         \n",
              "SEPH Corp                 8056           23143   34.81\n",
              "FARO Corp                 3909           15004   26.05\n",
              "ALLI Corp                 3725            5645   65.99\n",
              "RADW Corp                  886            1647   53.79\n",
              "PARF Corp                  857            6624   12.94"
            ],
            "text/html": [
              "\n",
              "  <div id=\"df-aaf9e073-2f6e-4be7-a4a4-bb7e4a5243b5\">\n",
              "    <div class=\"colab-df-container\">\n",
              "      <div>\n",
              "<style scoped>\n",
              "    .dataframe tbody tr th:only-of-type {\n",
              "        vertical-align: middle;\n",
              "    }\n",
              "\n",
              "    .dataframe tbody tr th {\n",
              "        vertical-align: top;\n",
              "    }\n",
              "\n",
              "    .dataframe thead th {\n",
              "        text-align: right;\n",
              "    }\n",
              "</style>\n",
              "<table border=\"1\" class=\"dataframe\">\n",
              "  <thead>\n",
              "    <tr style=\"text-align: right;\">\n",
              "      <th></th>\n",
              "      <th>Delayed_Payment</th>\n",
              "      <th>Total_Payments</th>\n",
              "      <th>Delay%</th>\n",
              "    </tr>\n",
              "    <tr>\n",
              "      <th>CUSTOMER_NAME</th>\n",
              "      <th></th>\n",
              "      <th></th>\n",
              "      <th></th>\n",
              "    </tr>\n",
              "  </thead>\n",
              "  <tbody>\n",
              "    <tr>\n",
              "      <th>SEPH Corp</th>\n",
              "      <td>8056</td>\n",
              "      <td>23143</td>\n",
              "      <td>34.81</td>\n",
              "    </tr>\n",
              "    <tr>\n",
              "      <th>FARO Corp</th>\n",
              "      <td>3909</td>\n",
              "      <td>15004</td>\n",
              "      <td>26.05</td>\n",
              "    </tr>\n",
              "    <tr>\n",
              "      <th>ALLI Corp</th>\n",
              "      <td>3725</td>\n",
              "      <td>5645</td>\n",
              "      <td>65.99</td>\n",
              "    </tr>\n",
              "    <tr>\n",
              "      <th>RADW Corp</th>\n",
              "      <td>886</td>\n",
              "      <td>1647</td>\n",
              "      <td>53.79</td>\n",
              "    </tr>\n",
              "    <tr>\n",
              "      <th>PARF Corp</th>\n",
              "      <td>857</td>\n",
              "      <td>6624</td>\n",
              "      <td>12.94</td>\n",
              "    </tr>\n",
              "  </tbody>\n",
              "</table>\n",
              "</div>\n",
              "      <button class=\"colab-df-convert\" onclick=\"convertToInteractive('df-aaf9e073-2f6e-4be7-a4a4-bb7e4a5243b5')\"\n",
              "              title=\"Convert this dataframe to an interactive table.\"\n",
              "              style=\"display:none;\">\n",
              "        \n",
              "  <svg xmlns=\"http://www.w3.org/2000/svg\" height=\"24px\"viewBox=\"0 0 24 24\"\n",
              "       width=\"24px\">\n",
              "    <path d=\"M0 0h24v24H0V0z\" fill=\"none\"/>\n",
              "    <path d=\"M18.56 5.44l.94 2.06.94-2.06 2.06-.94-2.06-.94-.94-2.06-.94 2.06-2.06.94zm-11 1L8.5 8.5l.94-2.06 2.06-.94-2.06-.94L8.5 2.5l-.94 2.06-2.06.94zm10 10l.94 2.06.94-2.06 2.06-.94-2.06-.94-.94-2.06-.94 2.06-2.06.94z\"/><path d=\"M17.41 7.96l-1.37-1.37c-.4-.4-.92-.59-1.43-.59-.52 0-1.04.2-1.43.59L10.3 9.45l-7.72 7.72c-.78.78-.78 2.05 0 2.83L4 21.41c.39.39.9.59 1.41.59.51 0 1.02-.2 1.41-.59l7.78-7.78 2.81-2.81c.8-.78.8-2.07 0-2.86zM5.41 20L4 18.59l7.72-7.72 1.47 1.35L5.41 20z\"/>\n",
              "  </svg>\n",
              "      </button>\n",
              "      \n",
              "  <style>\n",
              "    .colab-df-container {\n",
              "      display:flex;\n",
              "      flex-wrap:wrap;\n",
              "      gap: 12px;\n",
              "    }\n",
              "\n",
              "    .colab-df-convert {\n",
              "      background-color: #E8F0FE;\n",
              "      border: none;\n",
              "      border-radius: 50%;\n",
              "      cursor: pointer;\n",
              "      display: none;\n",
              "      fill: #1967D2;\n",
              "      height: 32px;\n",
              "      padding: 0 0 0 0;\n",
              "      width: 32px;\n",
              "    }\n",
              "\n",
              "    .colab-df-convert:hover {\n",
              "      background-color: #E2EBFA;\n",
              "      box-shadow: 0px 1px 2px rgba(60, 64, 67, 0.3), 0px 1px 3px 1px rgba(60, 64, 67, 0.15);\n",
              "      fill: #174EA6;\n",
              "    }\n",
              "\n",
              "    [theme=dark] .colab-df-convert {\n",
              "      background-color: #3B4455;\n",
              "      fill: #D2E3FC;\n",
              "    }\n",
              "\n",
              "    [theme=dark] .colab-df-convert:hover {\n",
              "      background-color: #434B5C;\n",
              "      box-shadow: 0px 1px 3px 1px rgba(0, 0, 0, 0.15);\n",
              "      filter: drop-shadow(0px 1px 2px rgba(0, 0, 0, 0.3));\n",
              "      fill: #FFFFFF;\n",
              "    }\n",
              "  </style>\n",
              "\n",
              "      <script>\n",
              "        const buttonEl =\n",
              "          document.querySelector('#df-aaf9e073-2f6e-4be7-a4a4-bb7e4a5243b5 button.colab-df-convert');\n",
              "        buttonEl.style.display =\n",
              "          google.colab.kernel.accessAllowed ? 'block' : 'none';\n",
              "\n",
              "        async function convertToInteractive(key) {\n",
              "          const element = document.querySelector('#df-aaf9e073-2f6e-4be7-a4a4-bb7e4a5243b5');\n",
              "          const dataTable =\n",
              "            await google.colab.kernel.invokeFunction('convertToInteractive',\n",
              "                                                     [key], {});\n",
              "          if (!dataTable) return;\n",
              "\n",
              "          const docLinkHtml = 'Like what you see? Visit the ' +\n",
              "            '<a target=\"_blank\" href=https://colab.research.google.com/notebooks/data_table.ipynb>data table notebook</a>'\n",
              "            + ' to learn more about interactive tables.';\n",
              "          element.innerHTML = '';\n",
              "          dataTable['output_type'] = 'display_data';\n",
              "          await google.colab.output.renderOutput(dataTable, element);\n",
              "          const docLink = document.createElement('div');\n",
              "          docLink.innerHTML = docLinkHtml;\n",
              "          element.appendChild(docLink);\n",
              "        }\n",
              "      </script>\n",
              "    </div>\n",
              "  </div>\n",
              "  "
            ]
          },
          "metadata": {},
          "execution_count": 208
        }
      ],
      "source": [
        "# Checking Merge_df \n",
        "Merge_df.head()"
      ]
    },
    {
      "cell_type": "code",
      "execution_count": 209,
      "id": "22ce14ee",
      "metadata": {
        "id": "22ce14ee",
        "outputId": "ff268767-7e9a-4ecc-e209-7ac942624745",
        "colab": {
          "base_uri": "https://localhost:8080/"
        }
      },
      "outputs": [
        {
          "output_type": "execute_result",
          "data": {
            "text/plain": [
              "136.14057971014492"
            ]
          },
          "metadata": {},
          "execution_count": 209
        }
      ],
      "source": [
        "# letus check Total_Payments average no.\n",
        "Merge_df.Total_Payments.mean()"
      ]
    },
    {
      "cell_type": "code",
      "execution_count": 210,
      "id": "9bee5ce7",
      "metadata": {
        "id": "9bee5ce7"
      },
      "outputs": [],
      "source": [
        "#Filtering out customers having greater than average Total Payments\n",
        "Merge_df = Merge_df[Merge_df.Total_Payments>=Merge_df.Total_Payments.mean()].sort_values(by='Delay%',ascending=False)"
      ]
    },
    {
      "cell_type": "code",
      "execution_count": 211,
      "id": "dd4093fa",
      "metadata": {
        "id": "dd4093fa",
        "outputId": "9b400318-45a4-4533-b332-119b497167a7",
        "colab": {
          "base_uri": "https://localhost:8080/",
          "height": 238
        }
      },
      "outputs": [
        {
          "output_type": "execute_result",
          "data": {
            "text/plain": [
              "               Delayed_Payment  Total_Payments  Delay%\n",
              "CUSTOMER_NAME                                         \n",
              "CHAL Corp                  190             214   88.79\n",
              "TRAV Corp                  135             155   87.10\n",
              "3D D Corp                  143             172   83.14\n",
              "SAJ  Corp                  301             374   80.48\n",
              "STYL Corp                  393             496   79.23"
            ],
            "text/html": [
              "\n",
              "  <div id=\"df-1be6606f-3941-471a-9631-3ad9e5ed3e1a\">\n",
              "    <div class=\"colab-df-container\">\n",
              "      <div>\n",
              "<style scoped>\n",
              "    .dataframe tbody tr th:only-of-type {\n",
              "        vertical-align: middle;\n",
              "    }\n",
              "\n",
              "    .dataframe tbody tr th {\n",
              "        vertical-align: top;\n",
              "    }\n",
              "\n",
              "    .dataframe thead th {\n",
              "        text-align: right;\n",
              "    }\n",
              "</style>\n",
              "<table border=\"1\" class=\"dataframe\">\n",
              "  <thead>\n",
              "    <tr style=\"text-align: right;\">\n",
              "      <th></th>\n",
              "      <th>Delayed_Payment</th>\n",
              "      <th>Total_Payments</th>\n",
              "      <th>Delay%</th>\n",
              "    </tr>\n",
              "    <tr>\n",
              "      <th>CUSTOMER_NAME</th>\n",
              "      <th></th>\n",
              "      <th></th>\n",
              "      <th></th>\n",
              "    </tr>\n",
              "  </thead>\n",
              "  <tbody>\n",
              "    <tr>\n",
              "      <th>CHAL Corp</th>\n",
              "      <td>190</td>\n",
              "      <td>214</td>\n",
              "      <td>88.79</td>\n",
              "    </tr>\n",
              "    <tr>\n",
              "      <th>TRAV Corp</th>\n",
              "      <td>135</td>\n",
              "      <td>155</td>\n",
              "      <td>87.10</td>\n",
              "    </tr>\n",
              "    <tr>\n",
              "      <th>3D D Corp</th>\n",
              "      <td>143</td>\n",
              "      <td>172</td>\n",
              "      <td>83.14</td>\n",
              "    </tr>\n",
              "    <tr>\n",
              "      <th>SAJ  Corp</th>\n",
              "      <td>301</td>\n",
              "      <td>374</td>\n",
              "      <td>80.48</td>\n",
              "    </tr>\n",
              "    <tr>\n",
              "      <th>STYL Corp</th>\n",
              "      <td>393</td>\n",
              "      <td>496</td>\n",
              "      <td>79.23</td>\n",
              "    </tr>\n",
              "  </tbody>\n",
              "</table>\n",
              "</div>\n",
              "      <button class=\"colab-df-convert\" onclick=\"convertToInteractive('df-1be6606f-3941-471a-9631-3ad9e5ed3e1a')\"\n",
              "              title=\"Convert this dataframe to an interactive table.\"\n",
              "              style=\"display:none;\">\n",
              "        \n",
              "  <svg xmlns=\"http://www.w3.org/2000/svg\" height=\"24px\"viewBox=\"0 0 24 24\"\n",
              "       width=\"24px\">\n",
              "    <path d=\"M0 0h24v24H0V0z\" fill=\"none\"/>\n",
              "    <path d=\"M18.56 5.44l.94 2.06.94-2.06 2.06-.94-2.06-.94-.94-2.06-.94 2.06-2.06.94zm-11 1L8.5 8.5l.94-2.06 2.06-.94-2.06-.94L8.5 2.5l-.94 2.06-2.06.94zm10 10l.94 2.06.94-2.06 2.06-.94-2.06-.94-.94-2.06-.94 2.06-2.06.94z\"/><path d=\"M17.41 7.96l-1.37-1.37c-.4-.4-.92-.59-1.43-.59-.52 0-1.04.2-1.43.59L10.3 9.45l-7.72 7.72c-.78.78-.78 2.05 0 2.83L4 21.41c.39.39.9.59 1.41.59.51 0 1.02-.2 1.41-.59l7.78-7.78 2.81-2.81c.8-.78.8-2.07 0-2.86zM5.41 20L4 18.59l7.72-7.72 1.47 1.35L5.41 20z\"/>\n",
              "  </svg>\n",
              "      </button>\n",
              "      \n",
              "  <style>\n",
              "    .colab-df-container {\n",
              "      display:flex;\n",
              "      flex-wrap:wrap;\n",
              "      gap: 12px;\n",
              "    }\n",
              "\n",
              "    .colab-df-convert {\n",
              "      background-color: #E8F0FE;\n",
              "      border: none;\n",
              "      border-radius: 50%;\n",
              "      cursor: pointer;\n",
              "      display: none;\n",
              "      fill: #1967D2;\n",
              "      height: 32px;\n",
              "      padding: 0 0 0 0;\n",
              "      width: 32px;\n",
              "    }\n",
              "\n",
              "    .colab-df-convert:hover {\n",
              "      background-color: #E2EBFA;\n",
              "      box-shadow: 0px 1px 2px rgba(60, 64, 67, 0.3), 0px 1px 3px 1px rgba(60, 64, 67, 0.15);\n",
              "      fill: #174EA6;\n",
              "    }\n",
              "\n",
              "    [theme=dark] .colab-df-convert {\n",
              "      background-color: #3B4455;\n",
              "      fill: #D2E3FC;\n",
              "    }\n",
              "\n",
              "    [theme=dark] .colab-df-convert:hover {\n",
              "      background-color: #434B5C;\n",
              "      box-shadow: 0px 1px 3px 1px rgba(0, 0, 0, 0.15);\n",
              "      filter: drop-shadow(0px 1px 2px rgba(0, 0, 0, 0.3));\n",
              "      fill: #FFFFFF;\n",
              "    }\n",
              "  </style>\n",
              "\n",
              "      <script>\n",
              "        const buttonEl =\n",
              "          document.querySelector('#df-1be6606f-3941-471a-9631-3ad9e5ed3e1a button.colab-df-convert');\n",
              "        buttonEl.style.display =\n",
              "          google.colab.kernel.accessAllowed ? 'block' : 'none';\n",
              "\n",
              "        async function convertToInteractive(key) {\n",
              "          const element = document.querySelector('#df-1be6606f-3941-471a-9631-3ad9e5ed3e1a');\n",
              "          const dataTable =\n",
              "            await google.colab.kernel.invokeFunction('convertToInteractive',\n",
              "                                                     [key], {});\n",
              "          if (!dataTable) return;\n",
              "\n",
              "          const docLinkHtml = 'Like what you see? Visit the ' +\n",
              "            '<a target=\"_blank\" href=https://colab.research.google.com/notebooks/data_table.ipynb>data table notebook</a>'\n",
              "            + ' to learn more about interactive tables.';\n",
              "          element.innerHTML = '';\n",
              "          dataTable['output_type'] = 'display_data';\n",
              "          await google.colab.output.renderOutput(dataTable, element);\n",
              "          const docLink = document.createElement('div');\n",
              "          docLink.innerHTML = docLinkHtml;\n",
              "          element.appendChild(docLink);\n",
              "        }\n",
              "      </script>\n",
              "    </div>\n",
              "  </div>\n",
              "  "
            ]
          },
          "metadata": {},
          "execution_count": 211
        }
      ],
      "source": [
        "Merge_df.head()"
      ]
    },
    {
      "cell_type": "code",
      "execution_count": 212,
      "id": "c0327e90",
      "metadata": {
        "id": "c0327e90"
      },
      "outputs": [],
      "source": [
        "# Getting Top_20 delay% Customers\n",
        "Top_20_delayed=Merge_df[:20]"
      ]
    },
    {
      "cell_type": "code",
      "execution_count": 213,
      "id": "d2d0aad8",
      "metadata": {
        "id": "d2d0aad8",
        "outputId": "648b734e-2d5e-4407-aa6f-c482038fb786",
        "colab": {
          "base_uri": "https://localhost:8080/",
          "height": 238
        }
      },
      "outputs": [
        {
          "output_type": "execute_result",
          "data": {
            "text/plain": [
              "               Delayed_Payment  Total_Payments  Delay%\n",
              "CUSTOMER_NAME                                         \n",
              "CHAL Corp                  190             214   88.79\n",
              "TRAV Corp                  135             155   87.10\n",
              "3D D Corp                  143             172   83.14\n",
              "SAJ  Corp                  301             374   80.48\n",
              "STYL Corp                  393             496   79.23"
            ],
            "text/html": [
              "\n",
              "  <div id=\"df-45c2dae1-5b5e-4989-b83c-d5a2ac35c224\">\n",
              "    <div class=\"colab-df-container\">\n",
              "      <div>\n",
              "<style scoped>\n",
              "    .dataframe tbody tr th:only-of-type {\n",
              "        vertical-align: middle;\n",
              "    }\n",
              "\n",
              "    .dataframe tbody tr th {\n",
              "        vertical-align: top;\n",
              "    }\n",
              "\n",
              "    .dataframe thead th {\n",
              "        text-align: right;\n",
              "    }\n",
              "</style>\n",
              "<table border=\"1\" class=\"dataframe\">\n",
              "  <thead>\n",
              "    <tr style=\"text-align: right;\">\n",
              "      <th></th>\n",
              "      <th>Delayed_Payment</th>\n",
              "      <th>Total_Payments</th>\n",
              "      <th>Delay%</th>\n",
              "    </tr>\n",
              "    <tr>\n",
              "      <th>CUSTOMER_NAME</th>\n",
              "      <th></th>\n",
              "      <th></th>\n",
              "      <th></th>\n",
              "    </tr>\n",
              "  </thead>\n",
              "  <tbody>\n",
              "    <tr>\n",
              "      <th>CHAL Corp</th>\n",
              "      <td>190</td>\n",
              "      <td>214</td>\n",
              "      <td>88.79</td>\n",
              "    </tr>\n",
              "    <tr>\n",
              "      <th>TRAV Corp</th>\n",
              "      <td>135</td>\n",
              "      <td>155</td>\n",
              "      <td>87.10</td>\n",
              "    </tr>\n",
              "    <tr>\n",
              "      <th>3D D Corp</th>\n",
              "      <td>143</td>\n",
              "      <td>172</td>\n",
              "      <td>83.14</td>\n",
              "    </tr>\n",
              "    <tr>\n",
              "      <th>SAJ  Corp</th>\n",
              "      <td>301</td>\n",
              "      <td>374</td>\n",
              "      <td>80.48</td>\n",
              "    </tr>\n",
              "    <tr>\n",
              "      <th>STYL Corp</th>\n",
              "      <td>393</td>\n",
              "      <td>496</td>\n",
              "      <td>79.23</td>\n",
              "    </tr>\n",
              "  </tbody>\n",
              "</table>\n",
              "</div>\n",
              "      <button class=\"colab-df-convert\" onclick=\"convertToInteractive('df-45c2dae1-5b5e-4989-b83c-d5a2ac35c224')\"\n",
              "              title=\"Convert this dataframe to an interactive table.\"\n",
              "              style=\"display:none;\">\n",
              "        \n",
              "  <svg xmlns=\"http://www.w3.org/2000/svg\" height=\"24px\"viewBox=\"0 0 24 24\"\n",
              "       width=\"24px\">\n",
              "    <path d=\"M0 0h24v24H0V0z\" fill=\"none\"/>\n",
              "    <path d=\"M18.56 5.44l.94 2.06.94-2.06 2.06-.94-2.06-.94-.94-2.06-.94 2.06-2.06.94zm-11 1L8.5 8.5l.94-2.06 2.06-.94-2.06-.94L8.5 2.5l-.94 2.06-2.06.94zm10 10l.94 2.06.94-2.06 2.06-.94-2.06-.94-.94-2.06-.94 2.06-2.06.94z\"/><path d=\"M17.41 7.96l-1.37-1.37c-.4-.4-.92-.59-1.43-.59-.52 0-1.04.2-1.43.59L10.3 9.45l-7.72 7.72c-.78.78-.78 2.05 0 2.83L4 21.41c.39.39.9.59 1.41.59.51 0 1.02-.2 1.41-.59l7.78-7.78 2.81-2.81c.8-.78.8-2.07 0-2.86zM5.41 20L4 18.59l7.72-7.72 1.47 1.35L5.41 20z\"/>\n",
              "  </svg>\n",
              "      </button>\n",
              "      \n",
              "  <style>\n",
              "    .colab-df-container {\n",
              "      display:flex;\n",
              "      flex-wrap:wrap;\n",
              "      gap: 12px;\n",
              "    }\n",
              "\n",
              "    .colab-df-convert {\n",
              "      background-color: #E8F0FE;\n",
              "      border: none;\n",
              "      border-radius: 50%;\n",
              "      cursor: pointer;\n",
              "      display: none;\n",
              "      fill: #1967D2;\n",
              "      height: 32px;\n",
              "      padding: 0 0 0 0;\n",
              "      width: 32px;\n",
              "    }\n",
              "\n",
              "    .colab-df-convert:hover {\n",
              "      background-color: #E2EBFA;\n",
              "      box-shadow: 0px 1px 2px rgba(60, 64, 67, 0.3), 0px 1px 3px 1px rgba(60, 64, 67, 0.15);\n",
              "      fill: #174EA6;\n",
              "    }\n",
              "\n",
              "    [theme=dark] .colab-df-convert {\n",
              "      background-color: #3B4455;\n",
              "      fill: #D2E3FC;\n",
              "    }\n",
              "\n",
              "    [theme=dark] .colab-df-convert:hover {\n",
              "      background-color: #434B5C;\n",
              "      box-shadow: 0px 1px 3px 1px rgba(0, 0, 0, 0.15);\n",
              "      filter: drop-shadow(0px 1px 2px rgba(0, 0, 0, 0.3));\n",
              "      fill: #FFFFFF;\n",
              "    }\n",
              "  </style>\n",
              "\n",
              "      <script>\n",
              "        const buttonEl =\n",
              "          document.querySelector('#df-45c2dae1-5b5e-4989-b83c-d5a2ac35c224 button.colab-df-convert');\n",
              "        buttonEl.style.display =\n",
              "          google.colab.kernel.accessAllowed ? 'block' : 'none';\n",
              "\n",
              "        async function convertToInteractive(key) {\n",
              "          const element = document.querySelector('#df-45c2dae1-5b5e-4989-b83c-d5a2ac35c224');\n",
              "          const dataTable =\n",
              "            await google.colab.kernel.invokeFunction('convertToInteractive',\n",
              "                                                     [key], {});\n",
              "          if (!dataTable) return;\n",
              "\n",
              "          const docLinkHtml = 'Like what you see? Visit the ' +\n",
              "            '<a target=\"_blank\" href=https://colab.research.google.com/notebooks/data_table.ipynb>data table notebook</a>'\n",
              "            + ' to learn more about interactive tables.';\n",
              "          element.innerHTML = '';\n",
              "          dataTable['output_type'] = 'display_data';\n",
              "          await google.colab.output.renderOutput(dataTable, element);\n",
              "          const docLink = document.createElement('div');\n",
              "          docLink.innerHTML = docLinkHtml;\n",
              "          element.appendChild(docLink);\n",
              "        }\n",
              "      </script>\n",
              "    </div>\n",
              "  </div>\n",
              "  "
            ]
          },
          "metadata": {},
          "execution_count": 213
        }
      ],
      "source": [
        "Top_20_delayed.head()"
      ]
    },
    {
      "cell_type": "code",
      "execution_count": 214,
      "id": "28a1413c",
      "metadata": {
        "id": "28a1413c",
        "outputId": "15a6c1fd-6e79-4be5-8027-63d1de7f668e",
        "colab": {
          "base_uri": "https://localhost:8080/",
          "height": 295
        }
      },
      "outputs": [
        {
          "output_type": "display_data",
          "data": {
            "text/plain": [
              "<Figure size 432x288 with 1 Axes>"
            ],
            "image/png": "[encoded data removed]"
          },
          "metadata": {
            "needs_background": "light"
          }
        }
      ],
      "source": [
        "#Visualising them\n",
        "colour = ['b','g','r','k','y','r','c']\n",
        "sns.barplot(y=Top_20_delayed.index,x=Top_20_delayed['Delay%'],orient='h')\n",
        "plt.title(\"Top 20 Customers with delay%\")\n",
        "plt.xlabel(\"Customers\")\n",
        "plt.ylabel(\"Delay % \")\n",
        "plt.show()"
      ]
    },
    {
      "cell_type": "markdown",
      "id": "debd97e2",
      "metadata": {
        "id": "debd97e2"
      },
      "source": [
        "**WE can see top 5 companies which are having higher delay  percentage are as below.**\n",
        " - CHAL Corp\n",
        " - TRAV Corp\n",
        " - 3D D Corp\n",
        " - SAJ Corp\n",
        " - STYL Corp"
      ]
    },
    {
      "cell_type": "code",
      "execution_count": 215,
      "id": "7d949d76",
      "metadata": {
        "id": "7d949d76",
        "outputId": "0cfd3db3-b574-4093-f8d7-8c6d72ea95ed",
        "colab": {
          "base_uri": "https://localhost:8080/"
        }
      },
      "outputs": [
        {
          "output_type": "execute_result",
          "data": {
            "text/plain": [
              "Index(['RECEIPT_METHOD', 'CUSTOMER_NAME', 'CUSTOMER_NUMBER', 'RECEIPT_DOC_NO',\n",
              "       'RECEIPT_DATE', 'CLASS', 'CURRENCY_CODE', 'Local Amount', 'USD Amount',\n",
              "       'INVOICE_ALLOCATED', 'INVOICE_CREATION_DATE', 'DUE_DATE',\n",
              "       'PAYMENT_TERM', 'INVOICE_CLASS', 'INVOICE_CURRENCY_CODE',\n",
              "       'INVOICE_TYPE', 'Actual_Days_for_Pmt', 'Time_btw_due & recpt_date',\n",
              "       'target', 'Payment_Term_Days'],\n",
              "      dtype='object')"
            ]
          },
          "metadata": {},
          "execution_count": 215
        }
      ],
      "source": [
        "rpd_df.columns"
      ]
    },
    {
      "cell_type": "code",
      "execution_count": 216,
      "id": "200c5368",
      "metadata": {
        "id": "200c5368",
        "outputId": "70d14020-c6e1-4e87-bbd4-dcc0842f4ed3",
        "colab": {
          "base_uri": "https://localhost:8080/",
          "height": 277
        }
      },
      "outputs": [
        {
          "output_type": "display_data",
          "data": {
            "text/plain": [
              "<Figure size 360x216 with 1 Axes>"
            ],
            "image/png": "[encoded data removed]"
          },
          "metadata": {
            "needs_background": "light"
          }
        }
      ],
      "source": [
        "# Letus check the 'INVOICE_TYPE' & target column\n",
        "plt.figure(figsize=(5,3))\n",
        "\n",
        "sns.countplot(rpd_df['INVOICE_TYPE'],hue=rpd_df['target'])\n",
        "plt.xticks(rotation=45)\n",
        "plt.title('INVOICE_TYPE & DELAY')\n",
        "plt.legend(loc=1)\n",
        "plt.show()"
      ]
    },
    {
      "cell_type": "markdown",
      "id": "a777ac3d",
      "metadata": {
        "id": "a777ac3d"
      },
      "source": [
        "**We can say that Non Goods category is having higher delays ration in comparison to Goods category.**"
      ]
    },
    {
      "cell_type": "code",
      "execution_count": 217,
      "id": "fe28ea1c",
      "metadata": {
        "id": "fe28ea1c",
        "outputId": "a8a35615-49e6-449c-f51e-811631878dd0",
        "colab": {
          "base_uri": "https://localhost:8080/",
          "height": 251
        }
      },
      "outputs": [
        {
          "output_type": "display_data",
          "data": {
            "text/plain": [
              "<Figure size 360x216 with 1 Axes>"
            ],
            "image/png": "[encoded data removed]"
          },
          "metadata": {
            "needs_background": "light"
          }
        }
      ],
      "source": [
        "# Letus check the 'INVOICE_CLASS' & target column\n",
        "plt.figure(figsize=(5,3))\n",
        "\n",
        "sns.countplot(rpd_df['INVOICE_CLASS'],hue=rpd_df['target'])\n",
        "plt.xticks(rotation=45)\n",
        "plt.title('INVOICE_CLASS & DELAY')\n",
        "plt.legend(loc=1)\n",
        "plt.show()"
      ]
    },
    {
      "cell_type": "markdown",
      "id": "5f36fbaa",
      "metadata": {
        "id": "5f36fbaa"
      },
      "source": [
        "**By looking it is very obivious that INV class invoices have only Delay.**"
      ]
    },
    {
      "cell_type": "code",
      "execution_count": 218,
      "id": "b4b00870",
      "metadata": {
        "id": "b4b00870",
        "outputId": "f509e6c0-5923-40d1-d5ad-98da0ce56b0a",
        "colab": {
          "base_uri": "https://localhost:8080/",
          "height": 256
        }
      },
      "outputs": [
        {
          "output_type": "display_data",
          "data": {
            "text/plain": [
              "<Figure size 360x216 with 1 Axes>"
            ],
            "image/png": "[encoded data removed]"
          },
          "metadata": {
            "needs_background": "light"
          }
        }
      ],
      "source": [
        "# Letus check the 'INVOICE_CURRENCY_CODE' & target column\n",
        "plt.figure(figsize=(5,3))\n",
        "\n",
        "sns.countplot(rpd_df['INVOICE_CURRENCY_CODE'],hue=rpd_df['target'])\n",
        "plt.xticks(rotation=45)\n",
        "plt.title('INVOICE_CURRENCY_CODE & DELAY')\n",
        "plt.legend(loc=1)\n",
        "plt.show()"
      ]
    },
    {
      "cell_type": "markdown",
      "id": "e3a24b87",
      "metadata": {
        "id": "e3a24b87"
      },
      "source": [
        "- **We can clearly see that Payment Currency AED have higher delays than other payment receipt currency.**\n",
        "- **We can have some additional countermeasures for customers who pays in AED.**"
      ]
    },
    {
      "cell_type": "markdown",
      "id": "baf0705e",
      "metadata": {
        "id": "baf0705e"
      },
      "source": [
        "### Customer Segementation\n",
        "<hr/>"
      ]
    },
    {
      "cell_type": "markdown",
      "id": "3977ccd5",
      "metadata": {
        "id": "3977ccd5"
      },
      "source": [
        "**Recommendation Given:**\n",
        "Customer-level attributes could also be important independent variables to be included in the model. A customer-level attribute can be determined via customer segmentation. You have to segment your customers based on two derived variables: the average payment time in days for a customer and the standard deviation for the payment time. Using clustering techniques would result in a few distinct clusters of customers, which can be used as an input variable for the ML model.\n",
        "\n"
      ]
    },
    {
      "cell_type": "code",
      "execution_count": 219,
      "id": "77727133",
      "metadata": {
        "id": "77727133",
        "outputId": "053aeafe-0a5f-429b-afc9-3872bd24f1b8",
        "colab": {
          "base_uri": "https://localhost:8080/"
        }
      },
      "outputs": [
        {
          "output_type": "execute_result",
          "data": {
            "text/plain": [
              "Index(['RECEIPT_METHOD', 'CUSTOMER_NAME', 'CUSTOMER_NUMBER', 'RECEIPT_DOC_NO',\n",
              "       'RECEIPT_DATE', 'CLASS', 'CURRENCY_CODE', 'Local Amount', 'USD Amount',\n",
              "       'INVOICE_ALLOCATED', 'INVOICE_CREATION_DATE', 'DUE_DATE',\n",
              "       'PAYMENT_TERM', 'INVOICE_CLASS', 'INVOICE_CURRENCY_CODE',\n",
              "       'INVOICE_TYPE', 'Actual_Days_for_Pmt', 'Time_btw_due & recpt_date',\n",
              "       'target', 'Payment_Term_Days'],\n",
              "      dtype='object')"
            ]
          },
          "metadata": {},
          "execution_count": 219
        }
      ],
      "source": [
        "rpd_df.columns"
      ]
    },
    {
      "cell_type": "code",
      "execution_count": 220,
      "id": "d9a9ce45",
      "metadata": {
        "id": "d9a9ce45",
        "outputId": "fbb7c5a0-5517-410e-f5ea-c49398bce170",
        "colab": {
          "base_uri": "https://localhost:8080/",
          "height": 238
        }
      },
      "outputs": [
        {
          "output_type": "execute_result",
          "data": {
            "text/plain": [
              "               Avg. days for Payment\n",
              "CUSTOMER_NAME                       \n",
              "3D D Corp                  24.395349\n",
              "6TH  Corp                  40.666667\n",
              "A3 D Corp                  45.400000\n",
              "ABC  Corp                  16.000000\n",
              "ABDU Corp                  76.906250"
            ],
            "text/html": [
              "\n",
              "  <div id=\"df-29dda2c8-6a58-4362-ba7a-988f0c19d83f\">\n",
              "    <div class=\"colab-df-container\">\n",
              "      <div>\n",
              "<style scoped>\n",
              "    .dataframe tbody tr th:only-of-type {\n",
              "        vertical-align: middle;\n",
              "    }\n",
              "\n",
              "    .dataframe tbody tr th {\n",
              "        vertical-align: top;\n",
              "    }\n",
              "\n",
              "    .dataframe thead th {\n",
              "        text-align: right;\n",
              "    }\n",
              "</style>\n",
              "<table border=\"1\" class=\"dataframe\">\n",
              "  <thead>\n",
              "    <tr style=\"text-align: right;\">\n",
              "      <th></th>\n",
              "      <th>Avg. days for Payment</th>\n",
              "    </tr>\n",
              "    <tr>\n",
              "      <th>CUSTOMER_NAME</th>\n",
              "      <th></th>\n",
              "    </tr>\n",
              "  </thead>\n",
              "  <tbody>\n",
              "    <tr>\n",
              "      <th>3D D Corp</th>\n",
              "      <td>24.395349</td>\n",
              "    </tr>\n",
              "    <tr>\n",
              "      <th>6TH  Corp</th>\n",
              "      <td>40.666667</td>\n",
              "    </tr>\n",
              "    <tr>\n",
              "      <th>A3 D Corp</th>\n",
              "      <td>45.400000</td>\n",
              "    </tr>\n",
              "    <tr>\n",
              "      <th>ABC  Corp</th>\n",
              "      <td>16.000000</td>\n",
              "    </tr>\n",
              "    <tr>\n",
              "      <th>ABDU Corp</th>\n",
              "      <td>76.906250</td>\n",
              "    </tr>\n",
              "  </tbody>\n",
              "</table>\n",
              "</div>\n",
              "      <button class=\"colab-df-convert\" onclick=\"convertToInteractive('df-29dda2c8-6a58-4362-ba7a-988f0c19d83f')\"\n",
              "              title=\"Convert this dataframe to an interactive table.\"\n",
              "              style=\"display:none;\">\n",
              "        \n",
              "  <svg xmlns=\"http://www.w3.org/2000/svg\" height=\"24px\"viewBox=\"0 0 24 24\"\n",
              "       width=\"24px\">\n",
              "    <path d=\"M0 0h24v24H0V0z\" fill=\"none\"/>\n",
              "    <path d=\"M18.56 5.44l.94 2.06.94-2.06 2.06-.94-2.06-.94-.94-2.06-.94 2.06-2.06.94zm-11 1L8.5 8.5l.94-2.06 2.06-.94-2.06-.94L8.5 2.5l-.94 2.06-2.06.94zm10 10l.94 2.06.94-2.06 2.06-.94-2.06-.94-.94-2.06-.94 2.06-2.06.94z\"/><path d=\"M17.41 7.96l-1.37-1.37c-.4-.4-.92-.59-1.43-.59-.52 0-1.04.2-1.43.59L10.3 9.45l-7.72 7.72c-.78.78-.78 2.05 0 2.83L4 21.41c.39.39.9.59 1.41.59.51 0 1.02-.2 1.41-.59l7.78-7.78 2.81-2.81c.8-.78.8-2.07 0-2.86zM5.41 20L4 18.59l7.72-7.72 1.47 1.35L5.41 20z\"/>\n",
              "  </svg>\n",
              "      </button>\n",
              "      \n",
              "  <style>\n",
              "    .colab-df-container {\n",
              "      display:flex;\n",
              "      flex-wrap:wrap;\n",
              "      gap: 12px;\n",
              "    }\n",
              "\n",
              "    .colab-df-convert {\n",
              "      background-color: #E8F0FE;\n",
              "      border: none;\n",
              "      border-radius: 50%;\n",
              "      cursor: pointer;\n",
              "      display: none;\n",
              "      fill: #1967D2;\n",
              "      height: 32px;\n",
              "      padding: 0 0 0 0;\n",
              "      width: 32px;\n",
              "    }\n",
              "\n",
              "    .colab-df-convert:hover {\n",
              "      background-color: #E2EBFA;\n",
              "      box-shadow: 0px 1px 2px rgba(60, 64, 67, 0.3), 0px 1px 3px 1px rgba(60, 64, 67, 0.15);\n",
              "      fill: #174EA6;\n",
              "    }\n",
              "\n",
              "    [theme=dark] .colab-df-convert {\n",
              "      background-color: #3B4455;\n",
              "      fill: #D2E3FC;\n",
              "    }\n",
              "\n",
              "    [theme=dark] .colab-df-convert:hover {\n",
              "      background-color: #434B5C;\n",
              "      box-shadow: 0px 1px 3px 1px rgba(0, 0, 0, 0.15);\n",
              "      filter: drop-shadow(0px 1px 2px rgba(0, 0, 0, 0.3));\n",
              "      fill: #FFFFFF;\n",
              "    }\n",
              "  </style>\n",
              "\n",
              "      <script>\n",
              "        const buttonEl =\n",
              "          document.querySelector('#df-29dda2c8-6a58-4362-ba7a-988f0c19d83f button.colab-df-convert');\n",
              "        buttonEl.style.display =\n",
              "          google.colab.kernel.accessAllowed ? 'block' : 'none';\n",
              "\n",
              "        async function convertToInteractive(key) {\n",
              "          const element = document.querySelector('#df-29dda2c8-6a58-4362-ba7a-988f0c19d83f');\n",
              "          const dataTable =\n",
              "            await google.colab.kernel.invokeFunction('convertToInteractive',\n",
              "                                                     [key], {});\n",
              "          if (!dataTable) return;\n",
              "\n",
              "          const docLinkHtml = 'Like what you see? Visit the ' +\n",
              "            '<a target=\"_blank\" href=https://colab.research.google.com/notebooks/data_table.ipynb>data table notebook</a>'\n",
              "            + ' to learn more about interactive tables.';\n",
              "          element.innerHTML = '';\n",
              "          dataTable['output_type'] = 'display_data';\n",
              "          await google.colab.output.renderOutput(dataTable, element);\n",
              "          const docLink = document.createElement('div');\n",
              "          docLink.innerHTML = docLinkHtml;\n",
              "          element.appendChild(docLink);\n",
              "        }\n",
              "      </script>\n",
              "    </div>\n",
              "  </div>\n",
              "  "
            ]
          },
          "metadata": {},
          "execution_count": 220
        }
      ],
      "source": [
        "# Calculating average days for payment on customer wise\n",
        "Cust_segs1=rpd_df.groupby('CUSTOMER_NAME')['Actual_Days_for_Pmt'].mean()\n",
        "Cust_segs1=Cust_segs1.to_frame()\n",
        "Cust_segs1.reset_index\n",
        "Cust_segs1.rename(columns = {'Actual_Days_for_Pmt':'Avg. days for Payment'}, inplace = True)\n",
        "Cust_segs1.head()"
      ]
    },
    {
      "cell_type": "code",
      "execution_count": 221,
      "id": "8b8991b0",
      "metadata": {
        "id": "8b8991b0",
        "outputId": "f32e2e4b-c32f-4f32-9b25-4e6e9592b5ad",
        "colab": {
          "base_uri": "https://localhost:8080/",
          "height": 238
        }
      },
      "outputs": [
        {
          "output_type": "execute_result",
          "data": {
            "text/plain": [
              "               Std.deviation for Payment\n",
              "CUSTOMER_NAME                           \n",
              "3D D Corp                      13.040449\n",
              "6TH  Corp                       7.952987\n",
              "A3 D Corp                      52.581366\n",
              "ABC  Corp                       0.000000\n",
              "ABDU Corp                      54.919326"
            ],
            "text/html": [
              "\n",
              "  <div id=\"df-cebc6d6b-aadb-46f6-b0f4-8bcfed94f2a6\">\n",
              "    <div class=\"colab-df-container\">\n",
              "      <div>\n",
              "<style scoped>\n",
              "    .dataframe tbody tr th:only-of-type {\n",
              "        vertical-align: middle;\n",
              "    }\n",
              "\n",
              "    .dataframe tbody tr th {\n",
              "        vertical-align: top;\n",
              "    }\n",
              "\n",
              "    .dataframe thead th {\n",
              "        text-align: right;\n",
              "    }\n",
              "</style>\n",
              "<table border=\"1\" class=\"dataframe\">\n",
              "  <thead>\n",
              "    <tr style=\"text-align: right;\">\n",
              "      <th></th>\n",
              "      <th>Std.deviation for Payment</th>\n",
              "    </tr>\n",
              "    <tr>\n",
              "      <th>CUSTOMER_NAME</th>\n",
              "      <th></th>\n",
              "    </tr>\n",
              "  </thead>\n",
              "  <tbody>\n",
              "    <tr>\n",
              "      <th>3D D Corp</th>\n",
              "      <td>13.040449</td>\n",
              "    </tr>\n",
              "    <tr>\n",
              "      <th>6TH  Corp</th>\n",
              "      <td>7.952987</td>\n",
              "    </tr>\n",
              "    <tr>\n",
              "      <th>A3 D Corp</th>\n",
              "      <td>52.581366</td>\n",
              "    </tr>\n",
              "    <tr>\n",
              "      <th>ABC  Corp</th>\n",
              "      <td>0.000000</td>\n",
              "    </tr>\n",
              "    <tr>\n",
              "      <th>ABDU Corp</th>\n",
              "      <td>54.919326</td>\n",
              "    </tr>\n",
              "  </tbody>\n",
              "</table>\n",
              "</div>\n",
              "      <button class=\"colab-df-convert\" onclick=\"convertToInteractive('df-cebc6d6b-aadb-46f6-b0f4-8bcfed94f2a6')\"\n",
              "              title=\"Convert this dataframe to an interactive table.\"\n",
              "              style=\"display:none;\">\n",
              "        \n",
              "  <svg xmlns=\"http://www.w3.org/2000/svg\" height=\"24px\"viewBox=\"0 0 24 24\"\n",
              "       width=\"24px\">\n",
              "    <path d=\"M0 0h24v24H0V0z\" fill=\"none\"/>\n",
              "    <path d=\"M18.56 5.44l.94 2.06.94-2.06 2.06-.94-2.06-.94-.94-2.06-.94 2.06-2.06.94zm-11 1L8.5 8.5l.94-2.06 2.06-.94-2.06-.94L8.5 2.5l-.94 2.06-2.06.94zm10 10l.94 2.06.94-2.06 2.06-.94-2.06-.94-.94-2.06-.94 2.06-2.06.94z\"/><path d=\"M17.41 7.96l-1.37-1.37c-.4-.4-.92-.59-1.43-.59-.52 0-1.04.2-1.43.59L10.3 9.45l-7.72 7.72c-.78.78-.78 2.05 0 2.83L4 21.41c.39.39.9.59 1.41.59.51 0 1.02-.2 1.41-.59l7.78-7.78 2.81-2.81c.8-.78.8-2.07 0-2.86zM5.41 20L4 18.59l7.72-7.72 1.47 1.35L5.41 20z\"/>\n",
              "  </svg>\n",
              "      </button>\n",
              "      \n",
              "  <style>\n",
              "    .colab-df-container {\n",
              "      display:flex;\n",
              "      flex-wrap:wrap;\n",
              "      gap: 12px;\n",
              "    }\n",
              "\n",
              "    .colab-df-convert {\n",
              "      background-color: #E8F0FE;\n",
              "      border: none;\n",
              "      border-radius: 50%;\n",
              "      cursor: pointer;\n",
              "      display: none;\n",
              "      fill: #1967D2;\n",
              "      height: 32px;\n",
              "      padding: 0 0 0 0;\n",
              "      width: 32px;\n",
              "    }\n",
              "\n",
              "    .colab-df-convert:hover {\n",
              "      background-color: #E2EBFA;\n",
              "      box-shadow: 0px 1px 2px rgba(60, 64, 67, 0.3), 0px 1px 3px 1px rgba(60, 64, 67, 0.15);\n",
              "      fill: #174EA6;\n",
              "    }\n",
              "\n",
              "    [theme=dark] .colab-df-convert {\n",
              "      background-color: #3B4455;\n",
              "      fill: #D2E3FC;\n",
              "    }\n",
              "\n",
              "    [theme=dark] .colab-df-convert:hover {\n",
              "      background-color: #434B5C;\n",
              "      box-shadow: 0px 1px 3px 1px rgba(0, 0, 0, 0.15);\n",
              "      filter: drop-shadow(0px 1px 2px rgba(0, 0, 0, 0.3));\n",
              "      fill: #FFFFFF;\n",
              "    }\n",
              "  </style>\n",
              "\n",
              "      <script>\n",
              "        const buttonEl =\n",
              "          document.querySelector('#df-cebc6d6b-aadb-46f6-b0f4-8bcfed94f2a6 button.colab-df-convert');\n",
              "        buttonEl.style.display =\n",
              "          google.colab.kernel.accessAllowed ? 'block' : 'none';\n",
              "\n",
              "        async function convertToInteractive(key) {\n",
              "          const element = document.querySelector('#df-cebc6d6b-aadb-46f6-b0f4-8bcfed94f2a6');\n",
              "          const dataTable =\n",
              "            await google.colab.kernel.invokeFunction('convertToInteractive',\n",
              "                                                     [key], {});\n",
              "          if (!dataTable) return;\n",
              "\n",
              "          const docLinkHtml = 'Like what you see? Visit the ' +\n",
              "            '<a target=\"_blank\" href=https://colab.research.google.com/notebooks/data_table.ipynb>data table notebook</a>'\n",
              "            + ' to learn more about interactive tables.';\n",
              "          element.innerHTML = '';\n",
              "          dataTable['output_type'] = 'display_data';\n",
              "          await google.colab.output.renderOutput(dataTable, element);\n",
              "          const docLink = document.createElement('div');\n",
              "          docLink.innerHTML = docLinkHtml;\n",
              "          element.appendChild(docLink);\n",
              "        }\n",
              "      </script>\n",
              "    </div>\n",
              "  </div>\n",
              "  "
            ]
          },
          "metadata": {},
          "execution_count": 221
        }
      ],
      "source": [
        "# Calculating standard deviation for payment days on customer wise\n",
        "Cust_segs2=rpd_df.groupby('CUSTOMER_NAME')['Actual_Days_for_Pmt'].std()\n",
        "Cust_segs2=Cust_segs2.to_frame()\n",
        "Cust_segs2.reset_index\n",
        "Cust_segs2.rename(columns = {'Actual_Days_for_Pmt':'Std.deviation for Payment'}, inplace = True)\n",
        "Cust_segs2.head()"
      ]
    },
    {
      "cell_type": "code",
      "execution_count": 222,
      "id": "9cfefa6c",
      "metadata": {
        "id": "9cfefa6c"
      },
      "outputs": [],
      "source": [
        "# Merging both dataframes\n",
        "Cust_seg=pd.merge(Cust_segs1,Cust_segs2,how='inner',on='CUSTOMER_NAME')"
      ]
    },
    {
      "cell_type": "code",
      "execution_count": 223,
      "id": "f17e122e",
      "metadata": {
        "id": "f17e122e",
        "outputId": "423f60bb-eb3d-44e9-dc30-bacdb51463fc",
        "colab": {
          "base_uri": "https://localhost:8080/",
          "height": 238
        }
      },
      "outputs": [
        {
          "output_type": "execute_result",
          "data": {
            "text/plain": [
              "               Avg. days for Payment  Std.deviation for Payment\n",
              "CUSTOMER_NAME                                                  \n",
              "3D D Corp                  24.395349                  13.040449\n",
              "6TH  Corp                  40.666667                   7.952987\n",
              "A3 D Corp                  45.400000                  52.581366\n",
              "ABC  Corp                  16.000000                   0.000000\n",
              "ABDU Corp                  76.906250                  54.919326"
            ],
            "text/html": [
              "\n",
              "  <div id=\"df-41edfd6c-9e8e-4647-acc8-0849751d85c6\">\n",
              "    <div class=\"colab-df-container\">\n",
              "      <div>\n",
              "<style scoped>\n",
              "    .dataframe tbody tr th:only-of-type {\n",
              "        vertical-align: middle;\n",
              "    }\n",
              "\n",
              "    .dataframe tbody tr th {\n",
              "        vertical-align: top;\n",
              "    }\n",
              "\n",
              "    .dataframe thead th {\n",
              "        text-align: right;\n",
              "    }\n",
              "</style>\n",
              "<table border=\"1\" class=\"dataframe\">\n",
              "  <thead>\n",
              "    <tr style=\"text-align: right;\">\n",
              "      <th></th>\n",
              "      <th>Avg. days for Payment</th>\n",
              "      <th>Std.deviation for Payment</th>\n",
              "    </tr>\n",
              "    <tr>\n",
              "      <th>CUSTOMER_NAME</th>\n",
              "      <th></th>\n",
              "      <th></th>\n",
              "    </tr>\n",
              "  </thead>\n",
              "  <tbody>\n",
              "    <tr>\n",
              "      <th>3D D Corp</th>\n",
              "      <td>24.395349</td>\n",
              "      <td>13.040449</td>\n",
              "    </tr>\n",
              "    <tr>\n",
              "      <th>6TH  Corp</th>\n",
              "      <td>40.666667</td>\n",
              "      <td>7.952987</td>\n",
              "    </tr>\n",
              "    <tr>\n",
              "      <th>A3 D Corp</th>\n",
              "      <td>45.400000</td>\n",
              "      <td>52.581366</td>\n",
              "    </tr>\n",
              "    <tr>\n",
              "      <th>ABC  Corp</th>\n",
              "      <td>16.000000</td>\n",
              "      <td>0.000000</td>\n",
              "    </tr>\n",
              "    <tr>\n",
              "      <th>ABDU Corp</th>\n",
              "      <td>76.906250</td>\n",
              "      <td>54.919326</td>\n",
              "    </tr>\n",
              "  </tbody>\n",
              "</table>\n",
              "</div>\n",
              "      <button class=\"colab-df-convert\" onclick=\"convertToInteractive('df-41edfd6c-9e8e-4647-acc8-0849751d85c6')\"\n",
              "              title=\"Convert this dataframe to an interactive table.\"\n",
              "              style=\"display:none;\">\n",
              "        \n",
              "  <svg xmlns=\"http://www.w3.org/2000/svg\" height=\"24px\"viewBox=\"0 0 24 24\"\n",
              "       width=\"24px\">\n",
              "    <path d=\"M0 0h24v24H0V0z\" fill=\"none\"/>\n",
              "    <path d=\"M18.56 5.44l.94 2.06.94-2.06 2.06-.94-2.06-.94-.94-2.06-.94 2.06-2.06.94zm-11 1L8.5 8.5l.94-2.06 2.06-.94-2.06-.94L8.5 2.5l-.94 2.06-2.06.94zm10 10l.94 2.06.94-2.06 2.06-.94-2.06-.94-.94-2.06-.94 2.06-2.06.94z\"/><path d=\"M17.41 7.96l-1.37-1.37c-.4-.4-.92-.59-1.43-.59-.52 0-1.04.2-1.43.59L10.3 9.45l-7.72 7.72c-.78.78-.78 2.05 0 2.83L4 21.41c.39.39.9.59 1.41.59.51 0 1.02-.2 1.41-.59l7.78-7.78 2.81-2.81c.8-.78.8-2.07 0-2.86zM5.41 20L4 18.59l7.72-7.72 1.47 1.35L5.41 20z\"/>\n",
              "  </svg>\n",
              "      </button>\n",
              "      \n",
              "  <style>\n",
              "    .colab-df-container {\n",
              "      display:flex;\n",
              "      flex-wrap:wrap;\n",
              "      gap: 12px;\n",
              "    }\n",
              "\n",
              "    .colab-df-convert {\n",
              "      background-color: #E8F0FE;\n",
              "      border: none;\n",
              "      border-radius: 50%;\n",
              "      cursor: pointer;\n",
              "      display: none;\n",
              "      fill: #1967D2;\n",
              "      height: 32px;\n",
              "      padding: 0 0 0 0;\n",
              "      width: 32px;\n",
              "    }\n",
              "\n",
              "    .colab-df-convert:hover {\n",
              "      background-color: #E2EBFA;\n",
              "      box-shadow: 0px 1px 2px rgba(60, 64, 67, 0.3), 0px 1px 3px 1px rgba(60, 64, 67, 0.15);\n",
              "      fill: #174EA6;\n",
              "    }\n",
              "\n",
              "    [theme=dark] .colab-df-convert {\n",
              "      background-color: #3B4455;\n",
              "      fill: #D2E3FC;\n",
              "    }\n",
              "\n",
              "    [theme=dark] .colab-df-convert:hover {\n",
              "      background-color: #434B5C;\n",
              "      box-shadow: 0px 1px 3px 1px rgba(0, 0, 0, 0.15);\n",
              "      filter: drop-shadow(0px 1px 2px rgba(0, 0, 0, 0.3));\n",
              "      fill: #FFFFFF;\n",
              "    }\n",
              "  </style>\n",
              "\n",
              "      <script>\n",
              "        const buttonEl =\n",
              "          document.querySelector('#df-41edfd6c-9e8e-4647-acc8-0849751d85c6 button.colab-df-convert');\n",
              "        buttonEl.style.display =\n",
              "          google.colab.kernel.accessAllowed ? 'block' : 'none';\n",
              "\n",
              "        async function convertToInteractive(key) {\n",
              "          const element = document.querySelector('#df-41edfd6c-9e8e-4647-acc8-0849751d85c6');\n",
              "          const dataTable =\n",
              "            await google.colab.kernel.invokeFunction('convertToInteractive',\n",
              "                                                     [key], {});\n",
              "          if (!dataTable) return;\n",
              "\n",
              "          const docLinkHtml = 'Like what you see? Visit the ' +\n",
              "            '<a target=\"_blank\" href=https://colab.research.google.com/notebooks/data_table.ipynb>data table notebook</a>'\n",
              "            + ' to learn more about interactive tables.';\n",
              "          element.innerHTML = '';\n",
              "          dataTable['output_type'] = 'display_data';\n",
              "          await google.colab.output.renderOutput(dataTable, element);\n",
              "          const docLink = document.createElement('div');\n",
              "          docLink.innerHTML = docLinkHtml;\n",
              "          element.appendChild(docLink);\n",
              "        }\n",
              "      </script>\n",
              "    </div>\n",
              "  </div>\n",
              "  "
            ]
          },
          "metadata": {},
          "execution_count": 223
        }
      ],
      "source": [
        "Cust_seg.head()"
      ]
    },
    {
      "cell_type": "code",
      "execution_count": 224,
      "id": "ee87094c",
      "metadata": {
        "id": "ee87094c",
        "outputId": "d20bcbf9-e9e6-412d-9cae-51ff7acbbc05",
        "colab": {
          "base_uri": "https://localhost:8080/",
          "height": 225
        }
      },
      "outputs": [
        {
          "output_type": "display_data",
          "data": {
            "text/plain": [
              "<Figure size 720x216 with 2 Axes>"
            ],
            "image/png": "[encoded data removed]"
          },
          "metadata": {
            "needs_background": "light"
          }
        }
      ],
      "source": [
        "#Letus check Avg.days for Payments\n",
        "plt.figure(figsize=(10,3))\n",
        "plt.subplot(1,2,1)\n",
        "sns.histplot(Cust_seg['Avg. days for Payment'])\n",
        "\n",
        "\n",
        "plt.subplot(1,2,2)\n",
        "sns.histplot(Cust_seg['Std.deviation for Payment'])\n",
        "plt.show()"
      ]
    },
    {
      "cell_type": "markdown",
      "id": "02e6a8c1",
      "metadata": {
        "id": "02e6a8c1"
      },
      "source": [
        "**WE can see that both attributes are not normalised. Hence we need to do Scaling.**\n"
      ]
    },
    {
      "cell_type": "code",
      "execution_count": 225,
      "id": "a9f4fdd5",
      "metadata": {
        "id": "a9f4fdd5"
      },
      "outputs": [],
      "source": [
        "#importing library\n",
        "from sklearn.preprocessing import StandardScaler\n",
        "scaler=StandardScaler()\n",
        "Cust_seg[['Avg. days for Payment','Std.deviation for Payment']]=scaler.fit_transform(Cust_seg[['Avg. days for Payment','Std.deviation for Payment']])"
      ]
    },
    {
      "cell_type": "code",
      "execution_count": 226,
      "id": "589449e3",
      "metadata": {
        "id": "589449e3",
        "outputId": "e490f69f-3fc7-4c31-fdd4-539785891b23",
        "colab": {
          "base_uri": "https://localhost:8080/",
          "height": 225
        }
      },
      "outputs": [
        {
          "output_type": "display_data",
          "data": {
            "text/plain": [
              "<Figure size 720x216 with 2 Axes>"
            ],
            "image/png": "[encoded data removed]"
          },
          "metadata": {
            "needs_background": "light"
          }
        }
      ],
      "source": [
        "# Letus check again\n",
        "plt.figure(figsize=(10,3))\n",
        "plt.subplot(1,2,1)\n",
        "sns.histplot(Cust_seg['Avg. days for Payment'])\n",
        "\n",
        "plt.subplot(1,2,2)\n",
        "sns.histplot(Cust_seg['Std.deviation for Payment'])\n",
        "plt.show()"
      ]
    },
    {
      "cell_type": "code",
      "execution_count": 227,
      "id": "17cbe049",
      "metadata": {
        "id": "17cbe049"
      },
      "outputs": [],
      "source": [
        "Cust_seg.reset_index(inplace=True)\n",
        "Cust_seg['Std.deviation for Payment'].fillna(0,inplace=True)"
      ]
    },
    {
      "cell_type": "code",
      "execution_count": 228,
      "id": "85e7604f",
      "metadata": {
        "id": "85e7604f",
        "outputId": "eb5f0cfd-601c-4532-f615-27cd88ec67d1",
        "colab": {
          "base_uri": "https://localhost:8080/",
          "height": 206
        }
      },
      "outputs": [
        {
          "output_type": "execute_result",
          "data": {
            "text/plain": [
              "  CUSTOMER_NAME  Avg. days for Payment  Std.deviation for Payment\n",
              "0     3D D Corp              -0.539379                  -0.569399\n",
              "1     6TH  Corp              -0.427407                  -0.631189\n",
              "2     A3 D Corp              -0.394835                  -0.089152\n",
              "3     ABC  Corp              -0.597152                  -0.727783\n",
              "4     ABDU Corp              -0.178023                  -0.060756"
            ],
            "text/html": [
              "\n",
              "  <div id=\"df-efeda5d1-4ee2-4f71-a888-b8856f5ea3c9\">\n",
              "    <div class=\"colab-df-container\">\n",
              "      <div>\n",
              "<style scoped>\n",
              "    .dataframe tbody tr th:only-of-type {\n",
              "        vertical-align: middle;\n",
              "    }\n",
              "\n",
              "    .dataframe tbody tr th {\n",
              "        vertical-align: top;\n",
              "    }\n",
              "\n",
              "    .dataframe thead th {\n",
              "        text-align: right;\n",
              "    }\n",
              "</style>\n",
              "<table border=\"1\" class=\"dataframe\">\n",
              "  <thead>\n",
              "    <tr style=\"text-align: right;\">\n",
              "      <th></th>\n",
              "      <th>CUSTOMER_NAME</th>\n",
              "      <th>Avg. days for Payment</th>\n",
              "      <th>Std.deviation for Payment</th>\n",
              "    </tr>\n",
              "  </thead>\n",
              "  <tbody>\n",
              "    <tr>\n",
              "      <th>0</th>\n",
              "      <td>3D D Corp</td>\n",
              "      <td>-0.539379</td>\n",
              "      <td>-0.569399</td>\n",
              "    </tr>\n",
              "    <tr>\n",
              "      <th>1</th>\n",
              "      <td>6TH  Corp</td>\n",
              "      <td>-0.427407</td>\n",
              "      <td>-0.631189</td>\n",
              "    </tr>\n",
              "    <tr>\n",
              "      <th>2</th>\n",
              "      <td>A3 D Corp</td>\n",
              "      <td>-0.394835</td>\n",
              "      <td>-0.089152</td>\n",
              "    </tr>\n",
              "    <tr>\n",
              "      <th>3</th>\n",
              "      <td>ABC  Corp</td>\n",
              "      <td>-0.597152</td>\n",
              "      <td>-0.727783</td>\n",
              "    </tr>\n",
              "    <tr>\n",
              "      <th>4</th>\n",
              "      <td>ABDU Corp</td>\n",
              "      <td>-0.178023</td>\n",
              "      <td>-0.060756</td>\n",
              "    </tr>\n",
              "  </tbody>\n",
              "</table>\n",
              "</div>\n",
              "      <button class=\"colab-df-convert\" onclick=\"convertToInteractive('df-efeda5d1-4ee2-4f71-a888-b8856f5ea3c9')\"\n",
              "              title=\"Convert this dataframe to an interactive table.\"\n",
              "              style=\"display:none;\">\n",
              "        \n",
              "  <svg xmlns=\"http://www.w3.org/2000/svg\" height=\"24px\"viewBox=\"0 0 24 24\"\n",
              "       width=\"24px\">\n",
              "    <path d=\"M0 0h24v24H0V0z\" fill=\"none\"/>\n",
              "    <path d=\"M18.56 5.44l.94 2.06.94-2.06 2.06-.94-2.06-.94-.94-2.06-.94 2.06-2.06.94zm-11 1L8.5 8.5l.94-2.06 2.06-.94-2.06-.94L8.5 2.5l-.94 2.06-2.06.94zm10 10l.94 2.06.94-2.06 2.06-.94-2.06-.94-.94-2.06-.94 2.06-2.06.94z\"/><path d=\"M17.41 7.96l-1.37-1.37c-.4-.4-.92-.59-1.43-.59-.52 0-1.04.2-1.43.59L10.3 9.45l-7.72 7.72c-.78.78-.78 2.05 0 2.83L4 21.41c.39.39.9.59 1.41.59.51 0 1.02-.2 1.41-.59l7.78-7.78 2.81-2.81c.8-.78.8-2.07 0-2.86zM5.41 20L4 18.59l7.72-7.72 1.47 1.35L5.41 20z\"/>\n",
              "  </svg>\n",
              "      </button>\n",
              "      \n",
              "  <style>\n",
              "    .colab-df-container {\n",
              "      display:flex;\n",
              "      flex-wrap:wrap;\n",
              "      gap: 12px;\n",
              "    }\n",
              "\n",
              "    .colab-df-convert {\n",
              "      background-color: #E8F0FE;\n",
              "      border: none;\n",
              "      border-radius: 50%;\n",
              "      cursor: pointer;\n",
              "      display: none;\n",
              "      fill: #1967D2;\n",
              "      height: 32px;\n",
              "      padding: 0 0 0 0;\n",
              "      width: 32px;\n",
              "    }\n",
              "\n",
              "    .colab-df-convert:hover {\n",
              "      background-color: #E2EBFA;\n",
              "      box-shadow: 0px 1px 2px rgba(60, 64, 67, 0.3), 0px 1px 3px 1px rgba(60, 64, 67, 0.15);\n",
              "      fill: #174EA6;\n",
              "    }\n",
              "\n",
              "    [theme=dark] .colab-df-convert {\n",
              "      background-color: #3B4455;\n",
              "      fill: #D2E3FC;\n",
              "    }\n",
              "\n",
              "    [theme=dark] .colab-df-convert:hover {\n",
              "      background-color: #434B5C;\n",
              "      box-shadow: 0px 1px 3px 1px rgba(0, 0, 0, 0.15);\n",
              "      filter: drop-shadow(0px 1px 2px rgba(0, 0, 0, 0.3));\n",
              "      fill: #FFFFFF;\n",
              "    }\n",
              "  </style>\n",
              "\n",
              "      <script>\n",
              "        const buttonEl =\n",
              "          document.querySelector('#df-efeda5d1-4ee2-4f71-a888-b8856f5ea3c9 button.colab-df-convert');\n",
              "        buttonEl.style.display =\n",
              "          google.colab.kernel.accessAllowed ? 'block' : 'none';\n",
              "\n",
              "        async function convertToInteractive(key) {\n",
              "          const element = document.querySelector('#df-efeda5d1-4ee2-4f71-a888-b8856f5ea3c9');\n",
              "          const dataTable =\n",
              "            await google.colab.kernel.invokeFunction('convertToInteractive',\n",
              "                                                     [key], {});\n",
              "          if (!dataTable) return;\n",
              "\n",
              "          const docLinkHtml = 'Like what you see? Visit the ' +\n",
              "            '<a target=\"_blank\" href=https://colab.research.google.com/notebooks/data_table.ipynb>data table notebook</a>'\n",
              "            + ' to learn more about interactive tables.';\n",
              "          element.innerHTML = '';\n",
              "          dataTable['output_type'] = 'display_data';\n",
              "          await google.colab.output.renderOutput(dataTable, element);\n",
              "          const docLink = document.createElement('div');\n",
              "          docLink.innerHTML = docLinkHtml;\n",
              "          element.appendChild(docLink);\n",
              "        }\n",
              "      </script>\n",
              "    </div>\n",
              "  </div>\n",
              "  "
            ]
          },
          "metadata": {},
          "execution_count": 228
        }
      ],
      "source": [
        "Clust_df=Cust_seg.copy()\n",
        "Clust_df.head()"
      ]
    },
    {
      "cell_type": "code",
      "execution_count": 229,
      "id": "3ccc138e",
      "metadata": {
        "id": "3ccc138e",
        "outputId": "9b03a5ee-9881-4ad0-f168-70482dee7205",
        "colab": {
          "base_uri": "https://localhost:8080/",
          "height": 206
        }
      },
      "outputs": [
        {
          "output_type": "execute_result",
          "data": {
            "text/plain": [
              "   Avg. days for Payment  Std.deviation for Payment\n",
              "0              -0.539379                  -0.569399\n",
              "1              -0.427407                  -0.631189\n",
              "2              -0.394835                  -0.089152\n",
              "3              -0.597152                  -0.727783\n",
              "4              -0.178023                  -0.060756"
            ],
            "text/html": [
              "\n",
              "  <div id=\"df-427a1d69-a995-4514-b7c8-697a44de0d1c\">\n",
              "    <div class=\"colab-df-container\">\n",
              "      <div>\n",
              "<style scoped>\n",
              "    .dataframe tbody tr th:only-of-type {\n",
              "        vertical-align: middle;\n",
              "    }\n",
              "\n",
              "    .dataframe tbody tr th {\n",
              "        vertical-align: top;\n",
              "    }\n",
              "\n",
              "    .dataframe thead th {\n",
              "        text-align: right;\n",
              "    }\n",
              "</style>\n",
              "<table border=\"1\" class=\"dataframe\">\n",
              "  <thead>\n",
              "    <tr style=\"text-align: right;\">\n",
              "      <th></th>\n",
              "      <th>Avg. days for Payment</th>\n",
              "      <th>Std.deviation for Payment</th>\n",
              "    </tr>\n",
              "  </thead>\n",
              "  <tbody>\n",
              "    <tr>\n",
              "      <th>0</th>\n",
              "      <td>-0.539379</td>\n",
              "      <td>-0.569399</td>\n",
              "    </tr>\n",
              "    <tr>\n",
              "      <th>1</th>\n",
              "      <td>-0.427407</td>\n",
              "      <td>-0.631189</td>\n",
              "    </tr>\n",
              "    <tr>\n",
              "      <th>2</th>\n",
              "      <td>-0.394835</td>\n",
              "      <td>-0.089152</td>\n",
              "    </tr>\n",
              "    <tr>\n",
              "      <th>3</th>\n",
              "      <td>-0.597152</td>\n",
              "      <td>-0.727783</td>\n",
              "    </tr>\n",
              "    <tr>\n",
              "      <th>4</th>\n",
              "      <td>-0.178023</td>\n",
              "      <td>-0.060756</td>\n",
              "    </tr>\n",
              "  </tbody>\n",
              "</table>\n",
              "</div>\n",
              "      <button class=\"colab-df-convert\" onclick=\"convertToInteractive('df-427a1d69-a995-4514-b7c8-697a44de0d1c')\"\n",
              "              title=\"Convert this dataframe to an interactive table.\"\n",
              "              style=\"display:none;\">\n",
              "        \n",
              "  <svg xmlns=\"http://www.w3.org/2000/svg\" height=\"24px\"viewBox=\"0 0 24 24\"\n",
              "       width=\"24px\">\n",
              "    <path d=\"M0 0h24v24H0V0z\" fill=\"none\"/>\n",
              "    <path d=\"M18.56 5.44l.94 2.06.94-2.06 2.06-.94-2.06-.94-.94-2.06-.94 2.06-2.06.94zm-11 1L8.5 8.5l.94-2.06 2.06-.94-2.06-.94L8.5 2.5l-.94 2.06-2.06.94zm10 10l.94 2.06.94-2.06 2.06-.94-2.06-.94-.94-2.06-.94 2.06-2.06.94z\"/><path d=\"M17.41 7.96l-1.37-1.37c-.4-.4-.92-.59-1.43-.59-.52 0-1.04.2-1.43.59L10.3 9.45l-7.72 7.72c-.78.78-.78 2.05 0 2.83L4 21.41c.39.39.9.59 1.41.59.51 0 1.02-.2 1.41-.59l7.78-7.78 2.81-2.81c.8-.78.8-2.07 0-2.86zM5.41 20L4 18.59l7.72-7.72 1.47 1.35L5.41 20z\"/>\n",
              "  </svg>\n",
              "      </button>\n",
              "      \n",
              "  <style>\n",
              "    .colab-df-container {\n",
              "      display:flex;\n",
              "      flex-wrap:wrap;\n",
              "      gap: 12px;\n",
              "    }\n",
              "\n",
              "    .colab-df-convert {\n",
              "      background-color: #E8F0FE;\n",
              "      border: none;\n",
              "      border-radius: 50%;\n",
              "      cursor: pointer;\n",
              "      display: none;\n",
              "      fill: #1967D2;\n",
              "      height: 32px;\n",
              "      padding: 0 0 0 0;\n",
              "      width: 32px;\n",
              "    }\n",
              "\n",
              "    .colab-df-convert:hover {\n",
              "      background-color: #E2EBFA;\n",
              "      box-shadow: 0px 1px 2px rgba(60, 64, 67, 0.3), 0px 1px 3px 1px rgba(60, 64, 67, 0.15);\n",
              "      fill: #174EA6;\n",
              "    }\n",
              "\n",
              "    [theme=dark] .colab-df-convert {\n",
              "      background-color: #3B4455;\n",
              "      fill: #D2E3FC;\n",
              "    }\n",
              "\n",
              "    [theme=dark] .colab-df-convert:hover {\n",
              "      background-color: #434B5C;\n",
              "      box-shadow: 0px 1px 3px 1px rgba(0, 0, 0, 0.15);\n",
              "      filter: drop-shadow(0px 1px 2px rgba(0, 0, 0, 0.3));\n",
              "      fill: #FFFFFF;\n",
              "    }\n",
              "  </style>\n",
              "\n",
              "      <script>\n",
              "        const buttonEl =\n",
              "          document.querySelector('#df-427a1d69-a995-4514-b7c8-697a44de0d1c button.colab-df-convert');\n",
              "        buttonEl.style.display =\n",
              "          google.colab.kernel.accessAllowed ? 'block' : 'none';\n",
              "\n",
              "        async function convertToInteractive(key) {\n",
              "          const element = document.querySelector('#df-427a1d69-a995-4514-b7c8-697a44de0d1c');\n",
              "          const dataTable =\n",
              "            await google.colab.kernel.invokeFunction('convertToInteractive',\n",
              "                                                     [key], {});\n",
              "          if (!dataTable) return;\n",
              "\n",
              "          const docLinkHtml = 'Like what you see? Visit the ' +\n",
              "            '<a target=\"_blank\" href=https://colab.research.google.com/notebooks/data_table.ipynb>data table notebook</a>'\n",
              "            + ' to learn more about interactive tables.';\n",
              "          element.innerHTML = '';\n",
              "          dataTable['output_type'] = 'display_data';\n",
              "          await google.colab.output.renderOutput(dataTable, element);\n",
              "          const docLink = document.createElement('div');\n",
              "          docLink.innerHTML = docLinkHtml;\n",
              "          element.appendChild(docLink);\n",
              "        }\n",
              "      </script>\n",
              "    </div>\n",
              "  </div>\n",
              "  "
            ]
          },
          "metadata": {},
          "execution_count": 229
        }
      ],
      "source": [
        "#dropping customer_name for clustering\n",
        "Clust_df.drop('CUSTOMER_NAME',axis=1,inplace=True)\n",
        "Clust_df.head()"
      ]
    },
    {
      "cell_type": "code",
      "execution_count": 230,
      "id": "424cc106",
      "metadata": {
        "id": "424cc106"
      },
      "outputs": [],
      "source": [
        "#importing library\n",
        "import sklearn\n",
        "\n",
        "from sklearn.cluster import KMeans\n",
        "from sklearn.metrics import silhouette_score"
      ]
    },
    {
      "cell_type": "code",
      "execution_count": 231,
      "id": "69ea9552",
      "metadata": {
        "id": "69ea9552",
        "outputId": "8c55793c-2943-4833-d54a-f5d126ebb8d5",
        "colab": {
          "base_uri": "https://localhost:8080/"
        }
      },
      "outputs": [
        {
          "output_type": "execute_result",
          "data": {
            "text/plain": [
              "array([[-0.31017355, -0.33096979],\n",
              "       [ 0.50335711,  0.96031833],\n",
              "       [ 1.77276116,  3.46461734],\n",
              "       [ 4.5685419 ,  0.49333719]])"
            ]
          },
          "metadata": {},
          "execution_count": 231
        }
      ],
      "source": [
        "# k-means with some arbitrary k\n",
        "kmeans = KMeans(n_clusters=4, max_iter=50)\n",
        "kmeans.fit(Clust_df)\n",
        "kmeans.cluster_centers_"
      ]
    },
    {
      "cell_type": "markdown",
      "id": "9fceb774",
      "metadata": {
        "id": "9fceb774"
      },
      "source": [
        "#### Finding the Optimal Number of Clusters"
      ]
    },
    {
      "cell_type": "code",
      "execution_count": 232,
      "id": "bf47a226",
      "metadata": {
        "id": "bf47a226",
        "outputId": "a46c9756-fda3-42fe-cd6e-0e0503438adf",
        "colab": {
          "base_uri": "https://localhost:8080/"
        }
      },
      "outputs": [
        {
          "output_type": "stream",
          "name": "stdout",
          "text": [
            "For n_clusters=2, the silhouette score is 0.751220065255244\n",
            "For n_clusters=3, the silhouette score is 0.7319917261760829\n",
            "For n_clusters=4, the silhouette score is 0.6188501658848016\n",
            "For n_clusters=5, the silhouette score is 0.6061276827754781\n",
            "For n_clusters=6, the silhouette score is 0.3980576688067705\n",
            "For n_clusters=7, the silhouette score is 0.40137925811299136\n",
            "For n_clusters=8, the silhouette score is 0.41913977001591984\n"
          ]
        }
      ],
      "source": [
        "# silhouette analysis\n",
        "range_n_clusters = [2, 3, 4, 5, 6, 7, 8]\n",
        "\n",
        "for num_clusters in range_n_clusters:\n",
        "    \n",
        "    # intialise kmeans\n",
        "    kmeans = KMeans(n_clusters=num_clusters, max_iter=50)\n",
        "    kmeans.fit(Clust_df)\n",
        "    \n",
        "    cluster_labels = kmeans.labels_\n",
        "    \n",
        "    # silhouette score\n",
        "    silhouette_avg = silhouette_score(Clust_df, cluster_labels)\n",
        "    print(\"For n_clusters={0}, the silhouette score is {1}\".format(num_clusters, silhouette_avg))\n",
        "    "
      ]
    },
    {
      "cell_type": "markdown",
      "id": "9d5b4e6b",
      "metadata": {
        "id": "9d5b4e6b"
      },
      "source": [
        "**We could see n_clusters are decent according to Silhouette Score.**"
      ]
    },
    {
      "cell_type": "code",
      "execution_count": 233,
      "id": "f99ee416",
      "metadata": {
        "id": "f99ee416",
        "outputId": "95d8bd43-0353-4856-831e-9b73ae2884c6",
        "colab": {
          "base_uri": "https://localhost:8080/",
          "height": 75
        }
      },
      "outputs": [
        {
          "output_type": "execute_result",
          "data": {
            "text/plain": [
              "KMeans(max_iter=50, n_clusters=3)"
            ],
            "text/html": [
              "<style>#sk-container-id-2 {color: black;background-color: white;}#sk-container-id-2 pre{padding: 0;}#sk-container-id-2 div.sk-toggleable {background-color: white;}#sk-container-id-2 label.sk-toggleable__label {cursor: pointer;display: block;width: 100%;margin-bottom: 0;padding: 0.3em;box-sizing: border-box;text-align: center;}#sk-container-id-2 label.sk-toggleable__label-arrow:before {content: \"▸\";float: left;margin-right: 0.25em;color: #696969;}#sk-container-id-2 label.sk-toggleable__label-arrow:hover:before {color: black;}#sk-container-id-2 div.sk-estimator:hover label.sk-toggleable__label-arrow:before {color: black;}#sk-container-id-2 div.sk-toggleable__content {max-height: 0;max-width: 0;overflow: hidden;text-align: left;background-color: #f0f8ff;}#sk-container-id-2 div.sk-toggleable__content pre {margin: 0.2em;color: black;border-radius: 0.25em;background-color: #f0f8ff;}#sk-container-id-2 input.sk-toggleable__control:checked~div.sk-toggleable__content {max-height: 200px;max-width: 100%;overflow: auto;}#sk-container-id-2 input.sk-toggleable__control:checked~label.sk-toggleable__label-arrow:before {content: \"▾\";}#sk-container-id-2 div.sk-estimator input.sk-toggleable__control:checked~label.sk-toggleable__label {background-color: #d4ebff;}#sk-container-id-2 div.sk-label input.sk-toggleable__control:checked~label.sk-toggleable__label {background-color: #d4ebff;}#sk-container-id-2 input.sk-hidden--visually {border: 0;clip: rect(1px 1px 1px 1px);clip: rect(1px, 1px, 1px, 1px);height: 1px;margin: -1px;overflow: hidden;padding: 0;position: absolute;width: 1px;}#sk-container-id-2 div.sk-estimator {font-family: monospace;background-color: #f0f8ff;border: 1px dotted black;border-radius: 0.25em;box-sizing: border-box;margin-bottom: 0.5em;}#sk-container-id-2 div.sk-estimator:hover {background-color: #d4ebff;}#sk-container-id-2 div.sk-parallel-item::after {content: \"\";width: 100%;border-bottom: 1px solid gray;flex-grow: 1;}#sk-container-id-2 div.sk-label:hover label.sk-toggleable__label {background-color: #d4ebff;}#sk-container-id-2 div.sk-serial::before {content: \"\";position: absolute;border-left: 1px solid gray;box-sizing: border-box;top: 0;bottom: 0;left: 50%;z-index: 0;}#sk-container-id-2 div.sk-serial {display: flex;flex-direction: column;align-items: center;background-color: white;padding-right: 0.2em;padding-left: 0.2em;position: relative;}#sk-container-id-2 div.sk-item {position: relative;z-index: 1;}#sk-container-id-2 div.sk-parallel {display: flex;align-items: stretch;justify-content: center;background-color: white;position: relative;}#sk-container-id-2 div.sk-item::before, #sk-container-id-2 div.sk-parallel-item::before {content: \"\";position: absolute;border-left: 1px solid gray;box-sizing: border-box;top: 0;bottom: 0;left: 50%;z-index: -1;}#sk-container-id-2 div.sk-parallel-item {display: flex;flex-direction: column;z-index: 1;position: relative;background-color: white;}#sk-container-id-2 div.sk-parallel-item:first-child::after {align-self: flex-end;width: 50%;}#sk-container-id-2 div.sk-parallel-item:last-child::after {align-self: flex-start;width: 50%;}#sk-container-id-2 div.sk-parallel-item:only-child::after {width: 0;}#sk-container-id-2 div.sk-dashed-wrapped {border: 1px dashed gray;margin: 0 0.4em 0.5em 0.4em;box-sizing: border-box;padding-bottom: 0.4em;background-color: white;}#sk-container-id-2 div.sk-label label {font-family: monospace;font-weight: bold;display: inline-block;line-height: 1.2em;}#sk-container-id-2 div.sk-label-container {text-align: center;}#sk-container-id-2 div.sk-container {/* jupyter's `normalize.less` sets `[hidden] { display: none; }` but bootstrap.min.css set `[hidden] { display: none !important; }` so we also need the `!important` here to be able to override the default hidden behavior on the sphinx rendered scikit-learn.org. See: https://github.com/scikit-learn/scikit-learn/issues/21755 */display: inline-block !important;position: relative;}#sk-container-id-2 div.sk-text-repr-fallback {display: none;}</style><div id=\"sk-container-id-2\" class=\"sk-top-container\"><div class=\"sk-text-repr-fallback\"><pre>KMeans(max_iter=50, n_clusters=3)</pre><b>In a Jupyter environment, please rerun this cell to show the HTML representation or trust the notebook. <br />On GitHub, the HTML representation is unable to render, please try loading this page with nbviewer.org.</b></div><div class=\"sk-container\" hidden><div class=\"sk-item\"><div class=\"sk-estimator sk-toggleable\"><input class=\"sk-toggleable__control sk-hidden--visually\" id=\"sk-estimator-id-2\" type=\"checkbox\" checked><label for=\"sk-estimator-id-2\" class=\"sk-toggleable__label sk-toggleable__label-arrow\">KMeans</label><div class=\"sk-toggleable__content\"><pre>KMeans(max_iter=50, n_clusters=3)</pre></div></div></div></div></div>"
            ]
          },
          "metadata": {},
          "execution_count": 233
        }
      ],
      "source": [
        "# final model with k=3\n",
        "kmeans = KMeans(n_clusters=3, max_iter=50)\n",
        "kmeans.fit(Clust_df)"
      ]
    },
    {
      "cell_type": "code",
      "execution_count": 234,
      "id": "b8aa7988",
      "metadata": {
        "id": "b8aa7988",
        "outputId": "909688b6-527c-4e49-930d-0cb8343c6ada",
        "colab": {
          "base_uri": "https://localhost:8080/"
        }
      },
      "outputs": [
        {
          "output_type": "execute_result",
          "data": {
            "text/plain": [
              "array([0, 0, 0, 0, 0, 0, 0, 0, 0, 0, 1, 0, 2, 0, 0, 0, 0, 0, 0, 0, 0, 0,\n",
              "       0, 0, 0, 0, 0, 2, 0, 0, 0, 2, 2, 0, 0, 0, 0, 2, 0, 0, 2, 0, 0, 1,\n",
              "       0, 0, 0, 0, 0, 0, 0, 0, 0, 0, 0, 1, 0, 0, 0, 0, 0, 0, 0, 0, 0, 0,\n",
              "       1, 0, 0, 0, 2, 0, 0, 0, 0, 0, 0, 0, 0, 0, 2, 2, 0, 0, 0, 0, 0, 0,\n",
              "       0, 0, 0, 0, 0, 0, 0, 0, 0, 0, 2, 0, 0, 0, 1, 0, 0, 0, 0, 0, 0, 0,\n",
              "       0, 0, 0, 0, 0, 0, 0, 0, 0, 0, 0, 2, 0, 0, 2, 2, 0, 0, 0, 0, 0, 0,\n",
              "       0, 0, 0, 2, 0, 0, 0, 0, 0, 0, 0, 0, 0, 0, 0, 0, 0, 0, 0, 0, 0, 0,\n",
              "       2, 2, 0, 0, 2, 0, 0, 1, 0, 0, 0, 0, 0, 0, 0, 2, 0, 0, 0, 0, 0, 0,\n",
              "       0, 0, 0, 0, 0, 0, 2, 2, 0, 2, 0, 0, 0, 0, 0, 0, 0, 0, 0, 0, 0, 0,\n",
              "       0, 0, 2, 0, 0, 0, 0, 0, 0, 2, 0, 0, 0, 0, 0, 0, 0, 0, 0, 0, 0, 0,\n",
              "       0, 0, 0, 2, 0, 0, 0, 0, 0, 0, 0, 0, 1, 0, 0, 0, 0, 2, 2, 0, 0, 0,\n",
              "       0, 0, 0, 2, 0, 0, 2, 0, 0, 0, 2, 0, 0, 2, 0, 2, 0, 2, 0, 0, 0, 0,\n",
              "       0, 0, 0, 0, 0, 0, 0, 2, 0, 2, 0, 0, 0, 0, 0, 0, 2, 0, 2, 0, 0, 0,\n",
              "       0, 1, 0, 0, 0, 0, 0, 0, 0, 0, 0, 0, 0, 0, 0, 0, 1, 0, 2, 2, 2, 0,\n",
              "       0, 0, 0, 0, 0, 0, 0, 0, 2, 0, 0, 0, 0, 2, 0, 0, 0, 0, 0, 0, 0, 1,\n",
              "       0, 0, 0, 0, 0, 0, 0, 0, 0, 0, 0, 0, 0, 0, 0, 0, 0, 0, 0, 0, 0, 0,\n",
              "       0, 0, 0, 0, 0, 0, 0, 2, 0, 0, 1, 0, 0, 0, 0, 0, 0, 0, 2, 0, 0, 0,\n",
              "       0, 0, 2, 0, 2, 2, 0, 0, 0, 0, 0, 0, 0, 0, 0, 0, 0, 0, 0, 0, 2, 0,\n",
              "       0, 0, 0, 0, 0, 0, 0, 0, 0, 1, 0, 0, 0, 0, 0, 0, 0, 2, 0, 0, 0, 0,\n",
              "       0, 0, 0, 0, 0, 0, 0, 0, 0, 0, 0, 0, 0, 0, 0, 0, 0, 0, 0, 0, 0, 0,\n",
              "       0, 0, 0, 0, 0, 0, 0, 0, 0, 0, 0, 0, 0, 0, 0, 0, 0, 0, 2, 0, 0, 0,\n",
              "       0, 0, 2, 0, 0, 0, 0, 1, 0, 0, 0, 0, 0, 0, 0, 0, 0, 0, 2, 0, 0, 0,\n",
              "       0, 0, 0, 0, 0, 0, 0, 2, 0, 0, 0, 0, 0, 0, 0, 0, 0, 0, 0, 0, 0, 0,\n",
              "       0, 0, 0, 0, 0, 2, 1, 1, 0, 0, 1, 0, 0, 0, 0, 0, 0, 0, 0, 0, 0, 0,\n",
              "       0, 0, 0, 0, 1, 0, 0, 0, 2, 0, 0, 0, 0, 0, 0, 0, 0, 0, 0, 0, 0, 0,\n",
              "       0, 0, 0, 0, 1, 0, 0, 0, 0, 0, 0, 0, 0, 0, 0, 0, 0, 0, 2, 0, 0, 0,\n",
              "       0, 2, 2, 0, 0, 0, 0, 0, 0, 0, 0, 0, 0, 0, 0, 0, 0, 0, 0, 0, 0, 0,\n",
              "       0, 0, 0, 0, 0, 0, 0, 0, 0, 0, 0, 0, 0, 0, 0, 2, 0, 0, 0, 0, 0, 0,\n",
              "       0, 0, 0, 0, 0, 0, 0, 0, 0, 0, 0, 0, 0, 0, 0, 0, 0, 0, 2, 0, 0, 0,\n",
              "       0, 1, 0, 0, 0, 0, 0, 0, 2, 0, 2, 0, 0, 0, 0, 0, 0, 0, 0, 0, 0, 0,\n",
              "       0, 0, 0, 0, 0, 0, 0, 0, 2, 0, 0, 0, 0, 0, 0, 0, 0, 0, 0, 0, 0, 0,\n",
              "       0, 0, 0, 0, 0, 0, 0, 0], dtype=int32)"
            ]
          },
          "metadata": {},
          "execution_count": 234
        }
      ],
      "source": [
        "kmeans.labels_"
      ]
    },
    {
      "cell_type": "code",
      "execution_count": 235,
      "id": "0e35dea0",
      "metadata": {
        "id": "0e35dea0",
        "outputId": "2a9366ea-1c79-4d0f-efc4-654b0fadce0d",
        "colab": {
          "base_uri": "https://localhost:8080/",
          "height": 206
        }
      },
      "outputs": [
        {
          "output_type": "execute_result",
          "data": {
            "text/plain": [
              "  CUSTOMER_NAME  Avg. days for Payment  Std.deviation for Payment  cluster_id\n",
              "0     3D D Corp              -0.539379                  -0.569399           0\n",
              "1     6TH  Corp              -0.427407                  -0.631189           0\n",
              "2     A3 D Corp              -0.394835                  -0.089152           0\n",
              "3     ABC  Corp              -0.597152                  -0.727783           0\n",
              "4     ABDU Corp              -0.178023                  -0.060756           0"
            ],
            "text/html": [
              "\n",
              "  <div id=\"df-3d1e8ff0-0e0c-4862-9457-bbbd5d7dda70\">\n",
              "    <div class=\"colab-df-container\">\n",
              "      <div>\n",
              "<style scoped>\n",
              "    .dataframe tbody tr th:only-of-type {\n",
              "        vertical-align: middle;\n",
              "    }\n",
              "\n",
              "    .dataframe tbody tr th {\n",
              "        vertical-align: top;\n",
              "    }\n",
              "\n",
              "    .dataframe thead th {\n",
              "        text-align: right;\n",
              "    }\n",
              "</style>\n",
              "<table border=\"1\" class=\"dataframe\">\n",
              "  <thead>\n",
              "    <tr style=\"text-align: right;\">\n",
              "      <th></th>\n",
              "      <th>CUSTOMER_NAME</th>\n",
              "      <th>Avg. days for Payment</th>\n",
              "      <th>Std.deviation for Payment</th>\n",
              "      <th>cluster_id</th>\n",
              "    </tr>\n",
              "  </thead>\n",
              "  <tbody>\n",
              "    <tr>\n",
              "      <th>0</th>\n",
              "      <td>3D D Corp</td>\n",
              "      <td>-0.539379</td>\n",
              "      <td>-0.569399</td>\n",
              "      <td>0</td>\n",
              "    </tr>\n",
              "    <tr>\n",
              "      <th>1</th>\n",
              "      <td>6TH  Corp</td>\n",
              "      <td>-0.427407</td>\n",
              "      <td>-0.631189</td>\n",
              "      <td>0</td>\n",
              "    </tr>\n",
              "    <tr>\n",
              "      <th>2</th>\n",
              "      <td>A3 D Corp</td>\n",
              "      <td>-0.394835</td>\n",
              "      <td>-0.089152</td>\n",
              "      <td>0</td>\n",
              "    </tr>\n",
              "    <tr>\n",
              "      <th>3</th>\n",
              "      <td>ABC  Corp</td>\n",
              "      <td>-0.597152</td>\n",
              "      <td>-0.727783</td>\n",
              "      <td>0</td>\n",
              "    </tr>\n",
              "    <tr>\n",
              "      <th>4</th>\n",
              "      <td>ABDU Corp</td>\n",
              "      <td>-0.178023</td>\n",
              "      <td>-0.060756</td>\n",
              "      <td>0</td>\n",
              "    </tr>\n",
              "  </tbody>\n",
              "</table>\n",
              "</div>\n",
              "      <button class=\"colab-df-convert\" onclick=\"convertToInteractive('df-3d1e8ff0-0e0c-4862-9457-bbbd5d7dda70')\"\n",
              "              title=\"Convert this dataframe to an interactive table.\"\n",
              "              style=\"display:none;\">\n",
              "        \n",
              "  <svg xmlns=\"http://www.w3.org/2000/svg\" height=\"24px\"viewBox=\"0 0 24 24\"\n",
              "       width=\"24px\">\n",
              "    <path d=\"M0 0h24v24H0V0z\" fill=\"none\"/>\n",
              "    <path d=\"M18.56 5.44l.94 2.06.94-2.06 2.06-.94-2.06-.94-.94-2.06-.94 2.06-2.06.94zm-11 1L8.5 8.5l.94-2.06 2.06-.94-2.06-.94L8.5 2.5l-.94 2.06-2.06.94zm10 10l.94 2.06.94-2.06 2.06-.94-2.06-.94-.94-2.06-.94 2.06-2.06.94z\"/><path d=\"M17.41 7.96l-1.37-1.37c-.4-.4-.92-.59-1.43-.59-.52 0-1.04.2-1.43.59L10.3 9.45l-7.72 7.72c-.78.78-.78 2.05 0 2.83L4 21.41c.39.39.9.59 1.41.59.51 0 1.02-.2 1.41-.59l7.78-7.78 2.81-2.81c.8-.78.8-2.07 0-2.86zM5.41 20L4 18.59l7.72-7.72 1.47 1.35L5.41 20z\"/>\n",
              "  </svg>\n",
              "      </button>\n",
              "      \n",
              "  <style>\n",
              "    .colab-df-container {\n",
              "      display:flex;\n",
              "      flex-wrap:wrap;\n",
              "      gap: 12px;\n",
              "    }\n",
              "\n",
              "    .colab-df-convert {\n",
              "      background-color: #E8F0FE;\n",
              "      border: none;\n",
              "      border-radius: 50%;\n",
              "      cursor: pointer;\n",
              "      display: none;\n",
              "      fill: #1967D2;\n",
              "      height: 32px;\n",
              "      padding: 0 0 0 0;\n",
              "      width: 32px;\n",
              "    }\n",
              "\n",
              "    .colab-df-convert:hover {\n",
              "      background-color: #E2EBFA;\n",
              "      box-shadow: 0px 1px 2px rgba(60, 64, 67, 0.3), 0px 1px 3px 1px rgba(60, 64, 67, 0.15);\n",
              "      fill: #174EA6;\n",
              "    }\n",
              "\n",
              "    [theme=dark] .colab-df-convert {\n",
              "      background-color: #3B4455;\n",
              "      fill: #D2E3FC;\n",
              "    }\n",
              "\n",
              "    [theme=dark] .colab-df-convert:hover {\n",
              "      background-color: #434B5C;\n",
              "      box-shadow: 0px 1px 3px 1px rgba(0, 0, 0, 0.15);\n",
              "      filter: drop-shadow(0px 1px 2px rgba(0, 0, 0, 0.3));\n",
              "      fill: #FFFFFF;\n",
              "    }\n",
              "  </style>\n",
              "\n",
              "      <script>\n",
              "        const buttonEl =\n",
              "          document.querySelector('#df-3d1e8ff0-0e0c-4862-9457-bbbd5d7dda70 button.colab-df-convert');\n",
              "        buttonEl.style.display =\n",
              "          google.colab.kernel.accessAllowed ? 'block' : 'none';\n",
              "\n",
              "        async function convertToInteractive(key) {\n",
              "          const element = document.querySelector('#df-3d1e8ff0-0e0c-4862-9457-bbbd5d7dda70');\n",
              "          const dataTable =\n",
              "            await google.colab.kernel.invokeFunction('convertToInteractive',\n",
              "                                                     [key], {});\n",
              "          if (!dataTable) return;\n",
              "\n",
              "          const docLinkHtml = 'Like what you see? Visit the ' +\n",
              "            '<a target=\"_blank\" href=https://colab.research.google.com/notebooks/data_table.ipynb>data table notebook</a>'\n",
              "            + ' to learn more about interactive tables.';\n",
              "          element.innerHTML = '';\n",
              "          dataTable['output_type'] = 'display_data';\n",
              "          await google.colab.output.renderOutput(dataTable, element);\n",
              "          const docLink = document.createElement('div');\n",
              "          docLink.innerHTML = docLinkHtml;\n",
              "          element.appendChild(docLink);\n",
              "        }\n",
              "      </script>\n",
              "    </div>\n",
              "  </div>\n",
              "  "
            ]
          },
          "metadata": {},
          "execution_count": 235
        }
      ],
      "source": [
        "# assign the label\n",
        "Cust_seg['cluster_id'] = kmeans.labels_\n",
        "Cust_seg.head()"
      ]
    },
    {
      "cell_type": "code",
      "execution_count": 236,
      "id": "689684ab",
      "metadata": {
        "id": "689684ab",
        "outputId": "931bb992-121e-4c0c-d311-7e9ba1a6d1ef",
        "colab": {
          "base_uri": "https://localhost:8080/",
          "height": 242
        }
      },
      "outputs": [
        {
          "output_type": "display_data",
          "data": {
            "text/plain": [
              "<Figure size 720x216 with 2 Axes>"
            ],
            "image/png": "[encoded data removed]"
          },
          "metadata": {
            "needs_background": "light"
          }
        }
      ],
      "source": [
        "# plotting \n",
        "plt.figure(figsize=(10,3))\n",
        "plt.subplot(1,2,1)\n",
        "sns.boxplot(x='cluster_id', y='Avg. days for Payment', data=Cust_seg)\n",
        "plt.title(\"Cluster Based on Avg. days for Payment\")\n",
        "\n",
        "\n",
        "plt.subplot(1,2,2)\n",
        "sns.boxplot(x='cluster_id', y='Std.deviation for Payment', data=Cust_seg)\n",
        "plt.title(\"Cluster Based on Std.deviation for Payment\")\n",
        "plt.show()\n"
      ]
    },
    {
      "cell_type": "markdown",
      "id": "0210dcaa",
      "metadata": {
        "id": "0210dcaa"
      },
      "source": [
        "**Based on Avg.days for Payment clusters ,we can see three clusters as below-**\n",
        "\n",
        "   '0' Cluster -- Fast Invoice Payment\n",
        "   \n",
        "   '1' Cluster -- Delay/Late Invoice Payment\n",
        "   \n",
        "   '2' Cluster -- Medium Invoice Payment\n",
        "\n"
      ]
    },
    {
      "cell_type": "markdown",
      "id": "b87acede",
      "metadata": {
        "id": "b87acede"
      },
      "source": [
        "### Data Preparation for Model Building\n",
        "<hr/>"
      ]
    },
    {
      "cell_type": "code",
      "execution_count": 237,
      "id": "cb17e1e0",
      "metadata": {
        "id": "cb17e1e0",
        "outputId": "e33837c9-c53c-4244-9618-39a8e44938b3",
        "colab": {
          "base_uri": "https://localhost:8080/"
        }
      },
      "outputs": [
        {
          "output_type": "execute_result",
          "data": {
            "text/plain": [
              "Index(['RECEIPT_METHOD', 'CUSTOMER_NAME', 'CUSTOMER_NUMBER', 'RECEIPT_DOC_NO',\n",
              "       'RECEIPT_DATE', 'CLASS', 'CURRENCY_CODE', 'Local Amount', 'USD Amount',\n",
              "       'INVOICE_ALLOCATED', 'INVOICE_CREATION_DATE', 'DUE_DATE',\n",
              "       'PAYMENT_TERM', 'INVOICE_CLASS', 'INVOICE_CURRENCY_CODE',\n",
              "       'INVOICE_TYPE', 'Actual_Days_for_Pmt', 'Time_btw_due & recpt_date',\n",
              "       'target', 'Payment_Term_Days'],\n",
              "      dtype='object')"
            ]
          },
          "metadata": {},
          "execution_count": 237
        }
      ],
      "source": [
        "rpd_df.columns"
      ]
    },
    {
      "cell_type": "code",
      "execution_count": 238,
      "id": "2bcfec4a",
      "metadata": {
        "id": "2bcfec4a"
      },
      "outputs": [],
      "source": [
        "drop_cols.append('CUSTOMER_NUMBER')# Dropping columns -unique identification\n",
        "drop_cols.append('CURRENCY_CODE')# Checking only invoice level columns\n",
        "drop_cols.append('INVOICE_CREATION_DATE')# Derived columns used instead of it\n",
        "drop_cols.append('DUE_DATE')# Derived columns used instead of it\n",
        "drop_cols.append('Actual_Days_for_Pmt')# Derived columns used instead of it"
      ]
    },
    {
      "cell_type": "code",
      "execution_count": 239,
      "id": "fda0eabe",
      "metadata": {
        "id": "fda0eabe"
      },
      "outputs": [],
      "source": [
        "rpd_df_m=rpd_df.drop(drop_cols,axis=1)"
      ]
    },
    {
      "cell_type": "code",
      "execution_count": 240,
      "id": "3c583286",
      "metadata": {
        "id": "3c583286",
        "outputId": "0ba599d1-3a9e-46f7-eee3-fadfd12ba0cd",
        "colab": {
          "base_uri": "https://localhost:8080/",
          "height": 206
        }
      },
      "outputs": [
        {
          "output_type": "execute_result",
          "data": {
            "text/plain": [
              "  CUSTOMER_NAME  USD Amount INVOICE_ALLOCATED INVOICE_CLASS  \\\n",
              "0     C EA Corp        0.10       14200000001           INV   \n",
              "1     RADW Corp        0.05       99200000043           INV   \n",
              "2     RADW Corp        0.04       99210000003           INV   \n",
              "3     FARO Corp        0.04       99200000038           INV   \n",
              "4     RADW Corp        0.04       99200000039           INV   \n",
              "\n",
              "  INVOICE_CURRENCY_CODE INVOICE_TYPE  target  Payment_Term_Days  \n",
              "0                   AED    Non Goods       0               30.0  \n",
              "1                   SAR    Non Goods       0               30.0  \n",
              "2                   SAR    Non Goods       1               30.0  \n",
              "3                   SAR    Non Goods       0               30.0  \n",
              "4                   SAR    Non Goods       0               30.0  "
            ],
            "text/html": [
              "\n",
              "  <div id=\"df-fbcd36b6-e052-42a9-aeed-3a41c1975429\">\n",
              "    <div class=\"colab-df-container\">\n",
              "      <div>\n",
              "<style scoped>\n",
              "    .dataframe tbody tr th:only-of-type {\n",
              "        vertical-align: middle;\n",
              "    }\n",
              "\n",
              "    .dataframe tbody tr th {\n",
              "        vertical-align: top;\n",
              "    }\n",
              "\n",
              "    .dataframe thead th {\n",
              "        text-align: right;\n",
              "    }\n",
              "</style>\n",
              "<table border=\"1\" class=\"dataframe\">\n",
              "  <thead>\n",
              "    <tr style=\"text-align: right;\">\n",
              "      <th></th>\n",
              "      <th>CUSTOMER_NAME</th>\n",
              "      <th>USD Amount</th>\n",
              "      <th>INVOICE_ALLOCATED</th>\n",
              "      <th>INVOICE_CLASS</th>\n",
              "      <th>INVOICE_CURRENCY_CODE</th>\n",
              "      <th>INVOICE_TYPE</th>\n",
              "      <th>target</th>\n",
              "      <th>Payment_Term_Days</th>\n",
              "    </tr>\n",
              "  </thead>\n",
              "  <tbody>\n",
              "    <tr>\n",
              "      <th>0</th>\n",
              "      <td>C EA Corp</td>\n",
              "      <td>0.10</td>\n",
              "      <td>14200000001</td>\n",
              "      <td>INV</td>\n",
              "      <td>AED</td>\n",
              "      <td>Non Goods</td>\n",
              "      <td>0</td>\n",
              "      <td>30.0</td>\n",
              "    </tr>\n",
              "    <tr>\n",
              "      <th>1</th>\n",
              "      <td>RADW Corp</td>\n",
              "      <td>0.05</td>\n",
              "      <td>99200000043</td>\n",
              "      <td>INV</td>\n",
              "      <td>SAR</td>\n",
              "      <td>Non Goods</td>\n",
              "      <td>0</td>\n",
              "      <td>30.0</td>\n",
              "    </tr>\n",
              "    <tr>\n",
              "      <th>2</th>\n",
              "      <td>RADW Corp</td>\n",
              "      <td>0.04</td>\n",
              "      <td>99210000003</td>\n",
              "      <td>INV</td>\n",
              "      <td>SAR</td>\n",
              "      <td>Non Goods</td>\n",
              "      <td>1</td>\n",
              "      <td>30.0</td>\n",
              "    </tr>\n",
              "    <tr>\n",
              "      <th>3</th>\n",
              "      <td>FARO Corp</td>\n",
              "      <td>0.04</td>\n",
              "      <td>99200000038</td>\n",
              "      <td>INV</td>\n",
              "      <td>SAR</td>\n",
              "      <td>Non Goods</td>\n",
              "      <td>0</td>\n",
              "      <td>30.0</td>\n",
              "    </tr>\n",
              "    <tr>\n",
              "      <th>4</th>\n",
              "      <td>RADW Corp</td>\n",
              "      <td>0.04</td>\n",
              "      <td>99200000039</td>\n",
              "      <td>INV</td>\n",
              "      <td>SAR</td>\n",
              "      <td>Non Goods</td>\n",
              "      <td>0</td>\n",
              "      <td>30.0</td>\n",
              "    </tr>\n",
              "  </tbody>\n",
              "</table>\n",
              "</div>\n",
              "      <button class=\"colab-df-convert\" onclick=\"convertToInteractive('df-fbcd36b6-e052-42a9-aeed-3a41c1975429')\"\n",
              "              title=\"Convert this dataframe to an interactive table.\"\n",
              "              style=\"display:none;\">\n",
              "        \n",
              "  <svg xmlns=\"http://www.w3.org/2000/svg\" height=\"24px\"viewBox=\"0 0 24 24\"\n",
              "       width=\"24px\">\n",
              "    <path d=\"M0 0h24v24H0V0z\" fill=\"none\"/>\n",
              "    <path d=\"M18.56 5.44l.94 2.06.94-2.06 2.06-.94-2.06-.94-.94-2.06-.94 2.06-2.06.94zm-11 1L8.5 8.5l.94-2.06 2.06-.94-2.06-.94L8.5 2.5l-.94 2.06-2.06.94zm10 10l.94 2.06.94-2.06 2.06-.94-2.06-.94-.94-2.06-.94 2.06-2.06.94z\"/><path d=\"M17.41 7.96l-1.37-1.37c-.4-.4-.92-.59-1.43-.59-.52 0-1.04.2-1.43.59L10.3 9.45l-7.72 7.72c-.78.78-.78 2.05 0 2.83L4 21.41c.39.39.9.59 1.41.59.51 0 1.02-.2 1.41-.59l7.78-7.78 2.81-2.81c.8-.78.8-2.07 0-2.86zM5.41 20L4 18.59l7.72-7.72 1.47 1.35L5.41 20z\"/>\n",
              "  </svg>\n",
              "      </button>\n",
              "      \n",
              "  <style>\n",
              "    .colab-df-container {\n",
              "      display:flex;\n",
              "      flex-wrap:wrap;\n",
              "      gap: 12px;\n",
              "    }\n",
              "\n",
              "    .colab-df-convert {\n",
              "      background-color: #E8F0FE;\n",
              "      border: none;\n",
              "      border-radius: 50%;\n",
              "      cursor: pointer;\n",
              "      display: none;\n",
              "      fill: #1967D2;\n",
              "      height: 32px;\n",
              "      padding: 0 0 0 0;\n",
              "      width: 32px;\n",
              "    }\n",
              "\n",
              "    .colab-df-convert:hover {\n",
              "      background-color: #E2EBFA;\n",
              "      box-shadow: 0px 1px 2px rgba(60, 64, 67, 0.3), 0px 1px 3px 1px rgba(60, 64, 67, 0.15);\n",
              "      fill: #174EA6;\n",
              "    }\n",
              "\n",
              "    [theme=dark] .colab-df-convert {\n",
              "      background-color: #3B4455;\n",
              "      fill: #D2E3FC;\n",
              "    }\n",
              "\n",
              "    [theme=dark] .colab-df-convert:hover {\n",
              "      background-color: #434B5C;\n",
              "      box-shadow: 0px 1px 3px 1px rgba(0, 0, 0, 0.15);\n",
              "      filter: drop-shadow(0px 1px 2px rgba(0, 0, 0, 0.3));\n",
              "      fill: #FFFFFF;\n",
              "    }\n",
              "  </style>\n",
              "\n",
              "      <script>\n",
              "        const buttonEl =\n",
              "          document.querySelector('#df-fbcd36b6-e052-42a9-aeed-3a41c1975429 button.colab-df-convert');\n",
              "        buttonEl.style.display =\n",
              "          google.colab.kernel.accessAllowed ? 'block' : 'none';\n",
              "\n",
              "        async function convertToInteractive(key) {\n",
              "          const element = document.querySelector('#df-fbcd36b6-e052-42a9-aeed-3a41c1975429');\n",
              "          const dataTable =\n",
              "            await google.colab.kernel.invokeFunction('convertToInteractive',\n",
              "                                                     [key], {});\n",
              "          if (!dataTable) return;\n",
              "\n",
              "          const docLinkHtml = 'Like what you see? Visit the ' +\n",
              "            '<a target=\"_blank\" href=https://colab.research.google.com/notebooks/data_table.ipynb>data table notebook</a>'\n",
              "            + ' to learn more about interactive tables.';\n",
              "          element.innerHTML = '';\n",
              "          dataTable['output_type'] = 'display_data';\n",
              "          await google.colab.output.renderOutput(dataTable, element);\n",
              "          const docLink = document.createElement('div');\n",
              "          docLink.innerHTML = docLinkHtml;\n",
              "          element.appendChild(docLink);\n",
              "        }\n",
              "      </script>\n",
              "    </div>\n",
              "  </div>\n",
              "  "
            ]
          },
          "metadata": {},
          "execution_count": 240
        }
      ],
      "source": [
        "rpd_df_m.head()"
      ]
    },
    {
      "cell_type": "code",
      "execution_count": 241,
      "id": "04ba8255",
      "metadata": {
        "id": "04ba8255"
      },
      "outputs": [],
      "source": [
        "rpd_df_m=pd.merge(rpd_df_m,Cust_seg,how='left',on='CUSTOMER_NAME')"
      ]
    },
    {
      "cell_type": "code",
      "execution_count": 242,
      "id": "9a6baa8c",
      "metadata": {
        "id": "9a6baa8c"
      },
      "outputs": [],
      "source": [
        "rpd_df_m.drop(['Avg. days for Payment','Std.deviation for Payment','CUSTOMER_NAME','INVOICE_ALLOCATED'],axis=1,inplace=True)"
      ]
    },
    {
      "cell_type": "code",
      "execution_count": 243,
      "id": "d19f195c",
      "metadata": {
        "id": "d19f195c",
        "outputId": "3cbfa01b-de95-47fc-8ff1-2d5a1b807e1d",
        "colab": {
          "base_uri": "https://localhost:8080/",
          "height": 206
        }
      },
      "outputs": [
        {
          "output_type": "execute_result",
          "data": {
            "text/plain": [
              "   USD Amount INVOICE_CLASS INVOICE_CURRENCY_CODE INVOICE_TYPE  target  \\\n",
              "0        0.10           INV                   AED    Non Goods       0   \n",
              "1        0.05           INV                   SAR    Non Goods       0   \n",
              "2        0.04           INV                   SAR    Non Goods       1   \n",
              "3        0.04           INV                   SAR    Non Goods       0   \n",
              "4        0.04           INV                   SAR    Non Goods       0   \n",
              "\n",
              "   Payment_Term_Days  cluster_id  \n",
              "0               30.0           0  \n",
              "1               30.0           0  \n",
              "2               30.0           0  \n",
              "3               30.0           2  \n",
              "4               30.0           0  "
            ],
            "text/html": [
              "\n",
              "  <div id=\"df-69029367-ad46-440c-93a5-adf9233b3f85\">\n",
              "    <div class=\"colab-df-container\">\n",
              "      <div>\n",
              "<style scoped>\n",
              "    .dataframe tbody tr th:only-of-type {\n",
              "        vertical-align: middle;\n",
              "    }\n",
              "\n",
              "    .dataframe tbody tr th {\n",
              "        vertical-align: top;\n",
              "    }\n",
              "\n",
              "    .dataframe thead th {\n",
              "        text-align: right;\n",
              "    }\n",
              "</style>\n",
              "<table border=\"1\" class=\"dataframe\">\n",
              "  <thead>\n",
              "    <tr style=\"text-align: right;\">\n",
              "      <th></th>\n",
              "      <th>USD Amount</th>\n",
              "      <th>INVOICE_CLASS</th>\n",
              "      <th>INVOICE_CURRENCY_CODE</th>\n",
              "      <th>INVOICE_TYPE</th>\n",
              "      <th>target</th>\n",
              "      <th>Payment_Term_Days</th>\n",
              "      <th>cluster_id</th>\n",
              "    </tr>\n",
              "  </thead>\n",
              "  <tbody>\n",
              "    <tr>\n",
              "      <th>0</th>\n",
              "      <td>0.10</td>\n",
              "      <td>INV</td>\n",
              "      <td>AED</td>\n",
              "      <td>Non Goods</td>\n",
              "      <td>0</td>\n",
              "      <td>30.0</td>\n",
              "      <td>0</td>\n",
              "    </tr>\n",
              "    <tr>\n",
              "      <th>1</th>\n",
              "      <td>0.05</td>\n",
              "      <td>INV</td>\n",
              "      <td>SAR</td>\n",
              "      <td>Non Goods</td>\n",
              "      <td>0</td>\n",
              "      <td>30.0</td>\n",
              "      <td>0</td>\n",
              "    </tr>\n",
              "    <tr>\n",
              "      <th>2</th>\n",
              "      <td>0.04</td>\n",
              "      <td>INV</td>\n",
              "      <td>SAR</td>\n",
              "      <td>Non Goods</td>\n",
              "      <td>1</td>\n",
              "      <td>30.0</td>\n",
              "      <td>0</td>\n",
              "    </tr>\n",
              "    <tr>\n",
              "      <th>3</th>\n",
              "      <td>0.04</td>\n",
              "      <td>INV</td>\n",
              "      <td>SAR</td>\n",
              "      <td>Non Goods</td>\n",
              "      <td>0</td>\n",
              "      <td>30.0</td>\n",
              "      <td>2</td>\n",
              "    </tr>\n",
              "    <tr>\n",
              "      <th>4</th>\n",
              "      <td>0.04</td>\n",
              "      <td>INV</td>\n",
              "      <td>SAR</td>\n",
              "      <td>Non Goods</td>\n",
              "      <td>0</td>\n",
              "      <td>30.0</td>\n",
              "      <td>0</td>\n",
              "    </tr>\n",
              "  </tbody>\n",
              "</table>\n",
              "</div>\n",
              "      <button class=\"colab-df-convert\" onclick=\"convertToInteractive('df-69029367-ad46-440c-93a5-adf9233b3f85')\"\n",
              "              title=\"Convert this dataframe to an interactive table.\"\n",
              "              style=\"display:none;\">\n",
              "        \n",
              "  <svg xmlns=\"http://www.w3.org/2000/svg\" height=\"24px\"viewBox=\"0 0 24 24\"\n",
              "       width=\"24px\">\n",
              "    <path d=\"M0 0h24v24H0V0z\" fill=\"none\"/>\n",
              "    <path d=\"M18.56 5.44l.94 2.06.94-2.06 2.06-.94-2.06-.94-.94-2.06-.94 2.06-2.06.94zm-11 1L8.5 8.5l.94-2.06 2.06-.94-2.06-.94L8.5 2.5l-.94 2.06-2.06.94zm10 10l.94 2.06.94-2.06 2.06-.94-2.06-.94-.94-2.06-.94 2.06-2.06.94z\"/><path d=\"M17.41 7.96l-1.37-1.37c-.4-.4-.92-.59-1.43-.59-.52 0-1.04.2-1.43.59L10.3 9.45l-7.72 7.72c-.78.78-.78 2.05 0 2.83L4 21.41c.39.39.9.59 1.41.59.51 0 1.02-.2 1.41-.59l7.78-7.78 2.81-2.81c.8-.78.8-2.07 0-2.86zM5.41 20L4 18.59l7.72-7.72 1.47 1.35L5.41 20z\"/>\n",
              "  </svg>\n",
              "      </button>\n",
              "      \n",
              "  <style>\n",
              "    .colab-df-container {\n",
              "      display:flex;\n",
              "      flex-wrap:wrap;\n",
              "      gap: 12px;\n",
              "    }\n",
              "\n",
              "    .colab-df-convert {\n",
              "      background-color: #E8F0FE;\n",
              "      border: none;\n",
              "      border-radius: 50%;\n",
              "      cursor: pointer;\n",
              "      display: none;\n",
              "      fill: #1967D2;\n",
              "      height: 32px;\n",
              "      padding: 0 0 0 0;\n",
              "      width: 32px;\n",
              "    }\n",
              "\n",
              "    .colab-df-convert:hover {\n",
              "      background-color: #E2EBFA;\n",
              "      box-shadow: 0px 1px 2px rgba(60, 64, 67, 0.3), 0px 1px 3px 1px rgba(60, 64, 67, 0.15);\n",
              "      fill: #174EA6;\n",
              "    }\n",
              "\n",
              "    [theme=dark] .colab-df-convert {\n",
              "      background-color: #3B4455;\n",
              "      fill: #D2E3FC;\n",
              "    }\n",
              "\n",
              "    [theme=dark] .colab-df-convert:hover {\n",
              "      background-color: #434B5C;\n",
              "      box-shadow: 0px 1px 3px 1px rgba(0, 0, 0, 0.15);\n",
              "      filter: drop-shadow(0px 1px 2px rgba(0, 0, 0, 0.3));\n",
              "      fill: #FFFFFF;\n",
              "    }\n",
              "  </style>\n",
              "\n",
              "      <script>\n",
              "        const buttonEl =\n",
              "          document.querySelector('#df-69029367-ad46-440c-93a5-adf9233b3f85 button.colab-df-convert');\n",
              "        buttonEl.style.display =\n",
              "          google.colab.kernel.accessAllowed ? 'block' : 'none';\n",
              "\n",
              "        async function convertToInteractive(key) {\n",
              "          const element = document.querySelector('#df-69029367-ad46-440c-93a5-adf9233b3f85');\n",
              "          const dataTable =\n",
              "            await google.colab.kernel.invokeFunction('convertToInteractive',\n",
              "                                                     [key], {});\n",
              "          if (!dataTable) return;\n",
              "\n",
              "          const docLinkHtml = 'Like what you see? Visit the ' +\n",
              "            '<a target=\"_blank\" href=https://colab.research.google.com/notebooks/data_table.ipynb>data table notebook</a>'\n",
              "            + ' to learn more about interactive tables.';\n",
              "          element.innerHTML = '';\n",
              "          dataTable['output_type'] = 'display_data';\n",
              "          await google.colab.output.renderOutput(dataTable, element);\n",
              "          const docLink = document.createElement('div');\n",
              "          docLink.innerHTML = docLinkHtml;\n",
              "          element.appendChild(docLink);\n",
              "        }\n",
              "      </script>\n",
              "    </div>\n",
              "  </div>\n",
              "  "
            ]
          },
          "metadata": {},
          "execution_count": 243
        }
      ],
      "source": [
        "rpd_df_m.head()"
      ]
    },
    {
      "cell_type": "code",
      "execution_count": 244,
      "id": "7b7faa1f",
      "metadata": {
        "id": "7b7faa1f"
      },
      "outputs": [],
      "source": [
        "Cat_cols=['INVOICE_CLASS','INVOICE_CURRENCY_CODE','INVOICE_TYPE']"
      ]
    },
    {
      "cell_type": "code",
      "execution_count": 245,
      "id": "26e96e08",
      "metadata": {
        "id": "26e96e08"
      },
      "outputs": [],
      "source": [
        "#dummy variable creation\n",
        "dummies=pd.get_dummies(rpd_df[Cat_cols],drop_first=True)"
      ]
    },
    {
      "cell_type": "code",
      "execution_count": 246,
      "id": "c1ad126a",
      "metadata": {
        "id": "c1ad126a",
        "outputId": "1edabc3d-6329-493a-805a-03945f803137",
        "colab": {
          "base_uri": "https://localhost:8080/"
        }
      },
      "outputs": [
        {
          "output_type": "stream",
          "name": "stdout",
          "text": [
            "<class 'pandas.core.frame.DataFrame'>\n",
            "RangeIndex: 93937 entries, 0 to 93936\n",
            "Data columns (total 12 columns):\n",
            " #   Column                     Non-Null Count  Dtype\n",
            "---  ------                     --------------  -----\n",
            " 0   INVOICE_CLASS_DM           93937 non-null  uint8\n",
            " 1   INVOICE_CLASS_INV          93937 non-null  uint8\n",
            " 2   INVOICE_CURRENCY_CODE_BHD  93937 non-null  uint8\n",
            " 3   INVOICE_CURRENCY_CODE_EUR  93937 non-null  uint8\n",
            " 4   INVOICE_CURRENCY_CODE_GBP  93937 non-null  uint8\n",
            " 5   INVOICE_CURRENCY_CODE_JOD  93937 non-null  uint8\n",
            " 6   INVOICE_CURRENCY_CODE_KWD  93937 non-null  uint8\n",
            " 7   INVOICE_CURRENCY_CODE_QAR  93937 non-null  uint8\n",
            " 8   INVOICE_CURRENCY_CODE_SAR  93937 non-null  uint8\n",
            " 9   INVOICE_CURRENCY_CODE_USD  93937 non-null  uint8\n",
            " 10  INVOICE_CURRENCY_CODE_ZAR  93937 non-null  uint8\n",
            " 11  INVOICE_TYPE_Non Goods     93937 non-null  uint8\n",
            "dtypes: uint8(12)\n",
            "memory usage: 1.1 MB\n"
          ]
        }
      ],
      "source": [
        "dummies.info()"
      ]
    },
    {
      "cell_type": "code",
      "execution_count": 247,
      "id": "11240f81",
      "metadata": {
        "id": "11240f81"
      },
      "outputs": [],
      "source": [
        "# merging dataframe\n",
        "rpd_df_m=pd.concat([rpd_df_m,dummies],axis=1)"
      ]
    },
    {
      "cell_type": "code",
      "execution_count": 248,
      "id": "b4808865",
      "metadata": {
        "id": "b4808865",
        "outputId": "4dd1279c-507e-499f-bfec-88a111f3d1c0",
        "colab": {
          "base_uri": "https://localhost:8080/"
        }
      },
      "outputs": [
        {
          "output_type": "stream",
          "name": "stdout",
          "text": [
            "<class 'pandas.core.frame.DataFrame'>\n",
            "Int64Index: 93937 entries, 0 to 93936\n",
            "Data columns (total 19 columns):\n",
            " #   Column                     Non-Null Count  Dtype  \n",
            "---  ------                     --------------  -----  \n",
            " 0   USD Amount                 93937 non-null  float64\n",
            " 1   INVOICE_CLASS              93937 non-null  object \n",
            " 2   INVOICE_CURRENCY_CODE      93937 non-null  object \n",
            " 3   INVOICE_TYPE               93937 non-null  object \n",
            " 4   target                     93937 non-null  int64  \n",
            " 5   Payment_Term_Days          93937 non-null  float64\n",
            " 6   cluster_id                 93937 non-null  int32  \n",
            " 7   INVOICE_CLASS_DM           93937 non-null  uint8  \n",
            " 8   INVOICE_CLASS_INV          93937 non-null  uint8  \n",
            " 9   INVOICE_CURRENCY_CODE_BHD  93937 non-null  uint8  \n",
            " 10  INVOICE_CURRENCY_CODE_EUR  93937 non-null  uint8  \n",
            " 11  INVOICE_CURRENCY_CODE_GBP  93937 non-null  uint8  \n",
            " 12  INVOICE_CURRENCY_CODE_JOD  93937 non-null  uint8  \n",
            " 13  INVOICE_CURRENCY_CODE_KWD  93937 non-null  uint8  \n",
            " 14  INVOICE_CURRENCY_CODE_QAR  93937 non-null  uint8  \n",
            " 15  INVOICE_CURRENCY_CODE_SAR  93937 non-null  uint8  \n",
            " 16  INVOICE_CURRENCY_CODE_USD  93937 non-null  uint8  \n",
            " 17  INVOICE_CURRENCY_CODE_ZAR  93937 non-null  uint8  \n",
            " 18  INVOICE_TYPE_Non Goods     93937 non-null  uint8  \n",
            "dtypes: float64(2), int32(1), int64(1), object(3), uint8(12)\n",
            "memory usage: 6.5+ MB\n"
          ]
        }
      ],
      "source": [
        "rpd_df_m.info()"
      ]
    },
    {
      "cell_type": "code",
      "execution_count": 249,
      "id": "bedc3d6b",
      "metadata": {
        "id": "bedc3d6b"
      },
      "outputs": [],
      "source": [
        "# dropping original columns\n",
        "rpd_df_m.drop(Cat_cols,axis=1,inplace=True)"
      ]
    },
    {
      "cell_type": "code",
      "execution_count": 250,
      "id": "3bf40dbb",
      "metadata": {
        "id": "3bf40dbb",
        "outputId": "b666df53-c33c-4a17-8368-539f13b3a6d4",
        "colab": {
          "base_uri": "https://localhost:8080/"
        }
      },
      "outputs": [
        {
          "output_type": "execute_result",
          "data": {
            "text/plain": [
              "(93937, 16)"
            ]
          },
          "metadata": {},
          "execution_count": 250
        }
      ],
      "source": [
        "rpd_df_m.shape"
      ]
    },
    {
      "cell_type": "code",
      "execution_count": 251,
      "id": "d1487fc7",
      "metadata": {
        "id": "d1487fc7",
        "outputId": "e32e2da0-537d-4b30-9873-c56ff7bc7a4a",
        "colab": {
          "base_uri": "https://localhost:8080/"
        }
      },
      "outputs": [
        {
          "output_type": "execute_result",
          "data": {
            "text/plain": [
              "USD Amount                   0.0\n",
              "target                       0.0\n",
              "Payment_Term_Days            0.0\n",
              "cluster_id                   0.0\n",
              "INVOICE_CLASS_DM             0.0\n",
              "INVOICE_CLASS_INV            0.0\n",
              "INVOICE_CURRENCY_CODE_BHD    0.0\n",
              "INVOICE_CURRENCY_CODE_EUR    0.0\n",
              "INVOICE_CURRENCY_CODE_GBP    0.0\n",
              "INVOICE_CURRENCY_CODE_JOD    0.0\n",
              "INVOICE_CURRENCY_CODE_KWD    0.0\n",
              "INVOICE_CURRENCY_CODE_QAR    0.0\n",
              "INVOICE_CURRENCY_CODE_SAR    0.0\n",
              "INVOICE_CURRENCY_CODE_USD    0.0\n",
              "INVOICE_CURRENCY_CODE_ZAR    0.0\n",
              "INVOICE_TYPE_Non Goods       0.0\n",
              "dtype: float64"
            ]
          },
          "metadata": {},
          "execution_count": 251
        }
      ],
      "source": [
        "# Checking the percentage of missing values\n",
        "round(100*(rpd_df_m.isnull().sum()/len(rpd_df_m.index)), 2)"
      ]
    },
    {
      "cell_type": "code",
      "source": [
        "rpd_df_m.dropna(inplace=True)"
      ],
      "metadata": {
        "id": "WzN3YDGNayw2"
      },
      "id": "WzN3YDGNayw2",
      "execution_count": 252,
      "outputs": []
    },
    {
      "cell_type": "code",
      "source": [
        "rpd_df_m.columns"
      ],
      "metadata": {
        "id": "R4ldNLJebDiC",
        "outputId": "7021fee4-90e3-43b7-ff2f-0010b1dce44f",
        "colab": {
          "base_uri": "https://localhost:8080/"
        }
      },
      "id": "R4ldNLJebDiC",
      "execution_count": 253,
      "outputs": [
        {
          "output_type": "execute_result",
          "data": {
            "text/plain": [
              "Index(['USD Amount', 'target', 'Payment_Term_Days', 'cluster_id',\n",
              "       'INVOICE_CLASS_DM', 'INVOICE_CLASS_INV', 'INVOICE_CURRENCY_CODE_BHD',\n",
              "       'INVOICE_CURRENCY_CODE_EUR', 'INVOICE_CURRENCY_CODE_GBP',\n",
              "       'INVOICE_CURRENCY_CODE_JOD', 'INVOICE_CURRENCY_CODE_KWD',\n",
              "       'INVOICE_CURRENCY_CODE_QAR', 'INVOICE_CURRENCY_CODE_SAR',\n",
              "       'INVOICE_CURRENCY_CODE_USD', 'INVOICE_CURRENCY_CODE_ZAR',\n",
              "       'INVOICE_TYPE_Non Goods'],\n",
              "      dtype='object')"
            ]
          },
          "metadata": {},
          "execution_count": 253
        }
      ]
    },
    {
      "cell_type": "markdown",
      "id": "320e9988",
      "metadata": {
        "id": "320e9988"
      },
      "source": [
        "There is no null values in our dataframe."
      ]
    },
    {
      "cell_type": "code",
      "execution_count": 254,
      "id": "e8a4a689",
      "metadata": {
        "id": "e8a4a689",
        "outputId": "6f1e8e5a-4520-417a-c1f7-7a095c99d95b",
        "colab": {
          "base_uri": "https://localhost:8080/"
        }
      },
      "outputs": [
        {
          "output_type": "execute_result",
          "data": {
            "text/plain": [
              "count    93937.000000\n",
              "mean        44.483207\n",
              "std         27.502154\n",
              "min          0.000000\n",
              "25%         30.000000\n",
              "50%         43.000000\n",
              "75%         60.000000\n",
              "max        365.000000\n",
              "Name: Payment_Term_Days, dtype: float64"
            ]
          },
          "metadata": {},
          "execution_count": 254
        }
      ],
      "source": [
        "rpd_df_m.Payment_Term_Days.describe()          "
      ]
    },
    {
      "cell_type": "markdown",
      "id": "2b243d7b",
      "metadata": {
        "id": "2b243d7b"
      },
      "source": [
        "#### Spliting Data in train & Test set\n"
      ]
    },
    {
      "cell_type": "code",
      "execution_count": 255,
      "id": "b2be1912",
      "metadata": {
        "id": "b2be1912"
      },
      "outputs": [],
      "source": [
        "#importing libraries\n",
        "import statsmodels.api as sm\n",
        "from sklearn.model_selection import train_test_split"
      ]
    },
    {
      "cell_type": "code",
      "execution_count": 256,
      "id": "c8db620a",
      "metadata": {
        "id": "c8db620a"
      },
      "outputs": [],
      "source": [
        "# Putting feature variable to y\n",
        "y = rpd_df_m.pop('target')\n",
        "X=rpd_df_m"
      ]
    },
    {
      "cell_type": "code",
      "execution_count": 257,
      "id": "c5f07ebb",
      "metadata": {
        "id": "c5f07ebb",
        "outputId": "e57200cf-ee2f-4865-cc3d-6a5c08174ed5",
        "colab": {
          "base_uri": "https://localhost:8080/",
          "height": 288
        }
      },
      "outputs": [
        {
          "output_type": "execute_result",
          "data": {
            "text/plain": [
              "   USD Amount  Payment_Term_Days  cluster_id  INVOICE_CLASS_DM  \\\n",
              "0        0.10               30.0           0                 0   \n",
              "1        0.05               30.0           0                 0   \n",
              "2        0.04               30.0           0                 0   \n",
              "3        0.04               30.0           2                 0   \n",
              "4        0.04               30.0           0                 0   \n",
              "\n",
              "   INVOICE_CLASS_INV  INVOICE_CURRENCY_CODE_BHD  INVOICE_CURRENCY_CODE_EUR  \\\n",
              "0                  1                          0                          0   \n",
              "1                  1                          0                          0   \n",
              "2                  1                          0                          0   \n",
              "3                  1                          0                          0   \n",
              "4                  1                          0                          0   \n",
              "\n",
              "   INVOICE_CURRENCY_CODE_GBP  INVOICE_CURRENCY_CODE_JOD  \\\n",
              "0                          0                          0   \n",
              "1                          0                          0   \n",
              "2                          0                          0   \n",
              "3                          0                          0   \n",
              "4                          0                          0   \n",
              "\n",
              "   INVOICE_CURRENCY_CODE_KWD  INVOICE_CURRENCY_CODE_QAR  \\\n",
              "0                          0                          0   \n",
              "1                          0                          0   \n",
              "2                          0                          0   \n",
              "3                          0                          0   \n",
              "4                          0                          0   \n",
              "\n",
              "   INVOICE_CURRENCY_CODE_SAR  INVOICE_CURRENCY_CODE_USD  \\\n",
              "0                          0                          0   \n",
              "1                          1                          0   \n",
              "2                          1                          0   \n",
              "3                          1                          0   \n",
              "4                          1                          0   \n",
              "\n",
              "   INVOICE_CURRENCY_CODE_ZAR  INVOICE_TYPE_Non Goods  \n",
              "0                          0                       1  \n",
              "1                          0                       1  \n",
              "2                          0                       1  \n",
              "3                          0                       1  \n",
              "4                          0                       1  "
            ],
            "text/html": [
              "\n",
              "  <div id=\"df-9594b5f9-87cc-477a-9298-2282ac16326c\">\n",
              "    <div class=\"colab-df-container\">\n",
              "      <div>\n",
              "<style scoped>\n",
              "    .dataframe tbody tr th:only-of-type {\n",
              "        vertical-align: middle;\n",
              "    }\n",
              "\n",
              "    .dataframe tbody tr th {\n",
              "        vertical-align: top;\n",
              "    }\n",
              "\n",
              "    .dataframe thead th {\n",
              "        text-align: right;\n",
              "    }\n",
              "</style>\n",
              "<table border=\"1\" class=\"dataframe\">\n",
              "  <thead>\n",
              "    <tr style=\"text-align: right;\">\n",
              "      <th></th>\n",
              "      <th>USD Amount</th>\n",
              "      <th>Payment_Term_Days</th>\n",
              "      <th>cluster_id</th>\n",
              "      <th>INVOICE_CLASS_DM</th>\n",
              "      <th>INVOICE_CLASS_INV</th>\n",
              "      <th>INVOICE_CURRENCY_CODE_BHD</th>\n",
              "      <th>INVOICE_CURRENCY_CODE_EUR</th>\n",
              "      <th>INVOICE_CURRENCY_CODE_GBP</th>\n",
              "      <th>INVOICE_CURRENCY_CODE_JOD</th>\n",
              "      <th>INVOICE_CURRENCY_CODE_KWD</th>\n",
              "      <th>INVOICE_CURRENCY_CODE_QAR</th>\n",
              "      <th>INVOICE_CURRENCY_CODE_SAR</th>\n",
              "      <th>INVOICE_CURRENCY_CODE_USD</th>\n",
              "      <th>INVOICE_CURRENCY_CODE_ZAR</th>\n",
              "      <th>INVOICE_TYPE_Non Goods</th>\n",
              "    </tr>\n",
              "  </thead>\n",
              "  <tbody>\n",
              "    <tr>\n",
              "      <th>0</th>\n",
              "      <td>0.10</td>\n",
              "      <td>30.0</td>\n",
              "      <td>0</td>\n",
              "      <td>0</td>\n",
              "      <td>1</td>\n",
              "      <td>0</td>\n",
              "      <td>0</td>\n",
              "      <td>0</td>\n",
              "      <td>0</td>\n",
              "      <td>0</td>\n",
              "      <td>0</td>\n",
              "      <td>0</td>\n",
              "      <td>0</td>\n",
              "      <td>0</td>\n",
              "      <td>1</td>\n",
              "    </tr>\n",
              "    <tr>\n",
              "      <th>1</th>\n",
              "      <td>0.05</td>\n",
              "      <td>30.0</td>\n",
              "      <td>0</td>\n",
              "      <td>0</td>\n",
              "      <td>1</td>\n",
              "      <td>0</td>\n",
              "      <td>0</td>\n",
              "      <td>0</td>\n",
              "      <td>0</td>\n",
              "      <td>0</td>\n",
              "      <td>0</td>\n",
              "      <td>1</td>\n",
              "      <td>0</td>\n",
              "      <td>0</td>\n",
              "      <td>1</td>\n",
              "    </tr>\n",
              "    <tr>\n",
              "      <th>2</th>\n",
              "      <td>0.04</td>\n",
              "      <td>30.0</td>\n",
              "      <td>0</td>\n",
              "      <td>0</td>\n",
              "      <td>1</td>\n",
              "      <td>0</td>\n",
              "      <td>0</td>\n",
              "      <td>0</td>\n",
              "      <td>0</td>\n",
              "      <td>0</td>\n",
              "      <td>0</td>\n",
              "      <td>1</td>\n",
              "      <td>0</td>\n",
              "      <td>0</td>\n",
              "      <td>1</td>\n",
              "    </tr>\n",
              "    <tr>\n",
              "      <th>3</th>\n",
              "      <td>0.04</td>\n",
              "      <td>30.0</td>\n",
              "      <td>2</td>\n",
              "      <td>0</td>\n",
              "      <td>1</td>\n",
              "      <td>0</td>\n",
              "      <td>0</td>\n",
              "      <td>0</td>\n",
              "      <td>0</td>\n",
              "      <td>0</td>\n",
              "      <td>0</td>\n",
              "      <td>1</td>\n",
              "      <td>0</td>\n",
              "      <td>0</td>\n",
              "      <td>1</td>\n",
              "    </tr>\n",
              "    <tr>\n",
              "      <th>4</th>\n",
              "      <td>0.04</td>\n",
              "      <td>30.0</td>\n",
              "      <td>0</td>\n",
              "      <td>0</td>\n",
              "      <td>1</td>\n",
              "      <td>0</td>\n",
              "      <td>0</td>\n",
              "      <td>0</td>\n",
              "      <td>0</td>\n",
              "      <td>0</td>\n",
              "      <td>0</td>\n",
              "      <td>1</td>\n",
              "      <td>0</td>\n",
              "      <td>0</td>\n",
              "      <td>1</td>\n",
              "    </tr>\n",
              "  </tbody>\n",
              "</table>\n",
              "</div>\n",
              "      <button class=\"colab-df-convert\" onclick=\"convertToInteractive('df-9594b5f9-87cc-477a-9298-2282ac16326c')\"\n",
              "              title=\"Convert this dataframe to an interactive table.\"\n",
              "              style=\"display:none;\">\n",
              "        \n",
              "  <svg xmlns=\"http://www.w3.org/2000/svg\" height=\"24px\"viewBox=\"0 0 24 24\"\n",
              "       width=\"24px\">\n",
              "    <path d=\"M0 0h24v24H0V0z\" fill=\"none\"/>\n",
              "    <path d=\"M18.56 5.44l.94 2.06.94-2.06 2.06-.94-2.06-.94-.94-2.06-.94 2.06-2.06.94zm-11 1L8.5 8.5l.94-2.06 2.06-.94-2.06-.94L8.5 2.5l-.94 2.06-2.06.94zm10 10l.94 2.06.94-2.06 2.06-.94-2.06-.94-.94-2.06-.94 2.06-2.06.94z\"/><path d=\"M17.41 7.96l-1.37-1.37c-.4-.4-.92-.59-1.43-.59-.52 0-1.04.2-1.43.59L10.3 9.45l-7.72 7.72c-.78.78-.78 2.05 0 2.83L4 21.41c.39.39.9.59 1.41.59.51 0 1.02-.2 1.41-.59l7.78-7.78 2.81-2.81c.8-.78.8-2.07 0-2.86zM5.41 20L4 18.59l7.72-7.72 1.47 1.35L5.41 20z\"/>\n",
              "  </svg>\n",
              "      </button>\n",
              "      \n",
              "  <style>\n",
              "    .colab-df-container {\n",
              "      display:flex;\n",
              "      flex-wrap:wrap;\n",
              "      gap: 12px;\n",
              "    }\n",
              "\n",
              "    .colab-df-convert {\n",
              "      background-color: #E8F0FE;\n",
              "      border: none;\n",
              "      border-radius: 50%;\n",
              "      cursor: pointer;\n",
              "      display: none;\n",
              "      fill: #1967D2;\n",
              "      height: 32px;\n",
              "      padding: 0 0 0 0;\n",
              "      width: 32px;\n",
              "    }\n",
              "\n",
              "    .colab-df-convert:hover {\n",
              "      background-color: #E2EBFA;\n",
              "      box-shadow: 0px 1px 2px rgba(60, 64, 67, 0.3), 0px 1px 3px 1px rgba(60, 64, 67, 0.15);\n",
              "      fill: #174EA6;\n",
              "    }\n",
              "\n",
              "    [theme=dark] .colab-df-convert {\n",
              "      background-color: #3B4455;\n",
              "      fill: #D2E3FC;\n",
              "    }\n",
              "\n",
              "    [theme=dark] .colab-df-convert:hover {\n",
              "      background-color: #434B5C;\n",
              "      box-shadow: 0px 1px 3px 1px rgba(0, 0, 0, 0.15);\n",
              "      filter: drop-shadow(0px 1px 2px rgba(0, 0, 0, 0.3));\n",
              "      fill: #FFFFFF;\n",
              "    }\n",
              "  </style>\n",
              "\n",
              "      <script>\n",
              "        const buttonEl =\n",
              "          document.querySelector('#df-9594b5f9-87cc-477a-9298-2282ac16326c button.colab-df-convert');\n",
              "        buttonEl.style.display =\n",
              "          google.colab.kernel.accessAllowed ? 'block' : 'none';\n",
              "\n",
              "        async function convertToInteractive(key) {\n",
              "          const element = document.querySelector('#df-9594b5f9-87cc-477a-9298-2282ac16326c');\n",
              "          const dataTable =\n",
              "            await google.colab.kernel.invokeFunction('convertToInteractive',\n",
              "                                                     [key], {});\n",
              "          if (!dataTable) return;\n",
              "\n",
              "          const docLinkHtml = 'Like what you see? Visit the ' +\n",
              "            '<a target=\"_blank\" href=https://colab.research.google.com/notebooks/data_table.ipynb>data table notebook</a>'\n",
              "            + ' to learn more about interactive tables.';\n",
              "          element.innerHTML = '';\n",
              "          dataTable['output_type'] = 'display_data';\n",
              "          await google.colab.output.renderOutput(dataTable, element);\n",
              "          const docLink = document.createElement('div');\n",
              "          docLink.innerHTML = docLinkHtml;\n",
              "          element.appendChild(docLink);\n",
              "        }\n",
              "      </script>\n",
              "    </div>\n",
              "  </div>\n",
              "  "
            ]
          },
          "metadata": {},
          "execution_count": 257
        }
      ],
      "source": [
        "X.head()"
      ]
    },
    {
      "cell_type": "code",
      "execution_count": 258,
      "id": "81586a2d",
      "metadata": {
        "id": "81586a2d",
        "outputId": "f34b9533-437e-4e48-f11d-03139646c131",
        "colab": {
          "base_uri": "https://localhost:8080/"
        }
      },
      "outputs": [
        {
          "output_type": "execute_result",
          "data": {
            "text/plain": [
              "0    0\n",
              "1    0\n",
              "2    1\n",
              "3    0\n",
              "4    0\n",
              "Name: target, dtype: int64"
            ]
          },
          "metadata": {},
          "execution_count": 258
        }
      ],
      "source": [
        "y.head()"
      ]
    },
    {
      "cell_type": "code",
      "execution_count": 259,
      "id": "8af5eb60",
      "metadata": {
        "id": "8af5eb60",
        "outputId": "23782625-1648-450c-bb08-0089cc72300c",
        "colab": {
          "base_uri": "https://localhost:8080/"
        }
      },
      "outputs": [
        {
          "output_type": "stream",
          "name": "stdout",
          "text": [
            "(93937, 15)\n",
            "(93937,)\n"
          ]
        }
      ],
      "source": [
        "print(X.shape)\n",
        "print(y.shape)"
      ]
    },
    {
      "cell_type": "code",
      "execution_count": 260,
      "id": "cc469817",
      "metadata": {
        "id": "cc469817"
      },
      "outputs": [],
      "source": [
        "# Splitting the data into train and test\n",
        "X_train, X_test, y_train, y_test = train_test_split(X, y, train_size=0.7, test_size=0.3, random_state=100)"
      ]
    },
    {
      "cell_type": "markdown",
      "id": "6f3eaaec",
      "metadata": {
        "id": "6f3eaaec"
      },
      "source": [
        "#### Feature Scaling"
      ]
    },
    {
      "cell_type": "code",
      "execution_count": 261,
      "id": "8f6c926f",
      "metadata": {
        "id": "8f6c926f"
      },
      "outputs": [],
      "source": [
        "from sklearn.preprocessing import MinMaxScaler"
      ]
    },
    {
      "cell_type": "code",
      "execution_count": 262,
      "id": "56a78da6",
      "metadata": {
        "id": "56a78da6",
        "outputId": "5737a857-9d9c-4b17-d4bd-8ffcb98d1423",
        "colab": {
          "base_uri": "https://localhost:8080/",
          "height": 288
        }
      },
      "outputs": [
        {
          "output_type": "execute_result",
          "data": {
            "text/plain": [
              "       USD Amount  Payment_Term_Days  cluster_id  INVOICE_CLASS_DM  \\\n",
              "214          0.07           0.082192           2                 0   \n",
              "28353        0.59           0.082192           0                 0   \n",
              "70381        0.10           0.082192           0                 0   \n",
              "93001        0.00           0.082192           0                 0   \n",
              "91650        0.60           0.082192           0                 0   \n",
              "\n",
              "       INVOICE_CLASS_INV  INVOICE_CURRENCY_CODE_BHD  \\\n",
              "214                    1                          0   \n",
              "28353                  1                          0   \n",
              "70381                  1                          0   \n",
              "93001                  1                          0   \n",
              "91650                  1                          0   \n",
              "\n",
              "       INVOICE_CURRENCY_CODE_EUR  INVOICE_CURRENCY_CODE_GBP  \\\n",
              "214                            0                          0   \n",
              "28353                          0                          0   \n",
              "70381                          0                          0   \n",
              "93001                          0                          0   \n",
              "91650                          0                          0   \n",
              "\n",
              "       INVOICE_CURRENCY_CODE_JOD  INVOICE_CURRENCY_CODE_KWD  \\\n",
              "214                            0                          0   \n",
              "28353                          0                          0   \n",
              "70381                          0                          0   \n",
              "93001                          0                          0   \n",
              "91650                          0                          0   \n",
              "\n",
              "       INVOICE_CURRENCY_CODE_QAR  INVOICE_CURRENCY_CODE_SAR  \\\n",
              "214                            0                          0   \n",
              "28353                          0                          0   \n",
              "70381                          0                          0   \n",
              "93001                          0                          0   \n",
              "91650                          0                          0   \n",
              "\n",
              "       INVOICE_CURRENCY_CODE_USD  INVOICE_CURRENCY_CODE_ZAR  \\\n",
              "214                            1                          0   \n",
              "28353                          1                          0   \n",
              "70381                          0                          0   \n",
              "93001                          0                          0   \n",
              "91650                          0                          0   \n",
              "\n",
              "       INVOICE_TYPE_Non Goods  \n",
              "214                         1  \n",
              "28353                       0  \n",
              "70381                       1  \n",
              "93001                       0  \n",
              "91650                       0  "
            ],
            "text/html": [
              "\n",
              "  <div id=\"df-71a3364a-f121-4bce-b36b-9e415e2db80a\">\n",
              "    <div class=\"colab-df-container\">\n",
              "      <div>\n",
              "<style scoped>\n",
              "    .dataframe tbody tr th:only-of-type {\n",
              "        vertical-align: middle;\n",
              "    }\n",
              "\n",
              "    .dataframe tbody tr th {\n",
              "        vertical-align: top;\n",
              "    }\n",
              "\n",
              "    .dataframe thead th {\n",
              "        text-align: right;\n",
              "    }\n",
              "</style>\n",
              "<table border=\"1\" class=\"dataframe\">\n",
              "  <thead>\n",
              "    <tr style=\"text-align: right;\">\n",
              "      <th></th>\n",
              "      <th>USD Amount</th>\n",
              "      <th>Payment_Term_Days</th>\n",
              "      <th>cluster_id</th>\n",
              "      <th>INVOICE_CLASS_DM</th>\n",
              "      <th>INVOICE_CLASS_INV</th>\n",
              "      <th>INVOICE_CURRENCY_CODE_BHD</th>\n",
              "      <th>INVOICE_CURRENCY_CODE_EUR</th>\n",
              "      <th>INVOICE_CURRENCY_CODE_GBP</th>\n",
              "      <th>INVOICE_CURRENCY_CODE_JOD</th>\n",
              "      <th>INVOICE_CURRENCY_CODE_KWD</th>\n",
              "      <th>INVOICE_CURRENCY_CODE_QAR</th>\n",
              "      <th>INVOICE_CURRENCY_CODE_SAR</th>\n",
              "      <th>INVOICE_CURRENCY_CODE_USD</th>\n",
              "      <th>INVOICE_CURRENCY_CODE_ZAR</th>\n",
              "      <th>INVOICE_TYPE_Non Goods</th>\n",
              "    </tr>\n",
              "  </thead>\n",
              "  <tbody>\n",
              "    <tr>\n",
              "      <th>214</th>\n",
              "      <td>0.07</td>\n",
              "      <td>0.082192</td>\n",
              "      <td>2</td>\n",
              "      <td>0</td>\n",
              "      <td>1</td>\n",
              "      <td>0</td>\n",
              "      <td>0</td>\n",
              "      <td>0</td>\n",
              "      <td>0</td>\n",
              "      <td>0</td>\n",
              "      <td>0</td>\n",
              "      <td>0</td>\n",
              "      <td>1</td>\n",
              "      <td>0</td>\n",
              "      <td>1</td>\n",
              "    </tr>\n",
              "    <tr>\n",
              "      <th>28353</th>\n",
              "      <td>0.59</td>\n",
              "      <td>0.082192</td>\n",
              "      <td>0</td>\n",
              "      <td>0</td>\n",
              "      <td>1</td>\n",
              "      <td>0</td>\n",
              "      <td>0</td>\n",
              "      <td>0</td>\n",
              "      <td>0</td>\n",
              "      <td>0</td>\n",
              "      <td>0</td>\n",
              "      <td>0</td>\n",
              "      <td>1</td>\n",
              "      <td>0</td>\n",
              "      <td>0</td>\n",
              "    </tr>\n",
              "    <tr>\n",
              "      <th>70381</th>\n",
              "      <td>0.10</td>\n",
              "      <td>0.082192</td>\n",
              "      <td>0</td>\n",
              "      <td>0</td>\n",
              "      <td>1</td>\n",
              "      <td>0</td>\n",
              "      <td>0</td>\n",
              "      <td>0</td>\n",
              "      <td>0</td>\n",
              "      <td>0</td>\n",
              "      <td>0</td>\n",
              "      <td>0</td>\n",
              "      <td>0</td>\n",
              "      <td>0</td>\n",
              "      <td>1</td>\n",
              "    </tr>\n",
              "    <tr>\n",
              "      <th>93001</th>\n",
              "      <td>0.00</td>\n",
              "      <td>0.082192</td>\n",
              "      <td>0</td>\n",
              "      <td>0</td>\n",
              "      <td>1</td>\n",
              "      <td>0</td>\n",
              "      <td>0</td>\n",
              "      <td>0</td>\n",
              "      <td>0</td>\n",
              "      <td>0</td>\n",
              "      <td>0</td>\n",
              "      <td>0</td>\n",
              "      <td>0</td>\n",
              "      <td>0</td>\n",
              "      <td>0</td>\n",
              "    </tr>\n",
              "    <tr>\n",
              "      <th>91650</th>\n",
              "      <td>0.60</td>\n",
              "      <td>0.082192</td>\n",
              "      <td>0</td>\n",
              "      <td>0</td>\n",
              "      <td>1</td>\n",
              "      <td>0</td>\n",
              "      <td>0</td>\n",
              "      <td>0</td>\n",
              "      <td>0</td>\n",
              "      <td>0</td>\n",
              "      <td>0</td>\n",
              "      <td>0</td>\n",
              "      <td>0</td>\n",
              "      <td>0</td>\n",
              "      <td>0</td>\n",
              "    </tr>\n",
              "  </tbody>\n",
              "</table>\n",
              "</div>\n",
              "      <button class=\"colab-df-convert\" onclick=\"convertToInteractive('df-71a3364a-f121-4bce-b36b-9e415e2db80a')\"\n",
              "              title=\"Convert this dataframe to an interactive table.\"\n",
              "              style=\"display:none;\">\n",
              "        \n",
              "  <svg xmlns=\"http://www.w3.org/2000/svg\" height=\"24px\"viewBox=\"0 0 24 24\"\n",
              "       width=\"24px\">\n",
              "    <path d=\"M0 0h24v24H0V0z\" fill=\"none\"/>\n",
              "    <path d=\"M18.56 5.44l.94 2.06.94-2.06 2.06-.94-2.06-.94-.94-2.06-.94 2.06-2.06.94zm-11 1L8.5 8.5l.94-2.06 2.06-.94-2.06-.94L8.5 2.5l-.94 2.06-2.06.94zm10 10l.94 2.06.94-2.06 2.06-.94-2.06-.94-.94-2.06-.94 2.06-2.06.94z\"/><path d=\"M17.41 7.96l-1.37-1.37c-.4-.4-.92-.59-1.43-.59-.52 0-1.04.2-1.43.59L10.3 9.45l-7.72 7.72c-.78.78-.78 2.05 0 2.83L4 21.41c.39.39.9.59 1.41.59.51 0 1.02-.2 1.41-.59l7.78-7.78 2.81-2.81c.8-.78.8-2.07 0-2.86zM5.41 20L4 18.59l7.72-7.72 1.47 1.35L5.41 20z\"/>\n",
              "  </svg>\n",
              "      </button>\n",
              "      \n",
              "  <style>\n",
              "    .colab-df-container {\n",
              "      display:flex;\n",
              "      flex-wrap:wrap;\n",
              "      gap: 12px;\n",
              "    }\n",
              "\n",
              "    .colab-df-convert {\n",
              "      background-color: #E8F0FE;\n",
              "      border: none;\n",
              "      border-radius: 50%;\n",
              "      cursor: pointer;\n",
              "      display: none;\n",
              "      fill: #1967D2;\n",
              "      height: 32px;\n",
              "      padding: 0 0 0 0;\n",
              "      width: 32px;\n",
              "    }\n",
              "\n",
              "    .colab-df-convert:hover {\n",
              "      background-color: #E2EBFA;\n",
              "      box-shadow: 0px 1px 2px rgba(60, 64, 67, 0.3), 0px 1px 3px 1px rgba(60, 64, 67, 0.15);\n",
              "      fill: #174EA6;\n",
              "    }\n",
              "\n",
              "    [theme=dark] .colab-df-convert {\n",
              "      background-color: #3B4455;\n",
              "      fill: #D2E3FC;\n",
              "    }\n",
              "\n",
              "    [theme=dark] .colab-df-convert:hover {\n",
              "      background-color: #434B5C;\n",
              "      box-shadow: 0px 1px 3px 1px rgba(0, 0, 0, 0.15);\n",
              "      filter: drop-shadow(0px 1px 2px rgba(0, 0, 0, 0.3));\n",
              "      fill: #FFFFFF;\n",
              "    }\n",
              "  </style>\n",
              "\n",
              "      <script>\n",
              "        const buttonEl =\n",
              "          document.querySelector('#df-71a3364a-f121-4bce-b36b-9e415e2db80a button.colab-df-convert');\n",
              "        buttonEl.style.display =\n",
              "          google.colab.kernel.accessAllowed ? 'block' : 'none';\n",
              "\n",
              "        async function convertToInteractive(key) {\n",
              "          const element = document.querySelector('#df-71a3364a-f121-4bce-b36b-9e415e2db80a');\n",
              "          const dataTable =\n",
              "            await google.colab.kernel.invokeFunction('convertToInteractive',\n",
              "                                                     [key], {});\n",
              "          if (!dataTable) return;\n",
              "\n",
              "          const docLinkHtml = 'Like what you see? Visit the ' +\n",
              "            '<a target=\"_blank\" href=https://colab.research.google.com/notebooks/data_table.ipynb>data table notebook</a>'\n",
              "            + ' to learn more about interactive tables.';\n",
              "          element.innerHTML = '';\n",
              "          dataTable['output_type'] = 'display_data';\n",
              "          await google.colab.output.renderOutput(dataTable, element);\n",
              "          const docLink = document.createElement('div');\n",
              "          docLink.innerHTML = docLinkHtml;\n",
              "          element.appendChild(docLink);\n",
              "        }\n",
              "      </script>\n",
              "    </div>\n",
              "  </div>\n",
              "  "
            ]
          },
          "metadata": {},
          "execution_count": 262
        }
      ],
      "source": [
        "scaler = MinMaxScaler()\n",
        "\n",
        "X_train[['Payment_Term_Days']] = scaler.fit_transform(X_train[['Payment_Term_Days']])\n",
        "\n",
        "X_train.head()"
      ]
    },
    {
      "cell_type": "markdown",
      "id": "51fe3dc8",
      "metadata": {
        "id": "51fe3dc8"
      },
      "source": [
        "#### Looking at Correlations\n"
      ]
    },
    {
      "cell_type": "code",
      "execution_count": 263,
      "id": "4e16c544",
      "metadata": {
        "id": "4e16c544",
        "outputId": "f2a22e4c-95d7-4843-ca8c-526267cfb707",
        "colab": {
          "base_uri": "https://localhost:8080/",
          "height": 748
        }
      },
      "outputs": [
        {
          "output_type": "display_data",
          "data": {
            "text/plain": [
              "<Figure size 1440x720 with 2 Axes>"
            ],
            "image/png": "[encoded data removed]"
          },
          "metadata": {
            "needs_background": "light"
          }
        }
      ],
      "source": [
        "# Let's see the correlation matrix \n",
        "plt.figure(figsize = (20,10))        # Size of the figure\n",
        "sns.heatmap(rpd_df_m.corr(),annot = True)\n",
        "plt.show()"
      ]
    },
    {
      "cell_type": "markdown",
      "id": "202b7af5",
      "metadata": {
        "id": "202b7af5"
      },
      "source": [
        "**We don't find any high correlation between variables.**"
      ]
    },
    {
      "cell_type": "markdown",
      "id": "04a40335",
      "metadata": {
        "id": "04a40335"
      },
      "source": [
        "### Model Building\n",
        "<hr/>"
      ]
    },
    {
      "cell_type": "markdown",
      "id": "c6899e9d",
      "metadata": {
        "id": "c6899e9d"
      },
      "source": [
        "### 1st Model"
      ]
    },
    {
      "cell_type": "code",
      "execution_count": 317,
      "id": "e26d1dc4",
      "metadata": {
        "id": "e26d1dc4",
        "outputId": "44511f5f-ed3b-4503-b914-04c145a467c8",
        "colab": {
          "base_uri": "https://localhost:8080/",
          "height": 573
        }
      },
      "outputs": [
        {
          "output_type": "execute_result",
          "data": {
            "text/plain": [
              "<class 'statsmodels.iolib.summary.Summary'>\n",
              "\"\"\"\n",
              "                 Generalized Linear Model Regression Results                  \n",
              "==============================================================================\n",
              "Dep. Variable:                 target   No. Observations:                65755\n",
              "Model:                            GLM   Df Residuals:                    65739\n",
              "Model Family:                Binomial   Df Model:                           15\n",
              "Link Function:                  Logit   Scale:                          1.0000\n",
              "Method:                          IRLS   Log-Likelihood:                -34411.\n",
              "Date:                Tue, 14 Mar 2023   Deviance:                       68821.\n",
              "Time:                        04:45:50   Pearson chi2:                 6.53e+04\n",
              "No. Iterations:                    22   Pseudo R-squ. (CS):             0.1888\n",
              "Covariance Type:            nonrobust                                         \n",
              "=============================================================================================\n",
              "                                coef    std err          z      P>|z|      [0.025      0.975]\n",
              "---------------------------------------------------------------------------------------------\n",
              "const                        -4.6019      0.138    -33.368      0.000      -4.872      -4.332\n",
              "USD Amount                    0.2541      0.011     22.836      0.000       0.232       0.276\n",
              "Payment_Term_Days            10.9580      0.167     65.721      0.000      10.631      11.285\n",
              "cluster_id                   -0.0012      0.011     -0.105      0.916      -0.023       0.021\n",
              "INVOICE_CLASS_DM             -0.9425      0.220     -4.282      0.000      -1.374      -0.511\n",
              "INVOICE_CLASS_INV             2.3472      0.138     17.040      0.000       2.077       2.617\n",
              "INVOICE_CURRENCY_CODE_BHD     0.1647      0.138      1.191      0.234      -0.106       0.436\n",
              "INVOICE_CURRENCY_CODE_EUR     0.2746      0.077      3.573      0.000       0.124       0.425\n",
              "INVOICE_CURRENCY_CODE_GBP    -2.0484      0.292     -7.015      0.000      -2.621      -1.476\n",
              "INVOICE_CURRENCY_CODE_JOD   -21.7921   1.46e+04     -0.001      0.999   -2.87e+04    2.87e+04\n",
              "INVOICE_CURRENCY_CODE_KWD    -0.3020      0.088     -3.418      0.001      -0.475      -0.129\n",
              "INVOICE_CURRENCY_CODE_QAR    -0.8317      0.132     -6.305      0.000      -1.090      -0.573\n",
              "INVOICE_CURRENCY_CODE_SAR    -0.8113      0.023    -35.307      0.000      -0.856      -0.766\n",
              "INVOICE_CURRENCY_CODE_USD    -0.9365      0.027    -34.234      0.000      -0.990      -0.883\n",
              "INVOICE_CURRENCY_CODE_ZAR   -27.1994   2.12e+04     -0.001      0.999   -4.17e+04    4.16e+04\n",
              "INVOICE_TYPE_Non Goods        1.5416      0.027     57.245      0.000       1.489       1.594\n",
              "=============================================================================================\n",
              "\"\"\""
            ],
            "text/html": [
              "<table class=\"simpletable\">\n",
              "<caption>Generalized Linear Model Regression Results</caption>\n",
              "<tr>\n",
              "  <th>Dep. Variable:</th>        <td>target</td>      <th>  No. Observations:  </th>  <td> 65755</td> \n",
              "</tr>\n",
              "<tr>\n",
              "  <th>Model:</th>                  <td>GLM</td>       <th>  Df Residuals:      </th>  <td> 65739</td> \n",
              "</tr>\n",
              "<tr>\n",
              "  <th>Model Family:</th>        <td>Binomial</td>     <th>  Df Model:          </th>  <td>    15</td> \n",
              "</tr>\n",
              "<tr>\n",
              "  <th>Link Function:</th>         <td>Logit</td>      <th>  Scale:             </th> <td>  1.0000</td>\n",
              "</tr>\n",
              "<tr>\n",
              "  <th>Method:</th>                <td>IRLS</td>       <th>  Log-Likelihood:    </th> <td> -34411.</td>\n",
              "</tr>\n",
              "<tr>\n",
              "  <th>Date:</th>            <td>Tue, 14 Mar 2023</td> <th>  Deviance:          </th> <td>  68821.</td>\n",
              "</tr>\n",
              "<tr>\n",
              "  <th>Time:</th>                <td>04:45:50</td>     <th>  Pearson chi2:      </th> <td>6.53e+04</td>\n",
              "</tr>\n",
              "<tr>\n",
              "  <th>No. Iterations:</th>         <td>22</td>        <th>  Pseudo R-squ. (CS):</th>  <td>0.1888</td> \n",
              "</tr>\n",
              "<tr>\n",
              "  <th>Covariance Type:</th>     <td>nonrobust</td>    <th>                     </th>     <td> </td>   \n",
              "</tr>\n",
              "</table>\n",
              "<table class=\"simpletable\">\n",
              "<tr>\n",
              "              <td></td>                 <th>coef</th>     <th>std err</th>      <th>z</th>      <th>P>|z|</th>  <th>[0.025</th>    <th>0.975]</th>  \n",
              "</tr>\n",
              "<tr>\n",
              "  <th>const</th>                     <td>   -4.6019</td> <td>    0.138</td> <td>  -33.368</td> <td> 0.000</td> <td>   -4.872</td> <td>   -4.332</td>\n",
              "</tr>\n",
              "<tr>\n",
              "  <th>USD Amount</th>                <td>    0.2541</td> <td>    0.011</td> <td>   22.836</td> <td> 0.000</td> <td>    0.232</td> <td>    0.276</td>\n",
              "</tr>\n",
              "<tr>\n",
              "  <th>Payment_Term_Days</th>         <td>   10.9580</td> <td>    0.167</td> <td>   65.721</td> <td> 0.000</td> <td>   10.631</td> <td>   11.285</td>\n",
              "</tr>\n",
              "<tr>\n",
              "  <th>cluster_id</th>                <td>   -0.0012</td> <td>    0.011</td> <td>   -0.105</td> <td> 0.916</td> <td>   -0.023</td> <td>    0.021</td>\n",
              "</tr>\n",
              "<tr>\n",
              "  <th>INVOICE_CLASS_DM</th>          <td>   -0.9425</td> <td>    0.220</td> <td>   -4.282</td> <td> 0.000</td> <td>   -1.374</td> <td>   -0.511</td>\n",
              "</tr>\n",
              "<tr>\n",
              "  <th>INVOICE_CLASS_INV</th>         <td>    2.3472</td> <td>    0.138</td> <td>   17.040</td> <td> 0.000</td> <td>    2.077</td> <td>    2.617</td>\n",
              "</tr>\n",
              "<tr>\n",
              "  <th>INVOICE_CURRENCY_CODE_BHD</th> <td>    0.1647</td> <td>    0.138</td> <td>    1.191</td> <td> 0.234</td> <td>   -0.106</td> <td>    0.436</td>\n",
              "</tr>\n",
              "<tr>\n",
              "  <th>INVOICE_CURRENCY_CODE_EUR</th> <td>    0.2746</td> <td>    0.077</td> <td>    3.573</td> <td> 0.000</td> <td>    0.124</td> <td>    0.425</td>\n",
              "</tr>\n",
              "<tr>\n",
              "  <th>INVOICE_CURRENCY_CODE_GBP</th> <td>   -2.0484</td> <td>    0.292</td> <td>   -7.015</td> <td> 0.000</td> <td>   -2.621</td> <td>   -1.476</td>\n",
              "</tr>\n",
              "<tr>\n",
              "  <th>INVOICE_CURRENCY_CODE_JOD</th> <td>  -21.7921</td> <td> 1.46e+04</td> <td>   -0.001</td> <td> 0.999</td> <td>-2.87e+04</td> <td> 2.87e+04</td>\n",
              "</tr>\n",
              "<tr>\n",
              "  <th>INVOICE_CURRENCY_CODE_KWD</th> <td>   -0.3020</td> <td>    0.088</td> <td>   -3.418</td> <td> 0.001</td> <td>   -0.475</td> <td>   -0.129</td>\n",
              "</tr>\n",
              "<tr>\n",
              "  <th>INVOICE_CURRENCY_CODE_QAR</th> <td>   -0.8317</td> <td>    0.132</td> <td>   -6.305</td> <td> 0.000</td> <td>   -1.090</td> <td>   -0.573</td>\n",
              "</tr>\n",
              "<tr>\n",
              "  <th>INVOICE_CURRENCY_CODE_SAR</th> <td>   -0.8113</td> <td>    0.023</td> <td>  -35.307</td> <td> 0.000</td> <td>   -0.856</td> <td>   -0.766</td>\n",
              "</tr>\n",
              "<tr>\n",
              "  <th>INVOICE_CURRENCY_CODE_USD</th> <td>   -0.9365</td> <td>    0.027</td> <td>  -34.234</td> <td> 0.000</td> <td>   -0.990</td> <td>   -0.883</td>\n",
              "</tr>\n",
              "<tr>\n",
              "  <th>INVOICE_CURRENCY_CODE_ZAR</th> <td>  -27.1994</td> <td> 2.12e+04</td> <td>   -0.001</td> <td> 0.999</td> <td>-4.17e+04</td> <td> 4.16e+04</td>\n",
              "</tr>\n",
              "<tr>\n",
              "  <th>INVOICE_TYPE_Non Goods</th>    <td>    1.5416</td> <td>    0.027</td> <td>   57.245</td> <td> 0.000</td> <td>    1.489</td> <td>    1.594</td>\n",
              "</tr>\n",
              "</table>"
            ]
          },
          "metadata": {},
          "execution_count": 317
        }
      ],
      "source": [
        "# Logistic regression model\n",
        "X_train_sm = sm.add_constant(X_train)\n",
        "logm1 = sm.GLM(y_train,(X_train_sm), family = sm.families.Binomial())\n",
        "res=logm1.fit()\n",
        "res.summary()"
      ]
    },
    {
      "cell_type": "code",
      "execution_count": 265,
      "id": "532d64cd",
      "metadata": {
        "id": "532d64cd"
      },
      "outputs": [],
      "source": [
        "# dropping high p-value columns\n",
        "cols=X_train.columns\n",
        "cols=cols.drop(['cluster_id','INVOICE_CURRENCY_CODE_BHD','INVOICE_CURRENCY_CODE_JOD','INVOICE_CURRENCY_CODE_ZAR'])"
      ]
    },
    {
      "cell_type": "markdown",
      "id": "88024ace",
      "metadata": {
        "id": "88024ace"
      },
      "source": [
        "### 2nd Model"
      ]
    },
    {
      "cell_type": "code",
      "execution_count": 266,
      "id": "72a95a50",
      "metadata": {
        "id": "72a95a50",
        "outputId": "843f0acd-62a4-4082-8f68-36c964751c09",
        "colab": {
          "base_uri": "https://localhost:8080/",
          "height": 490
        }
      },
      "outputs": [
        {
          "output_type": "execute_result",
          "data": {
            "text/plain": [
              "<class 'statsmodels.iolib.summary.Summary'>\n",
              "\"\"\"\n",
              "                 Generalized Linear Model Regression Results                  \n",
              "==============================================================================\n",
              "Dep. Variable:                 target   No. Observations:                65755\n",
              "Model:                            GLM   Df Residuals:                    65743\n",
              "Model Family:                Binomial   Df Model:                           11\n",
              "Link Function:                  Logit   Scale:                          1.0000\n",
              "Method:                          IRLS   Log-Likelihood:                -34467.\n",
              "Date:                Tue, 14 Mar 2023   Deviance:                       68934.\n",
              "Time:                        04:44:07   Pearson chi2:                 6.57e+04\n",
              "No. Iterations:                     7   Pseudo R-squ. (CS):             0.1874\n",
              "Covariance Type:            nonrobust                                         \n",
              "=============================================================================================\n",
              "                                coef    std err          z      P>|z|      [0.025      0.975]\n",
              "---------------------------------------------------------------------------------------------\n",
              "const                        -4.5977      0.137    -33.455      0.000      -4.867      -4.328\n",
              "USD Amount                    0.2535      0.010     24.188      0.000       0.233       0.274\n",
              "Payment_Term_Days            10.8321      0.166     65.239      0.000      10.507      11.158\n",
              "INVOICE_CLASS_DM             -0.9075      0.220     -4.128      0.000      -1.338      -0.477\n",
              "INVOICE_CLASS_INV             2.3619      0.138     17.151      0.000       2.092       2.632\n",
              "INVOICE_CURRENCY_CODE_EUR     0.2770      0.077      3.612      0.000       0.127       0.427\n",
              "INVOICE_CURRENCY_CODE_GBP    -2.0417      0.292     -6.997      0.000      -2.614      -1.470\n",
              "INVOICE_CURRENCY_CODE_KWD    -0.3019      0.088     -3.449      0.001      -0.473      -0.130\n",
              "INVOICE_CURRENCY_CODE_QAR    -0.8322      0.131     -6.337      0.000      -1.090      -0.575\n",
              "INVOICE_CURRENCY_CODE_SAR    -0.8122      0.022    -37.176      0.000      -0.855      -0.769\n",
              "INVOICE_CURRENCY_CODE_USD    -0.9362      0.027    -34.328      0.000      -0.990      -0.883\n",
              "INVOICE_TYPE_Non Goods        1.5333      0.026     58.568      0.000       1.482       1.585\n",
              "=============================================================================================\n",
              "\"\"\""
            ],
            "text/html": [
              "<table class=\"simpletable\">\n",
              "<caption>Generalized Linear Model Regression Results</caption>\n",
              "<tr>\n",
              "  <th>Dep. Variable:</th>        <td>target</td>      <th>  No. Observations:  </th>  <td> 65755</td> \n",
              "</tr>\n",
              "<tr>\n",
              "  <th>Model:</th>                  <td>GLM</td>       <th>  Df Residuals:      </th>  <td> 65743</td> \n",
              "</tr>\n",
              "<tr>\n",
              "  <th>Model Family:</th>        <td>Binomial</td>     <th>  Df Model:          </th>  <td>    11</td> \n",
              "</tr>\n",
              "<tr>\n",
              "  <th>Link Function:</th>         <td>Logit</td>      <th>  Scale:             </th> <td>  1.0000</td>\n",
              "</tr>\n",
              "<tr>\n",
              "  <th>Method:</th>                <td>IRLS</td>       <th>  Log-Likelihood:    </th> <td> -34467.</td>\n",
              "</tr>\n",
              "<tr>\n",
              "  <th>Date:</th>            <td>Tue, 14 Mar 2023</td> <th>  Deviance:          </th> <td>  68934.</td>\n",
              "</tr>\n",
              "<tr>\n",
              "  <th>Time:</th>                <td>04:44:07</td>     <th>  Pearson chi2:      </th> <td>6.57e+04</td>\n",
              "</tr>\n",
              "<tr>\n",
              "  <th>No. Iterations:</th>          <td>7</td>        <th>  Pseudo R-squ. (CS):</th>  <td>0.1874</td> \n",
              "</tr>\n",
              "<tr>\n",
              "  <th>Covariance Type:</th>     <td>nonrobust</td>    <th>                     </th>     <td> </td>   \n",
              "</tr>\n",
              "</table>\n",
              "<table class=\"simpletable\">\n",
              "<tr>\n",
              "              <td></td>                 <th>coef</th>     <th>std err</th>      <th>z</th>      <th>P>|z|</th>  <th>[0.025</th>    <th>0.975]</th>  \n",
              "</tr>\n",
              "<tr>\n",
              "  <th>const</th>                     <td>   -4.5977</td> <td>    0.137</td> <td>  -33.455</td> <td> 0.000</td> <td>   -4.867</td> <td>   -4.328</td>\n",
              "</tr>\n",
              "<tr>\n",
              "  <th>USD Amount</th>                <td>    0.2535</td> <td>    0.010</td> <td>   24.188</td> <td> 0.000</td> <td>    0.233</td> <td>    0.274</td>\n",
              "</tr>\n",
              "<tr>\n",
              "  <th>Payment_Term_Days</th>         <td>   10.8321</td> <td>    0.166</td> <td>   65.239</td> <td> 0.000</td> <td>   10.507</td> <td>   11.158</td>\n",
              "</tr>\n",
              "<tr>\n",
              "  <th>INVOICE_CLASS_DM</th>          <td>   -0.9075</td> <td>    0.220</td> <td>   -4.128</td> <td> 0.000</td> <td>   -1.338</td> <td>   -0.477</td>\n",
              "</tr>\n",
              "<tr>\n",
              "  <th>INVOICE_CLASS_INV</th>         <td>    2.3619</td> <td>    0.138</td> <td>   17.151</td> <td> 0.000</td> <td>    2.092</td> <td>    2.632</td>\n",
              "</tr>\n",
              "<tr>\n",
              "  <th>INVOICE_CURRENCY_CODE_EUR</th> <td>    0.2770</td> <td>    0.077</td> <td>    3.612</td> <td> 0.000</td> <td>    0.127</td> <td>    0.427</td>\n",
              "</tr>\n",
              "<tr>\n",
              "  <th>INVOICE_CURRENCY_CODE_GBP</th> <td>   -2.0417</td> <td>    0.292</td> <td>   -6.997</td> <td> 0.000</td> <td>   -2.614</td> <td>   -1.470</td>\n",
              "</tr>\n",
              "<tr>\n",
              "  <th>INVOICE_CURRENCY_CODE_KWD</th> <td>   -0.3019</td> <td>    0.088</td> <td>   -3.449</td> <td> 0.001</td> <td>   -0.473</td> <td>   -0.130</td>\n",
              "</tr>\n",
              "<tr>\n",
              "  <th>INVOICE_CURRENCY_CODE_QAR</th> <td>   -0.8322</td> <td>    0.131</td> <td>   -6.337</td> <td> 0.000</td> <td>   -1.090</td> <td>   -0.575</td>\n",
              "</tr>\n",
              "<tr>\n",
              "  <th>INVOICE_CURRENCY_CODE_SAR</th> <td>   -0.8122</td> <td>    0.022</td> <td>  -37.176</td> <td> 0.000</td> <td>   -0.855</td> <td>   -0.769</td>\n",
              "</tr>\n",
              "<tr>\n",
              "  <th>INVOICE_CURRENCY_CODE_USD</th> <td>   -0.9362</td> <td>    0.027</td> <td>  -34.328</td> <td> 0.000</td> <td>   -0.990</td> <td>   -0.883</td>\n",
              "</tr>\n",
              "<tr>\n",
              "  <th>INVOICE_TYPE_Non Goods</th>    <td>    1.5333</td> <td>    0.026</td> <td>   58.568</td> <td> 0.000</td> <td>    1.482</td> <td>    1.585</td>\n",
              "</tr>\n",
              "</table>"
            ]
          },
          "metadata": {},
          "execution_count": 266
        }
      ],
      "source": [
        "# Building second model\n",
        "# Logistic regression model\n",
        "X_train_sm=sm.add_constant(X_train[cols])\n",
        "logm2 = sm.GLM(y_train,X_train_sm, family = sm.families.Binomial())\n",
        "res=logm2.fit()\n",
        "res.summary()"
      ]
    },
    {
      "cell_type": "code",
      "execution_count": 267,
      "id": "4954ca61",
      "metadata": {
        "id": "4954ca61"
      },
      "outputs": [],
      "source": [
        "# Check for the VIF values of the feature variables. \n",
        "from statsmodels.stats.outliers_influence import variance_inflation_factor"
      ]
    },
    {
      "cell_type": "code",
      "execution_count": 268,
      "id": "8456b1fb",
      "metadata": {
        "id": "8456b1fb",
        "outputId": "fbf847fc-03fa-4fd1-80e9-72d4af36a724",
        "colab": {
          "base_uri": "https://localhost:8080/",
          "height": 394
        }
      },
      "outputs": [
        {
          "output_type": "execute_result",
          "data": {
            "text/plain": [
              "                     Features    VIF\n",
              "3           INVOICE_CLASS_INV  10.54\n",
              "1           Payment_Term_Days   5.39\n",
              "8   INVOICE_CURRENCY_CODE_SAR   2.26\n",
              "10     INVOICE_TYPE_Non Goods   1.93\n",
              "9   INVOICE_CURRENCY_CODE_USD   1.60\n",
              "0                  USD Amount   1.47\n",
              "2            INVOICE_CLASS_DM   1.26\n",
              "4   INVOICE_CURRENCY_CODE_EUR   1.06\n",
              "6   INVOICE_CURRENCY_CODE_KWD   1.03\n",
              "7   INVOICE_CURRENCY_CODE_QAR   1.02\n",
              "5   INVOICE_CURRENCY_CODE_GBP   1.01"
            ],
            "text/html": [
              "\n",
              "  <div id=\"df-1180046c-46df-4145-9563-790fd1893e13\">\n",
              "    <div class=\"colab-df-container\">\n",
              "      <div>\n",
              "<style scoped>\n",
              "    .dataframe tbody tr th:only-of-type {\n",
              "        vertical-align: middle;\n",
              "    }\n",
              "\n",
              "    .dataframe tbody tr th {\n",
              "        vertical-align: top;\n",
              "    }\n",
              "\n",
              "    .dataframe thead th {\n",
              "        text-align: right;\n",
              "    }\n",
              "</style>\n",
              "<table border=\"1\" class=\"dataframe\">\n",
              "  <thead>\n",
              "    <tr style=\"text-align: right;\">\n",
              "      <th></th>\n",
              "      <th>Features</th>\n",
              "      <th>VIF</th>\n",
              "    </tr>\n",
              "  </thead>\n",
              "  <tbody>\n",
              "    <tr>\n",
              "      <th>3</th>\n",
              "      <td>INVOICE_CLASS_INV</td>\n",
              "      <td>10.54</td>\n",
              "    </tr>\n",
              "    <tr>\n",
              "      <th>1</th>\n",
              "      <td>Payment_Term_Days</td>\n",
              "      <td>5.39</td>\n",
              "    </tr>\n",
              "    <tr>\n",
              "      <th>8</th>\n",
              "      <td>INVOICE_CURRENCY_CODE_SAR</td>\n",
              "      <td>2.26</td>\n",
              "    </tr>\n",
              "    <tr>\n",
              "      <th>10</th>\n",
              "      <td>INVOICE_TYPE_Non Goods</td>\n",
              "      <td>1.93</td>\n",
              "    </tr>\n",
              "    <tr>\n",
              "      <th>9</th>\n",
              "      <td>INVOICE_CURRENCY_CODE_USD</td>\n",
              "      <td>1.60</td>\n",
              "    </tr>\n",
              "    <tr>\n",
              "      <th>0</th>\n",
              "      <td>USD Amount</td>\n",
              "      <td>1.47</td>\n",
              "    </tr>\n",
              "    <tr>\n",
              "      <th>2</th>\n",
              "      <td>INVOICE_CLASS_DM</td>\n",
              "      <td>1.26</td>\n",
              "    </tr>\n",
              "    <tr>\n",
              "      <th>4</th>\n",
              "      <td>INVOICE_CURRENCY_CODE_EUR</td>\n",
              "      <td>1.06</td>\n",
              "    </tr>\n",
              "    <tr>\n",
              "      <th>6</th>\n",
              "      <td>INVOICE_CURRENCY_CODE_KWD</td>\n",
              "      <td>1.03</td>\n",
              "    </tr>\n",
              "    <tr>\n",
              "      <th>7</th>\n",
              "      <td>INVOICE_CURRENCY_CODE_QAR</td>\n",
              "      <td>1.02</td>\n",
              "    </tr>\n",
              "    <tr>\n",
              "      <th>5</th>\n",
              "      <td>INVOICE_CURRENCY_CODE_GBP</td>\n",
              "      <td>1.01</td>\n",
              "    </tr>\n",
              "  </tbody>\n",
              "</table>\n",
              "</div>\n",
              "      <button class=\"colab-df-convert\" onclick=\"convertToInteractive('df-1180046c-46df-4145-9563-790fd1893e13')\"\n",
              "              title=\"Convert this dataframe to an interactive table.\"\n",
              "              style=\"display:none;\">\n",
              "        \n",
              "  <svg xmlns=\"http://www.w3.org/2000/svg\" height=\"24px\"viewBox=\"0 0 24 24\"\n",
              "       width=\"24px\">\n",
              "    <path d=\"M0 0h24v24H0V0z\" fill=\"none\"/>\n",
              "    <path d=\"M18.56 5.44l.94 2.06.94-2.06 2.06-.94-2.06-.94-.94-2.06-.94 2.06-2.06.94zm-11 1L8.5 8.5l.94-2.06 2.06-.94-2.06-.94L8.5 2.5l-.94 2.06-2.06.94zm10 10l.94 2.06.94-2.06 2.06-.94-2.06-.94-.94-2.06-.94 2.06-2.06.94z\"/><path d=\"M17.41 7.96l-1.37-1.37c-.4-.4-.92-.59-1.43-.59-.52 0-1.04.2-1.43.59L10.3 9.45l-7.72 7.72c-.78.78-.78 2.05 0 2.83L4 21.41c.39.39.9.59 1.41.59.51 0 1.02-.2 1.41-.59l7.78-7.78 2.81-2.81c.8-.78.8-2.07 0-2.86zM5.41 20L4 18.59l7.72-7.72 1.47 1.35L5.41 20z\"/>\n",
              "  </svg>\n",
              "      </button>\n",
              "      \n",
              "  <style>\n",
              "    .colab-df-container {\n",
              "      display:flex;\n",
              "      flex-wrap:wrap;\n",
              "      gap: 12px;\n",
              "    }\n",
              "\n",
              "    .colab-df-convert {\n",
              "      background-color: #E8F0FE;\n",
              "      border: none;\n",
              "      border-radius: 50%;\n",
              "      cursor: pointer;\n",
              "      display: none;\n",
              "      fill: #1967D2;\n",
              "      height: 32px;\n",
              "      padding: 0 0 0 0;\n",
              "      width: 32px;\n",
              "    }\n",
              "\n",
              "    .colab-df-convert:hover {\n",
              "      background-color: #E2EBFA;\n",
              "      box-shadow: 0px 1px 2px rgba(60, 64, 67, 0.3), 0px 1px 3px 1px rgba(60, 64, 67, 0.15);\n",
              "      fill: #174EA6;\n",
              "    }\n",
              "\n",
              "    [theme=dark] .colab-df-convert {\n",
              "      background-color: #3B4455;\n",
              "      fill: #D2E3FC;\n",
              "    }\n",
              "\n",
              "    [theme=dark] .colab-df-convert:hover {\n",
              "      background-color: #434B5C;\n",
              "      box-shadow: 0px 1px 3px 1px rgba(0, 0, 0, 0.15);\n",
              "      filter: drop-shadow(0px 1px 2px rgba(0, 0, 0, 0.3));\n",
              "      fill: #FFFFFF;\n",
              "    }\n",
              "  </style>\n",
              "\n",
              "      <script>\n",
              "        const buttonEl =\n",
              "          document.querySelector('#df-1180046c-46df-4145-9563-790fd1893e13 button.colab-df-convert');\n",
              "        buttonEl.style.display =\n",
              "          google.colab.kernel.accessAllowed ? 'block' : 'none';\n",
              "\n",
              "        async function convertToInteractive(key) {\n",
              "          const element = document.querySelector('#df-1180046c-46df-4145-9563-790fd1893e13');\n",
              "          const dataTable =\n",
              "            await google.colab.kernel.invokeFunction('convertToInteractive',\n",
              "                                                     [key], {});\n",
              "          if (!dataTable) return;\n",
              "\n",
              "          const docLinkHtml = 'Like what you see? Visit the ' +\n",
              "            '<a target=\"_blank\" href=https://colab.research.google.com/notebooks/data_table.ipynb>data table notebook</a>'\n",
              "            + ' to learn more about interactive tables.';\n",
              "          element.innerHTML = '';\n",
              "          dataTable['output_type'] = 'display_data';\n",
              "          await google.colab.output.renderOutput(dataTable, element);\n",
              "          const docLink = document.createElement('div');\n",
              "          docLink.innerHTML = docLinkHtml;\n",
              "          element.appendChild(docLink);\n",
              "        }\n",
              "      </script>\n",
              "    </div>\n",
              "  </div>\n",
              "  "
            ]
          },
          "metadata": {},
          "execution_count": 268
        }
      ],
      "source": [
        "# Create a dataframe that will contain the names of all the feature variables and their respective VIFs\n",
        "vif = pd.DataFrame()\n",
        "vif['Features'] = X_train[cols].columns\n",
        "vif['VIF'] = [variance_inflation_factor(X_train[cols].values, i) for i in range(X_train[cols].shape[1])]\n",
        "vif['VIF'] = round(vif['VIF'], 2)\n",
        "vif = vif.sort_values(by = \"VIF\", ascending = False)\n",
        "vif"
      ]
    },
    {
      "cell_type": "markdown",
      "id": "6dc649d5",
      "metadata": {
        "id": "6dc649d5"
      },
      "source": [
        "Since 'INVOICE_CLASS_INV' have high VIF value , letus drop this column"
      ]
    },
    {
      "cell_type": "code",
      "execution_count": 269,
      "id": "bf829dec",
      "metadata": {
        "id": "bf829dec"
      },
      "outputs": [],
      "source": [
        "#dropping INVOICE_CLASS_INV column\n",
        "cols=cols.drop('INVOICE_CLASS_INV')"
      ]
    },
    {
      "cell_type": "markdown",
      "id": "1d2ce712",
      "metadata": {
        "id": "1d2ce712"
      },
      "source": [
        "### 3rd Model"
      ]
    },
    {
      "cell_type": "code",
      "execution_count": 270,
      "id": "a00853fb",
      "metadata": {
        "id": "a00853fb",
        "outputId": "6cb0c760-4a1f-4d5b-90c4-186b411a6d23",
        "colab": {
          "base_uri": "https://localhost:8080/",
          "height": 470
        }
      },
      "outputs": [
        {
          "output_type": "execute_result",
          "data": {
            "text/plain": [
              "<class 'statsmodels.iolib.summary.Summary'>\n",
              "\"\"\"\n",
              "                 Generalized Linear Model Regression Results                  \n",
              "==============================================================================\n",
              "Dep. Variable:                 target   No. Observations:                65755\n",
              "Model:                            GLM   Df Residuals:                    65744\n",
              "Model Family:                Binomial   Df Model:                           10\n",
              "Link Function:                  Logit   Scale:                          1.0000\n",
              "Method:                          IRLS   Log-Likelihood:                -34770.\n",
              "Date:                Tue, 14 Mar 2023   Deviance:                       69541.\n",
              "Time:                        04:44:25   Pearson chi2:                 6.65e+04\n",
              "No. Iterations:                     5   Pseudo R-squ. (CS):             0.1798\n",
              "Covariance Type:            nonrobust                                         \n",
              "=============================================================================================\n",
              "                                coef    std err          z      P>|z|      [0.025      0.975]\n",
              "---------------------------------------------------------------------------------------------\n",
              "const                        -2.4811      0.034    -72.860      0.000      -2.548      -2.414\n",
              "USD Amount                    0.2574      0.011     24.479      0.000       0.237       0.278\n",
              "Payment_Term_Days            12.0287      0.159     75.655      0.000      11.717      12.340\n",
              "INVOICE_CLASS_DM             -3.4353      0.169    -20.381      0.000      -3.766      -3.105\n",
              "INVOICE_CURRENCY_CODE_EUR     0.1758      0.074      2.373      0.018       0.031       0.321\n",
              "INVOICE_CURRENCY_CODE_GBP    -2.1228      0.289     -7.345      0.000      -2.689      -1.556\n",
              "INVOICE_CURRENCY_CODE_KWD    -0.3222      0.086     -3.738      0.000      -0.491      -0.153\n",
              "INVOICE_CURRENCY_CODE_QAR    -0.8284      0.130     -6.361      0.000      -1.084      -0.573\n",
              "INVOICE_CURRENCY_CODE_SAR    -0.7696      0.022    -35.441      0.000      -0.812      -0.727\n",
              "INVOICE_CURRENCY_CODE_USD    -0.9067      0.027    -33.238      0.000      -0.960      -0.853\n",
              "INVOICE_TYPE_Non Goods        1.6150      0.026     62.478      0.000       1.564       1.666\n",
              "=============================================================================================\n",
              "\"\"\""
            ],
            "text/html": [
              "<table class=\"simpletable\">\n",
              "<caption>Generalized Linear Model Regression Results</caption>\n",
              "<tr>\n",
              "  <th>Dep. Variable:</th>        <td>target</td>      <th>  No. Observations:  </th>  <td> 65755</td> \n",
              "</tr>\n",
              "<tr>\n",
              "  <th>Model:</th>                  <td>GLM</td>       <th>  Df Residuals:      </th>  <td> 65744</td> \n",
              "</tr>\n",
              "<tr>\n",
              "  <th>Model Family:</th>        <td>Binomial</td>     <th>  Df Model:          </th>  <td>    10</td> \n",
              "</tr>\n",
              "<tr>\n",
              "  <th>Link Function:</th>         <td>Logit</td>      <th>  Scale:             </th> <td>  1.0000</td>\n",
              "</tr>\n",
              "<tr>\n",
              "  <th>Method:</th>                <td>IRLS</td>       <th>  Log-Likelihood:    </th> <td> -34770.</td>\n",
              "</tr>\n",
              "<tr>\n",
              "  <th>Date:</th>            <td>Tue, 14 Mar 2023</td> <th>  Deviance:          </th> <td>  69541.</td>\n",
              "</tr>\n",
              "<tr>\n",
              "  <th>Time:</th>                <td>04:44:25</td>     <th>  Pearson chi2:      </th> <td>6.65e+04</td>\n",
              "</tr>\n",
              "<tr>\n",
              "  <th>No. Iterations:</th>          <td>5</td>        <th>  Pseudo R-squ. (CS):</th>  <td>0.1798</td> \n",
              "</tr>\n",
              "<tr>\n",
              "  <th>Covariance Type:</th>     <td>nonrobust</td>    <th>                     </th>     <td> </td>   \n",
              "</tr>\n",
              "</table>\n",
              "<table class=\"simpletable\">\n",
              "<tr>\n",
              "              <td></td>                 <th>coef</th>     <th>std err</th>      <th>z</th>      <th>P>|z|</th>  <th>[0.025</th>    <th>0.975]</th>  \n",
              "</tr>\n",
              "<tr>\n",
              "  <th>const</th>                     <td>   -2.4811</td> <td>    0.034</td> <td>  -72.860</td> <td> 0.000</td> <td>   -2.548</td> <td>   -2.414</td>\n",
              "</tr>\n",
              "<tr>\n",
              "  <th>USD Amount</th>                <td>    0.2574</td> <td>    0.011</td> <td>   24.479</td> <td> 0.000</td> <td>    0.237</td> <td>    0.278</td>\n",
              "</tr>\n",
              "<tr>\n",
              "  <th>Payment_Term_Days</th>         <td>   12.0287</td> <td>    0.159</td> <td>   75.655</td> <td> 0.000</td> <td>   11.717</td> <td>   12.340</td>\n",
              "</tr>\n",
              "<tr>\n",
              "  <th>INVOICE_CLASS_DM</th>          <td>   -3.4353</td> <td>    0.169</td> <td>  -20.381</td> <td> 0.000</td> <td>   -3.766</td> <td>   -3.105</td>\n",
              "</tr>\n",
              "<tr>\n",
              "  <th>INVOICE_CURRENCY_CODE_EUR</th> <td>    0.1758</td> <td>    0.074</td> <td>    2.373</td> <td> 0.018</td> <td>    0.031</td> <td>    0.321</td>\n",
              "</tr>\n",
              "<tr>\n",
              "  <th>INVOICE_CURRENCY_CODE_GBP</th> <td>   -2.1228</td> <td>    0.289</td> <td>   -7.345</td> <td> 0.000</td> <td>   -2.689</td> <td>   -1.556</td>\n",
              "</tr>\n",
              "<tr>\n",
              "  <th>INVOICE_CURRENCY_CODE_KWD</th> <td>   -0.3222</td> <td>    0.086</td> <td>   -3.738</td> <td> 0.000</td> <td>   -0.491</td> <td>   -0.153</td>\n",
              "</tr>\n",
              "<tr>\n",
              "  <th>INVOICE_CURRENCY_CODE_QAR</th> <td>   -0.8284</td> <td>    0.130</td> <td>   -6.361</td> <td> 0.000</td> <td>   -1.084</td> <td>   -0.573</td>\n",
              "</tr>\n",
              "<tr>\n",
              "  <th>INVOICE_CURRENCY_CODE_SAR</th> <td>   -0.7696</td> <td>    0.022</td> <td>  -35.441</td> <td> 0.000</td> <td>   -0.812</td> <td>   -0.727</td>\n",
              "</tr>\n",
              "<tr>\n",
              "  <th>INVOICE_CURRENCY_CODE_USD</th> <td>   -0.9067</td> <td>    0.027</td> <td>  -33.238</td> <td> 0.000</td> <td>   -0.960</td> <td>   -0.853</td>\n",
              "</tr>\n",
              "<tr>\n",
              "  <th>INVOICE_TYPE_Non Goods</th>    <td>    1.6150</td> <td>    0.026</td> <td>   62.478</td> <td> 0.000</td> <td>    1.564</td> <td>    1.666</td>\n",
              "</tr>\n",
              "</table>"
            ]
          },
          "metadata": {},
          "execution_count": 270
        }
      ],
      "source": [
        "# Logistic regression model\n",
        "X_train_sm=sm.add_constant(X_train[cols])\n",
        "logm3 = sm.GLM(y_train,X_train_sm, family = sm.families.Binomial())\n",
        "res=logm3.fit()\n",
        "res.summary()"
      ]
    },
    {
      "cell_type": "code",
      "execution_count": 271,
      "id": "ddd6f0f8",
      "metadata": {
        "id": "ddd6f0f8",
        "outputId": "c2dd95cc-cf4b-498b-e866-1b531ce5b748",
        "colab": {
          "base_uri": "https://localhost:8080/",
          "height": 363
        }
      },
      "outputs": [
        {
          "output_type": "execute_result",
          "data": {
            "text/plain": [
              "                    Features   VIF\n",
              "1          Payment_Term_Days  1.95\n",
              "7  INVOICE_CURRENCY_CODE_SAR  1.56\n",
              "0                 USD Amount  1.37\n",
              "8  INVOICE_CURRENCY_CODE_USD  1.37\n",
              "9     INVOICE_TYPE_Non Goods  1.22\n",
              "3  INVOICE_CURRENCY_CODE_EUR  1.05\n",
              "2           INVOICE_CLASS_DM  1.04\n",
              "5  INVOICE_CURRENCY_CODE_KWD  1.02\n",
              "4  INVOICE_CURRENCY_CODE_GBP  1.01\n",
              "6  INVOICE_CURRENCY_CODE_QAR  1.01"
            ],
            "text/html": [
              "\n",
              "  <div id=\"df-c608422e-9c3c-4cb2-879e-36ef9854ee1f\">\n",
              "    <div class=\"colab-df-container\">\n",
              "      <div>\n",
              "<style scoped>\n",
              "    .dataframe tbody tr th:only-of-type {\n",
              "        vertical-align: middle;\n",
              "    }\n",
              "\n",
              "    .dataframe tbody tr th {\n",
              "        vertical-align: top;\n",
              "    }\n",
              "\n",
              "    .dataframe thead th {\n",
              "        text-align: right;\n",
              "    }\n",
              "</style>\n",
              "<table border=\"1\" class=\"dataframe\">\n",
              "  <thead>\n",
              "    <tr style=\"text-align: right;\">\n",
              "      <th></th>\n",
              "      <th>Features</th>\n",
              "      <th>VIF</th>\n",
              "    </tr>\n",
              "  </thead>\n",
              "  <tbody>\n",
              "    <tr>\n",
              "      <th>1</th>\n",
              "      <td>Payment_Term_Days</td>\n",
              "      <td>1.95</td>\n",
              "    </tr>\n",
              "    <tr>\n",
              "      <th>7</th>\n",
              "      <td>INVOICE_CURRENCY_CODE_SAR</td>\n",
              "      <td>1.56</td>\n",
              "    </tr>\n",
              "    <tr>\n",
              "      <th>0</th>\n",
              "      <td>USD Amount</td>\n",
              "      <td>1.37</td>\n",
              "    </tr>\n",
              "    <tr>\n",
              "      <th>8</th>\n",
              "      <td>INVOICE_CURRENCY_CODE_USD</td>\n",
              "      <td>1.37</td>\n",
              "    </tr>\n",
              "    <tr>\n",
              "      <th>9</th>\n",
              "      <td>INVOICE_TYPE_Non Goods</td>\n",
              "      <td>1.22</td>\n",
              "    </tr>\n",
              "    <tr>\n",
              "      <th>3</th>\n",
              "      <td>INVOICE_CURRENCY_CODE_EUR</td>\n",
              "      <td>1.05</td>\n",
              "    </tr>\n",
              "    <tr>\n",
              "      <th>2</th>\n",
              "      <td>INVOICE_CLASS_DM</td>\n",
              "      <td>1.04</td>\n",
              "    </tr>\n",
              "    <tr>\n",
              "      <th>5</th>\n",
              "      <td>INVOICE_CURRENCY_CODE_KWD</td>\n",
              "      <td>1.02</td>\n",
              "    </tr>\n",
              "    <tr>\n",
              "      <th>4</th>\n",
              "      <td>INVOICE_CURRENCY_CODE_GBP</td>\n",
              "      <td>1.01</td>\n",
              "    </tr>\n",
              "    <tr>\n",
              "      <th>6</th>\n",
              "      <td>INVOICE_CURRENCY_CODE_QAR</td>\n",
              "      <td>1.01</td>\n",
              "    </tr>\n",
              "  </tbody>\n",
              "</table>\n",
              "</div>\n",
              "      <button class=\"colab-df-convert\" onclick=\"convertToInteractive('df-c608422e-9c3c-4cb2-879e-36ef9854ee1f')\"\n",
              "              title=\"Convert this dataframe to an interactive table.\"\n",
              "              style=\"display:none;\">\n",
              "        \n",
              "  <svg xmlns=\"http://www.w3.org/2000/svg\" height=\"24px\"viewBox=\"0 0 24 24\"\n",
              "       width=\"24px\">\n",
              "    <path d=\"M0 0h24v24H0V0z\" fill=\"none\"/>\n",
              "    <path d=\"M18.56 5.44l.94 2.06.94-2.06 2.06-.94-2.06-.94-.94-2.06-.94 2.06-2.06.94zm-11 1L8.5 8.5l.94-2.06 2.06-.94-2.06-.94L8.5 2.5l-.94 2.06-2.06.94zm10 10l.94 2.06.94-2.06 2.06-.94-2.06-.94-.94-2.06-.94 2.06-2.06.94z\"/><path d=\"M17.41 7.96l-1.37-1.37c-.4-.4-.92-.59-1.43-.59-.52 0-1.04.2-1.43.59L10.3 9.45l-7.72 7.72c-.78.78-.78 2.05 0 2.83L4 21.41c.39.39.9.59 1.41.59.51 0 1.02-.2 1.41-.59l7.78-7.78 2.81-2.81c.8-.78.8-2.07 0-2.86zM5.41 20L4 18.59l7.72-7.72 1.47 1.35L5.41 20z\"/>\n",
              "  </svg>\n",
              "      </button>\n",
              "      \n",
              "  <style>\n",
              "    .colab-df-container {\n",
              "      display:flex;\n",
              "      flex-wrap:wrap;\n",
              "      gap: 12px;\n",
              "    }\n",
              "\n",
              "    .colab-df-convert {\n",
              "      background-color: #E8F0FE;\n",
              "      border: none;\n",
              "      border-radius: 50%;\n",
              "      cursor: pointer;\n",
              "      display: none;\n",
              "      fill: #1967D2;\n",
              "      height: 32px;\n",
              "      padding: 0 0 0 0;\n",
              "      width: 32px;\n",
              "    }\n",
              "\n",
              "    .colab-df-convert:hover {\n",
              "      background-color: #E2EBFA;\n",
              "      box-shadow: 0px 1px 2px rgba(60, 64, 67, 0.3), 0px 1px 3px 1px rgba(60, 64, 67, 0.15);\n",
              "      fill: #174EA6;\n",
              "    }\n",
              "\n",
              "    [theme=dark] .colab-df-convert {\n",
              "      background-color: #3B4455;\n",
              "      fill: #D2E3FC;\n",
              "    }\n",
              "\n",
              "    [theme=dark] .colab-df-convert:hover {\n",
              "      background-color: #434B5C;\n",
              "      box-shadow: 0px 1px 3px 1px rgba(0, 0, 0, 0.15);\n",
              "      filter: drop-shadow(0px 1px 2px rgba(0, 0, 0, 0.3));\n",
              "      fill: #FFFFFF;\n",
              "    }\n",
              "  </style>\n",
              "\n",
              "      <script>\n",
              "        const buttonEl =\n",
              "          document.querySelector('#df-c608422e-9c3c-4cb2-879e-36ef9854ee1f button.colab-df-convert');\n",
              "        buttonEl.style.display =\n",
              "          google.colab.kernel.accessAllowed ? 'block' : 'none';\n",
              "\n",
              "        async function convertToInteractive(key) {\n",
              "          const element = document.querySelector('#df-c608422e-9c3c-4cb2-879e-36ef9854ee1f');\n",
              "          const dataTable =\n",
              "            await google.colab.kernel.invokeFunction('convertToInteractive',\n",
              "                                                     [key], {});\n",
              "          if (!dataTable) return;\n",
              "\n",
              "          const docLinkHtml = 'Like what you see? Visit the ' +\n",
              "            '<a target=\"_blank\" href=https://colab.research.google.com/notebooks/data_table.ipynb>data table notebook</a>'\n",
              "            + ' to learn more about interactive tables.';\n",
              "          element.innerHTML = '';\n",
              "          dataTable['output_type'] = 'display_data';\n",
              "          await google.colab.output.renderOutput(dataTable, element);\n",
              "          const docLink = document.createElement('div');\n",
              "          docLink.innerHTML = docLinkHtml;\n",
              "          element.appendChild(docLink);\n",
              "        }\n",
              "      </script>\n",
              "    </div>\n",
              "  </div>\n",
              "  "
            ]
          },
          "metadata": {},
          "execution_count": 271
        }
      ],
      "source": [
        "# Checking VIF again.\n",
        "# Create a dataframe that will contain the names of all the feature variables and their respective VIFs\n",
        "vif = pd.DataFrame()\n",
        "vif['Features'] = X_train[cols].columns\n",
        "vif['VIF'] = [variance_inflation_factor(X_train[cols].values, i) for i in range(X_train[cols].shape[1])]\n",
        "vif['VIF'] = round(vif['VIF'], 2)\n",
        "vif = vif.sort_values(by = \"VIF\", ascending = False)\n",
        "vif"
      ]
    },
    {
      "cell_type": "markdown",
      "id": "b7c0578c",
      "metadata": {
        "id": "b7c0578c"
      },
      "source": [
        " All variables VIF is in acceptable range . Hence we can proceed with this model."
      ]
    },
    {
      "cell_type": "code",
      "execution_count": 272,
      "id": "c642ac3e",
      "metadata": {
        "id": "c642ac3e"
      },
      "outputs": [],
      "source": [
        "### Checking for accuracy & other metrics of model\n",
        "y_train_pred = res.predict(X_train_sm).values.reshape(-1)"
      ]
    },
    {
      "cell_type": "code",
      "execution_count": 273,
      "id": "b98fda90",
      "metadata": {
        "id": "b98fda90",
        "outputId": "f684bd0b-6c01-43ed-a232-e08046febb25",
        "colab": {
          "base_uri": "https://localhost:8080/"
        }
      },
      "outputs": [
        {
          "output_type": "execute_result",
          "data": {
            "text/plain": [
              "array([0.31733222, 0.09558852, 0.53701192, 0.18355257, 0.20783878,\n",
              "       0.06103978, 0.34365494, 0.12023474, 0.52129308, 0.37746726])"
            ]
          },
          "metadata": {},
          "execution_count": 273
        }
      ],
      "source": [
        "y_train_pred[:10]"
      ]
    },
    {
      "cell_type": "code",
      "execution_count": 274,
      "id": "9dc22bff",
      "metadata": {
        "id": "9dc22bff",
        "outputId": "ad6961a7-d0db-4f46-b114-fd698dad8d51",
        "colab": {
          "base_uri": "https://localhost:8080/",
          "height": 206
        }
      },
      "outputs": [
        {
          "output_type": "execute_result",
          "data": {
            "text/plain": [
              "   Delay  Delay_Prob  CustID\n",
              "0      0    0.317332     214\n",
              "1      0    0.095589   28353\n",
              "2      1    0.537012   70381\n",
              "3      0    0.183553   93001\n",
              "4      0    0.207839   91650"
            ],
            "text/html": [
              "\n",
              "  <div id=\"df-4c2ccba6-68ef-4c81-8ca6-3ace41b15d1d\">\n",
              "    <div class=\"colab-df-container\">\n",
              "      <div>\n",
              "<style scoped>\n",
              "    .dataframe tbody tr th:only-of-type {\n",
              "        vertical-align: middle;\n",
              "    }\n",
              "\n",
              "    .dataframe tbody tr th {\n",
              "        vertical-align: top;\n",
              "    }\n",
              "\n",
              "    .dataframe thead th {\n",
              "        text-align: right;\n",
              "    }\n",
              "</style>\n",
              "<table border=\"1\" class=\"dataframe\">\n",
              "  <thead>\n",
              "    <tr style=\"text-align: right;\">\n",
              "      <th></th>\n",
              "      <th>Delay</th>\n",
              "      <th>Delay_Prob</th>\n",
              "      <th>CustID</th>\n",
              "    </tr>\n",
              "  </thead>\n",
              "  <tbody>\n",
              "    <tr>\n",
              "      <th>0</th>\n",
              "      <td>0</td>\n",
              "      <td>0.317332</td>\n",
              "      <td>214</td>\n",
              "    </tr>\n",
              "    <tr>\n",
              "      <th>1</th>\n",
              "      <td>0</td>\n",
              "      <td>0.095589</td>\n",
              "      <td>28353</td>\n",
              "    </tr>\n",
              "    <tr>\n",
              "      <th>2</th>\n",
              "      <td>1</td>\n",
              "      <td>0.537012</td>\n",
              "      <td>70381</td>\n",
              "    </tr>\n",
              "    <tr>\n",
              "      <th>3</th>\n",
              "      <td>0</td>\n",
              "      <td>0.183553</td>\n",
              "      <td>93001</td>\n",
              "    </tr>\n",
              "    <tr>\n",
              "      <th>4</th>\n",
              "      <td>0</td>\n",
              "      <td>0.207839</td>\n",
              "      <td>91650</td>\n",
              "    </tr>\n",
              "  </tbody>\n",
              "</table>\n",
              "</div>\n",
              "      <button class=\"colab-df-convert\" onclick=\"convertToInteractive('df-4c2ccba6-68ef-4c81-8ca6-3ace41b15d1d')\"\n",
              "              title=\"Convert this dataframe to an interactive table.\"\n",
              "              style=\"display:none;\">\n",
              "        \n",
              "  <svg xmlns=\"http://www.w3.org/2000/svg\" height=\"24px\"viewBox=\"0 0 24 24\"\n",
              "       width=\"24px\">\n",
              "    <path d=\"M0 0h24v24H0V0z\" fill=\"none\"/>\n",
              "    <path d=\"M18.56 5.44l.94 2.06.94-2.06 2.06-.94-2.06-.94-.94-2.06-.94 2.06-2.06.94zm-11 1L8.5 8.5l.94-2.06 2.06-.94-2.06-.94L8.5 2.5l-.94 2.06-2.06.94zm10 10l.94 2.06.94-2.06 2.06-.94-2.06-.94-.94-2.06-.94 2.06-2.06.94z\"/><path d=\"M17.41 7.96l-1.37-1.37c-.4-.4-.92-.59-1.43-.59-.52 0-1.04.2-1.43.59L10.3 9.45l-7.72 7.72c-.78.78-.78 2.05 0 2.83L4 21.41c.39.39.9.59 1.41.59.51 0 1.02-.2 1.41-.59l7.78-7.78 2.81-2.81c.8-.78.8-2.07 0-2.86zM5.41 20L4 18.59l7.72-7.72 1.47 1.35L5.41 20z\"/>\n",
              "  </svg>\n",
              "      </button>\n",
              "      \n",
              "  <style>\n",
              "    .colab-df-container {\n",
              "      display:flex;\n",
              "      flex-wrap:wrap;\n",
              "      gap: 12px;\n",
              "    }\n",
              "\n",
              "    .colab-df-convert {\n",
              "      background-color: #E8F0FE;\n",
              "      border: none;\n",
              "      border-radius: 50%;\n",
              "      cursor: pointer;\n",
              "      display: none;\n",
              "      fill: #1967D2;\n",
              "      height: 32px;\n",
              "      padding: 0 0 0 0;\n",
              "      width: 32px;\n",
              "    }\n",
              "\n",
              "    .colab-df-convert:hover {\n",
              "      background-color: #E2EBFA;\n",
              "      box-shadow: 0px 1px 2px rgba(60, 64, 67, 0.3), 0px 1px 3px 1px rgba(60, 64, 67, 0.15);\n",
              "      fill: #174EA6;\n",
              "    }\n",
              "\n",
              "    [theme=dark] .colab-df-convert {\n",
              "      background-color: #3B4455;\n",
              "      fill: #D2E3FC;\n",
              "    }\n",
              "\n",
              "    [theme=dark] .colab-df-convert:hover {\n",
              "      background-color: #434B5C;\n",
              "      box-shadow: 0px 1px 3px 1px rgba(0, 0, 0, 0.15);\n",
              "      filter: drop-shadow(0px 1px 2px rgba(0, 0, 0, 0.3));\n",
              "      fill: #FFFFFF;\n",
              "    }\n",
              "  </style>\n",
              "\n",
              "      <script>\n",
              "        const buttonEl =\n",
              "          document.querySelector('#df-4c2ccba6-68ef-4c81-8ca6-3ace41b15d1d button.colab-df-convert');\n",
              "        buttonEl.style.display =\n",
              "          google.colab.kernel.accessAllowed ? 'block' : 'none';\n",
              "\n",
              "        async function convertToInteractive(key) {\n",
              "          const element = document.querySelector('#df-4c2ccba6-68ef-4c81-8ca6-3ace41b15d1d');\n",
              "          const dataTable =\n",
              "            await google.colab.kernel.invokeFunction('convertToInteractive',\n",
              "                                                     [key], {});\n",
              "          if (!dataTable) return;\n",
              "\n",
              "          const docLinkHtml = 'Like what you see? Visit the ' +\n",
              "            '<a target=\"_blank\" href=https://colab.research.google.com/notebooks/data_table.ipynb>data table notebook</a>'\n",
              "            + ' to learn more about interactive tables.';\n",
              "          element.innerHTML = '';\n",
              "          dataTable['output_type'] = 'display_data';\n",
              "          await google.colab.output.renderOutput(dataTable, element);\n",
              "          const docLink = document.createElement('div');\n",
              "          docLink.innerHTML = docLinkHtml;\n",
              "          element.appendChild(docLink);\n",
              "        }\n",
              "      </script>\n",
              "    </div>\n",
              "  </div>\n",
              "  "
            ]
          },
          "metadata": {},
          "execution_count": 274
        }
      ],
      "source": [
        "y_train_pred_final = pd.DataFrame({'Delay':y_train.values, 'Delay_Prob':y_train_pred})\n",
        "y_train_pred_final['CustID'] = y_train.index\n",
        "y_train_pred_final.head()"
      ]
    },
    {
      "cell_type": "code",
      "execution_count": 275,
      "id": "9b6bdf89",
      "metadata": {
        "id": "9b6bdf89",
        "outputId": "7480041e-5e53-4182-e974-994e20207f4c",
        "colab": {
          "base_uri": "https://localhost:8080/",
          "height": 206
        }
      },
      "outputs": [
        {
          "output_type": "execute_result",
          "data": {
            "text/plain": [
              "   Delay  Delay_Prob  CustID  predicted\n",
              "0      0    0.317332     214          0\n",
              "1      0    0.095589   28353          0\n",
              "2      1    0.537012   70381          1\n",
              "3      0    0.183553   93001          0\n",
              "4      0    0.207839   91650          0"
            ],
            "text/html": [
              "\n",
              "  <div id=\"df-fce5e4b6-6931-4f98-975a-f8d724978cc9\">\n",
              "    <div class=\"colab-df-container\">\n",
              "      <div>\n",
              "<style scoped>\n",
              "    .dataframe tbody tr th:only-of-type {\n",
              "        vertical-align: middle;\n",
              "    }\n",
              "\n",
              "    .dataframe tbody tr th {\n",
              "        vertical-align: top;\n",
              "    }\n",
              "\n",
              "    .dataframe thead th {\n",
              "        text-align: right;\n",
              "    }\n",
              "</style>\n",
              "<table border=\"1\" class=\"dataframe\">\n",
              "  <thead>\n",
              "    <tr style=\"text-align: right;\">\n",
              "      <th></th>\n",
              "      <th>Delay</th>\n",
              "      <th>Delay_Prob</th>\n",
              "      <th>CustID</th>\n",
              "      <th>predicted</th>\n",
              "    </tr>\n",
              "  </thead>\n",
              "  <tbody>\n",
              "    <tr>\n",
              "      <th>0</th>\n",
              "      <td>0</td>\n",
              "      <td>0.317332</td>\n",
              "      <td>214</td>\n",
              "      <td>0</td>\n",
              "    </tr>\n",
              "    <tr>\n",
              "      <th>1</th>\n",
              "      <td>0</td>\n",
              "      <td>0.095589</td>\n",
              "      <td>28353</td>\n",
              "      <td>0</td>\n",
              "    </tr>\n",
              "    <tr>\n",
              "      <th>2</th>\n",
              "      <td>1</td>\n",
              "      <td>0.537012</td>\n",
              "      <td>70381</td>\n",
              "      <td>1</td>\n",
              "    </tr>\n",
              "    <tr>\n",
              "      <th>3</th>\n",
              "      <td>0</td>\n",
              "      <td>0.183553</td>\n",
              "      <td>93001</td>\n",
              "      <td>0</td>\n",
              "    </tr>\n",
              "    <tr>\n",
              "      <th>4</th>\n",
              "      <td>0</td>\n",
              "      <td>0.207839</td>\n",
              "      <td>91650</td>\n",
              "      <td>0</td>\n",
              "    </tr>\n",
              "  </tbody>\n",
              "</table>\n",
              "</div>\n",
              "      <button class=\"colab-df-convert\" onclick=\"convertToInteractive('df-fce5e4b6-6931-4f98-975a-f8d724978cc9')\"\n",
              "              title=\"Convert this dataframe to an interactive table.\"\n",
              "              style=\"display:none;\">\n",
              "        \n",
              "  <svg xmlns=\"http://www.w3.org/2000/svg\" height=\"24px\"viewBox=\"0 0 24 24\"\n",
              "       width=\"24px\">\n",
              "    <path d=\"M0 0h24v24H0V0z\" fill=\"none\"/>\n",
              "    <path d=\"M18.56 5.44l.94 2.06.94-2.06 2.06-.94-2.06-.94-.94-2.06-.94 2.06-2.06.94zm-11 1L8.5 8.5l.94-2.06 2.06-.94-2.06-.94L8.5 2.5l-.94 2.06-2.06.94zm10 10l.94 2.06.94-2.06 2.06-.94-2.06-.94-.94-2.06-.94 2.06-2.06.94z\"/><path d=\"M17.41 7.96l-1.37-1.37c-.4-.4-.92-.59-1.43-.59-.52 0-1.04.2-1.43.59L10.3 9.45l-7.72 7.72c-.78.78-.78 2.05 0 2.83L4 21.41c.39.39.9.59 1.41.59.51 0 1.02-.2 1.41-.59l7.78-7.78 2.81-2.81c.8-.78.8-2.07 0-2.86zM5.41 20L4 18.59l7.72-7.72 1.47 1.35L5.41 20z\"/>\n",
              "  </svg>\n",
              "      </button>\n",
              "      \n",
              "  <style>\n",
              "    .colab-df-container {\n",
              "      display:flex;\n",
              "      flex-wrap:wrap;\n",
              "      gap: 12px;\n",
              "    }\n",
              "\n",
              "    .colab-df-convert {\n",
              "      background-color: #E8F0FE;\n",
              "      border: none;\n",
              "      border-radius: 50%;\n",
              "      cursor: pointer;\n",
              "      display: none;\n",
              "      fill: #1967D2;\n",
              "      height: 32px;\n",
              "      padding: 0 0 0 0;\n",
              "      width: 32px;\n",
              "    }\n",
              "\n",
              "    .colab-df-convert:hover {\n",
              "      background-color: #E2EBFA;\n",
              "      box-shadow: 0px 1px 2px rgba(60, 64, 67, 0.3), 0px 1px 3px 1px rgba(60, 64, 67, 0.15);\n",
              "      fill: #174EA6;\n",
              "    }\n",
              "\n",
              "    [theme=dark] .colab-df-convert {\n",
              "      background-color: #3B4455;\n",
              "      fill: #D2E3FC;\n",
              "    }\n",
              "\n",
              "    [theme=dark] .colab-df-convert:hover {\n",
              "      background-color: #434B5C;\n",
              "      box-shadow: 0px 1px 3px 1px rgba(0, 0, 0, 0.15);\n",
              "      filter: drop-shadow(0px 1px 2px rgba(0, 0, 0, 0.3));\n",
              "      fill: #FFFFFF;\n",
              "    }\n",
              "  </style>\n",
              "\n",
              "      <script>\n",
              "        const buttonEl =\n",
              "          document.querySelector('#df-fce5e4b6-6931-4f98-975a-f8d724978cc9 button.colab-df-convert');\n",
              "        buttonEl.style.display =\n",
              "          google.colab.kernel.accessAllowed ? 'block' : 'none';\n",
              "\n",
              "        async function convertToInteractive(key) {\n",
              "          const element = document.querySelector('#df-fce5e4b6-6931-4f98-975a-f8d724978cc9');\n",
              "          const dataTable =\n",
              "            await google.colab.kernel.invokeFunction('convertToInteractive',\n",
              "                                                     [key], {});\n",
              "          if (!dataTable) return;\n",
              "\n",
              "          const docLinkHtml = 'Like what you see? Visit the ' +\n",
              "            '<a target=\"_blank\" href=https://colab.research.google.com/notebooks/data_table.ipynb>data table notebook</a>'\n",
              "            + ' to learn more about interactive tables.';\n",
              "          element.innerHTML = '';\n",
              "          dataTable['output_type'] = 'display_data';\n",
              "          await google.colab.output.renderOutput(dataTable, element);\n",
              "          const docLink = document.createElement('div');\n",
              "          docLink.innerHTML = docLinkHtml;\n",
              "          element.appendChild(docLink);\n",
              "        }\n",
              "      </script>\n",
              "    </div>\n",
              "  </div>\n",
              "  "
            ]
          },
          "metadata": {},
          "execution_count": 275
        }
      ],
      "source": [
        "# Creating new column 'predicted' with 1 if Delay_Prob > 0.5 else 0\n",
        "y_train_pred_final['predicted'] = y_train_pred_final.Delay_Prob.map(lambda x: 1 if x > 0.5 else 0)\n",
        "y_train_pred_final.head()"
      ]
    },
    {
      "cell_type": "code",
      "execution_count": 276,
      "id": "b5b8a7ca",
      "metadata": {
        "id": "b5b8a7ca"
      },
      "outputs": [],
      "source": [
        "from sklearn.metrics import accuracy_score,precision_score,recall_score,confusion_matrix"
      ]
    },
    {
      "cell_type": "code",
      "execution_count": 277,
      "id": "ae80d6f7",
      "metadata": {
        "id": "ae80d6f7",
        "outputId": "66f35646-7ef6-44e0-b140-812f4cf2d7e5",
        "colab": {
          "base_uri": "https://localhost:8080/"
        }
      },
      "outputs": [
        {
          "output_type": "stream",
          "name": "stdout",
          "text": [
            "0.735959242643145\n"
          ]
        }
      ],
      "source": [
        "# Let's check the overall accuracy.\n",
        "print(accuracy_score(y_train_pred_final.Delay, y_train_pred_final.predicted))"
      ]
    },
    {
      "cell_type": "markdown",
      "id": "3e1b1447",
      "metadata": {
        "id": "3e1b1447"
      },
      "source": [
        "We have 73.6% accuracy on our train data set."
      ]
    },
    {
      "cell_type": "code",
      "execution_count": 278,
      "id": "239ae47b",
      "metadata": {
        "id": "239ae47b",
        "outputId": "a1bb2fe1-6ac7-42e4-cf9a-e1e10b195fe1",
        "colab": {
          "base_uri": "https://localhost:8080/"
        }
      },
      "outputs": [
        {
          "output_type": "execute_result",
          "data": {
            "text/plain": [
              "array([[37805,  6817],\n",
              "       [10545, 10588]])"
            ]
          },
          "metadata": {},
          "execution_count": 278
        }
      ],
      "source": [
        "#Letus check confusion matrix\n",
        "confusion = confusion_matrix(y_train_pred_final.Delay, y_train_pred_final.predicted )\n",
        "confusion"
      ]
    },
    {
      "cell_type": "code",
      "execution_count": 279,
      "id": "77abfa03",
      "metadata": {
        "id": "77abfa03"
      },
      "outputs": [],
      "source": [
        "TP = confusion[1,1] # true positive \n",
        "TN = confusion[0,0] # true negatives\n",
        "FP = confusion[0,1] # false positives\n",
        "FN = confusion[1,0] # false negatives"
      ]
    },
    {
      "cell_type": "code",
      "execution_count": 280,
      "id": "0b4a7c2e",
      "metadata": {
        "id": "0b4a7c2e",
        "outputId": "878a5e3a-0ace-453c-aa20-425f4b84bbea",
        "colab": {
          "base_uri": "https://localhost:8080/"
        }
      },
      "outputs": [
        {
          "output_type": "execute_result",
          "data": {
            "text/plain": [
              "0.5010173662045143"
            ]
          },
          "metadata": {},
          "execution_count": 280
        }
      ],
      "source": [
        "# Let's see the sensitivity of our logistic regression model\n",
        "TP / float(TP+FN)"
      ]
    },
    {
      "cell_type": "code",
      "execution_count": 281,
      "id": "364f1178",
      "metadata": {
        "id": "364f1178",
        "outputId": "63245ff1-0bee-4ee9-e327-35a8da084ee6",
        "colab": {
          "base_uri": "https://localhost:8080/"
        }
      },
      "outputs": [
        {
          "output_type": "execute_result",
          "data": {
            "text/plain": [
              "0.8472278248397651"
            ]
          },
          "metadata": {},
          "execution_count": 281
        }
      ],
      "source": [
        "# Let us calculate specificity\n",
        "TN / float(TN+FP)"
      ]
    },
    {
      "cell_type": "markdown",
      "id": "d0fcb12b",
      "metadata": {
        "id": "d0fcb12b"
      },
      "source": [
        "### Plotting the ROC Curve"
      ]
    },
    {
      "cell_type": "markdown",
      "id": "14a99bbb",
      "metadata": {
        "id": "14a99bbb"
      },
      "source": [
        "An ROC curve demonstrates several things:\n",
        "\n",
        "- It shows the tradeoff between sensitivity and specificity (any increase in sensitivity will be accompanied by a decrease in specificity).\n",
        "- The closer the curve follows the left-hand border and then the top border of the ROC space, the more accurate the test.\n",
        "- The closer the curve comes to the 45-degree diagonal of the ROC space, the less accurate the test."
      ]
    },
    {
      "cell_type": "code",
      "execution_count": 282,
      "id": "0834da9d",
      "metadata": {
        "id": "0834da9d"
      },
      "outputs": [],
      "source": [
        "from sklearn.metrics import recall_score,precision_score,roc_auc_score,roc_curve"
      ]
    },
    {
      "cell_type": "code",
      "execution_count": 283,
      "id": "4b7c1b31",
      "metadata": {
        "id": "4b7c1b31"
      },
      "outputs": [],
      "source": [
        "def draw_roc( actual, probs ):\n",
        "    fpr, tpr, thresholds = roc_curve( actual, probs,\n",
        "                                              drop_intermediate = False )\n",
        "    auc_score = roc_auc_score( actual, probs )\n",
        "    plt.figure(figsize=(5, 5))\n",
        "    plt.plot( fpr, tpr, label='ROC curve (area = %0.2f)' % auc_score )\n",
        "    plt.plot([0, 1], [0, 1], 'k--')\n",
        "    plt.xlim([0.0, 1.0])\n",
        "    plt.ylim([0.0, 1.05])\n",
        "    plt.xlabel('False Positive Rate or [1 - True Negative Rate]')\n",
        "    plt.ylabel('True Positive Rate')\n",
        "    plt.title('Receiver operating characteristic example')\n",
        "    plt.legend(loc=\"lower right\")\n",
        "    plt.show()\n",
        "\n",
        "    return None"
      ]
    },
    {
      "cell_type": "code",
      "execution_count": 284,
      "id": "5e724fbc",
      "metadata": {
        "id": "5e724fbc"
      },
      "outputs": [],
      "source": [
        "fpr, tpr, thresholds = roc_curve(y_train_pred_final.Delay,y_train_pred_final.Delay_Prob,drop_intermediate = False)"
      ]
    },
    {
      "cell_type": "code",
      "execution_count": 285,
      "id": "7b65c4dd",
      "metadata": {
        "id": "7b65c4dd",
        "outputId": "bc85216c-a505-4311-c6f7-3525be64d091",
        "colab": {
          "base_uri": "https://localhost:8080/",
          "height": 350
        }
      },
      "outputs": [
        {
          "output_type": "display_data",
          "data": {
            "text/plain": [
              "<Figure size 360x360 with 1 Axes>"
            ],
            "image/png": "[encoded data removed]"
          },
          "metadata": {
            "needs_background": "light"
          }
        }
      ],
      "source": [
        "draw_roc(y_train_pred_final.Delay,y_train_pred_final.Delay_Prob)"
      ]
    },
    {
      "cell_type": "markdown",
      "id": "33eb2d0c",
      "metadata": {
        "id": "33eb2d0c"
      },
      "source": [
        "### Finding Optimal Cutoff Point"
      ]
    },
    {
      "cell_type": "markdown",
      "id": "a7d7617c",
      "metadata": {
        "id": "a7d7617c"
      },
      "source": [
        "Optimal cutoff probability is that prob where we get balanced sensitivity and specificitym"
      ]
    },
    {
      "cell_type": "code",
      "execution_count": 286,
      "id": "2fd51371",
      "metadata": {
        "id": "2fd51371",
        "outputId": "afc0c920-40f9-4fb1-b19e-cebacc2d9910",
        "colab": {
          "base_uri": "https://localhost:8080/",
          "height": 206
        }
      },
      "outputs": [
        {
          "output_type": "execute_result",
          "data": {
            "text/plain": [
              "   Delay  Delay_Prob  CustID  predicted  0.0  0.1  0.2  0.3  0.4  0.5  0.6  \\\n",
              "0      0    0.317332     214          0    1    1    1    1    0    0    0   \n",
              "1      0    0.095589   28353          0    1    0    0    0    0    0    0   \n",
              "2      1    0.537012   70381          1    1    1    1    1    1    1    0   \n",
              "3      0    0.183553   93001          0    1    1    0    0    0    0    0   \n",
              "4      0    0.207839   91650          0    1    1    1    0    0    0    0   \n",
              "\n",
              "   0.7  0.8  0.9  \n",
              "0    0    0    0  \n",
              "1    0    0    0  \n",
              "2    0    0    0  \n",
              "3    0    0    0  \n",
              "4    0    0    0  "
            ],
            "text/html": [
              "\n",
              "  <div id=\"df-49e88581-898b-4a5d-bd9a-da6596ddf6cf\">\n",
              "    <div class=\"colab-df-container\">\n",
              "      <div>\n",
              "<style scoped>\n",
              "    .dataframe tbody tr th:only-of-type {\n",
              "        vertical-align: middle;\n",
              "    }\n",
              "\n",
              "    .dataframe tbody tr th {\n",
              "        vertical-align: top;\n",
              "    }\n",
              "\n",
              "    .dataframe thead th {\n",
              "        text-align: right;\n",
              "    }\n",
              "</style>\n",
              "<table border=\"1\" class=\"dataframe\">\n",
              "  <thead>\n",
              "    <tr style=\"text-align: right;\">\n",
              "      <th></th>\n",
              "      <th>Delay</th>\n",
              "      <th>Delay_Prob</th>\n",
              "      <th>CustID</th>\n",
              "      <th>predicted</th>\n",
              "      <th>0.0</th>\n",
              "      <th>0.1</th>\n",
              "      <th>0.2</th>\n",
              "      <th>0.3</th>\n",
              "      <th>0.4</th>\n",
              "      <th>0.5</th>\n",
              "      <th>0.6</th>\n",
              "      <th>0.7</th>\n",
              "      <th>0.8</th>\n",
              "      <th>0.9</th>\n",
              "    </tr>\n",
              "  </thead>\n",
              "  <tbody>\n",
              "    <tr>\n",
              "      <th>0</th>\n",
              "      <td>0</td>\n",
              "      <td>0.317332</td>\n",
              "      <td>214</td>\n",
              "      <td>0</td>\n",
              "      <td>1</td>\n",
              "      <td>1</td>\n",
              "      <td>1</td>\n",
              "      <td>1</td>\n",
              "      <td>0</td>\n",
              "      <td>0</td>\n",
              "      <td>0</td>\n",
              "      <td>0</td>\n",
              "      <td>0</td>\n",
              "      <td>0</td>\n",
              "    </tr>\n",
              "    <tr>\n",
              "      <th>1</th>\n",
              "      <td>0</td>\n",
              "      <td>0.095589</td>\n",
              "      <td>28353</td>\n",
              "      <td>0</td>\n",
              "      <td>1</td>\n",
              "      <td>0</td>\n",
              "      <td>0</td>\n",
              "      <td>0</td>\n",
              "      <td>0</td>\n",
              "      <td>0</td>\n",
              "      <td>0</td>\n",
              "      <td>0</td>\n",
              "      <td>0</td>\n",
              "      <td>0</td>\n",
              "    </tr>\n",
              "    <tr>\n",
              "      <th>2</th>\n",
              "      <td>1</td>\n",
              "      <td>0.537012</td>\n",
              "      <td>70381</td>\n",
              "      <td>1</td>\n",
              "      <td>1</td>\n",
              "      <td>1</td>\n",
              "      <td>1</td>\n",
              "      <td>1</td>\n",
              "      <td>1</td>\n",
              "      <td>1</td>\n",
              "      <td>0</td>\n",
              "      <td>0</td>\n",
              "      <td>0</td>\n",
              "      <td>0</td>\n",
              "    </tr>\n",
              "    <tr>\n",
              "      <th>3</th>\n",
              "      <td>0</td>\n",
              "      <td>0.183553</td>\n",
              "      <td>93001</td>\n",
              "      <td>0</td>\n",
              "      <td>1</td>\n",
              "      <td>1</td>\n",
              "      <td>0</td>\n",
              "      <td>0</td>\n",
              "      <td>0</td>\n",
              "      <td>0</td>\n",
              "      <td>0</td>\n",
              "      <td>0</td>\n",
              "      <td>0</td>\n",
              "      <td>0</td>\n",
              "    </tr>\n",
              "    <tr>\n",
              "      <th>4</th>\n",
              "      <td>0</td>\n",
              "      <td>0.207839</td>\n",
              "      <td>91650</td>\n",
              "      <td>0</td>\n",
              "      <td>1</td>\n",
              "      <td>1</td>\n",
              "      <td>1</td>\n",
              "      <td>0</td>\n",
              "      <td>0</td>\n",
              "      <td>0</td>\n",
              "      <td>0</td>\n",
              "      <td>0</td>\n",
              "      <td>0</td>\n",
              "      <td>0</td>\n",
              "    </tr>\n",
              "  </tbody>\n",
              "</table>\n",
              "</div>\n",
              "      <button class=\"colab-df-convert\" onclick=\"convertToInteractive('df-49e88581-898b-4a5d-bd9a-da6596ddf6cf')\"\n",
              "              title=\"Convert this dataframe to an interactive table.\"\n",
              "              style=\"display:none;\">\n",
              "        \n",
              "  <svg xmlns=\"http://www.w3.org/2000/svg\" height=\"24px\"viewBox=\"0 0 24 24\"\n",
              "       width=\"24px\">\n",
              "    <path d=\"M0 0h24v24H0V0z\" fill=\"none\"/>\n",
              "    <path d=\"M18.56 5.44l.94 2.06.94-2.06 2.06-.94-2.06-.94-.94-2.06-.94 2.06-2.06.94zm-11 1L8.5 8.5l.94-2.06 2.06-.94-2.06-.94L8.5 2.5l-.94 2.06-2.06.94zm10 10l.94 2.06.94-2.06 2.06-.94-2.06-.94-.94-2.06-.94 2.06-2.06.94z\"/><path d=\"M17.41 7.96l-1.37-1.37c-.4-.4-.92-.59-1.43-.59-.52 0-1.04.2-1.43.59L10.3 9.45l-7.72 7.72c-.78.78-.78 2.05 0 2.83L4 21.41c.39.39.9.59 1.41.59.51 0 1.02-.2 1.41-.59l7.78-7.78 2.81-2.81c.8-.78.8-2.07 0-2.86zM5.41 20L4 18.59l7.72-7.72 1.47 1.35L5.41 20z\"/>\n",
              "  </svg>\n",
              "      </button>\n",
              "      \n",
              "  <style>\n",
              "    .colab-df-container {\n",
              "      display:flex;\n",
              "      flex-wrap:wrap;\n",
              "      gap: 12px;\n",
              "    }\n",
              "\n",
              "    .colab-df-convert {\n",
              "      background-color: #E8F0FE;\n",
              "      border: none;\n",
              "      border-radius: 50%;\n",
              "      cursor: pointer;\n",
              "      display: none;\n",
              "      fill: #1967D2;\n",
              "      height: 32px;\n",
              "      padding: 0 0 0 0;\n",
              "      width: 32px;\n",
              "    }\n",
              "\n",
              "    .colab-df-convert:hover {\n",
              "      background-color: #E2EBFA;\n",
              "      box-shadow: 0px 1px 2px rgba(60, 64, 67, 0.3), 0px 1px 3px 1px rgba(60, 64, 67, 0.15);\n",
              "      fill: #174EA6;\n",
              "    }\n",
              "\n",
              "    [theme=dark] .colab-df-convert {\n",
              "      background-color: #3B4455;\n",
              "      fill: #D2E3FC;\n",
              "    }\n",
              "\n",
              "    [theme=dark] .colab-df-convert:hover {\n",
              "      background-color: #434B5C;\n",
              "      box-shadow: 0px 1px 3px 1px rgba(0, 0, 0, 0.15);\n",
              "      filter: drop-shadow(0px 1px 2px rgba(0, 0, 0, 0.3));\n",
              "      fill: #FFFFFF;\n",
              "    }\n",
              "  </style>\n",
              "\n",
              "      <script>\n",
              "        const buttonEl =\n",
              "          document.querySelector('#df-49e88581-898b-4a5d-bd9a-da6596ddf6cf button.colab-df-convert');\n",
              "        buttonEl.style.display =\n",
              "          google.colab.kernel.accessAllowed ? 'block' : 'none';\n",
              "\n",
              "        async function convertToInteractive(key) {\n",
              "          const element = document.querySelector('#df-49e88581-898b-4a5d-bd9a-da6596ddf6cf');\n",
              "          const dataTable =\n",
              "            await google.colab.kernel.invokeFunction('convertToInteractive',\n",
              "                                                     [key], {});\n",
              "          if (!dataTable) return;\n",
              "\n",
              "          const docLinkHtml = 'Like what you see? Visit the ' +\n",
              "            '<a target=\"_blank\" href=https://colab.research.google.com/notebooks/data_table.ipynb>data table notebook</a>'\n",
              "            + ' to learn more about interactive tables.';\n",
              "          element.innerHTML = '';\n",
              "          dataTable['output_type'] = 'display_data';\n",
              "          await google.colab.output.renderOutput(dataTable, element);\n",
              "          const docLink = document.createElement('div');\n",
              "          docLink.innerHTML = docLinkHtml;\n",
              "          element.appendChild(docLink);\n",
              "        }\n",
              "      </script>\n",
              "    </div>\n",
              "  </div>\n",
              "  "
            ]
          },
          "metadata": {},
          "execution_count": 286
        }
      ],
      "source": [
        "# Let's create columns with different probability cutoffs \n",
        "numbers = [float(x)/10 for x in range(10)]\n",
        "for i in numbers:\n",
        "    y_train_pred_final[i]= y_train_pred_final.Delay_Prob.map(lambda x: 1 if x > i else 0)\n",
        "y_train_pred_final.head()"
      ]
    },
    {
      "cell_type": "code",
      "execution_count": 287,
      "id": "49e7cd26",
      "metadata": {
        "id": "49e7cd26",
        "outputId": "ee818fa0-66b2-46c4-d3db-552043263d51",
        "colab": {
          "base_uri": "https://localhost:8080/"
        }
      },
      "outputs": [
        {
          "output_type": "stream",
          "name": "stdout",
          "text": [
            "     prob  accuracy     sensi     speci\n",
            "0.0   0.0  0.321390  1.000000  0.000000\n",
            "0.1   0.1  0.478975  0.971088  0.245910\n",
            "0.2   0.2  0.596152  0.883642  0.459997\n",
            "0.3   0.3  0.687796  0.754980  0.655977\n",
            "0.4   0.4  0.720386  0.593763  0.780355\n",
            "0.5   0.5  0.735959  0.501017  0.847228\n",
            "0.6   0.6  0.714257  0.198457  0.958541\n",
            "0.7   0.7  0.695536  0.084938  0.984716\n",
            "0.8   0.8  0.682899  0.022619  0.995608\n",
            "0.9   0.9  0.679796  0.008707  0.997624\n"
          ]
        }
      ],
      "source": [
        "# Now let's calculate accuracy sensitivity and specificity for various probability cutoffs.\n",
        "cutoff_df = pd.DataFrame( columns = ['prob','accuracy','sensi','speci'])\n",
        "from sklearn.metrics import confusion_matrix\n",
        "\n",
        "# TP = confusion[1,1] # true positive \n",
        "# TN = confusion[0,0] # true negatives\n",
        "# FP = confusion[0,1] # false positives\n",
        "# FN = confusion[1,0] # false negatives\n",
        "\n",
        "num = [0.0,0.1,0.2,0.3,0.4,0.5,0.6,0.7,0.8,0.9]\n",
        "for i in num:\n",
        "    cm1 = confusion_matrix(y_train_pred_final.Delay, y_train_pred_final[i] )\n",
        "    total1=sum(sum(cm1))\n",
        "    accuracy = (cm1[0,0]+cm1[1,1])/total1\n",
        "    \n",
        "    speci = cm1[0,0]/(cm1[0,0]+cm1[0,1])\n",
        "    sensi = cm1[1,1]/(cm1[1,0]+cm1[1,1])\n",
        "    cutoff_df.loc[i] =[ i ,accuracy,sensi,speci]\n",
        "print(cutoff_df)"
      ]
    },
    {
      "cell_type": "code",
      "execution_count": 288,
      "id": "02b16a13",
      "metadata": {
        "id": "02b16a13",
        "outputId": "7e476da4-8efe-4e03-bb94-aa7b74ef68c9",
        "colab": {
          "base_uri": "https://localhost:8080/",
          "height": 279
        }
      },
      "outputs": [
        {
          "output_type": "display_data",
          "data": {
            "text/plain": [
              "<Figure size 432x288 with 1 Axes>"
            ],
            "image/png": "[encoded data removed]"
          },
          "metadata": {
            "needs_background": "light"
          }
        }
      ],
      "source": [
        "# Let's plot accuracy sensitivity and specificity for various probabilities.\n",
        "cutoff_df.plot.line(x='prob', y=['accuracy','sensi','speci'])\n",
        "plt.show()"
      ]
    },
    {
      "cell_type": "markdown",
      "id": "c26cc871",
      "metadata": {
        "id": "c26cc871"
      },
      "source": [
        "#### From the curve above, 0.3 is the optimum point to take it as a cutoff probability."
      ]
    },
    {
      "cell_type": "code",
      "execution_count": 289,
      "id": "ae5ff60b",
      "metadata": {
        "id": "ae5ff60b",
        "outputId": "db900959-3ab2-4dc8-8159-87b958ea2cec",
        "colab": {
          "base_uri": "https://localhost:8080/",
          "height": 206
        }
      },
      "outputs": [
        {
          "output_type": "execute_result",
          "data": {
            "text/plain": [
              "   Delay  Delay_Prob  CustID  predicted  0.0  0.1  0.2  0.3  0.4  0.5  0.6  \\\n",
              "0      0    0.317332     214          0    1    1    1    1    0    0    0   \n",
              "1      0    0.095589   28353          0    1    0    0    0    0    0    0   \n",
              "2      1    0.537012   70381          1    1    1    1    1    1    1    0   \n",
              "3      0    0.183553   93001          0    1    1    0    0    0    0    0   \n",
              "4      0    0.207839   91650          0    1    1    1    0    0    0    0   \n",
              "\n",
              "   0.7  0.8  0.9  final_predicted  \n",
              "0    0    0    0                1  \n",
              "1    0    0    0                0  \n",
              "2    0    0    0                1  \n",
              "3    0    0    0                0  \n",
              "4    0    0    0                0  "
            ],
            "text/html": [
              "\n",
              "  <div id=\"df-a389f031-02fb-4396-9f40-0415e06bcade\">\n",
              "    <div class=\"colab-df-container\">\n",
              "      <div>\n",
              "<style scoped>\n",
              "    .dataframe tbody tr th:only-of-type {\n",
              "        vertical-align: middle;\n",
              "    }\n",
              "\n",
              "    .dataframe tbody tr th {\n",
              "        vertical-align: top;\n",
              "    }\n",
              "\n",
              "    .dataframe thead th {\n",
              "        text-align: right;\n",
              "    }\n",
              "</style>\n",
              "<table border=\"1\" class=\"dataframe\">\n",
              "  <thead>\n",
              "    <tr style=\"text-align: right;\">\n",
              "      <th></th>\n",
              "      <th>Delay</th>\n",
              "      <th>Delay_Prob</th>\n",
              "      <th>CustID</th>\n",
              "      <th>predicted</th>\n",
              "      <th>0.0</th>\n",
              "      <th>0.1</th>\n",
              "      <th>0.2</th>\n",
              "      <th>0.3</th>\n",
              "      <th>0.4</th>\n",
              "      <th>0.5</th>\n",
              "      <th>0.6</th>\n",
              "      <th>0.7</th>\n",
              "      <th>0.8</th>\n",
              "      <th>0.9</th>\n",
              "      <th>final_predicted</th>\n",
              "    </tr>\n",
              "  </thead>\n",
              "  <tbody>\n",
              "    <tr>\n",
              "      <th>0</th>\n",
              "      <td>0</td>\n",
              "      <td>0.317332</td>\n",
              "      <td>214</td>\n",
              "      <td>0</td>\n",
              "      <td>1</td>\n",
              "      <td>1</td>\n",
              "      <td>1</td>\n",
              "      <td>1</td>\n",
              "      <td>0</td>\n",
              "      <td>0</td>\n",
              "      <td>0</td>\n",
              "      <td>0</td>\n",
              "      <td>0</td>\n",
              "      <td>0</td>\n",
              "      <td>1</td>\n",
              "    </tr>\n",
              "    <tr>\n",
              "      <th>1</th>\n",
              "      <td>0</td>\n",
              "      <td>0.095589</td>\n",
              "      <td>28353</td>\n",
              "      <td>0</td>\n",
              "      <td>1</td>\n",
              "      <td>0</td>\n",
              "      <td>0</td>\n",
              "      <td>0</td>\n",
              "      <td>0</td>\n",
              "      <td>0</td>\n",
              "      <td>0</td>\n",
              "      <td>0</td>\n",
              "      <td>0</td>\n",
              "      <td>0</td>\n",
              "      <td>0</td>\n",
              "    </tr>\n",
              "    <tr>\n",
              "      <th>2</th>\n",
              "      <td>1</td>\n",
              "      <td>0.537012</td>\n",
              "      <td>70381</td>\n",
              "      <td>1</td>\n",
              "      <td>1</td>\n",
              "      <td>1</td>\n",
              "      <td>1</td>\n",
              "      <td>1</td>\n",
              "      <td>1</td>\n",
              "      <td>1</td>\n",
              "      <td>0</td>\n",
              "      <td>0</td>\n",
              "      <td>0</td>\n",
              "      <td>0</td>\n",
              "      <td>1</td>\n",
              "    </tr>\n",
              "    <tr>\n",
              "      <th>3</th>\n",
              "      <td>0</td>\n",
              "      <td>0.183553</td>\n",
              "      <td>93001</td>\n",
              "      <td>0</td>\n",
              "      <td>1</td>\n",
              "      <td>1</td>\n",
              "      <td>0</td>\n",
              "      <td>0</td>\n",
              "      <td>0</td>\n",
              "      <td>0</td>\n",
              "      <td>0</td>\n",
              "      <td>0</td>\n",
              "      <td>0</td>\n",
              "      <td>0</td>\n",
              "      <td>0</td>\n",
              "    </tr>\n",
              "    <tr>\n",
              "      <th>4</th>\n",
              "      <td>0</td>\n",
              "      <td>0.207839</td>\n",
              "      <td>91650</td>\n",
              "      <td>0</td>\n",
              "      <td>1</td>\n",
              "      <td>1</td>\n",
              "      <td>1</td>\n",
              "      <td>0</td>\n",
              "      <td>0</td>\n",
              "      <td>0</td>\n",
              "      <td>0</td>\n",
              "      <td>0</td>\n",
              "      <td>0</td>\n",
              "      <td>0</td>\n",
              "      <td>0</td>\n",
              "    </tr>\n",
              "  </tbody>\n",
              "</table>\n",
              "</div>\n",
              "      <button class=\"colab-df-convert\" onclick=\"convertToInteractive('df-a389f031-02fb-4396-9f40-0415e06bcade')\"\n",
              "              title=\"Convert this dataframe to an interactive table.\"\n",
              "              style=\"display:none;\">\n",
              "        \n",
              "  <svg xmlns=\"http://www.w3.org/2000/svg\" height=\"24px\"viewBox=\"0 0 24 24\"\n",
              "       width=\"24px\">\n",
              "    <path d=\"M0 0h24v24H0V0z\" fill=\"none\"/>\n",
              "    <path d=\"M18.56 5.44l.94 2.06.94-2.06 2.06-.94-2.06-.94-.94-2.06-.94 2.06-2.06.94zm-11 1L8.5 8.5l.94-2.06 2.06-.94-2.06-.94L8.5 2.5l-.94 2.06-2.06.94zm10 10l.94 2.06.94-2.06 2.06-.94-2.06-.94-.94-2.06-.94 2.06-2.06.94z\"/><path d=\"M17.41 7.96l-1.37-1.37c-.4-.4-.92-.59-1.43-.59-.52 0-1.04.2-1.43.59L10.3 9.45l-7.72 7.72c-.78.78-.78 2.05 0 2.83L4 21.41c.39.39.9.59 1.41.59.51 0 1.02-.2 1.41-.59l7.78-7.78 2.81-2.81c.8-.78.8-2.07 0-2.86zM5.41 20L4 18.59l7.72-7.72 1.47 1.35L5.41 20z\"/>\n",
              "  </svg>\n",
              "      </button>\n",
              "      \n",
              "  <style>\n",
              "    .colab-df-container {\n",
              "      display:flex;\n",
              "      flex-wrap:wrap;\n",
              "      gap: 12px;\n",
              "    }\n",
              "\n",
              "    .colab-df-convert {\n",
              "      background-color: #E8F0FE;\n",
              "      border: none;\n",
              "      border-radius: 50%;\n",
              "      cursor: pointer;\n",
              "      display: none;\n",
              "      fill: #1967D2;\n",
              "      height: 32px;\n",
              "      padding: 0 0 0 0;\n",
              "      width: 32px;\n",
              "    }\n",
              "\n",
              "    .colab-df-convert:hover {\n",
              "      background-color: #E2EBFA;\n",
              "      box-shadow: 0px 1px 2px rgba(60, 64, 67, 0.3), 0px 1px 3px 1px rgba(60, 64, 67, 0.15);\n",
              "      fill: #174EA6;\n",
              "    }\n",
              "\n",
              "    [theme=dark] .colab-df-convert {\n",
              "      background-color: #3B4455;\n",
              "      fill: #D2E3FC;\n",
              "    }\n",
              "\n",
              "    [theme=dark] .colab-df-convert:hover {\n",
              "      background-color: #434B5C;\n",
              "      box-shadow: 0px 1px 3px 1px rgba(0, 0, 0, 0.15);\n",
              "      filter: drop-shadow(0px 1px 2px rgba(0, 0, 0, 0.3));\n",
              "      fill: #FFFFFF;\n",
              "    }\n",
              "  </style>\n",
              "\n",
              "      <script>\n",
              "        const buttonEl =\n",
              "          document.querySelector('#df-a389f031-02fb-4396-9f40-0415e06bcade button.colab-df-convert');\n",
              "        buttonEl.style.display =\n",
              "          google.colab.kernel.accessAllowed ? 'block' : 'none';\n",
              "\n",
              "        async function convertToInteractive(key) {\n",
              "          const element = document.querySelector('#df-a389f031-02fb-4396-9f40-0415e06bcade');\n",
              "          const dataTable =\n",
              "            await google.colab.kernel.invokeFunction('convertToInteractive',\n",
              "                                                     [key], {});\n",
              "          if (!dataTable) return;\n",
              "\n",
              "          const docLinkHtml = 'Like what you see? Visit the ' +\n",
              "            '<a target=\"_blank\" href=https://colab.research.google.com/notebooks/data_table.ipynb>data table notebook</a>'\n",
              "            + ' to learn more about interactive tables.';\n",
              "          element.innerHTML = '';\n",
              "          dataTable['output_type'] = 'display_data';\n",
              "          await google.colab.output.renderOutput(dataTable, element);\n",
              "          const docLink = document.createElement('div');\n",
              "          docLink.innerHTML = docLinkHtml;\n",
              "          element.appendChild(docLink);\n",
              "        }\n",
              "      </script>\n",
              "    </div>\n",
              "  </div>\n",
              "  "
            ]
          },
          "metadata": {},
          "execution_count": 289
        }
      ],
      "source": [
        "y_train_pred_final['final_predicted'] = y_train_pred_final.Delay_Prob.map( lambda x: 1 if x > 0.3 else 0)\n",
        "\n",
        "y_train_pred_final.head()"
      ]
    },
    {
      "cell_type": "code",
      "execution_count": 290,
      "id": "e19703e0",
      "metadata": {
        "id": "e19703e0",
        "outputId": "6368df96-8184-4504-f7bf-ab087652133f",
        "colab": {
          "base_uri": "https://localhost:8080/"
        }
      },
      "outputs": [
        {
          "output_type": "execute_result",
          "data": {
            "text/plain": [
              "0.687795604896966"
            ]
          },
          "metadata": {},
          "execution_count": 290
        }
      ],
      "source": [
        "# Let's check the overall accuracy.\n",
        "accuracy_score(y_train_pred_final.Delay, y_train_pred_final.final_predicted)"
      ]
    },
    {
      "cell_type": "code",
      "execution_count": 291,
      "id": "e91fb1cc",
      "metadata": {
        "id": "e91fb1cc",
        "outputId": "4a0ea458-02a2-4e7b-aef9-8ca189549b5d",
        "colab": {
          "base_uri": "https://localhost:8080/"
        }
      },
      "outputs": [
        {
          "output_type": "execute_result",
          "data": {
            "text/plain": [
              "0.5096467130901424"
            ]
          },
          "metadata": {},
          "execution_count": 291
        }
      ],
      "source": [
        "# Precision Score\n",
        "precision_score(y_train_pred_final.Delay, y_train_pred_final.final_predicted)"
      ]
    },
    {
      "cell_type": "code",
      "execution_count": 292,
      "id": "e0e92dc1",
      "metadata": {
        "id": "e0e92dc1",
        "outputId": "253fbd61-4c05-4efb-8088-c19dacf860f2",
        "colab": {
          "base_uri": "https://localhost:8080/"
        }
      },
      "outputs": [
        {
          "output_type": "execute_result",
          "data": {
            "text/plain": [
              "0.754980362466285"
            ]
          },
          "metadata": {},
          "execution_count": 292
        }
      ],
      "source": [
        "# Recall Score\n",
        "recall_score(y_train_pred_final.Delay, y_train_pred_final.final_predicted)"
      ]
    },
    {
      "cell_type": "code",
      "execution_count": 293,
      "id": "7d8a8a42",
      "metadata": {
        "id": "7d8a8a42"
      },
      "outputs": [],
      "source": [
        "from sklearn.metrics import precision_recall_curve\n",
        "p, r, thresholds = precision_recall_curve(y_train_pred_final.Delay, y_train_pred_final.Delay_Prob)"
      ]
    },
    {
      "cell_type": "code",
      "execution_count": 294,
      "id": "a4aab18a",
      "metadata": {
        "id": "a4aab18a",
        "outputId": "fbfe9159-d6b2-447a-c99f-51985230bc1f",
        "colab": {
          "base_uri": "https://localhost:8080/",
          "height": 211
        }
      },
      "outputs": [
        {
          "output_type": "display_data",
          "data": {
            "text/plain": [
              "<Figure size 288x216 with 1 Axes>"
            ],
            "image/png": "[encoded data removed]"
          },
          "metadata": {
            "needs_background": "light"
          }
        }
      ],
      "source": [
        "plt.figure(figsize=(4,3))\n",
        "plt.plot(thresholds, p[:-1], \"g-\")\n",
        "plt.plot(thresholds, r[:-1], \"r-\")\n",
        "plt.show()"
      ]
    },
    {
      "cell_type": "markdown",
      "id": "b866f35b",
      "metadata": {
        "id": "b866f35b"
      },
      "source": [
        "#### On Precision & Recall trade off we found optimal cutoff of between 0.4 & 0.5 . Hence Changing optimal cutoff from 0.3 to 0.43"
      ]
    },
    {
      "cell_type": "code",
      "execution_count": 295,
      "id": "71f86dee",
      "metadata": {
        "id": "71f86dee",
        "outputId": "c0955fea-861e-41a2-c8f2-f5f59850c09b",
        "colab": {
          "base_uri": "https://localhost:8080/",
          "height": 206
        }
      },
      "outputs": [
        {
          "output_type": "execute_result",
          "data": {
            "text/plain": [
              "   Delay  Delay_Prob  CustID  predicted  0.0  0.1  0.2  0.3  0.4  0.5  0.6  \\\n",
              "0      0    0.317332     214          0    1    1    1    1    0    0    0   \n",
              "1      0    0.095589   28353          0    1    0    0    0    0    0    0   \n",
              "2      1    0.537012   70381          1    1    1    1    1    1    1    0   \n",
              "3      0    0.183553   93001          0    1    1    0    0    0    0    0   \n",
              "4      0    0.207839   91650          0    1    1    1    0    0    0    0   \n",
              "\n",
              "   0.7  0.8  0.9  final_predicted  \n",
              "0    0    0    0                0  \n",
              "1    0    0    0                0  \n",
              "2    0    0    0                1  \n",
              "3    0    0    0                0  \n",
              "4    0    0    0                0  "
            ],
            "text/html": [
              "\n",
              "  <div id=\"df-e9f68313-9e2a-4525-b38a-fb22822946eb\">\n",
              "    <div class=\"colab-df-container\">\n",
              "      <div>\n",
              "<style scoped>\n",
              "    .dataframe tbody tr th:only-of-type {\n",
              "        vertical-align: middle;\n",
              "    }\n",
              "\n",
              "    .dataframe tbody tr th {\n",
              "        vertical-align: top;\n",
              "    }\n",
              "\n",
              "    .dataframe thead th {\n",
              "        text-align: right;\n",
              "    }\n",
              "</style>\n",
              "<table border=\"1\" class=\"dataframe\">\n",
              "  <thead>\n",
              "    <tr style=\"text-align: right;\">\n",
              "      <th></th>\n",
              "      <th>Delay</th>\n",
              "      <th>Delay_Prob</th>\n",
              "      <th>CustID</th>\n",
              "      <th>predicted</th>\n",
              "      <th>0.0</th>\n",
              "      <th>0.1</th>\n",
              "      <th>0.2</th>\n",
              "      <th>0.3</th>\n",
              "      <th>0.4</th>\n",
              "      <th>0.5</th>\n",
              "      <th>0.6</th>\n",
              "      <th>0.7</th>\n",
              "      <th>0.8</th>\n",
              "      <th>0.9</th>\n",
              "      <th>final_predicted</th>\n",
              "    </tr>\n",
              "  </thead>\n",
              "  <tbody>\n",
              "    <tr>\n",
              "      <th>0</th>\n",
              "      <td>0</td>\n",
              "      <td>0.317332</td>\n",
              "      <td>214</td>\n",
              "      <td>0</td>\n",
              "      <td>1</td>\n",
              "      <td>1</td>\n",
              "      <td>1</td>\n",
              "      <td>1</td>\n",
              "      <td>0</td>\n",
              "      <td>0</td>\n",
              "      <td>0</td>\n",
              "      <td>0</td>\n",
              "      <td>0</td>\n",
              "      <td>0</td>\n",
              "      <td>0</td>\n",
              "    </tr>\n",
              "    <tr>\n",
              "      <th>1</th>\n",
              "      <td>0</td>\n",
              "      <td>0.095589</td>\n",
              "      <td>28353</td>\n",
              "      <td>0</td>\n",
              "      <td>1</td>\n",
              "      <td>0</td>\n",
              "      <td>0</td>\n",
              "      <td>0</td>\n",
              "      <td>0</td>\n",
              "      <td>0</td>\n",
              "      <td>0</td>\n",
              "      <td>0</td>\n",
              "      <td>0</td>\n",
              "      <td>0</td>\n",
              "      <td>0</td>\n",
              "    </tr>\n",
              "    <tr>\n",
              "      <th>2</th>\n",
              "      <td>1</td>\n",
              "      <td>0.537012</td>\n",
              "      <td>70381</td>\n",
              "      <td>1</td>\n",
              "      <td>1</td>\n",
              "      <td>1</td>\n",
              "      <td>1</td>\n",
              "      <td>1</td>\n",
              "      <td>1</td>\n",
              "      <td>1</td>\n",
              "      <td>0</td>\n",
              "      <td>0</td>\n",
              "      <td>0</td>\n",
              "      <td>0</td>\n",
              "      <td>1</td>\n",
              "    </tr>\n",
              "    <tr>\n",
              "      <th>3</th>\n",
              "      <td>0</td>\n",
              "      <td>0.183553</td>\n",
              "      <td>93001</td>\n",
              "      <td>0</td>\n",
              "      <td>1</td>\n",
              "      <td>1</td>\n",
              "      <td>0</td>\n",
              "      <td>0</td>\n",
              "      <td>0</td>\n",
              "      <td>0</td>\n",
              "      <td>0</td>\n",
              "      <td>0</td>\n",
              "      <td>0</td>\n",
              "      <td>0</td>\n",
              "      <td>0</td>\n",
              "    </tr>\n",
              "    <tr>\n",
              "      <th>4</th>\n",
              "      <td>0</td>\n",
              "      <td>0.207839</td>\n",
              "      <td>91650</td>\n",
              "      <td>0</td>\n",
              "      <td>1</td>\n",
              "      <td>1</td>\n",
              "      <td>1</td>\n",
              "      <td>0</td>\n",
              "      <td>0</td>\n",
              "      <td>0</td>\n",
              "      <td>0</td>\n",
              "      <td>0</td>\n",
              "      <td>0</td>\n",
              "      <td>0</td>\n",
              "      <td>0</td>\n",
              "    </tr>\n",
              "  </tbody>\n",
              "</table>\n",
              "</div>\n",
              "      <button class=\"colab-df-convert\" onclick=\"convertToInteractive('df-e9f68313-9e2a-4525-b38a-fb22822946eb')\"\n",
              "              title=\"Convert this dataframe to an interactive table.\"\n",
              "              style=\"display:none;\">\n",
              "        \n",
              "  <svg xmlns=\"http://www.w3.org/2000/svg\" height=\"24px\"viewBox=\"0 0 24 24\"\n",
              "       width=\"24px\">\n",
              "    <path d=\"M0 0h24v24H0V0z\" fill=\"none\"/>\n",
              "    <path d=\"M18.56 5.44l.94 2.06.94-2.06 2.06-.94-2.06-.94-.94-2.06-.94 2.06-2.06.94zm-11 1L8.5 8.5l.94-2.06 2.06-.94-2.06-.94L8.5 2.5l-.94 2.06-2.06.94zm10 10l.94 2.06.94-2.06 2.06-.94-2.06-.94-.94-2.06-.94 2.06-2.06.94z\"/><path d=\"M17.41 7.96l-1.37-1.37c-.4-.4-.92-.59-1.43-.59-.52 0-1.04.2-1.43.59L10.3 9.45l-7.72 7.72c-.78.78-.78 2.05 0 2.83L4 21.41c.39.39.9.59 1.41.59.51 0 1.02-.2 1.41-.59l7.78-7.78 2.81-2.81c.8-.78.8-2.07 0-2.86zM5.41 20L4 18.59l7.72-7.72 1.47 1.35L5.41 20z\"/>\n",
              "  </svg>\n",
              "      </button>\n",
              "      \n",
              "  <style>\n",
              "    .colab-df-container {\n",
              "      display:flex;\n",
              "      flex-wrap:wrap;\n",
              "      gap: 12px;\n",
              "    }\n",
              "\n",
              "    .colab-df-convert {\n",
              "      background-color: #E8F0FE;\n",
              "      border: none;\n",
              "      border-radius: 50%;\n",
              "      cursor: pointer;\n",
              "      display: none;\n",
              "      fill: #1967D2;\n",
              "      height: 32px;\n",
              "      padding: 0 0 0 0;\n",
              "      width: 32px;\n",
              "    }\n",
              "\n",
              "    .colab-df-convert:hover {\n",
              "      background-color: #E2EBFA;\n",
              "      box-shadow: 0px 1px 2px rgba(60, 64, 67, 0.3), 0px 1px 3px 1px rgba(60, 64, 67, 0.15);\n",
              "      fill: #174EA6;\n",
              "    }\n",
              "\n",
              "    [theme=dark] .colab-df-convert {\n",
              "      background-color: #3B4455;\n",
              "      fill: #D2E3FC;\n",
              "    }\n",
              "\n",
              "    [theme=dark] .colab-df-convert:hover {\n",
              "      background-color: #434B5C;\n",
              "      box-shadow: 0px 1px 3px 1px rgba(0, 0, 0, 0.15);\n",
              "      filter: drop-shadow(0px 1px 2px rgba(0, 0, 0, 0.3));\n",
              "      fill: #FFFFFF;\n",
              "    }\n",
              "  </style>\n",
              "\n",
              "      <script>\n",
              "        const buttonEl =\n",
              "          document.querySelector('#df-e9f68313-9e2a-4525-b38a-fb22822946eb button.colab-df-convert');\n",
              "        buttonEl.style.display =\n",
              "          google.colab.kernel.accessAllowed ? 'block' : 'none';\n",
              "\n",
              "        async function convertToInteractive(key) {\n",
              "          const element = document.querySelector('#df-e9f68313-9e2a-4525-b38a-fb22822946eb');\n",
              "          const dataTable =\n",
              "            await google.colab.kernel.invokeFunction('convertToInteractive',\n",
              "                                                     [key], {});\n",
              "          if (!dataTable) return;\n",
              "\n",
              "          const docLinkHtml = 'Like what you see? Visit the ' +\n",
              "            '<a target=\"_blank\" href=https://colab.research.google.com/notebooks/data_table.ipynb>data table notebook</a>'\n",
              "            + ' to learn more about interactive tables.';\n",
              "          element.innerHTML = '';\n",
              "          dataTable['output_type'] = 'display_data';\n",
              "          await google.colab.output.renderOutput(dataTable, element);\n",
              "          const docLink = document.createElement('div');\n",
              "          docLink.innerHTML = docLinkHtml;\n",
              "          element.appendChild(docLink);\n",
              "        }\n",
              "      </script>\n",
              "    </div>\n",
              "  </div>\n",
              "  "
            ]
          },
          "metadata": {},
          "execution_count": 295
        }
      ],
      "source": [
        "y_train_pred_final['final_predicted'] = y_train_pred_final.Delay_Prob.map( lambda x: 1 if x > 0.43 else 0)\n",
        "\n",
        "y_train_pred_final.head()"
      ]
    },
    {
      "cell_type": "code",
      "execution_count": 296,
      "id": "13c87e56",
      "metadata": {
        "id": "13c87e56",
        "outputId": "7a6d9131-5a85-49c1-cd59-43a4f12f7261",
        "colab": {
          "base_uri": "https://localhost:8080/"
        }
      },
      "outputs": [
        {
          "output_type": "execute_result",
          "data": {
            "text/plain": [
              "0.7309406128811498"
            ]
          },
          "metadata": {},
          "execution_count": 296
        }
      ],
      "source": [
        "# Let's check the overall accuracy.\n",
        "accuracy_score(y_train_pred_final.Delay, y_train_pred_final.final_predicted)"
      ]
    },
    {
      "cell_type": "markdown",
      "id": "ca83543d",
      "metadata": {
        "id": "ca83543d"
      },
      "source": [
        "### Making predictions on the test set"
      ]
    },
    {
      "cell_type": "code",
      "execution_count": 297,
      "id": "377a6ae3",
      "metadata": {
        "id": "377a6ae3",
        "outputId": "f5a3103f-be6a-42e6-b38b-55563ec18513",
        "colab": {
          "base_uri": "https://localhost:8080/",
          "height": 288
        }
      },
      "outputs": [
        {
          "output_type": "execute_result",
          "data": {
            "text/plain": [
              "       USD Amount  Payment_Term_Days  cluster_id  INVOICE_CLASS_DM  \\\n",
              "84001        0.02           0.082192           0                 0   \n",
              "24346        5.16           0.169863           2                 0   \n",
              "53029        0.02           0.082192           0                 0   \n",
              "73501        0.22           0.082192           2                 0   \n",
              "46575        0.79           0.082192           2                 0   \n",
              "\n",
              "       INVOICE_CLASS_INV  INVOICE_CURRENCY_CODE_BHD  \\\n",
              "84001                  1                          0   \n",
              "24346                  1                          0   \n",
              "53029                  1                          0   \n",
              "73501                  1                          0   \n",
              "46575                  1                          0   \n",
              "\n",
              "       INVOICE_CURRENCY_CODE_EUR  INVOICE_CURRENCY_CODE_GBP  \\\n",
              "84001                          0                          0   \n",
              "24346                          0                          0   \n",
              "53029                          0                          0   \n",
              "73501                          0                          0   \n",
              "46575                          0                          0   \n",
              "\n",
              "       INVOICE_CURRENCY_CODE_JOD  INVOICE_CURRENCY_CODE_KWD  \\\n",
              "84001                          0                          0   \n",
              "24346                          0                          0   \n",
              "53029                          0                          0   \n",
              "73501                          0                          0   \n",
              "46575                          0                          0   \n",
              "\n",
              "       INVOICE_CURRENCY_CODE_QAR  INVOICE_CURRENCY_CODE_SAR  \\\n",
              "84001                          0                          0   \n",
              "24346                          0                          0   \n",
              "53029                          0                          0   \n",
              "73501                          0                          0   \n",
              "46575                          0                          1   \n",
              "\n",
              "       INVOICE_CURRENCY_CODE_USD  INVOICE_CURRENCY_CODE_ZAR  \\\n",
              "84001                          0                          0   \n",
              "24346                          0                          0   \n",
              "53029                          0                          0   \n",
              "73501                          1                          0   \n",
              "46575                          0                          0   \n",
              "\n",
              "       INVOICE_TYPE_Non Goods  \n",
              "84001                       1  \n",
              "24346                       0  \n",
              "53029                       1  \n",
              "73501                       1  \n",
              "46575                       1  "
            ],
            "text/html": [
              "\n",
              "  <div id=\"df-527fb28c-f3f9-4cce-891a-ebe7ec1c8673\">\n",
              "    <div class=\"colab-df-container\">\n",
              "      <div>\n",
              "<style scoped>\n",
              "    .dataframe tbody tr th:only-of-type {\n",
              "        vertical-align: middle;\n",
              "    }\n",
              "\n",
              "    .dataframe tbody tr th {\n",
              "        vertical-align: top;\n",
              "    }\n",
              "\n",
              "    .dataframe thead th {\n",
              "        text-align: right;\n",
              "    }\n",
              "</style>\n",
              "<table border=\"1\" class=\"dataframe\">\n",
              "  <thead>\n",
              "    <tr style=\"text-align: right;\">\n",
              "      <th></th>\n",
              "      <th>USD Amount</th>\n",
              "      <th>Payment_Term_Days</th>\n",
              "      <th>cluster_id</th>\n",
              "      <th>INVOICE_CLASS_DM</th>\n",
              "      <th>INVOICE_CLASS_INV</th>\n",
              "      <th>INVOICE_CURRENCY_CODE_BHD</th>\n",
              "      <th>INVOICE_CURRENCY_CODE_EUR</th>\n",
              "      <th>INVOICE_CURRENCY_CODE_GBP</th>\n",
              "      <th>INVOICE_CURRENCY_CODE_JOD</th>\n",
              "      <th>INVOICE_CURRENCY_CODE_KWD</th>\n",
              "      <th>INVOICE_CURRENCY_CODE_QAR</th>\n",
              "      <th>INVOICE_CURRENCY_CODE_SAR</th>\n",
              "      <th>INVOICE_CURRENCY_CODE_USD</th>\n",
              "      <th>INVOICE_CURRENCY_CODE_ZAR</th>\n",
              "      <th>INVOICE_TYPE_Non Goods</th>\n",
              "    </tr>\n",
              "  </thead>\n",
              "  <tbody>\n",
              "    <tr>\n",
              "      <th>84001</th>\n",
              "      <td>0.02</td>\n",
              "      <td>0.082192</td>\n",
              "      <td>0</td>\n",
              "      <td>0</td>\n",
              "      <td>1</td>\n",
              "      <td>0</td>\n",
              "      <td>0</td>\n",
              "      <td>0</td>\n",
              "      <td>0</td>\n",
              "      <td>0</td>\n",
              "      <td>0</td>\n",
              "      <td>0</td>\n",
              "      <td>0</td>\n",
              "      <td>0</td>\n",
              "      <td>1</td>\n",
              "    </tr>\n",
              "    <tr>\n",
              "      <th>24346</th>\n",
              "      <td>5.16</td>\n",
              "      <td>0.169863</td>\n",
              "      <td>2</td>\n",
              "      <td>0</td>\n",
              "      <td>1</td>\n",
              "      <td>0</td>\n",
              "      <td>0</td>\n",
              "      <td>0</td>\n",
              "      <td>0</td>\n",
              "      <td>0</td>\n",
              "      <td>0</td>\n",
              "      <td>0</td>\n",
              "      <td>0</td>\n",
              "      <td>0</td>\n",
              "      <td>0</td>\n",
              "    </tr>\n",
              "    <tr>\n",
              "      <th>53029</th>\n",
              "      <td>0.02</td>\n",
              "      <td>0.082192</td>\n",
              "      <td>0</td>\n",
              "      <td>0</td>\n",
              "      <td>1</td>\n",
              "      <td>0</td>\n",
              "      <td>0</td>\n",
              "      <td>0</td>\n",
              "      <td>0</td>\n",
              "      <td>0</td>\n",
              "      <td>0</td>\n",
              "      <td>0</td>\n",
              "      <td>0</td>\n",
              "      <td>0</td>\n",
              "      <td>1</td>\n",
              "    </tr>\n",
              "    <tr>\n",
              "      <th>73501</th>\n",
              "      <td>0.22</td>\n",
              "      <td>0.082192</td>\n",
              "      <td>2</td>\n",
              "      <td>0</td>\n",
              "      <td>1</td>\n",
              "      <td>0</td>\n",
              "      <td>0</td>\n",
              "      <td>0</td>\n",
              "      <td>0</td>\n",
              "      <td>0</td>\n",
              "      <td>0</td>\n",
              "      <td>0</td>\n",
              "      <td>1</td>\n",
              "      <td>0</td>\n",
              "      <td>1</td>\n",
              "    </tr>\n",
              "    <tr>\n",
              "      <th>46575</th>\n",
              "      <td>0.79</td>\n",
              "      <td>0.082192</td>\n",
              "      <td>2</td>\n",
              "      <td>0</td>\n",
              "      <td>1</td>\n",
              "      <td>0</td>\n",
              "      <td>0</td>\n",
              "      <td>0</td>\n",
              "      <td>0</td>\n",
              "      <td>0</td>\n",
              "      <td>0</td>\n",
              "      <td>1</td>\n",
              "      <td>0</td>\n",
              "      <td>0</td>\n",
              "      <td>1</td>\n",
              "    </tr>\n",
              "  </tbody>\n",
              "</table>\n",
              "</div>\n",
              "      <button class=\"colab-df-convert\" onclick=\"convertToInteractive('df-527fb28c-f3f9-4cce-891a-ebe7ec1c8673')\"\n",
              "              title=\"Convert this dataframe to an interactive table.\"\n",
              "              style=\"display:none;\">\n",
              "        \n",
              "  <svg xmlns=\"http://www.w3.org/2000/svg\" height=\"24px\"viewBox=\"0 0 24 24\"\n",
              "       width=\"24px\">\n",
              "    <path d=\"M0 0h24v24H0V0z\" fill=\"none\"/>\n",
              "    <path d=\"M18.56 5.44l.94 2.06.94-2.06 2.06-.94-2.06-.94-.94-2.06-.94 2.06-2.06.94zm-11 1L8.5 8.5l.94-2.06 2.06-.94-2.06-.94L8.5 2.5l-.94 2.06-2.06.94zm10 10l.94 2.06.94-2.06 2.06-.94-2.06-.94-.94-2.06-.94 2.06-2.06.94z\"/><path d=\"M17.41 7.96l-1.37-1.37c-.4-.4-.92-.59-1.43-.59-.52 0-1.04.2-1.43.59L10.3 9.45l-7.72 7.72c-.78.78-.78 2.05 0 2.83L4 21.41c.39.39.9.59 1.41.59.51 0 1.02-.2 1.41-.59l7.78-7.78 2.81-2.81c.8-.78.8-2.07 0-2.86zM5.41 20L4 18.59l7.72-7.72 1.47 1.35L5.41 20z\"/>\n",
              "  </svg>\n",
              "      </button>\n",
              "      \n",
              "  <style>\n",
              "    .colab-df-container {\n",
              "      display:flex;\n",
              "      flex-wrap:wrap;\n",
              "      gap: 12px;\n",
              "    }\n",
              "\n",
              "    .colab-df-convert {\n",
              "      background-color: #E8F0FE;\n",
              "      border: none;\n",
              "      border-radius: 50%;\n",
              "      cursor: pointer;\n",
              "      display: none;\n",
              "      fill: #1967D2;\n",
              "      height: 32px;\n",
              "      padding: 0 0 0 0;\n",
              "      width: 32px;\n",
              "    }\n",
              "\n",
              "    .colab-df-convert:hover {\n",
              "      background-color: #E2EBFA;\n",
              "      box-shadow: 0px 1px 2px rgba(60, 64, 67, 0.3), 0px 1px 3px 1px rgba(60, 64, 67, 0.15);\n",
              "      fill: #174EA6;\n",
              "    }\n",
              "\n",
              "    [theme=dark] .colab-df-convert {\n",
              "      background-color: #3B4455;\n",
              "      fill: #D2E3FC;\n",
              "    }\n",
              "\n",
              "    [theme=dark] .colab-df-convert:hover {\n",
              "      background-color: #434B5C;\n",
              "      box-shadow: 0px 1px 3px 1px rgba(0, 0, 0, 0.15);\n",
              "      filter: drop-shadow(0px 1px 2px rgba(0, 0, 0, 0.3));\n",
              "      fill: #FFFFFF;\n",
              "    }\n",
              "  </style>\n",
              "\n",
              "      <script>\n",
              "        const buttonEl =\n",
              "          document.querySelector('#df-527fb28c-f3f9-4cce-891a-ebe7ec1c8673 button.colab-df-convert');\n",
              "        buttonEl.style.display =\n",
              "          google.colab.kernel.accessAllowed ? 'block' : 'none';\n",
              "\n",
              "        async function convertToInteractive(key) {\n",
              "          const element = document.querySelector('#df-527fb28c-f3f9-4cce-891a-ebe7ec1c8673');\n",
              "          const dataTable =\n",
              "            await google.colab.kernel.invokeFunction('convertToInteractive',\n",
              "                                                     [key], {});\n",
              "          if (!dataTable) return;\n",
              "\n",
              "          const docLinkHtml = 'Like what you see? Visit the ' +\n",
              "            '<a target=\"_blank\" href=https://colab.research.google.com/notebooks/data_table.ipynb>data table notebook</a>'\n",
              "            + ' to learn more about interactive tables.';\n",
              "          element.innerHTML = '';\n",
              "          dataTable['output_type'] = 'display_data';\n",
              "          await google.colab.output.renderOutput(dataTable, element);\n",
              "          const docLink = document.createElement('div');\n",
              "          docLink.innerHTML = docLinkHtml;\n",
              "          element.appendChild(docLink);\n",
              "        }\n",
              "      </script>\n",
              "    </div>\n",
              "  </div>\n",
              "  "
            ]
          },
          "metadata": {},
          "execution_count": 297
        }
      ],
      "source": [
        "X_test[['Payment_Term_Days']] = scaler.transform(X_test[['Payment_Term_Days']])\n",
        "\n",
        "X_test.head()"
      ]
    },
    {
      "cell_type": "code",
      "execution_count": 298,
      "id": "c968dca1",
      "metadata": {
        "id": "c968dca1",
        "outputId": "5a4d4aff-412d-4b10-a8a6-63e4dac41bec",
        "colab": {
          "base_uri": "https://localhost:8080/",
          "height": 288
        }
      },
      "outputs": [
        {
          "output_type": "execute_result",
          "data": {
            "text/plain": [
              "       USD Amount  Payment_Term_Days  INVOICE_CLASS_DM  \\\n",
              "84001        0.02           0.082192                 0   \n",
              "24346        5.16           0.169863                 0   \n",
              "53029        0.02           0.082192                 0   \n",
              "73501        0.22           0.082192                 0   \n",
              "46575        0.79           0.082192                 0   \n",
              "\n",
              "       INVOICE_CURRENCY_CODE_EUR  INVOICE_CURRENCY_CODE_GBP  \\\n",
              "84001                          0                          0   \n",
              "24346                          0                          0   \n",
              "53029                          0                          0   \n",
              "73501                          0                          0   \n",
              "46575                          0                          0   \n",
              "\n",
              "       INVOICE_CURRENCY_CODE_KWD  INVOICE_CURRENCY_CODE_QAR  \\\n",
              "84001                          0                          0   \n",
              "24346                          0                          0   \n",
              "53029                          0                          0   \n",
              "73501                          0                          0   \n",
              "46575                          0                          0   \n",
              "\n",
              "       INVOICE_CURRENCY_CODE_SAR  INVOICE_CURRENCY_CODE_USD  \\\n",
              "84001                          0                          0   \n",
              "24346                          0                          0   \n",
              "53029                          0                          0   \n",
              "73501                          0                          1   \n",
              "46575                          1                          0   \n",
              "\n",
              "       INVOICE_TYPE_Non Goods  \n",
              "84001                       1  \n",
              "24346                       0  \n",
              "53029                       1  \n",
              "73501                       1  \n",
              "46575                       1  "
            ],
            "text/html": [
              "\n",
              "  <div id=\"df-33d13121-8ae1-45c2-90f0-c7df85d9e441\">\n",
              "    <div class=\"colab-df-container\">\n",
              "      <div>\n",
              "<style scoped>\n",
              "    .dataframe tbody tr th:only-of-type {\n",
              "        vertical-align: middle;\n",
              "    }\n",
              "\n",
              "    .dataframe tbody tr th {\n",
              "        vertical-align: top;\n",
              "    }\n",
              "\n",
              "    .dataframe thead th {\n",
              "        text-align: right;\n",
              "    }\n",
              "</style>\n",
              "<table border=\"1\" class=\"dataframe\">\n",
              "  <thead>\n",
              "    <tr style=\"text-align: right;\">\n",
              "      <th></th>\n",
              "      <th>USD Amount</th>\n",
              "      <th>Payment_Term_Days</th>\n",
              "      <th>INVOICE_CLASS_DM</th>\n",
              "      <th>INVOICE_CURRENCY_CODE_EUR</th>\n",
              "      <th>INVOICE_CURRENCY_CODE_GBP</th>\n",
              "      <th>INVOICE_CURRENCY_CODE_KWD</th>\n",
              "      <th>INVOICE_CURRENCY_CODE_QAR</th>\n",
              "      <th>INVOICE_CURRENCY_CODE_SAR</th>\n",
              "      <th>INVOICE_CURRENCY_CODE_USD</th>\n",
              "      <th>INVOICE_TYPE_Non Goods</th>\n",
              "    </tr>\n",
              "  </thead>\n",
              "  <tbody>\n",
              "    <tr>\n",
              "      <th>84001</th>\n",
              "      <td>0.02</td>\n",
              "      <td>0.082192</td>\n",
              "      <td>0</td>\n",
              "      <td>0</td>\n",
              "      <td>0</td>\n",
              "      <td>0</td>\n",
              "      <td>0</td>\n",
              "      <td>0</td>\n",
              "      <td>0</td>\n",
              "      <td>1</td>\n",
              "    </tr>\n",
              "    <tr>\n",
              "      <th>24346</th>\n",
              "      <td>5.16</td>\n",
              "      <td>0.169863</td>\n",
              "      <td>0</td>\n",
              "      <td>0</td>\n",
              "      <td>0</td>\n",
              "      <td>0</td>\n",
              "      <td>0</td>\n",
              "      <td>0</td>\n",
              "      <td>0</td>\n",
              "      <td>0</td>\n",
              "    </tr>\n",
              "    <tr>\n",
              "      <th>53029</th>\n",
              "      <td>0.02</td>\n",
              "      <td>0.082192</td>\n",
              "      <td>0</td>\n",
              "      <td>0</td>\n",
              "      <td>0</td>\n",
              "      <td>0</td>\n",
              "      <td>0</td>\n",
              "      <td>0</td>\n",
              "      <td>0</td>\n",
              "      <td>1</td>\n",
              "    </tr>\n",
              "    <tr>\n",
              "      <th>73501</th>\n",
              "      <td>0.22</td>\n",
              "      <td>0.082192</td>\n",
              "      <td>0</td>\n",
              "      <td>0</td>\n",
              "      <td>0</td>\n",
              "      <td>0</td>\n",
              "      <td>0</td>\n",
              "      <td>0</td>\n",
              "      <td>1</td>\n",
              "      <td>1</td>\n",
              "    </tr>\n",
              "    <tr>\n",
              "      <th>46575</th>\n",
              "      <td>0.79</td>\n",
              "      <td>0.082192</td>\n",
              "      <td>0</td>\n",
              "      <td>0</td>\n",
              "      <td>0</td>\n",
              "      <td>0</td>\n",
              "      <td>0</td>\n",
              "      <td>1</td>\n",
              "      <td>0</td>\n",
              "      <td>1</td>\n",
              "    </tr>\n",
              "  </tbody>\n",
              "</table>\n",
              "</div>\n",
              "      <button class=\"colab-df-convert\" onclick=\"convertToInteractive('df-33d13121-8ae1-45c2-90f0-c7df85d9e441')\"\n",
              "              title=\"Convert this dataframe to an interactive table.\"\n",
              "              style=\"display:none;\">\n",
              "        \n",
              "  <svg xmlns=\"http://www.w3.org/2000/svg\" height=\"24px\"viewBox=\"0 0 24 24\"\n",
              "       width=\"24px\">\n",
              "    <path d=\"M0 0h24v24H0V0z\" fill=\"none\"/>\n",
              "    <path d=\"M18.56 5.44l.94 2.06.94-2.06 2.06-.94-2.06-.94-.94-2.06-.94 2.06-2.06.94zm-11 1L8.5 8.5l.94-2.06 2.06-.94-2.06-.94L8.5 2.5l-.94 2.06-2.06.94zm10 10l.94 2.06.94-2.06 2.06-.94-2.06-.94-.94-2.06-.94 2.06-2.06.94z\"/><path d=\"M17.41 7.96l-1.37-1.37c-.4-.4-.92-.59-1.43-.59-.52 0-1.04.2-1.43.59L10.3 9.45l-7.72 7.72c-.78.78-.78 2.05 0 2.83L4 21.41c.39.39.9.59 1.41.59.51 0 1.02-.2 1.41-.59l7.78-7.78 2.81-2.81c.8-.78.8-2.07 0-2.86zM5.41 20L4 18.59l7.72-7.72 1.47 1.35L5.41 20z\"/>\n",
              "  </svg>\n",
              "      </button>\n",
              "      \n",
              "  <style>\n",
              "    .colab-df-container {\n",
              "      display:flex;\n",
              "      flex-wrap:wrap;\n",
              "      gap: 12px;\n",
              "    }\n",
              "\n",
              "    .colab-df-convert {\n",
              "      background-color: #E8F0FE;\n",
              "      border: none;\n",
              "      border-radius: 50%;\n",
              "      cursor: pointer;\n",
              "      display: none;\n",
              "      fill: #1967D2;\n",
              "      height: 32px;\n",
              "      padding: 0 0 0 0;\n",
              "      width: 32px;\n",
              "    }\n",
              "\n",
              "    .colab-df-convert:hover {\n",
              "      background-color: #E2EBFA;\n",
              "      box-shadow: 0px 1px 2px rgba(60, 64, 67, 0.3), 0px 1px 3px 1px rgba(60, 64, 67, 0.15);\n",
              "      fill: #174EA6;\n",
              "    }\n",
              "\n",
              "    [theme=dark] .colab-df-convert {\n",
              "      background-color: #3B4455;\n",
              "      fill: #D2E3FC;\n",
              "    }\n",
              "\n",
              "    [theme=dark] .colab-df-convert:hover {\n",
              "      background-color: #434B5C;\n",
              "      box-shadow: 0px 1px 3px 1px rgba(0, 0, 0, 0.15);\n",
              "      filter: drop-shadow(0px 1px 2px rgba(0, 0, 0, 0.3));\n",
              "      fill: #FFFFFF;\n",
              "    }\n",
              "  </style>\n",
              "\n",
              "      <script>\n",
              "        const buttonEl =\n",
              "          document.querySelector('#df-33d13121-8ae1-45c2-90f0-c7df85d9e441 button.colab-df-convert');\n",
              "        buttonEl.style.display =\n",
              "          google.colab.kernel.accessAllowed ? 'block' : 'none';\n",
              "\n",
              "        async function convertToInteractive(key) {\n",
              "          const element = document.querySelector('#df-33d13121-8ae1-45c2-90f0-c7df85d9e441');\n",
              "          const dataTable =\n",
              "            await google.colab.kernel.invokeFunction('convertToInteractive',\n",
              "                                                     [key], {});\n",
              "          if (!dataTable) return;\n",
              "\n",
              "          const docLinkHtml = 'Like what you see? Visit the ' +\n",
              "            '<a target=\"_blank\" href=https://colab.research.google.com/notebooks/data_table.ipynb>data table notebook</a>'\n",
              "            + ' to learn more about interactive tables.';\n",
              "          element.innerHTML = '';\n",
              "          dataTable['output_type'] = 'display_data';\n",
              "          await google.colab.output.renderOutput(dataTable, element);\n",
              "          const docLink = document.createElement('div');\n",
              "          docLink.innerHTML = docLinkHtml;\n",
              "          element.appendChild(docLink);\n",
              "        }\n",
              "      </script>\n",
              "    </div>\n",
              "  </div>\n",
              "  "
            ]
          },
          "metadata": {},
          "execution_count": 298
        }
      ],
      "source": [
        "X_test = X_test[cols]\n",
        "X_test.head()"
      ]
    },
    {
      "cell_type": "code",
      "execution_count": 299,
      "id": "23bd45d4",
      "metadata": {
        "id": "23bd45d4"
      },
      "outputs": [],
      "source": [
        "X_test_sm = sm.add_constant(X_test)"
      ]
    },
    {
      "cell_type": "code",
      "execution_count": 300,
      "id": "8b3d39c3",
      "metadata": {
        "id": "8b3d39c3",
        "outputId": "b5782da7-1234-4f0a-d083-74d93afd40a0",
        "colab": {
          "base_uri": "https://localhost:8080/"
        }
      },
      "outputs": [
        {
          "output_type": "execute_result",
          "data": {
            "text/plain": [
              "84001    0.531888\n",
              "24346    0.708985\n",
              "53029    0.531888\n",
              "73501    0.325756\n",
              "46575    0.390865\n",
              "41952    0.278556\n",
              "2843     0.320986\n",
              "71566    0.535732\n",
              "56661    0.628318\n",
              "47901    0.347147\n",
              "dtype: float64"
            ]
          },
          "metadata": {},
          "execution_count": 300
        }
      ],
      "source": [
        "#Making predictions on the test set\n",
        "\n",
        "y_test_pred = res.predict(X_test_sm)\n",
        "y_test_pred[:10]"
      ]
    },
    {
      "cell_type": "code",
      "execution_count": 301,
      "id": "cb5590bc",
      "metadata": {
        "id": "cb5590bc"
      },
      "outputs": [],
      "source": [
        "# Converting y_pred to a dataframe which is an array\n",
        "y_pred_1 = pd.DataFrame(y_test_pred)"
      ]
    },
    {
      "cell_type": "code",
      "execution_count": 302,
      "id": "d79fdd9c",
      "metadata": {
        "id": "d79fdd9c",
        "outputId": "07609966-5391-4a1a-a518-73131b0fc1a5",
        "colab": {
          "base_uri": "https://localhost:8080/",
          "height": 206
        }
      },
      "outputs": [
        {
          "output_type": "execute_result",
          "data": {
            "text/plain": [
              "              0\n",
              "84001  0.531888\n",
              "24346  0.708985\n",
              "53029  0.531888\n",
              "73501  0.325756\n",
              "46575  0.390865"
            ],
            "text/html": [
              "\n",
              "  <div id=\"df-07d1dabc-95ae-4ea7-8d74-915ae968e9e7\">\n",
              "    <div class=\"colab-df-container\">\n",
              "      <div>\n",
              "<style scoped>\n",
              "    .dataframe tbody tr th:only-of-type {\n",
              "        vertical-align: middle;\n",
              "    }\n",
              "\n",
              "    .dataframe tbody tr th {\n",
              "        vertical-align: top;\n",
              "    }\n",
              "\n",
              "    .dataframe thead th {\n",
              "        text-align: right;\n",
              "    }\n",
              "</style>\n",
              "<table border=\"1\" class=\"dataframe\">\n",
              "  <thead>\n",
              "    <tr style=\"text-align: right;\">\n",
              "      <th></th>\n",
              "      <th>0</th>\n",
              "    </tr>\n",
              "  </thead>\n",
              "  <tbody>\n",
              "    <tr>\n",
              "      <th>84001</th>\n",
              "      <td>0.531888</td>\n",
              "    </tr>\n",
              "    <tr>\n",
              "      <th>24346</th>\n",
              "      <td>0.708985</td>\n",
              "    </tr>\n",
              "    <tr>\n",
              "      <th>53029</th>\n",
              "      <td>0.531888</td>\n",
              "    </tr>\n",
              "    <tr>\n",
              "      <th>73501</th>\n",
              "      <td>0.325756</td>\n",
              "    </tr>\n",
              "    <tr>\n",
              "      <th>46575</th>\n",
              "      <td>0.390865</td>\n",
              "    </tr>\n",
              "  </tbody>\n",
              "</table>\n",
              "</div>\n",
              "      <button class=\"colab-df-convert\" onclick=\"convertToInteractive('df-07d1dabc-95ae-4ea7-8d74-915ae968e9e7')\"\n",
              "              title=\"Convert this dataframe to an interactive table.\"\n",
              "              style=\"display:none;\">\n",
              "        \n",
              "  <svg xmlns=\"http://www.w3.org/2000/svg\" height=\"24px\"viewBox=\"0 0 24 24\"\n",
              "       width=\"24px\">\n",
              "    <path d=\"M0 0h24v24H0V0z\" fill=\"none\"/>\n",
              "    <path d=\"M18.56 5.44l.94 2.06.94-2.06 2.06-.94-2.06-.94-.94-2.06-.94 2.06-2.06.94zm-11 1L8.5 8.5l.94-2.06 2.06-.94-2.06-.94L8.5 2.5l-.94 2.06-2.06.94zm10 10l.94 2.06.94-2.06 2.06-.94-2.06-.94-.94-2.06-.94 2.06-2.06.94z\"/><path d=\"M17.41 7.96l-1.37-1.37c-.4-.4-.92-.59-1.43-.59-.52 0-1.04.2-1.43.59L10.3 9.45l-7.72 7.72c-.78.78-.78 2.05 0 2.83L4 21.41c.39.39.9.59 1.41.59.51 0 1.02-.2 1.41-.59l7.78-7.78 2.81-2.81c.8-.78.8-2.07 0-2.86zM5.41 20L4 18.59l7.72-7.72 1.47 1.35L5.41 20z\"/>\n",
              "  </svg>\n",
              "      </button>\n",
              "      \n",
              "  <style>\n",
              "    .colab-df-container {\n",
              "      display:flex;\n",
              "      flex-wrap:wrap;\n",
              "      gap: 12px;\n",
              "    }\n",
              "\n",
              "    .colab-df-convert {\n",
              "      background-color: #E8F0FE;\n",
              "      border: none;\n",
              "      border-radius: 50%;\n",
              "      cursor: pointer;\n",
              "      display: none;\n",
              "      fill: #1967D2;\n",
              "      height: 32px;\n",
              "      padding: 0 0 0 0;\n",
              "      width: 32px;\n",
              "    }\n",
              "\n",
              "    .colab-df-convert:hover {\n",
              "      background-color: #E2EBFA;\n",
              "      box-shadow: 0px 1px 2px rgba(60, 64, 67, 0.3), 0px 1px 3px 1px rgba(60, 64, 67, 0.15);\n",
              "      fill: #174EA6;\n",
              "    }\n",
              "\n",
              "    [theme=dark] .colab-df-convert {\n",
              "      background-color: #3B4455;\n",
              "      fill: #D2E3FC;\n",
              "    }\n",
              "\n",
              "    [theme=dark] .colab-df-convert:hover {\n",
              "      background-color: #434B5C;\n",
              "      box-shadow: 0px 1px 3px 1px rgba(0, 0, 0, 0.15);\n",
              "      filter: drop-shadow(0px 1px 2px rgba(0, 0, 0, 0.3));\n",
              "      fill: #FFFFFF;\n",
              "    }\n",
              "  </style>\n",
              "\n",
              "      <script>\n",
              "        const buttonEl =\n",
              "          document.querySelector('#df-07d1dabc-95ae-4ea7-8d74-915ae968e9e7 button.colab-df-convert');\n",
              "        buttonEl.style.display =\n",
              "          google.colab.kernel.accessAllowed ? 'block' : 'none';\n",
              "\n",
              "        async function convertToInteractive(key) {\n",
              "          const element = document.querySelector('#df-07d1dabc-95ae-4ea7-8d74-915ae968e9e7');\n",
              "          const dataTable =\n",
              "            await google.colab.kernel.invokeFunction('convertToInteractive',\n",
              "                                                     [key], {});\n",
              "          if (!dataTable) return;\n",
              "\n",
              "          const docLinkHtml = 'Like what you see? Visit the ' +\n",
              "            '<a target=\"_blank\" href=https://colab.research.google.com/notebooks/data_table.ipynb>data table notebook</a>'\n",
              "            + ' to learn more about interactive tables.';\n",
              "          element.innerHTML = '';\n",
              "          dataTable['output_type'] = 'display_data';\n",
              "          await google.colab.output.renderOutput(dataTable, element);\n",
              "          const docLink = document.createElement('div');\n",
              "          docLink.innerHTML = docLinkHtml;\n",
              "          element.appendChild(docLink);\n",
              "        }\n",
              "      </script>\n",
              "    </div>\n",
              "  </div>\n",
              "  "
            ]
          },
          "metadata": {},
          "execution_count": 302
        }
      ],
      "source": [
        "# Let's see the head\n",
        "y_pred_1.head()"
      ]
    },
    {
      "cell_type": "code",
      "execution_count": 303,
      "id": "9ebd0470",
      "metadata": {
        "id": "9ebd0470"
      },
      "outputs": [],
      "source": [
        "# Converting y_test to dataframe\n",
        "y_test_df = pd.DataFrame(y_test)"
      ]
    },
    {
      "cell_type": "code",
      "execution_count": 304,
      "id": "27026837",
      "metadata": {
        "id": "27026837"
      },
      "outputs": [],
      "source": [
        "# Putting CustID to index\n",
        "y_test_df['CustID'] = y_test_df.index"
      ]
    },
    {
      "cell_type": "code",
      "execution_count": 305,
      "id": "4d623a43",
      "metadata": {
        "id": "4d623a43"
      },
      "outputs": [],
      "source": [
        "# Removing index for both dataframes to append them side by side \n",
        "y_pred_1.reset_index(drop=True, inplace=True)\n",
        "y_test_df.reset_index(drop=True, inplace=True)"
      ]
    },
    {
      "cell_type": "code",
      "execution_count": 306,
      "id": "b9ea8078",
      "metadata": {
        "id": "b9ea8078"
      },
      "outputs": [],
      "source": [
        "# Appending y_test_df and y_pred_1\n",
        "y_pred_final = pd.concat([y_test_df, y_pred_1],axis=1)"
      ]
    },
    {
      "cell_type": "code",
      "execution_count": 307,
      "id": "d4769183",
      "metadata": {
        "id": "d4769183",
        "outputId": "db72814f-54ee-4747-df09-6c0655b7315a",
        "colab": {
          "base_uri": "https://localhost:8080/",
          "height": 206
        }
      },
      "outputs": [
        {
          "output_type": "execute_result",
          "data": {
            "text/plain": [
              "   target  CustID         0\n",
              "0       1   84001  0.531888\n",
              "1       1   24346  0.708985\n",
              "2       1   53029  0.531888\n",
              "3       1   73501  0.325756\n",
              "4       1   46575  0.390865"
            ],
            "text/html": [
              "\n",
              "  <div id=\"df-b280f249-8757-4a32-93a9-43cd9cdc7953\">\n",
              "    <div class=\"colab-df-container\">\n",
              "      <div>\n",
              "<style scoped>\n",
              "    .dataframe tbody tr th:only-of-type {\n",
              "        vertical-align: middle;\n",
              "    }\n",
              "\n",
              "    .dataframe tbody tr th {\n",
              "        vertical-align: top;\n",
              "    }\n",
              "\n",
              "    .dataframe thead th {\n",
              "        text-align: right;\n",
              "    }\n",
              "</style>\n",
              "<table border=\"1\" class=\"dataframe\">\n",
              "  <thead>\n",
              "    <tr style=\"text-align: right;\">\n",
              "      <th></th>\n",
              "      <th>target</th>\n",
              "      <th>CustID</th>\n",
              "      <th>0</th>\n",
              "    </tr>\n",
              "  </thead>\n",
              "  <tbody>\n",
              "    <tr>\n",
              "      <th>0</th>\n",
              "      <td>1</td>\n",
              "      <td>84001</td>\n",
              "      <td>0.531888</td>\n",
              "    </tr>\n",
              "    <tr>\n",
              "      <th>1</th>\n",
              "      <td>1</td>\n",
              "      <td>24346</td>\n",
              "      <td>0.708985</td>\n",
              "    </tr>\n",
              "    <tr>\n",
              "      <th>2</th>\n",
              "      <td>1</td>\n",
              "      <td>53029</td>\n",
              "      <td>0.531888</td>\n",
              "    </tr>\n",
              "    <tr>\n",
              "      <th>3</th>\n",
              "      <td>1</td>\n",
              "      <td>73501</td>\n",
              "      <td>0.325756</td>\n",
              "    </tr>\n",
              "    <tr>\n",
              "      <th>4</th>\n",
              "      <td>1</td>\n",
              "      <td>46575</td>\n",
              "      <td>0.390865</td>\n",
              "    </tr>\n",
              "  </tbody>\n",
              "</table>\n",
              "</div>\n",
              "      <button class=\"colab-df-convert\" onclick=\"convertToInteractive('df-b280f249-8757-4a32-93a9-43cd9cdc7953')\"\n",
              "              title=\"Convert this dataframe to an interactive table.\"\n",
              "              style=\"display:none;\">\n",
              "        \n",
              "  <svg xmlns=\"http://www.w3.org/2000/svg\" height=\"24px\"viewBox=\"0 0 24 24\"\n",
              "       width=\"24px\">\n",
              "    <path d=\"M0 0h24v24H0V0z\" fill=\"none\"/>\n",
              "    <path d=\"M18.56 5.44l.94 2.06.94-2.06 2.06-.94-2.06-.94-.94-2.06-.94 2.06-2.06.94zm-11 1L8.5 8.5l.94-2.06 2.06-.94-2.06-.94L8.5 2.5l-.94 2.06-2.06.94zm10 10l.94 2.06.94-2.06 2.06-.94-2.06-.94-.94-2.06-.94 2.06-2.06.94z\"/><path d=\"M17.41 7.96l-1.37-1.37c-.4-.4-.92-.59-1.43-.59-.52 0-1.04.2-1.43.59L10.3 9.45l-7.72 7.72c-.78.78-.78 2.05 0 2.83L4 21.41c.39.39.9.59 1.41.59.51 0 1.02-.2 1.41-.59l7.78-7.78 2.81-2.81c.8-.78.8-2.07 0-2.86zM5.41 20L4 18.59l7.72-7.72 1.47 1.35L5.41 20z\"/>\n",
              "  </svg>\n",
              "      </button>\n",
              "      \n",
              "  <style>\n",
              "    .colab-df-container {\n",
              "      display:flex;\n",
              "      flex-wrap:wrap;\n",
              "      gap: 12px;\n",
              "    }\n",
              "\n",
              "    .colab-df-convert {\n",
              "      background-color: #E8F0FE;\n",
              "      border: none;\n",
              "      border-radius: 50%;\n",
              "      cursor: pointer;\n",
              "      display: none;\n",
              "      fill: #1967D2;\n",
              "      height: 32px;\n",
              "      padding: 0 0 0 0;\n",
              "      width: 32px;\n",
              "    }\n",
              "\n",
              "    .colab-df-convert:hover {\n",
              "      background-color: #E2EBFA;\n",
              "      box-shadow: 0px 1px 2px rgba(60, 64, 67, 0.3), 0px 1px 3px 1px rgba(60, 64, 67, 0.15);\n",
              "      fill: #174EA6;\n",
              "    }\n",
              "\n",
              "    [theme=dark] .colab-df-convert {\n",
              "      background-color: #3B4455;\n",
              "      fill: #D2E3FC;\n",
              "    }\n",
              "\n",
              "    [theme=dark] .colab-df-convert:hover {\n",
              "      background-color: #434B5C;\n",
              "      box-shadow: 0px 1px 3px 1px rgba(0, 0, 0, 0.15);\n",
              "      filter: drop-shadow(0px 1px 2px rgba(0, 0, 0, 0.3));\n",
              "      fill: #FFFFFF;\n",
              "    }\n",
              "  </style>\n",
              "\n",
              "      <script>\n",
              "        const buttonEl =\n",
              "          document.querySelector('#df-b280f249-8757-4a32-93a9-43cd9cdc7953 button.colab-df-convert');\n",
              "        buttonEl.style.display =\n",
              "          google.colab.kernel.accessAllowed ? 'block' : 'none';\n",
              "\n",
              "        async function convertToInteractive(key) {\n",
              "          const element = document.querySelector('#df-b280f249-8757-4a32-93a9-43cd9cdc7953');\n",
              "          const dataTable =\n",
              "            await google.colab.kernel.invokeFunction('convertToInteractive',\n",
              "                                                     [key], {});\n",
              "          if (!dataTable) return;\n",
              "\n",
              "          const docLinkHtml = 'Like what you see? Visit the ' +\n",
              "            '<a target=\"_blank\" href=https://colab.research.google.com/notebooks/data_table.ipynb>data table notebook</a>'\n",
              "            + ' to learn more about interactive tables.';\n",
              "          element.innerHTML = '';\n",
              "          dataTable['output_type'] = 'display_data';\n",
              "          await google.colab.output.renderOutput(dataTable, element);\n",
              "          const docLink = document.createElement('div');\n",
              "          docLink.innerHTML = docLinkHtml;\n",
              "          element.appendChild(docLink);\n",
              "        }\n",
              "      </script>\n",
              "    </div>\n",
              "  </div>\n",
              "  "
            ]
          },
          "metadata": {},
          "execution_count": 307
        }
      ],
      "source": [
        "y_pred_final.head()"
      ]
    },
    {
      "cell_type": "code",
      "execution_count": 308,
      "id": "c03d5dfa",
      "metadata": {
        "id": "c03d5dfa"
      },
      "outputs": [],
      "source": [
        "# Renaming the column \n",
        "y_pred_final= y_pred_final.rename(columns={ 0 : 'Delay_Prob','target':'Delay'})"
      ]
    },
    {
      "cell_type": "code",
      "execution_count": 309,
      "id": "8d0defdc",
      "metadata": {
        "id": "8d0defdc",
        "outputId": "f75b2238-da7f-4636-8c6c-9290cdd12da2",
        "colab": {
          "base_uri": "https://localhost:8080/",
          "height": 206
        }
      },
      "outputs": [
        {
          "output_type": "execute_result",
          "data": {
            "text/plain": [
              "   Delay  CustID  Delay_Prob\n",
              "0      1   84001    0.531888\n",
              "1      1   24346    0.708985\n",
              "2      1   53029    0.531888\n",
              "3      1   73501    0.325756\n",
              "4      1   46575    0.390865"
            ],
            "text/html": [
              "\n",
              "  <div id=\"df-b761518c-3e51-4f20-90ba-a526910ca69e\">\n",
              "    <div class=\"colab-df-container\">\n",
              "      <div>\n",
              "<style scoped>\n",
              "    .dataframe tbody tr th:only-of-type {\n",
              "        vertical-align: middle;\n",
              "    }\n",
              "\n",
              "    .dataframe tbody tr th {\n",
              "        vertical-align: top;\n",
              "    }\n",
              "\n",
              "    .dataframe thead th {\n",
              "        text-align: right;\n",
              "    }\n",
              "</style>\n",
              "<table border=\"1\" class=\"dataframe\">\n",
              "  <thead>\n",
              "    <tr style=\"text-align: right;\">\n",
              "      <th></th>\n",
              "      <th>Delay</th>\n",
              "      <th>CustID</th>\n",
              "      <th>Delay_Prob</th>\n",
              "    </tr>\n",
              "  </thead>\n",
              "  <tbody>\n",
              "    <tr>\n",
              "      <th>0</th>\n",
              "      <td>1</td>\n",
              "      <td>84001</td>\n",
              "      <td>0.531888</td>\n",
              "    </tr>\n",
              "    <tr>\n",
              "      <th>1</th>\n",
              "      <td>1</td>\n",
              "      <td>24346</td>\n",
              "      <td>0.708985</td>\n",
              "    </tr>\n",
              "    <tr>\n",
              "      <th>2</th>\n",
              "      <td>1</td>\n",
              "      <td>53029</td>\n",
              "      <td>0.531888</td>\n",
              "    </tr>\n",
              "    <tr>\n",
              "      <th>3</th>\n",
              "      <td>1</td>\n",
              "      <td>73501</td>\n",
              "      <td>0.325756</td>\n",
              "    </tr>\n",
              "    <tr>\n",
              "      <th>4</th>\n",
              "      <td>1</td>\n",
              "      <td>46575</td>\n",
              "      <td>0.390865</td>\n",
              "    </tr>\n",
              "  </tbody>\n",
              "</table>\n",
              "</div>\n",
              "      <button class=\"colab-df-convert\" onclick=\"convertToInteractive('df-b761518c-3e51-4f20-90ba-a526910ca69e')\"\n",
              "              title=\"Convert this dataframe to an interactive table.\"\n",
              "              style=\"display:none;\">\n",
              "        \n",
              "  <svg xmlns=\"http://www.w3.org/2000/svg\" height=\"24px\"viewBox=\"0 0 24 24\"\n",
              "       width=\"24px\">\n",
              "    <path d=\"M0 0h24v24H0V0z\" fill=\"none\"/>\n",
              "    <path d=\"M18.56 5.44l.94 2.06.94-2.06 2.06-.94-2.06-.94-.94-2.06-.94 2.06-2.06.94zm-11 1L8.5 8.5l.94-2.06 2.06-.94-2.06-.94L8.5 2.5l-.94 2.06-2.06.94zm10 10l.94 2.06.94-2.06 2.06-.94-2.06-.94-.94-2.06-.94 2.06-2.06.94z\"/><path d=\"M17.41 7.96l-1.37-1.37c-.4-.4-.92-.59-1.43-.59-.52 0-1.04.2-1.43.59L10.3 9.45l-7.72 7.72c-.78.78-.78 2.05 0 2.83L4 21.41c.39.39.9.59 1.41.59.51 0 1.02-.2 1.41-.59l7.78-7.78 2.81-2.81c.8-.78.8-2.07 0-2.86zM5.41 20L4 18.59l7.72-7.72 1.47 1.35L5.41 20z\"/>\n",
              "  </svg>\n",
              "      </button>\n",
              "      \n",
              "  <style>\n",
              "    .colab-df-container {\n",
              "      display:flex;\n",
              "      flex-wrap:wrap;\n",
              "      gap: 12px;\n",
              "    }\n",
              "\n",
              "    .colab-df-convert {\n",
              "      background-color: #E8F0FE;\n",
              "      border: none;\n",
              "      border-radius: 50%;\n",
              "      cursor: pointer;\n",
              "      display: none;\n",
              "      fill: #1967D2;\n",
              "      height: 32px;\n",
              "      padding: 0 0 0 0;\n",
              "      width: 32px;\n",
              "    }\n",
              "\n",
              "    .colab-df-convert:hover {\n",
              "      background-color: #E2EBFA;\n",
              "      box-shadow: 0px 1px 2px rgba(60, 64, 67, 0.3), 0px 1px 3px 1px rgba(60, 64, 67, 0.15);\n",
              "      fill: #174EA6;\n",
              "    }\n",
              "\n",
              "    [theme=dark] .colab-df-convert {\n",
              "      background-color: #3B4455;\n",
              "      fill: #D2E3FC;\n",
              "    }\n",
              "\n",
              "    [theme=dark] .colab-df-convert:hover {\n",
              "      background-color: #434B5C;\n",
              "      box-shadow: 0px 1px 3px 1px rgba(0, 0, 0, 0.15);\n",
              "      filter: drop-shadow(0px 1px 2px rgba(0, 0, 0, 0.3));\n",
              "      fill: #FFFFFF;\n",
              "    }\n",
              "  </style>\n",
              "\n",
              "      <script>\n",
              "        const buttonEl =\n",
              "          document.querySelector('#df-b761518c-3e51-4f20-90ba-a526910ca69e button.colab-df-convert');\n",
              "        buttonEl.style.display =\n",
              "          google.colab.kernel.accessAllowed ? 'block' : 'none';\n",
              "\n",
              "        async function convertToInteractive(key) {\n",
              "          const element = document.querySelector('#df-b761518c-3e51-4f20-90ba-a526910ca69e');\n",
              "          const dataTable =\n",
              "            await google.colab.kernel.invokeFunction('convertToInteractive',\n",
              "                                                     [key], {});\n",
              "          if (!dataTable) return;\n",
              "\n",
              "          const docLinkHtml = 'Like what you see? Visit the ' +\n",
              "            '<a target=\"_blank\" href=https://colab.research.google.com/notebooks/data_table.ipynb>data table notebook</a>'\n",
              "            + ' to learn more about interactive tables.';\n",
              "          element.innerHTML = '';\n",
              "          dataTable['output_type'] = 'display_data';\n",
              "          await google.colab.output.renderOutput(dataTable, element);\n",
              "          const docLink = document.createElement('div');\n",
              "          docLink.innerHTML = docLinkHtml;\n",
              "          element.appendChild(docLink);\n",
              "        }\n",
              "      </script>\n",
              "    </div>\n",
              "  </div>\n",
              "  "
            ]
          },
          "metadata": {},
          "execution_count": 309
        }
      ],
      "source": [
        "# Let's see the head of y_pred_final\n",
        "y_pred_final.head()"
      ]
    },
    {
      "cell_type": "code",
      "execution_count": 310,
      "id": "efec95e1",
      "metadata": {
        "id": "efec95e1"
      },
      "outputs": [],
      "source": [
        "y_pred_final['final_predicted'] = y_pred_final.Delay_Prob.map(lambda x: 1 if x > 0.43 else 0)"
      ]
    },
    {
      "cell_type": "code",
      "execution_count": 311,
      "id": "bb7eb462",
      "metadata": {
        "id": "bb7eb462",
        "outputId": "c9acc2ea-51d2-4fb8-c765-23ef285c80f6",
        "colab": {
          "base_uri": "https://localhost:8080/",
          "height": 206
        }
      },
      "outputs": [
        {
          "output_type": "execute_result",
          "data": {
            "text/plain": [
              "   Delay  CustID  Delay_Prob  final_predicted\n",
              "0      1   84001    0.531888                1\n",
              "1      1   24346    0.708985                1\n",
              "2      1   53029    0.531888                1\n",
              "3      1   73501    0.325756                0\n",
              "4      1   46575    0.390865                0"
            ],
            "text/html": [
              "\n",
              "  <div id=\"df-10889d8c-c6cc-4bbe-9c7b-8cc93a29568f\">\n",
              "    <div class=\"colab-df-container\">\n",
              "      <div>\n",
              "<style scoped>\n",
              "    .dataframe tbody tr th:only-of-type {\n",
              "        vertical-align: middle;\n",
              "    }\n",
              "\n",
              "    .dataframe tbody tr th {\n",
              "        vertical-align: top;\n",
              "    }\n",
              "\n",
              "    .dataframe thead th {\n",
              "        text-align: right;\n",
              "    }\n",
              "</style>\n",
              "<table border=\"1\" class=\"dataframe\">\n",
              "  <thead>\n",
              "    <tr style=\"text-align: right;\">\n",
              "      <th></th>\n",
              "      <th>Delay</th>\n",
              "      <th>CustID</th>\n",
              "      <th>Delay_Prob</th>\n",
              "      <th>final_predicted</th>\n",
              "    </tr>\n",
              "  </thead>\n",
              "  <tbody>\n",
              "    <tr>\n",
              "      <th>0</th>\n",
              "      <td>1</td>\n",
              "      <td>84001</td>\n",
              "      <td>0.531888</td>\n",
              "      <td>1</td>\n",
              "    </tr>\n",
              "    <tr>\n",
              "      <th>1</th>\n",
              "      <td>1</td>\n",
              "      <td>24346</td>\n",
              "      <td>0.708985</td>\n",
              "      <td>1</td>\n",
              "    </tr>\n",
              "    <tr>\n",
              "      <th>2</th>\n",
              "      <td>1</td>\n",
              "      <td>53029</td>\n",
              "      <td>0.531888</td>\n",
              "      <td>1</td>\n",
              "    </tr>\n",
              "    <tr>\n",
              "      <th>3</th>\n",
              "      <td>1</td>\n",
              "      <td>73501</td>\n",
              "      <td>0.325756</td>\n",
              "      <td>0</td>\n",
              "    </tr>\n",
              "    <tr>\n",
              "      <th>4</th>\n",
              "      <td>1</td>\n",
              "      <td>46575</td>\n",
              "      <td>0.390865</td>\n",
              "      <td>0</td>\n",
              "    </tr>\n",
              "  </tbody>\n",
              "</table>\n",
              "</div>\n",
              "      <button class=\"colab-df-convert\" onclick=\"convertToInteractive('df-10889d8c-c6cc-4bbe-9c7b-8cc93a29568f')\"\n",
              "              title=\"Convert this dataframe to an interactive table.\"\n",
              "              style=\"display:none;\">\n",
              "        \n",
              "  <svg xmlns=\"http://www.w3.org/2000/svg\" height=\"24px\"viewBox=\"0 0 24 24\"\n",
              "       width=\"24px\">\n",
              "    <path d=\"M0 0h24v24H0V0z\" fill=\"none\"/>\n",
              "    <path d=\"M18.56 5.44l.94 2.06.94-2.06 2.06-.94-2.06-.94-.94-2.06-.94 2.06-2.06.94zm-11 1L8.5 8.5l.94-2.06 2.06-.94-2.06-.94L8.5 2.5l-.94 2.06-2.06.94zm10 10l.94 2.06.94-2.06 2.06-.94-2.06-.94-.94-2.06-.94 2.06-2.06.94z\"/><path d=\"M17.41 7.96l-1.37-1.37c-.4-.4-.92-.59-1.43-.59-.52 0-1.04.2-1.43.59L10.3 9.45l-7.72 7.72c-.78.78-.78 2.05 0 2.83L4 21.41c.39.39.9.59 1.41.59.51 0 1.02-.2 1.41-.59l7.78-7.78 2.81-2.81c.8-.78.8-2.07 0-2.86zM5.41 20L4 18.59l7.72-7.72 1.47 1.35L5.41 20z\"/>\n",
              "  </svg>\n",
              "      </button>\n",
              "      \n",
              "  <style>\n",
              "    .colab-df-container {\n",
              "      display:flex;\n",
              "      flex-wrap:wrap;\n",
              "      gap: 12px;\n",
              "    }\n",
              "\n",
              "    .colab-df-convert {\n",
              "      background-color: #E8F0FE;\n",
              "      border: none;\n",
              "      border-radius: 50%;\n",
              "      cursor: pointer;\n",
              "      display: none;\n",
              "      fill: #1967D2;\n",
              "      height: 32px;\n",
              "      padding: 0 0 0 0;\n",
              "      width: 32px;\n",
              "    }\n",
              "\n",
              "    .colab-df-convert:hover {\n",
              "      background-color: #E2EBFA;\n",
              "      box-shadow: 0px 1px 2px rgba(60, 64, 67, 0.3), 0px 1px 3px 1px rgba(60, 64, 67, 0.15);\n",
              "      fill: #174EA6;\n",
              "    }\n",
              "\n",
              "    [theme=dark] .colab-df-convert {\n",
              "      background-color: #3B4455;\n",
              "      fill: #D2E3FC;\n",
              "    }\n",
              "\n",
              "    [theme=dark] .colab-df-convert:hover {\n",
              "      background-color: #434B5C;\n",
              "      box-shadow: 0px 1px 3px 1px rgba(0, 0, 0, 0.15);\n",
              "      filter: drop-shadow(0px 1px 2px rgba(0, 0, 0, 0.3));\n",
              "      fill: #FFFFFF;\n",
              "    }\n",
              "  </style>\n",
              "\n",
              "      <script>\n",
              "        const buttonEl =\n",
              "          document.querySelector('#df-10889d8c-c6cc-4bbe-9c7b-8cc93a29568f button.colab-df-convert');\n",
              "        buttonEl.style.display =\n",
              "          google.colab.kernel.accessAllowed ? 'block' : 'none';\n",
              "\n",
              "        async function convertToInteractive(key) {\n",
              "          const element = document.querySelector('#df-10889d8c-c6cc-4bbe-9c7b-8cc93a29568f');\n",
              "          const dataTable =\n",
              "            await google.colab.kernel.invokeFunction('convertToInteractive',\n",
              "                                                     [key], {});\n",
              "          if (!dataTable) return;\n",
              "\n",
              "          const docLinkHtml = 'Like what you see? Visit the ' +\n",
              "            '<a target=\"_blank\" href=https://colab.research.google.com/notebooks/data_table.ipynb>data table notebook</a>'\n",
              "            + ' to learn more about interactive tables.';\n",
              "          element.innerHTML = '';\n",
              "          dataTable['output_type'] = 'display_data';\n",
              "          await google.colab.output.renderOutput(dataTable, element);\n",
              "          const docLink = document.createElement('div');\n",
              "          docLink.innerHTML = docLinkHtml;\n",
              "          element.appendChild(docLink);\n",
              "        }\n",
              "      </script>\n",
              "    </div>\n",
              "  </div>\n",
              "  "
            ]
          },
          "metadata": {},
          "execution_count": 311
        }
      ],
      "source": [
        "y_pred_final.head()"
      ]
    },
    {
      "cell_type": "code",
      "execution_count": 312,
      "id": "df1b31ff",
      "metadata": {
        "id": "df1b31ff",
        "outputId": "1c724936-2f42-4276-aada-c76c1eb44acb",
        "colab": {
          "base_uri": "https://localhost:8080/"
        }
      },
      "outputs": [
        {
          "output_type": "execute_result",
          "data": {
            "text/plain": [
              "0.7339081683343979"
            ]
          },
          "metadata": {},
          "execution_count": 312
        }
      ],
      "source": [
        "# Let's check the overall accuracy.\n",
        "accuracy_score(y_pred_final.Delay, y_pred_final.final_predicted)"
      ]
    },
    {
      "cell_type": "code",
      "execution_count": 313,
      "id": "3fcfea89",
      "metadata": {
        "id": "3fcfea89",
        "outputId": "db43cc5a-8309-4308-8b02-d089113c303d",
        "colab": {
          "base_uri": "https://localhost:8080/"
        }
      },
      "outputs": [
        {
          "output_type": "execute_result",
          "data": {
            "text/plain": [
              "array([[15610,  3622],\n",
              "       [ 3877,  5073]])"
            ]
          },
          "metadata": {},
          "execution_count": 313
        }
      ],
      "source": [
        "confusion2 = confusion_matrix(y_pred_final.Delay, y_pred_final.final_predicted )\n",
        "confusion2"
      ]
    },
    {
      "cell_type": "code",
      "execution_count": 314,
      "id": "a3536d0e",
      "metadata": {
        "id": "a3536d0e"
      },
      "outputs": [],
      "source": [
        "TP = confusion2[1,1] # true positive \n",
        "TN = confusion2[0,0] # true negatives\n",
        "FP = confusion2[0,1] # false positives\n",
        "FN = confusion2[1,0] # false negatives"
      ]
    },
    {
      "cell_type": "code",
      "execution_count": 315,
      "id": "d2f399b4",
      "metadata": {
        "id": "d2f399b4",
        "outputId": "102c5893-beb6-4560-b4b1-896aa7c3b9de",
        "colab": {
          "base_uri": "https://localhost:8080/"
        }
      },
      "outputs": [
        {
          "output_type": "execute_result",
          "data": {
            "text/plain": [
              "0.5668156424581006"
            ]
          },
          "metadata": {},
          "execution_count": 315
        }
      ],
      "source": [
        "# Let's see the sensitivity of our logistic regression model\n",
        "TP / float(TP+FN)"
      ]
    },
    {
      "cell_type": "code",
      "execution_count": 316,
      "id": "a1e9af8b",
      "metadata": {
        "id": "a1e9af8b",
        "outputId": "f261df6c-5a34-4582-8848-1abbb981606e",
        "colab": {
          "base_uri": "https://localhost:8080/"
        }
      },
      "outputs": [
        {
          "output_type": "execute_result",
          "data": {
            "text/plain": [
              "0.8116680532445923"
            ]
          },
          "metadata": {},
          "execution_count": 316
        }
      ],
      "source": [
        "# Let us calculate specificity\n",
        "TN / float(TN+FP)"
      ]
    },
    {
      "cell_type": "markdown",
      "id": "fd17a96c",
      "metadata": {
        "id": "fd17a96c"
      },
      "source": [
        "## Summary of our model-3\n",
        "<hr/>"
      ]
    },
    {
      "cell_type": "markdown",
      "id": "2e080662",
      "metadata": {
        "id": "2e080662"
      },
      "source": [
        "- Train Accuracy- 73.6%   \n",
        "- Test Accuracy -73.39%"
      ]
    },
    {
      "cell_type": "code",
      "execution_count": 352,
      "id": "79a7c822",
      "metadata": {
        "scrolled": true,
        "id": "79a7c822",
        "outputId": "a08bf327-3f12-4539-b2b3-cc823014cc95",
        "colab": {
          "base_uri": "https://localhost:8080/",
          "height": 459
        }
      },
      "outputs": [
        {
          "output_type": "execute_result",
          "data": {
            "text/plain": [
              "             AS_OF_DATE  Customer Type Customer_Name  Customer Account No  \\\n",
              "0  04-APR-2022 01:07:01      3rd Party     GIVE Corp              49144.0   \n",
              "1  04-APR-2022 01:07:01  Related Party     AL J Corp              23152.0   \n",
              "2  04-APR-2022 01:07:01  Related Party     AL J Corp              23152.0   \n",
              "3  04-APR-2022 01:07:01  Related Party     AL R Corp              23312.0   \n",
              "4  04-APR-2022 01:07:01  Related Party     ALLI Corp               7530.0   \n",
              "\n",
              "  Transaction Number Transaction Date           Payment Term    Due Date  \\\n",
              "0       100210000438       21/12/2021              Immediate  21/12/2021   \n",
              "1       100220000052       01/02/2022  30 Days from Inv Date  03/03/2022   \n",
              "2       100220000143       24/03/2022  30 Days from Inv Date  23/04/2022   \n",
              "3       100220000001       04/01/2022  15 Days from Inv Date  19/01/2022   \n",
              "4       100220000105       03/03/2022       30 Days from EOM  30/04/2022   \n",
              "\n",
              "  Transaction Currency Local Amount Transaction Class  AGE USD Amount  \\\n",
              "0                  AED       -3,088       CREDIT NOTE  105     -3,088   \n",
              "1                  USD        2,000           INVOICE   33      2,000   \n",
              "2                  USD        2,000           INVOICE  -18      2,000   \n",
              "3                  AED        2,415           INVOICE   76      2,415   \n",
              "4                  AED        3,800           INVOICE  -25      3,800   \n",
              "\n",
              "  INV_CREATION_DATE  \n",
              "0  12/21/2021 12:53  \n",
              "1    2/1/2022 14:09  \n",
              "2   3/24/2022 17:46  \n",
              "3    1/5/2022 11:49  \n",
              "4    3/3/2022 22:30  "
            ],
            "text/html": [
              "\n",
              "  <div id=\"df-56b84152-2d5e-4426-bc32-01d61f1fc780\">\n",
              "    <div class=\"colab-df-container\">\n",
              "      <div>\n",
              "<style scoped>\n",
              "    .dataframe tbody tr th:only-of-type {\n",
              "        vertical-align: middle;\n",
              "    }\n",
              "\n",
              "    .dataframe tbody tr th {\n",
              "        vertical-align: top;\n",
              "    }\n",
              "\n",
              "    .dataframe thead th {\n",
              "        text-align: right;\n",
              "    }\n",
              "</style>\n",
              "<table border=\"1\" class=\"dataframe\">\n",
              "  <thead>\n",
              "    <tr style=\"text-align: right;\">\n",
              "      <th></th>\n",
              "      <th>AS_OF_DATE</th>\n",
              "      <th>Customer Type</th>\n",
              "      <th>Customer_Name</th>\n",
              "      <th>Customer Account No</th>\n",
              "      <th>Transaction Number</th>\n",
              "      <th>Transaction Date</th>\n",
              "      <th>Payment Term</th>\n",
              "      <th>Due Date</th>\n",
              "      <th>Transaction Currency</th>\n",
              "      <th>Local Amount</th>\n",
              "      <th>Transaction Class</th>\n",
              "      <th>AGE</th>\n",
              "      <th>USD Amount</th>\n",
              "      <th>INV_CREATION_DATE</th>\n",
              "    </tr>\n",
              "  </thead>\n",
              "  <tbody>\n",
              "    <tr>\n",
              "      <th>0</th>\n",
              "      <td>04-APR-2022 01:07:01</td>\n",
              "      <td>3rd Party</td>\n",
              "      <td>GIVE Corp</td>\n",
              "      <td>49144.0</td>\n",
              "      <td>100210000438</td>\n",
              "      <td>21/12/2021</td>\n",
              "      <td>Immediate</td>\n",
              "      <td>21/12/2021</td>\n",
              "      <td>AED</td>\n",
              "      <td>-3,088</td>\n",
              "      <td>CREDIT NOTE</td>\n",
              "      <td>105</td>\n",
              "      <td>-3,088</td>\n",
              "      <td>12/21/2021 12:53</td>\n",
              "    </tr>\n",
              "    <tr>\n",
              "      <th>1</th>\n",
              "      <td>04-APR-2022 01:07:01</td>\n",
              "      <td>Related Party</td>\n",
              "      <td>AL J Corp</td>\n",
              "      <td>23152.0</td>\n",
              "      <td>100220000052</td>\n",
              "      <td>01/02/2022</td>\n",
              "      <td>30 Days from Inv Date</td>\n",
              "      <td>03/03/2022</td>\n",
              "      <td>USD</td>\n",
              "      <td>2,000</td>\n",
              "      <td>INVOICE</td>\n",
              "      <td>33</td>\n",
              "      <td>2,000</td>\n",
              "      <td>2/1/2022 14:09</td>\n",
              "    </tr>\n",
              "    <tr>\n",
              "      <th>2</th>\n",
              "      <td>04-APR-2022 01:07:01</td>\n",
              "      <td>Related Party</td>\n",
              "      <td>AL J Corp</td>\n",
              "      <td>23152.0</td>\n",
              "      <td>100220000143</td>\n",
              "      <td>24/03/2022</td>\n",
              "      <td>30 Days from Inv Date</td>\n",
              "      <td>23/04/2022</td>\n",
              "      <td>USD</td>\n",
              "      <td>2,000</td>\n",
              "      <td>INVOICE</td>\n",
              "      <td>-18</td>\n",
              "      <td>2,000</td>\n",
              "      <td>3/24/2022 17:46</td>\n",
              "    </tr>\n",
              "    <tr>\n",
              "      <th>3</th>\n",
              "      <td>04-APR-2022 01:07:01</td>\n",
              "      <td>Related Party</td>\n",
              "      <td>AL R Corp</td>\n",
              "      <td>23312.0</td>\n",
              "      <td>100220000001</td>\n",
              "      <td>04/01/2022</td>\n",
              "      <td>15 Days from Inv Date</td>\n",
              "      <td>19/01/2022</td>\n",
              "      <td>AED</td>\n",
              "      <td>2,415</td>\n",
              "      <td>INVOICE</td>\n",
              "      <td>76</td>\n",
              "      <td>2,415</td>\n",
              "      <td>1/5/2022 11:49</td>\n",
              "    </tr>\n",
              "    <tr>\n",
              "      <th>4</th>\n",
              "      <td>04-APR-2022 01:07:01</td>\n",
              "      <td>Related Party</td>\n",
              "      <td>ALLI Corp</td>\n",
              "      <td>7530.0</td>\n",
              "      <td>100220000105</td>\n",
              "      <td>03/03/2022</td>\n",
              "      <td>30 Days from EOM</td>\n",
              "      <td>30/04/2022</td>\n",
              "      <td>AED</td>\n",
              "      <td>3,800</td>\n",
              "      <td>INVOICE</td>\n",
              "      <td>-25</td>\n",
              "      <td>3,800</td>\n",
              "      <td>3/3/2022 22:30</td>\n",
              "    </tr>\n",
              "  </tbody>\n",
              "</table>\n",
              "</div>\n",
              "      <button class=\"colab-df-convert\" onclick=\"convertToInteractive('df-56b84152-2d5e-4426-bc32-01d61f1fc780')\"\n",
              "              title=\"Convert this dataframe to an interactive table.\"\n",
              "              style=\"display:none;\">\n",
              "        \n",
              "  <svg xmlns=\"http://www.w3.org/2000/svg\" height=\"24px\"viewBox=\"0 0 24 24\"\n",
              "       width=\"24px\">\n",
              "    <path d=\"M0 0h24v24H0V0z\" fill=\"none\"/>\n",
              "    <path d=\"M18.56 5.44l.94 2.06.94-2.06 2.06-.94-2.06-.94-.94-2.06-.94 2.06-2.06.94zm-11 1L8.5 8.5l.94-2.06 2.06-.94-2.06-.94L8.5 2.5l-.94 2.06-2.06.94zm10 10l.94 2.06.94-2.06 2.06-.94-2.06-.94-.94-2.06-.94 2.06-2.06.94z\"/><path d=\"M17.41 7.96l-1.37-1.37c-.4-.4-.92-.59-1.43-.59-.52 0-1.04.2-1.43.59L10.3 9.45l-7.72 7.72c-.78.78-.78 2.05 0 2.83L4 21.41c.39.39.9.59 1.41.59.51 0 1.02-.2 1.41-.59l7.78-7.78 2.81-2.81c.8-.78.8-2.07 0-2.86zM5.41 20L4 18.59l7.72-7.72 1.47 1.35L5.41 20z\"/>\n",
              "  </svg>\n",
              "      </button>\n",
              "      \n",
              "  <style>\n",
              "    .colab-df-container {\n",
              "      display:flex;\n",
              "      flex-wrap:wrap;\n",
              "      gap: 12px;\n",
              "    }\n",
              "\n",
              "    .colab-df-convert {\n",
              "      background-color: #E8F0FE;\n",
              "      border: none;\n",
              "      border-radius: 50%;\n",
              "      cursor: pointer;\n",
              "      display: none;\n",
              "      fill: #1967D2;\n",
              "      height: 32px;\n",
              "      padding: 0 0 0 0;\n",
              "      width: 32px;\n",
              "    }\n",
              "\n",
              "    .colab-df-convert:hover {\n",
              "      background-color: #E2EBFA;\n",
              "      box-shadow: 0px 1px 2px rgba(60, 64, 67, 0.3), 0px 1px 3px 1px rgba(60, 64, 67, 0.15);\n",
              "      fill: #174EA6;\n",
              "    }\n",
              "\n",
              "    [theme=dark] .colab-df-convert {\n",
              "      background-color: #3B4455;\n",
              "      fill: #D2E3FC;\n",
              "    }\n",
              "\n",
              "    [theme=dark] .colab-df-convert:hover {\n",
              "      background-color: #434B5C;\n",
              "      box-shadow: 0px 1px 3px 1px rgba(0, 0, 0, 0.15);\n",
              "      filter: drop-shadow(0px 1px 2px rgba(0, 0, 0, 0.3));\n",
              "      fill: #FFFFFF;\n",
              "    }\n",
              "  </style>\n",
              "\n",
              "      <script>\n",
              "        const buttonEl =\n",
              "          document.querySelector('#df-56b84152-2d5e-4426-bc32-01d61f1fc780 button.colab-df-convert');\n",
              "        buttonEl.style.display =\n",
              "          google.colab.kernel.accessAllowed ? 'block' : 'none';\n",
              "\n",
              "        async function convertToInteractive(key) {\n",
              "          const element = document.querySelector('#df-56b84152-2d5e-4426-bc32-01d61f1fc780');\n",
              "          const dataTable =\n",
              "            await google.colab.kernel.invokeFunction('convertToInteractive',\n",
              "                                                     [key], {});\n",
              "          if (!dataTable) return;\n",
              "\n",
              "          const docLinkHtml = 'Like what you see? Visit the ' +\n",
              "            '<a target=\"_blank\" href=https://colab.research.google.com/notebooks/data_table.ipynb>data table notebook</a>'\n",
              "            + ' to learn more about interactive tables.';\n",
              "          element.innerHTML = '';\n",
              "          dataTable['output_type'] = 'display_data';\n",
              "          await google.colab.output.renderOutput(dataTable, element);\n",
              "          const docLink = document.createElement('div');\n",
              "          docLink.innerHTML = docLinkHtml;\n",
              "          element.appendChild(docLink);\n",
              "        }\n",
              "      </script>\n",
              "    </div>\n",
              "  </div>\n",
              "  "
            ]
          },
          "metadata": {},
          "execution_count": 352
        }
      ],
      "source": [
        "# Reading Open.CSV file\n",
        "open_df=pd.read_csv('Open_Invoice_data.csv',encoding= 'unicode_escape')\n",
        "open_df.head()"
      ]
    },
    {
      "cell_type": "code",
      "execution_count": 353,
      "id": "260ae49c",
      "metadata": {
        "id": "260ae49c",
        "outputId": "08a027fa-6237-436e-cafa-82bfdd9fe527",
        "colab": {
          "base_uri": "https://localhost:8080/"
        }
      },
      "outputs": [
        {
          "output_type": "stream",
          "name": "stdout",
          "text": [
            "<class 'pandas.core.frame.DataFrame'>\n",
            "RangeIndex: 88204 entries, 0 to 88203\n",
            "Data columns (total 14 columns):\n",
            " #   Column                Non-Null Count  Dtype  \n",
            "---  ------                --------------  -----  \n",
            " 0   AS_OF_DATE            88204 non-null  object \n",
            " 1   Customer Type         88204 non-null  object \n",
            " 2   Customer_Name         88204 non-null  object \n",
            " 3   Customer Account No   88201 non-null  float64\n",
            " 4   Transaction Number    88195 non-null  object \n",
            " 5   Transaction Date      88204 non-null  object \n",
            " 6   Payment Term          88204 non-null  object \n",
            " 7   Due Date              88204 non-null  object \n",
            " 8   Transaction Currency  88204 non-null  object \n",
            " 9   Local Amount          88204 non-null  object \n",
            " 10  Transaction Class     88204 non-null  object \n",
            " 11  AGE                   88204 non-null  int64  \n",
            " 12  USD Amount            88204 non-null  object \n",
            " 13  INV_CREATION_DATE     88204 non-null  object \n",
            "dtypes: float64(1), int64(1), object(12)\n",
            "memory usage: 9.4+ MB\n"
          ]
        }
      ],
      "source": [
        "open_df.info()"
      ]
    },
    {
      "cell_type": "markdown",
      "id": "4276761c",
      "metadata": {
        "id": "4276761c"
      },
      "source": [
        "### EDA & Data Preparation"
      ]
    },
    {
      "cell_type": "code",
      "execution_count": 354,
      "id": "0522db21",
      "metadata": {
        "id": "0522db21",
        "outputId": "8583be68-ba93-4693-d4f6-2f02303dc96b",
        "colab": {
          "base_uri": "https://localhost:8080/"
        }
      },
      "outputs": [
        {
          "output_type": "execute_result",
          "data": {
            "text/plain": [
              "04-APR-2022 01:07:01    88204\n",
              "Name: AS_OF_DATE, dtype: int64"
            ]
          },
          "metadata": {},
          "execution_count": 354
        }
      ],
      "source": [
        "open_df.AS_OF_DATE.value_counts()"
      ]
    },
    {
      "cell_type": "code",
      "execution_count": 355,
      "id": "d0bed867",
      "metadata": {
        "id": "d0bed867"
      },
      "outputs": [],
      "source": [
        "#dropping the col\n",
        "drop_column=[]\n",
        "drop_column.append('AS_OF_DATE')"
      ]
    },
    {
      "cell_type": "code",
      "execution_count": 356,
      "id": "40215790",
      "metadata": {
        "id": "40215790",
        "outputId": "a16ef1ed-7a24-4306-deb4-7b4d560efdfe",
        "colab": {
          "base_uri": "https://localhost:8080/"
        }
      },
      "outputs": [
        {
          "output_type": "execute_result",
          "data": {
            "text/plain": [
              "3rd Party                45282\n",
              "Related Party            42919\n",
              "Unidentified Receipts        3\n",
              "Name: Customer Type, dtype: int64"
            ]
          },
          "metadata": {},
          "execution_count": 356
        }
      ],
      "source": [
        "\n",
        "open_df['Customer Type'].value_counts()"
      ]
    },
    {
      "cell_type": "markdown",
      "id": "8890147b",
      "metadata": {
        "id": "8890147b"
      },
      "source": [
        "Since Column is not required for prediction , hence dropping this column also."
      ]
    },
    {
      "cell_type": "code",
      "execution_count": 357,
      "id": "b66252c7",
      "metadata": {
        "id": "b66252c7"
      },
      "outputs": [],
      "source": [
        "#dropping the col\n",
        "drop_column=['AS_OF_DATE','Customer Type','Customer Account No','Transaction Number','Transaction Date','Local Amount']"
      ]
    },
    {
      "cell_type": "code",
      "execution_count": 358,
      "id": "78cf28b6",
      "metadata": {
        "id": "78cf28b6"
      },
      "outputs": [],
      "source": [
        "# dropping irrelevant columns\n",
        "open_df=open_df.drop(drop_column,axis=1)"
      ]
    },
    {
      "cell_type": "code",
      "execution_count": 359,
      "id": "e6576231",
      "metadata": {
        "id": "e6576231",
        "outputId": "45bb1005-733a-450d-8511-ea0c3729ecf3",
        "colab": {
          "base_uri": "https://localhost:8080/",
          "height": 206
        }
      },
      "outputs": [
        {
          "output_type": "execute_result",
          "data": {
            "text/plain": [
              "  Customer_Name           Payment Term    Due Date Transaction Currency  \\\n",
              "0     GIVE Corp              Immediate  21/12/2021                  AED   \n",
              "1     AL J Corp  30 Days from Inv Date  03/03/2022                  USD   \n",
              "2     AL J Corp  30 Days from Inv Date  23/04/2022                  USD   \n",
              "3     AL R Corp  15 Days from Inv Date  19/01/2022                  AED   \n",
              "4     ALLI Corp       30 Days from EOM  30/04/2022                  AED   \n",
              "\n",
              "  Transaction Class  AGE USD Amount INV_CREATION_DATE  \n",
              "0       CREDIT NOTE  105     -3,088  12/21/2021 12:53  \n",
              "1           INVOICE   33      2,000    2/1/2022 14:09  \n",
              "2           INVOICE  -18      2,000   3/24/2022 17:46  \n",
              "3           INVOICE   76      2,415    1/5/2022 11:49  \n",
              "4           INVOICE  -25      3,800    3/3/2022 22:30  "
            ],
            "text/html": [
              "\n",
              "  <div id=\"df-73c1ed7f-9949-4c68-b27a-f200540509f3\">\n",
              "    <div class=\"colab-df-container\">\n",
              "      <div>\n",
              "<style scoped>\n",
              "    .dataframe tbody tr th:only-of-type {\n",
              "        vertical-align: middle;\n",
              "    }\n",
              "\n",
              "    .dataframe tbody tr th {\n",
              "        vertical-align: top;\n",
              "    }\n",
              "\n",
              "    .dataframe thead th {\n",
              "        text-align: right;\n",
              "    }\n",
              "</style>\n",
              "<table border=\"1\" class=\"dataframe\">\n",
              "  <thead>\n",
              "    <tr style=\"text-align: right;\">\n",
              "      <th></th>\n",
              "      <th>Customer_Name</th>\n",
              "      <th>Payment Term</th>\n",
              "      <th>Due Date</th>\n",
              "      <th>Transaction Currency</th>\n",
              "      <th>Transaction Class</th>\n",
              "      <th>AGE</th>\n",
              "      <th>USD Amount</th>\n",
              "      <th>INV_CREATION_DATE</th>\n",
              "    </tr>\n",
              "  </thead>\n",
              "  <tbody>\n",
              "    <tr>\n",
              "      <th>0</th>\n",
              "      <td>GIVE Corp</td>\n",
              "      <td>Immediate</td>\n",
              "      <td>21/12/2021</td>\n",
              "      <td>AED</td>\n",
              "      <td>CREDIT NOTE</td>\n",
              "      <td>105</td>\n",
              "      <td>-3,088</td>\n",
              "      <td>12/21/2021 12:53</td>\n",
              "    </tr>\n",
              "    <tr>\n",
              "      <th>1</th>\n",
              "      <td>AL J Corp</td>\n",
              "      <td>30 Days from Inv Date</td>\n",
              "      <td>03/03/2022</td>\n",
              "      <td>USD</td>\n",
              "      <td>INVOICE</td>\n",
              "      <td>33</td>\n",
              "      <td>2,000</td>\n",
              "      <td>2/1/2022 14:09</td>\n",
              "    </tr>\n",
              "    <tr>\n",
              "      <th>2</th>\n",
              "      <td>AL J Corp</td>\n",
              "      <td>30 Days from Inv Date</td>\n",
              "      <td>23/04/2022</td>\n",
              "      <td>USD</td>\n",
              "      <td>INVOICE</td>\n",
              "      <td>-18</td>\n",
              "      <td>2,000</td>\n",
              "      <td>3/24/2022 17:46</td>\n",
              "    </tr>\n",
              "    <tr>\n",
              "      <th>3</th>\n",
              "      <td>AL R Corp</td>\n",
              "      <td>15 Days from Inv Date</td>\n",
              "      <td>19/01/2022</td>\n",
              "      <td>AED</td>\n",
              "      <td>INVOICE</td>\n",
              "      <td>76</td>\n",
              "      <td>2,415</td>\n",
              "      <td>1/5/2022 11:49</td>\n",
              "    </tr>\n",
              "    <tr>\n",
              "      <th>4</th>\n",
              "      <td>ALLI Corp</td>\n",
              "      <td>30 Days from EOM</td>\n",
              "      <td>30/04/2022</td>\n",
              "      <td>AED</td>\n",
              "      <td>INVOICE</td>\n",
              "      <td>-25</td>\n",
              "      <td>3,800</td>\n",
              "      <td>3/3/2022 22:30</td>\n",
              "    </tr>\n",
              "  </tbody>\n",
              "</table>\n",
              "</div>\n",
              "      <button class=\"colab-df-convert\" onclick=\"convertToInteractive('df-73c1ed7f-9949-4c68-b27a-f200540509f3')\"\n",
              "              title=\"Convert this dataframe to an interactive table.\"\n",
              "              style=\"display:none;\">\n",
              "        \n",
              "  <svg xmlns=\"http://www.w3.org/2000/svg\" height=\"24px\"viewBox=\"0 0 24 24\"\n",
              "       width=\"24px\">\n",
              "    <path d=\"M0 0h24v24H0V0z\" fill=\"none\"/>\n",
              "    <path d=\"M18.56 5.44l.94 2.06.94-2.06 2.06-.94-2.06-.94-.94-2.06-.94 2.06-2.06.94zm-11 1L8.5 8.5l.94-2.06 2.06-.94-2.06-.94L8.5 2.5l-.94 2.06-2.06.94zm10 10l.94 2.06.94-2.06 2.06-.94-2.06-.94-.94-2.06-.94 2.06-2.06.94z\"/><path d=\"M17.41 7.96l-1.37-1.37c-.4-.4-.92-.59-1.43-.59-.52 0-1.04.2-1.43.59L10.3 9.45l-7.72 7.72c-.78.78-.78 2.05 0 2.83L4 21.41c.39.39.9.59 1.41.59.51 0 1.02-.2 1.41-.59l7.78-7.78 2.81-2.81c.8-.78.8-2.07 0-2.86zM5.41 20L4 18.59l7.72-7.72 1.47 1.35L5.41 20z\"/>\n",
              "  </svg>\n",
              "      </button>\n",
              "      \n",
              "  <style>\n",
              "    .colab-df-container {\n",
              "      display:flex;\n",
              "      flex-wrap:wrap;\n",
              "      gap: 12px;\n",
              "    }\n",
              "\n",
              "    .colab-df-convert {\n",
              "      background-color: #E8F0FE;\n",
              "      border: none;\n",
              "      border-radius: 50%;\n",
              "      cursor: pointer;\n",
              "      display: none;\n",
              "      fill: #1967D2;\n",
              "      height: 32px;\n",
              "      padding: 0 0 0 0;\n",
              "      width: 32px;\n",
              "    }\n",
              "\n",
              "    .colab-df-convert:hover {\n",
              "      background-color: #E2EBFA;\n",
              "      box-shadow: 0px 1px 2px rgba(60, 64, 67, 0.3), 0px 1px 3px 1px rgba(60, 64, 67, 0.15);\n",
              "      fill: #174EA6;\n",
              "    }\n",
              "\n",
              "    [theme=dark] .colab-df-convert {\n",
              "      background-color: #3B4455;\n",
              "      fill: #D2E3FC;\n",
              "    }\n",
              "\n",
              "    [theme=dark] .colab-df-convert:hover {\n",
              "      background-color: #434B5C;\n",
              "      box-shadow: 0px 1px 3px 1px rgba(0, 0, 0, 0.15);\n",
              "      filter: drop-shadow(0px 1px 2px rgba(0, 0, 0, 0.3));\n",
              "      fill: #FFFFFF;\n",
              "    }\n",
              "  </style>\n",
              "\n",
              "      <script>\n",
              "        const buttonEl =\n",
              "          document.querySelector('#df-73c1ed7f-9949-4c68-b27a-f200540509f3 button.colab-df-convert');\n",
              "        buttonEl.style.display =\n",
              "          google.colab.kernel.accessAllowed ? 'block' : 'none';\n",
              "\n",
              "        async function convertToInteractive(key) {\n",
              "          const element = document.querySelector('#df-73c1ed7f-9949-4c68-b27a-f200540509f3');\n",
              "          const dataTable =\n",
              "            await google.colab.kernel.invokeFunction('convertToInteractive',\n",
              "                                                     [key], {});\n",
              "          if (!dataTable) return;\n",
              "\n",
              "          const docLinkHtml = 'Like what you see? Visit the ' +\n",
              "            '<a target=\"_blank\" href=https://colab.research.google.com/notebooks/data_table.ipynb>data table notebook</a>'\n",
              "            + ' to learn more about interactive tables.';\n",
              "          element.innerHTML = '';\n",
              "          dataTable['output_type'] = 'display_data';\n",
              "          await google.colab.output.renderOutput(dataTable, element);\n",
              "          const docLink = document.createElement('div');\n",
              "          docLink.innerHTML = docLinkHtml;\n",
              "          element.appendChild(docLink);\n",
              "        }\n",
              "      </script>\n",
              "    </div>\n",
              "  </div>\n",
              "  "
            ]
          },
          "metadata": {},
          "execution_count": 359
        }
      ],
      "source": [
        "open_df.head()"
      ]
    },
    {
      "cell_type": "code",
      "execution_count": 360,
      "id": "0439e954",
      "metadata": {
        "id": "0439e954"
      },
      "outputs": [],
      "source": [
        "#Letus match the name of columns as our received payment data\n",
        "open_df.rename(columns={'Customer_Name':'CUSTOMER_NAME',\"Transaction Currency\": 'INVOICE_CURRENCY_CODE',\"Transaction Class\":'INVOICE_CLASS'},inplace=True)"
      ]
    },
    {
      "cell_type": "code",
      "execution_count": 361,
      "id": "38074f7d",
      "metadata": {
        "id": "38074f7d"
      },
      "outputs": [],
      "source": [
        "# Adding customer segment column in Open_df\n",
        "open_df=pd.merge(open_df,Cust_seg,how='left',on='CUSTOMER_NAME')"
      ]
    },
    {
      "cell_type": "code",
      "execution_count": 362,
      "id": "7e64cf47",
      "metadata": {
        "id": "7e64cf47",
        "outputId": "2720d558-efc0-4fbb-ab9e-190305400498",
        "colab": {
          "base_uri": "https://localhost:8080/"
        }
      },
      "outputs": [
        {
          "output_type": "execute_result",
          "data": {
            "text/plain": [
              "0.0    51223\n",
              "2.0    34471\n",
              "1.0       43\n",
              "Name: cluster_id, dtype: int64"
            ]
          },
          "metadata": {},
          "execution_count": 362
        }
      ],
      "source": [
        "open_df.cluster_id.value_counts()"
      ]
    },
    {
      "cell_type": "code",
      "execution_count": 363,
      "id": "96ec3c84",
      "metadata": {
        "id": "96ec3c84",
        "outputId": "103c9614-7380-483c-99f5-4fcd0398a9eb",
        "colab": {
          "base_uri": "https://localhost:8080/"
        }
      },
      "outputs": [
        {
          "output_type": "execute_result",
          "data": {
            "text/plain": [
              "dtype('O')"
            ]
          },
          "metadata": {},
          "execution_count": 363
        }
      ],
      "source": [
        "open_df['USD Amount'].dtype"
      ]
    },
    {
      "cell_type": "code",
      "execution_count": 364,
      "id": "0875c073",
      "metadata": {
        "id": "0875c073"
      },
      "outputs": [],
      "source": [
        "#Changing it to numbers\n",
        "open_df['USD Amount'] = [float(str(i).replace(\",\", \"\")) for i in open_df['USD Amount']]\n"
      ]
    },
    {
      "cell_type": "code",
      "execution_count": 365,
      "id": "911f2721",
      "metadata": {
        "id": "911f2721",
        "outputId": "41c20bf1-1064-4816-ae39-c227e172b4a4",
        "colab": {
          "base_uri": "https://localhost:8080/"
        }
      },
      "outputs": [
        {
          "output_type": "execute_result",
          "data": {
            "text/plain": [
              "5978000.0"
            ]
          },
          "metadata": {},
          "execution_count": 365
        }
      ],
      "source": [
        "open_df['USD Amount'].max()"
      ]
    },
    {
      "cell_type": "code",
      "execution_count": 366,
      "id": "0aa68d23",
      "metadata": {
        "id": "0aa68d23"
      },
      "outputs": [],
      "source": [
        "\n",
        "# Converting USD Amount in million\n",
        "open_df['USD Amount']=open_df['USD Amount']/1000000"
      ]
    },
    {
      "cell_type": "code",
      "execution_count": 367,
      "id": "f72844e8",
      "metadata": {
        "id": "f72844e8",
        "outputId": "e04efccb-2e45-40ef-d2aa-4f63f8250b99",
        "colab": {
          "base_uri": "https://localhost:8080/"
        }
      },
      "outputs": [
        {
          "output_type": "execute_result",
          "data": {
            "text/plain": [
              "Index(['CUSTOMER_NAME', 'Payment Term', 'Due Date', 'INVOICE_CURRENCY_CODE',\n",
              "       'INVOICE_CLASS', 'AGE', 'USD Amount', 'INV_CREATION_DATE',\n",
              "       'Avg. days for Payment', 'Std.deviation for Payment', 'cluster_id'],\n",
              "      dtype='object')"
            ]
          },
          "metadata": {},
          "execution_count": 367
        }
      ],
      "source": [
        "open_df.columns"
      ]
    },
    {
      "cell_type": "code",
      "execution_count": 368,
      "id": "53be6184",
      "metadata": {
        "id": "53be6184",
        "outputId": "01e0f9af-3aa8-43f7-cd1b-12c7d575355a",
        "colab": {
          "base_uri": "https://localhost:8080/"
        }
      },
      "outputs": [
        {
          "output_type": "execute_result",
          "data": {
            "text/plain": [
              "INVOICE        79523\n",
              "CREDIT NOTE     5954\n",
              "PAYMENT         1443\n",
              "DEBIT NOTE      1284\n",
              "Name: INVOICE_CLASS, dtype: int64"
            ]
          },
          "metadata": {},
          "execution_count": 368
        }
      ],
      "source": [
        "\n",
        "\n",
        "# checking 'INVOICE_CLASS' column\n",
        "open_df['INVOICE_CLASS'].value_counts()"
      ]
    },
    {
      "cell_type": "code",
      "execution_count": 369,
      "id": "f374cdc2",
      "metadata": {
        "id": "f374cdc2"
      },
      "outputs": [],
      "source": [
        "# Chaning Inoice- INV\n",
        "         #Credit Note- CM\n",
        "         #Debit Note -DM\n",
        "         #Payment -PMT\n",
        "def change(x):\n",
        "    if x=='INVOICE':\n",
        "        return 'INV'\n",
        "    elif x=='CREDIT NOTE':\n",
        "        return 'CM'\n",
        "    elif x=='DEBIT NOTE':\n",
        "        return 'DM'\n",
        "    elif x=='PAYMENT':\n",
        "        return 'PMT'\n",
        "    else:\n",
        "        Pass\n"
      ]
    },
    {
      "cell_type": "code",
      "execution_count": 370,
      "id": "5e0b95cd",
      "metadata": {
        "id": "5e0b95cd"
      },
      "outputs": [],
      "source": [
        "open_df['INVOICE_CLASS']=open_df['INVOICE_CLASS'].apply(lambda x: change(x))"
      ]
    },
    {
      "cell_type": "code",
      "execution_count": 371,
      "id": "83aacf0b",
      "metadata": {
        "id": "83aacf0b",
        "outputId": "e78e1bad-2dde-4974-91d3-63b159ba48a1",
        "colab": {
          "base_uri": "https://localhost:8080/"
        }
      },
      "outputs": [
        {
          "output_type": "execute_result",
          "data": {
            "text/plain": [
              "INV    79523\n",
              "CM      5954\n",
              "PMT     1443\n",
              "DM      1284\n",
              "Name: INVOICE_CLASS, dtype: int64"
            ]
          },
          "metadata": {},
          "execution_count": 371
        }
      ],
      "source": [
        "open_df['INVOICE_CLASS'].value_counts()"
      ]
    },
    {
      "cell_type": "code",
      "execution_count": 372,
      "id": "9eb9fb54",
      "metadata": {
        "id": "9eb9fb54",
        "outputId": "81800aa2-a379-4bcd-ca57-d66c3073564b",
        "colab": {
          "base_uri": "https://localhost:8080/"
        }
      },
      "outputs": [
        {
          "output_type": "execute_result",
          "data": {
            "text/plain": [
              "dtype('O')"
            ]
          },
          "metadata": {},
          "execution_count": 372
        }
      ],
      "source": [
        "open_df['INV_CREATION_DATE'].dtype"
      ]
    },
    {
      "cell_type": "code",
      "execution_count": 373,
      "id": "d93111f8",
      "metadata": {
        "id": "d93111f8"
      },
      "outputs": [],
      "source": [
        "# Changing it to date.\n",
        "open_df['INV_CREATION_DATE']=[(str(i).replace(\"-\", \"/\")) for i in open_df['INV_CREATION_DATE']]"
      ]
    },
    {
      "cell_type": "code",
      "execution_count": 374,
      "id": "69783912",
      "metadata": {
        "id": "69783912"
      },
      "outputs": [],
      "source": [
        "from datetime import datetime\n",
        "open_df['INV_CREATION_DATE']=open_df['INV_CREATION_DATE'].apply(lambda val: datetime.strptime(val, \"%m/%d/%Y %H:%M\" ))"
      ]
    },
    {
      "cell_type": "code",
      "execution_count": 375,
      "id": "8261b1c9",
      "metadata": {
        "id": "8261b1c9"
      },
      "outputs": [],
      "source": [
        "open_df['INV_CREATION_DATE']=open_df['INV_CREATION_DATE'].dt.strftime(\"%d-%m-%Y\")"
      ]
    },
    {
      "cell_type": "code",
      "execution_count": 376,
      "id": "36bdfa9f",
      "metadata": {
        "id": "36bdfa9f"
      },
      "outputs": [],
      "source": [
        "open_df['INV_CREATION_DATE']=open_df['INV_CREATION_DATE'].apply(lambda val: datetime.strptime(val, \"%d-%m-%Y\"))"
      ]
    },
    {
      "cell_type": "code",
      "execution_count": 377,
      "id": "fd5de6f9",
      "metadata": {
        "id": "fd5de6f9",
        "outputId": "32ea0388-bab6-4b11-a8f2-5b4a8a4f3f68",
        "colab": {
          "base_uri": "https://localhost:8080/"
        }
      },
      "outputs": [
        {
          "output_type": "execute_result",
          "data": {
            "text/plain": [
              "0   2021-12-21\n",
              "1   2022-02-01\n",
              "2   2022-03-24\n",
              "3   2022-01-05\n",
              "4   2022-03-03\n",
              "Name: INV_CREATION_DATE, dtype: datetime64[ns]"
            ]
          },
          "metadata": {},
          "execution_count": 377
        }
      ],
      "source": [
        "open_df['INV_CREATION_DATE'].head()"
      ]
    },
    {
      "cell_type": "code",
      "execution_count": 378,
      "id": "9e85c279",
      "metadata": {
        "id": "9e85c279"
      },
      "outputs": [],
      "source": [
        "# Changing due date from object to date time\n",
        "open_df['Due Date']=open_df['Due Date'].apply(lambda val: datetime.strptime(val, \"%d/%m/%Y\" ))"
      ]
    },
    {
      "cell_type": "code",
      "execution_count": 379,
      "id": "a5209675",
      "metadata": {
        "id": "a5209675"
      },
      "outputs": [],
      "source": [
        "# Creating Payment_term_days column\n",
        "open_df['Payment_Term_Days']=(open_df['Due Date']-open_df['INV_CREATION_DATE']).dt.days"
      ]
    },
    {
      "cell_type": "code",
      "execution_count": 380,
      "id": "451ae6e9",
      "metadata": {
        "id": "451ae6e9",
        "outputId": "f2f8d5c4-8e74-49fb-8d5d-8f73daca6938",
        "colab": {
          "base_uri": "https://localhost:8080/",
          "height": 424
        }
      },
      "outputs": [
        {
          "output_type": "execute_result",
          "data": {
            "text/plain": [
              "                Payment Term  Payment_Term_Days\n",
              "0                  Immediate                  0\n",
              "1      30 Days from Inv Date                 30\n",
              "2      30 Days from Inv Date                 30\n",
              "3      15 Days from Inv Date                 14\n",
              "4           30 Days from EOM                 58\n",
              "...                      ...                ...\n",
              "88199              Immediate                  0\n",
              "88200              Immediate                  0\n",
              "88201       30 Days from EOM                 39\n",
              "88202  60 Days from Inv Date                 60\n",
              "88203  60 Days from Inv Date                 60\n",
              "\n",
              "[88204 rows x 2 columns]"
            ],
            "text/html": [
              "\n",
              "  <div id=\"df-aded5bdd-c327-4f20-bf0a-8a5ab67a8e59\">\n",
              "    <div class=\"colab-df-container\">\n",
              "      <div>\n",
              "<style scoped>\n",
              "    .dataframe tbody tr th:only-of-type {\n",
              "        vertical-align: middle;\n",
              "    }\n",
              "\n",
              "    .dataframe tbody tr th {\n",
              "        vertical-align: top;\n",
              "    }\n",
              "\n",
              "    .dataframe thead th {\n",
              "        text-align: right;\n",
              "    }\n",
              "</style>\n",
              "<table border=\"1\" class=\"dataframe\">\n",
              "  <thead>\n",
              "    <tr style=\"text-align: right;\">\n",
              "      <th></th>\n",
              "      <th>Payment Term</th>\n",
              "      <th>Payment_Term_Days</th>\n",
              "    </tr>\n",
              "  </thead>\n",
              "  <tbody>\n",
              "    <tr>\n",
              "      <th>0</th>\n",
              "      <td>Immediate</td>\n",
              "      <td>0</td>\n",
              "    </tr>\n",
              "    <tr>\n",
              "      <th>1</th>\n",
              "      <td>30 Days from Inv Date</td>\n",
              "      <td>30</td>\n",
              "    </tr>\n",
              "    <tr>\n",
              "      <th>2</th>\n",
              "      <td>30 Days from Inv Date</td>\n",
              "      <td>30</td>\n",
              "    </tr>\n",
              "    <tr>\n",
              "      <th>3</th>\n",
              "      <td>15 Days from Inv Date</td>\n",
              "      <td>14</td>\n",
              "    </tr>\n",
              "    <tr>\n",
              "      <th>4</th>\n",
              "      <td>30 Days from EOM</td>\n",
              "      <td>58</td>\n",
              "    </tr>\n",
              "    <tr>\n",
              "      <th>...</th>\n",
              "      <td>...</td>\n",
              "      <td>...</td>\n",
              "    </tr>\n",
              "    <tr>\n",
              "      <th>88199</th>\n",
              "      <td>Immediate</td>\n",
              "      <td>0</td>\n",
              "    </tr>\n",
              "    <tr>\n",
              "      <th>88200</th>\n",
              "      <td>Immediate</td>\n",
              "      <td>0</td>\n",
              "    </tr>\n",
              "    <tr>\n",
              "      <th>88201</th>\n",
              "      <td>30 Days from EOM</td>\n",
              "      <td>39</td>\n",
              "    </tr>\n",
              "    <tr>\n",
              "      <th>88202</th>\n",
              "      <td>60 Days from Inv Date</td>\n",
              "      <td>60</td>\n",
              "    </tr>\n",
              "    <tr>\n",
              "      <th>88203</th>\n",
              "      <td>60 Days from Inv Date</td>\n",
              "      <td>60</td>\n",
              "    </tr>\n",
              "  </tbody>\n",
              "</table>\n",
              "<p>88204 rows × 2 columns</p>\n",
              "</div>\n",
              "      <button class=\"colab-df-convert\" onclick=\"convertToInteractive('df-aded5bdd-c327-4f20-bf0a-8a5ab67a8e59')\"\n",
              "              title=\"Convert this dataframe to an interactive table.\"\n",
              "              style=\"display:none;\">\n",
              "        \n",
              "  <svg xmlns=\"http://www.w3.org/2000/svg\" height=\"24px\"viewBox=\"0 0 24 24\"\n",
              "       width=\"24px\">\n",
              "    <path d=\"M0 0h24v24H0V0z\" fill=\"none\"/>\n",
              "    <path d=\"M18.56 5.44l.94 2.06.94-2.06 2.06-.94-2.06-.94-.94-2.06-.94 2.06-2.06.94zm-11 1L8.5 8.5l.94-2.06 2.06-.94-2.06-.94L8.5 2.5l-.94 2.06-2.06.94zm10 10l.94 2.06.94-2.06 2.06-.94-2.06-.94-.94-2.06-.94 2.06-2.06.94z\"/><path d=\"M17.41 7.96l-1.37-1.37c-.4-.4-.92-.59-1.43-.59-.52 0-1.04.2-1.43.59L10.3 9.45l-7.72 7.72c-.78.78-.78 2.05 0 2.83L4 21.41c.39.39.9.59 1.41.59.51 0 1.02-.2 1.41-.59l7.78-7.78 2.81-2.81c.8-.78.8-2.07 0-2.86zM5.41 20L4 18.59l7.72-7.72 1.47 1.35L5.41 20z\"/>\n",
              "  </svg>\n",
              "      </button>\n",
              "      \n",
              "  <style>\n",
              "    .colab-df-container {\n",
              "      display:flex;\n",
              "      flex-wrap:wrap;\n",
              "      gap: 12px;\n",
              "    }\n",
              "\n",
              "    .colab-df-convert {\n",
              "      background-color: #E8F0FE;\n",
              "      border: none;\n",
              "      border-radius: 50%;\n",
              "      cursor: pointer;\n",
              "      display: none;\n",
              "      fill: #1967D2;\n",
              "      height: 32px;\n",
              "      padding: 0 0 0 0;\n",
              "      width: 32px;\n",
              "    }\n",
              "\n",
              "    .colab-df-convert:hover {\n",
              "      background-color: #E2EBFA;\n",
              "      box-shadow: 0px 1px 2px rgba(60, 64, 67, 0.3), 0px 1px 3px 1px rgba(60, 64, 67, 0.15);\n",
              "      fill: #174EA6;\n",
              "    }\n",
              "\n",
              "    [theme=dark] .colab-df-convert {\n",
              "      background-color: #3B4455;\n",
              "      fill: #D2E3FC;\n",
              "    }\n",
              "\n",
              "    [theme=dark] .colab-df-convert:hover {\n",
              "      background-color: #434B5C;\n",
              "      box-shadow: 0px 1px 3px 1px rgba(0, 0, 0, 0.15);\n",
              "      filter: drop-shadow(0px 1px 2px rgba(0, 0, 0, 0.3));\n",
              "      fill: #FFFFFF;\n",
              "    }\n",
              "  </style>\n",
              "\n",
              "      <script>\n",
              "        const buttonEl =\n",
              "          document.querySelector('#df-aded5bdd-c327-4f20-bf0a-8a5ab67a8e59 button.colab-df-convert');\n",
              "        buttonEl.style.display =\n",
              "          google.colab.kernel.accessAllowed ? 'block' : 'none';\n",
              "\n",
              "        async function convertToInteractive(key) {\n",
              "          const element = document.querySelector('#df-aded5bdd-c327-4f20-bf0a-8a5ab67a8e59');\n",
              "          const dataTable =\n",
              "            await google.colab.kernel.invokeFunction('convertToInteractive',\n",
              "                                                     [key], {});\n",
              "          if (!dataTable) return;\n",
              "\n",
              "          const docLinkHtml = 'Like what you see? Visit the ' +\n",
              "            '<a target=\"_blank\" href=https://colab.research.google.com/notebooks/data_table.ipynb>data table notebook</a>'\n",
              "            + ' to learn more about interactive tables.';\n",
              "          element.innerHTML = '';\n",
              "          dataTable['output_type'] = 'display_data';\n",
              "          await google.colab.output.renderOutput(dataTable, element);\n",
              "          const docLink = document.createElement('div');\n",
              "          docLink.innerHTML = docLinkHtml;\n",
              "          element.appendChild(docLink);\n",
              "        }\n",
              "      </script>\n",
              "    </div>\n",
              "  </div>\n",
              "  "
            ]
          },
          "metadata": {},
          "execution_count": 380
        }
      ],
      "source": [
        "open_df[['Payment Term','Payment_Term_Days']]"
      ]
    },
    {
      "cell_type": "code",
      "execution_count": null,
      "id": "46fd1105",
      "metadata": {
        "id": "46fd1105",
        "outputId": "6a9fc449-ff3f-4b31-b8c0-5525d6153315"
      },
      "outputs": [
        {
          "data": {
            "text/plain": [
              "0     0\n",
              "1    30\n",
              "2    30\n",
              "3    14\n",
              "4    58\n",
              "Name: Payment_Term_Days, dtype: int64"
            ]
          },
          "execution_count": 332,
          "metadata": {},
          "output_type": "execute_result"
        }
      ],
      "source": [
        "open_df['Payment_Term_Days'].head()"
      ]
    },
    {
      "cell_type": "code",
      "execution_count": null,
      "id": "23755645",
      "metadata": {
        "id": "23755645",
        "outputId": "8be9d552-bd6f-493a-9ff2-c7c95b1b656d"
      },
      "outputs": [
        {
          "data": {
            "text/plain": [
              "-7275"
            ]
          },
          "execution_count": 331,
          "metadata": {},
          "output_type": "execute_result"
        }
      ],
      "source": [
        "open_df['Payment_Term_Days'].min()"
      ]
    },
    {
      "cell_type": "code",
      "execution_count": null,
      "id": "358fc2c9",
      "metadata": {
        "id": "358fc2c9"
      },
      "outputs": [],
      "source": []
    }
  ],
  "metadata": {
    "kernelspec": {
      "display_name": "Python 3 (ipykernel)",
      "language": "python",
      "name": "python3"
    },
    "language_info": {
      "codemirror_mode": {
        "name": "ipython",
        "version": 3
      },
      "file_extension": ".py",
      "mimetype": "text/x-python",
      "name": "python",
      "nbconvert_exporter": "python",
      "pygments_lexer": "ipython3",
      "version": "3.9.13"
    },
    "colab": {
      "provenance": []
    }
  },
  "nbformat": 4,
  "nbformat_minor": 5
}